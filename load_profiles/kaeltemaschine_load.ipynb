{
 "cells": [
  {
   "cell_type": "code",
   "execution_count": null,
   "metadata": {},
   "outputs": [],
   "source": [
    "import pandas as pd\n",
    "import numpy as np\n",
    "import matplotlib.pyplot as plt\n",
    "import seaborn as sns\n",
    "import plotly.express as px"
   ]
  },
  {
   "cell_type": "markdown",
   "metadata": {},
   "source": [
    "## Load Profiles\n",
    "\n",
    "Notes:\n",
    "\n",
    "l1_p , l2_p , l3_p : mean power in W. To obtain total energy in Wh consumed during the interval (depends on the granularity):\n",
    "\n",
    " - Energy = (l1_p + l2_p + l3_p) / granularity \n",
    "\n",
    "Depending on the usage and displayed data, the power of the 3 phases ( l1_p , l2_p , l3_p ) need to be added to form a single value."
   ]
  },
  {
   "cell_type": "code",
   "execution_count": null,
   "metadata": {},
   "outputs": [],
   "source": [
    "day1 = '5fe3412c923d596335e69d4c-20210808-v0.0.1_SE05000139_Kaeltemaschine.csv' ## Sunday\n",
    "day2 = '5fe3412c923d596335e69d4c-20210809-v0.0.1_SE05000139_Kaeltemaschine.csv' ## Monday\n",
    "day3 = '5fe3412c923d596335e69d4c-20210810-v0.0.1_SE05000139_Kaeltemaschine.csv' ## Tuesday\n",
    "day1 = pd.read_csv('/Users/wastechs/Documents/data/Kaeltemaschine/{}'.format(day1))\n",
    "day2 = pd.read_csv('/Users/wastechs/Documents/data/Kaeltemaschine/{}'.format(day2))\n",
    "day3 = pd.read_csv('/Users/wastechs/Documents/data/Kaeltemaschine/{}'.format(day3))"
   ]
  },
  {
   "cell_type": "code",
   "execution_count": null,
   "metadata": {},
   "outputs": [],
   "source": [
    "day1.head()"
   ]
  },
  {
   "cell_type": "code",
   "execution_count": null,
   "metadata": {},
   "outputs": [],
   "source": [
    "def epoch_convert(df):\n",
    "    df.t = pd.to_datetime(df.t, unit='s')\n",
    "    df.set_index(df.t, inplace=True)\n",
    "    del df['t']\n",
    "    return df"
   ]
  },
  {
   "cell_type": "code",
   "execution_count": null,
   "metadata": {},
   "outputs": [],
   "source": [
    "day1 = epoch_convert(day1)\n",
    "day2 = epoch_convert(day2)\n",
    "day3 = epoch_convert(day3)"
   ]
  },
  {
   "cell_type": "code",
   "execution_count": null,
   "metadata": {},
   "outputs": [],
   "source": [
    "day1.shape, day2.shape, day3.shape"
   ]
  },
  {
   "cell_type": "code",
   "execution_count": null,
   "metadata": {},
   "outputs": [],
   "source": [
    "day1.index.min(), day1.index.max(), day2.index.min(), day2.index.max(), day3.index.min(), day3.index.max()"
   ]
  },
  {
   "cell_type": "code",
   "execution_count": null,
   "metadata": {},
   "outputs": [],
   "source": [
    "day1.head(6)"
   ]
  },
  {
   "cell_type": "code",
   "execution_count": null,
   "metadata": {},
   "outputs": [],
   "source": [
    "day1.index[3] - day1.index[0]"
   ]
  },
  {
   "cell_type": "code",
   "execution_count": null,
   "metadata": {},
   "outputs": [],
   "source": [
    "def kwatt(df):\n",
    "    average = pd.DataFrame(df[['P', 'I', 'V', 'PF']].groupby(df.index).mean())\n",
    "    average['kW'] = (average['V'] * average['I'] * average['PF'] * np.sqrt(3)) / 1000\n",
    "\n",
    "    return average"
   ]
  },
  {
   "cell_type": "code",
   "execution_count": null,
   "metadata": {},
   "outputs": [],
   "source": [
    "day1_kw = kwatt(day1)\n",
    "day2_kw = kwatt(day2)\n",
    "day3_kw = kwatt(day3)"
   ]
  },
  {
   "cell_type": "code",
   "execution_count": null,
   "metadata": {},
   "outputs": [],
   "source": [
    "def decompose_phases(df):\n",
    "    df_1 = df[df.L == 1.0]\n",
    "    df_2 = df[df.L == 2.0]\n",
    "    df_3 = df[df.L == 3.0]\n",
    "\n",
    "    return df_1, df_2, df_3"
   ]
  },
  {
   "cell_type": "code",
   "execution_count": null,
   "metadata": {},
   "outputs": [],
   "source": [
    "day1_phase1, day1_phase2, day1_phase3 = decompose_phases(day1)\n",
    "day2_phase1, day2_phase2, day2_phase3 = decompose_phases(day2)\n",
    "day3_phase1, day3_phase2, day3_phase3 = decompose_phases(day3)"
   ]
  },
  {
   "cell_type": "code",
   "execution_count": null,
   "metadata": {},
   "outputs": [],
   "source": [
    "def load_plotter(df, feat, resample=None):\n",
    "    \n",
    "    if resample != None:\n",
    "        plt.figure(figsize=(16, 6))\n",
    "        plt.plot(df.resample(resample).sum().index, df[feat].resample(resample).mean())\n",
    "        plt.title('Kaeltemaschine')\n",
    "        plt.xlabel('Time = M-d-H')\n",
    "        plt.ylabel('Power')\n",
    "        plt.show()\n",
    "\n",
    "    else:\n",
    "        plt.figure(figsize=(16, 6))\n",
    "        plt.plot(df.index, df[feat])\n",
    "        plt.title('Kaeltemaschine')\n",
    "        plt.xlabel('Time = M-d-H')\n",
    "        plt.ylabel('{}'.format(feat))\n",
    "        plt.show()"
   ]
  },
  {
   "cell_type": "markdown",
   "metadata": {},
   "source": [
    "### Original Resolution"
   ]
  },
  {
   "cell_type": "markdown",
   "metadata": {},
   "source": [
    "Tuesday:\n",
    "- Idle / standby mode seems to be occuring from 21:00 until about 7:00\n",
    "- Normal operations from 7:00 until 19:00 and standby mode again until 7:00\n",
    "- Three peaks occuring around mid-day and in the afteroon are worth investigating\n",
    "    - It would be interesting to know what Gassmann was doing in/with the fridge during these time periods?\n",
    "    - Moving products inside, taking products out. . ."
   ]
  },
  {
   "cell_type": "code",
   "execution_count": null,
   "metadata": {},
   "outputs": [],
   "source": [
    "load_plotter(day3_phase1, 'P')"
   ]
  },
  {
   "cell_type": "markdown",
   "metadata": {},
   "source": [
    "Monday:\n",
    "- Idle / standby mode seems to be occuring from 21:00 until about 8:00\n",
    "- Normal operations from 8:00 until 19:00 and standby mode again until 7:00\n",
    "- The difference with this load profile is there are no peaks occuring. Rather a steady state \"normal\" operation mode throughout the business hours with a slight linear trend until noon and then a slight linear decreasing trend until ~17:00"
   ]
  },
  {
   "cell_type": "code",
   "execution_count": null,
   "metadata": {},
   "outputs": [],
   "source": [
    "load_plotter(day2_phase1, 'P')"
   ]
  },
  {
   "cell_type": "markdown",
   "metadata": {},
   "source": [
    "Sunday:\n",
    " - Idle / standby mode seems to be occuring for the majority of the day with cycling periods\n",
    " - Power consumption increases slightly throughout the day until about ~13:00 and then decreases\n",
    "    - Possibly due to increasing ambient temperatures?"
   ]
  },
  {
   "cell_type": "code",
   "execution_count": null,
   "metadata": {},
   "outputs": [],
   "source": [
    "load_plotter(day1_phase1, 'P')"
   ]
  },
  {
   "cell_type": "markdown",
   "metadata": {},
   "source": [
    "Investigating Monday idle mode:\n",
    " - How long do these peaks last?"
   ]
  },
  {
   "cell_type": "code",
   "execution_count": null,
   "metadata": {},
   "outputs": [],
   "source": [
    "# Idle mode for Monday\n",
    "load_plotter(day2_phase1['2021-08-08 21:59': '2021-08-09 8:30:00'], 'P')"
   ]
  },
  {
   "cell_type": "code",
   "execution_count": null,
   "metadata": {},
   "outputs": [],
   "source": [
    "# \n",
    "load_plotter(day2_phase1['2021-08-09 14:00:00': '2021-08-09 21:30:00'], 'P')"
   ]
  },
  {
   "cell_type": "code",
   "execution_count": null,
   "metadata": {},
   "outputs": [],
   "source": [
    "# What's signal and what's noise here?\n",
    "load_plotter(day2_phase1['2021-08-09 17:27:30': '2021-08-09 17:28:15'], 'P')"
   ]
  },
  {
   "cell_type": "markdown",
   "metadata": {},
   "source": [
    "Investigating the first peak on Tuesday:\n",
    "\n",
    "- What's signal and what's noise here?\n",
    "    - After the initial jump, consumption falls down to a consistent level for ~5 minutes and then falls down to \"normal\" operating hour levels again"
   ]
  },
  {
   "cell_type": "code",
   "execution_count": null,
   "metadata": {},
   "outputs": [],
   "source": [
    "load_plotter(day3_phase1['2021-08-10 11:25': '2021-08-10 11:30'], 'P') ## instant. power\n",
    "\n",
    "## spike mainly comes from the current becasue it draws more current"
   ]
  },
  {
   "cell_type": "code",
   "execution_count": null,
   "metadata": {},
   "outputs": [],
   "source": [
    "day1.describe().T"
   ]
  },
  {
   "cell_type": "markdown",
   "metadata": {},
   "source": [
    "## 15 minute Resolution"
   ]
  },
  {
   "cell_type": "code",
   "execution_count": null,
   "metadata": {},
   "outputs": [],
   "source": [
    "load_plotter(day3_phase1, 'P', '1H')"
   ]
  },
  {
   "cell_type": "code",
   "execution_count": null,
   "metadata": {},
   "outputs": [],
   "source": [
    "load_plotter(day2_phase1, 'P', '1H')"
   ]
  },
  {
   "cell_type": "code",
   "execution_count": null,
   "metadata": {},
   "outputs": [],
   "source": [
    "load_plotter(day1_phase1, 'P', '1H')"
   ]
  },
  {
   "cell_type": "code",
   "execution_count": null,
   "metadata": {},
   "outputs": [],
   "source": [
    "sns.kdeplot(day1_phase1.P)\n",
    "sns.kdeplot(day1_phase2.P)\n",
    "sns.kdeplot(day1_phase3.P)"
   ]
  }
 ],
 "metadata": {
  "interpreter": {
   "hash": "55f578ea790fce859303417df5f33993e9db329ffe5a387d7c54812db965934b"
  },
  "kernelspec": {
   "display_name": "Python 3.8.12 64-bit ('thesis': conda)",
   "name": "python3"
  },
  "language_info": {
   "codemirror_mode": {
    "name": "ipython",
    "version": 3
   },
   "file_extension": ".py",
   "mimetype": "text/x-python",
   "name": "python",
   "nbconvert_exporter": "python",
   "pygments_lexer": "ipython3",
   "version": "3.8.12"
  },
  "orig_nbformat": 4
 },
 "nbformat": 4,
 "nbformat_minor": 2
}
