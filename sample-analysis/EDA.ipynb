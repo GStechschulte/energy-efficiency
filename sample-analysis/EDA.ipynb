{
 "cells": [
  {
   "cell_type": "code",
   "execution_count": null,
   "metadata": {},
   "outputs": [],
   "source": [
    "import pandas as pd\n",
    "import numpy as np\n",
    "import matplotlib.pyplot as plt\n",
    "import cleseaborn as sns"
   ]
  },
  {
   "cell_type": "code",
   "execution_count": 31,
   "metadata": {},
   "outputs": [],
   "source": [
    "day1 = '5fe3412c923d596335e69d4c-20210808-v0.0.1_SE05000139_Kaeltemaschine.csv' ## Sunday\n",
    "day2 = '5fe3412c923d596335e69d4c-20210809-v0.0.1_SE05000139_Kaeltemaschine.csv' ## Monday\n",
    "day3 = '5fe3412c923d596335e69d4c-20210810-v0.0.1_SE05000139_Kaeltemaschine.csv' ## Tuesday\n",
    "day1 = pd.read_csv('/Users/wastechs/Documents/data/Kaeltemaschine/{}'.format(day1))\n",
    "day2 = pd.read_csv('/Users/wastechs/Documents/data/Kaeltemaschine/{}'.format(day2))\n",
    "day3 = pd.read_csv('/Users/wastechs/Documents/data/Kaeltemaschine/{}'.format(day3))"
   ]
  },
  {
   "cell_type": "code",
   "execution_count": 32,
   "metadata": {},
   "outputs": [],
   "source": [
    "def epoch_convert(df):\n",
    "    df.t = pd.to_datetime(df.t, unit='s')\n",
    "    df.set_index(df.t, inplace=True)\n",
    "    del df['t']\n",
    "    return df"
   ]
  },
  {
   "cell_type": "code",
   "execution_count": 33,
   "metadata": {},
   "outputs": [],
   "source": [
    "day1 = epoch_convert(day1)\n",
    "day2 = epoch_convert(day2)\n",
    "day3 = epoch_convert(day3)"
   ]
  },
  {
   "cell_type": "code",
   "execution_count": 35,
   "metadata": {},
   "outputs": [
    {
     "data": {
      "text/plain": [
       "((3101193, 8), (3101067, 8), (3101172, 8))"
      ]
     },
     "execution_count": 35,
     "metadata": {},
     "output_type": "execute_result"
    }
   ],
   "source": [
    "day1.shape, day2.shape, day3.shape"
   ]
  },
  {
   "cell_type": "code",
   "execution_count": 48,
   "metadata": {},
   "outputs": [
    {
     "data": {
      "text/plain": [
       "(Timestamp('2021-08-07 21:59:00.200999975'),\n",
       " Timestamp('2021-08-08 21:59:00.029000044'),\n",
       " Timestamp('2021-08-08 21:59:00.222000122'),\n",
       " Timestamp('2021-08-09 21:59:00.071000099'),\n",
       " Timestamp('2021-08-09 21:59:00.207999945'),\n",
       " Timestamp('2021-08-10 21:59:00'))"
      ]
     },
     "execution_count": 48,
     "metadata": {},
     "output_type": "execute_result"
    }
   ],
   "source": [
    "day1.index.min(), day1.index.max(), day2.index.min(), day2.index.max(), day3.index.min(), day3.index.max()"
   ]
  },
  {
   "cell_type": "code",
   "execution_count": 49,
   "metadata": {},
   "outputs": [
    {
     "data": {
      "text/html": [
       "<div>\n",
       "<style scoped>\n",
       "    .dataframe tbody tr th:only-of-type {\n",
       "        vertical-align: middle;\n",
       "    }\n",
       "\n",
       "    .dataframe tbody tr th {\n",
       "        vertical-align: top;\n",
       "    }\n",
       "\n",
       "    .dataframe thead th {\n",
       "        text-align: right;\n",
       "    }\n",
       "</style>\n",
       "<table border=\"1\" class=\"dataframe\">\n",
       "  <thead>\n",
       "    <tr style=\"text-align: right;\">\n",
       "      <th></th>\n",
       "      <th>L</th>\n",
       "      <th>V</th>\n",
       "      <th>I</th>\n",
       "      <th>S</th>\n",
       "      <th>P</th>\n",
       "      <th>Q</th>\n",
       "      <th>PF</th>\n",
       "      <th>PHI</th>\n",
       "    </tr>\n",
       "    <tr>\n",
       "      <th>t</th>\n",
       "      <th></th>\n",
       "      <th></th>\n",
       "      <th></th>\n",
       "      <th></th>\n",
       "      <th></th>\n",
       "      <th></th>\n",
       "      <th></th>\n",
       "      <th></th>\n",
       "    </tr>\n",
       "  </thead>\n",
       "  <tbody>\n",
       "    <tr>\n",
       "      <th>2021-08-07 21:59:00.200999975</th>\n",
       "      <td>1.0</td>\n",
       "      <td>238.921</td>\n",
       "      <td>31.026</td>\n",
       "      <td>7411.529</td>\n",
       "      <td>4752.550</td>\n",
       "      <td>5675.528</td>\n",
       "      <td>0.642</td>\n",
       "      <td>120.0</td>\n",
       "    </tr>\n",
       "    <tr>\n",
       "      <th>2021-08-07 21:59:00.200999975</th>\n",
       "      <td>2.0</td>\n",
       "      <td>239.071</td>\n",
       "      <td>29.281</td>\n",
       "      <td>6998.035</td>\n",
       "      <td>4515.562</td>\n",
       "      <td>5331.538</td>\n",
       "      <td>0.647</td>\n",
       "      <td>120.0</td>\n",
       "    </tr>\n",
       "    <tr>\n",
       "      <th>2021-08-07 21:59:00.200999975</th>\n",
       "      <td>3.0</td>\n",
       "      <td>240.536</td>\n",
       "      <td>30.406</td>\n",
       "      <td>7315.965</td>\n",
       "      <td>4822.356</td>\n",
       "      <td>5482.820</td>\n",
       "      <td>0.659</td>\n",
       "      <td>120.0</td>\n",
       "    </tr>\n",
       "    <tr>\n",
       "      <th>2021-08-07 21:59:00.282999992</th>\n",
       "      <td>1.0</td>\n",
       "      <td>238.920</td>\n",
       "      <td>30.994</td>\n",
       "      <td>7403.923</td>\n",
       "      <td>4749.859</td>\n",
       "      <td>5656.511</td>\n",
       "      <td>0.642</td>\n",
       "      <td>120.0</td>\n",
       "    </tr>\n",
       "    <tr>\n",
       "      <th>2021-08-07 21:59:00.282999992</th>\n",
       "      <td>2.0</td>\n",
       "      <td>239.067</td>\n",
       "      <td>29.265</td>\n",
       "      <td>6994.562</td>\n",
       "      <td>4522.702</td>\n",
       "      <td>5318.453</td>\n",
       "      <td>0.647</td>\n",
       "      <td>120.0</td>\n",
       "    </tr>\n",
       "    <tr>\n",
       "      <th>...</th>\n",
       "      <td>...</td>\n",
       "      <td>...</td>\n",
       "      <td>...</td>\n",
       "      <td>...</td>\n",
       "      <td>...</td>\n",
       "      <td>...</td>\n",
       "      <td>...</td>\n",
       "      <td>...</td>\n",
       "    </tr>\n",
       "    <tr>\n",
       "      <th>2021-08-08 21:58:59.946000099</th>\n",
       "      <td>2.0</td>\n",
       "      <td>239.356</td>\n",
       "      <td>29.181</td>\n",
       "      <td>6983.591</td>\n",
       "      <td>4513.530</td>\n",
       "      <td>5302.717</td>\n",
       "      <td>0.646</td>\n",
       "      <td>120.0</td>\n",
       "    </tr>\n",
       "    <tr>\n",
       "      <th>2021-08-08 21:58:59.946000099</th>\n",
       "      <td>3.0</td>\n",
       "      <td>240.740</td>\n",
       "      <td>30.127</td>\n",
       "      <td>7255.427</td>\n",
       "      <td>4766.624</td>\n",
       "      <td>5448.206</td>\n",
       "      <td>0.656</td>\n",
       "      <td>120.0</td>\n",
       "    </tr>\n",
       "    <tr>\n",
       "      <th>2021-08-08 21:59:00.029000044</th>\n",
       "      <td>1.0</td>\n",
       "      <td>239.034</td>\n",
       "      <td>30.702</td>\n",
       "      <td>7337.124</td>\n",
       "      <td>4717.002</td>\n",
       "      <td>5608.921</td>\n",
       "      <td>0.642</td>\n",
       "      <td>120.0</td>\n",
       "    </tr>\n",
       "    <tr>\n",
       "      <th>2021-08-08 21:59:00.029000044</th>\n",
       "      <td>2.0</td>\n",
       "      <td>239.357</td>\n",
       "      <td>29.167</td>\n",
       "      <td>6979.046</td>\n",
       "      <td>4516.125</td>\n",
       "      <td>5308.896</td>\n",
       "      <td>0.646</td>\n",
       "      <td>120.0</td>\n",
       "    </tr>\n",
       "    <tr>\n",
       "      <th>2021-08-08 21:59:00.029000044</th>\n",
       "      <td>3.0</td>\n",
       "      <td>240.733</td>\n",
       "      <td>30.119</td>\n",
       "      <td>7251.954</td>\n",
       "      <td>4762.944</td>\n",
       "      <td>5458.174</td>\n",
       "      <td>0.656</td>\n",
       "      <td>120.0</td>\n",
       "    </tr>\n",
       "  </tbody>\n",
       "</table>\n",
       "<p>3101193 rows × 8 columns</p>\n",
       "</div>"
      ],
      "text/plain": [
       "                                 L        V       I         S         P  \\\n",
       "t                                                                         \n",
       "2021-08-07 21:59:00.200999975  1.0  238.921  31.026  7411.529  4752.550   \n",
       "2021-08-07 21:59:00.200999975  2.0  239.071  29.281  6998.035  4515.562   \n",
       "2021-08-07 21:59:00.200999975  3.0  240.536  30.406  7315.965  4822.356   \n",
       "2021-08-07 21:59:00.282999992  1.0  238.920  30.994  7403.923  4749.859   \n",
       "2021-08-07 21:59:00.282999992  2.0  239.067  29.265  6994.562  4522.702   \n",
       "...                            ...      ...     ...       ...       ...   \n",
       "2021-08-08 21:58:59.946000099  2.0  239.356  29.181  6983.591  4513.530   \n",
       "2021-08-08 21:58:59.946000099  3.0  240.740  30.127  7255.427  4766.624   \n",
       "2021-08-08 21:59:00.029000044  1.0  239.034  30.702  7337.124  4717.002   \n",
       "2021-08-08 21:59:00.029000044  2.0  239.357  29.167  6979.046  4516.125   \n",
       "2021-08-08 21:59:00.029000044  3.0  240.733  30.119  7251.954  4762.944   \n",
       "\n",
       "                                      Q     PF    PHI  \n",
       "t                                                      \n",
       "2021-08-07 21:59:00.200999975  5675.528  0.642  120.0  \n",
       "2021-08-07 21:59:00.200999975  5331.538  0.647  120.0  \n",
       "2021-08-07 21:59:00.200999975  5482.820  0.659  120.0  \n",
       "2021-08-07 21:59:00.282999992  5656.511  0.642  120.0  \n",
       "2021-08-07 21:59:00.282999992  5318.453  0.647  120.0  \n",
       "...                                 ...    ...    ...  \n",
       "2021-08-08 21:58:59.946000099  5302.717  0.646  120.0  \n",
       "2021-08-08 21:58:59.946000099  5448.206  0.656  120.0  \n",
       "2021-08-08 21:59:00.029000044  5608.921  0.642  120.0  \n",
       "2021-08-08 21:59:00.029000044  5308.896  0.646  120.0  \n",
       "2021-08-08 21:59:00.029000044  5458.174  0.656  120.0  \n",
       "\n",
       "[3101193 rows x 8 columns]"
      ]
     },
     "execution_count": 49,
     "metadata": {},
     "output_type": "execute_result"
    }
   ],
   "source": [
    "day1"
   ]
  },
  {
   "cell_type": "code",
   "execution_count": null,
   "metadata": {},
   "outputs": [],
   "source": [
    "activePower = pd.DataFrame(day1['P'].groupby(day1.index).mean())"
   ]
  },
  {
   "cell_type": "code",
   "execution_count": null,
   "metadata": {},
   "outputs": [],
   "source": [
    "def plotter(df, feat):\n",
    "    plt.figure(figsize=(16, 6))\n",
    "    plt.plot(df.index, df[feat])\n",
    "    plt.show()"
   ]
  },
  {
   "cell_type": "code",
   "execution_count": 55,
   "metadata": {},
   "outputs": [
    {
     "data": {
      "image/png": "[encoded data removed]",
      "text/plain": [
       "<Figure size 1152x432 with 1 Axes>"
      ]
     },
     "metadata": {
      "needs_background": "light"
     },
     "output_type": "display_data"
    }
   ],
   "source": [
    "plotter(activePower, 'P')"
   ]
  },
  {
   "cell_type": "code",
   "execution_count": null,
   "metadata": {},
   "outputs": [],
   "source": [
    "plotter(day1, 'P')"
   ]
  },
  {
   "cell_type": "code",
   "execution_count": null,
   "metadata": {},
   "outputs": [],
   "source": [
    "plotter(day2, 'P')"
   ]
  },
  {
   "cell_type": "code",
   "execution_count": null,
   "metadata": {},
   "outputs": [],
   "source": [
    "plotter(day3, 'P')"
   ]
  },
  {
   "cell_type": "code",
   "execution_count": null,
   "metadata": {},
   "outputs": [],
   "source": [
    "hour = day2['2021-08-08 22:00:00': '2021-08-08 22:00:10']\n",
    "plotter(hour, 'V')"
   ]
  }
 ],
 "metadata": {
  "interpreter": {
   "hash": "55f578ea790fce859303417df5f33993e9db329ffe5a387d7c54812db965934b"
  },
  "kernelspec": {
   "display_name": "Python 3.8.12 64-bit ('thesis': conda)",
   "name": "python3"
  },
  "language_info": {
   "codemirror_mode": {
    "name": "ipython",
    "version": 3
   },
   "file_extension": ".py",
   "mimetype": "text/x-python",
   "name": "python",
   "nbconvert_exporter": "python",
   "pygments_lexer": "ipython3",
   "version": "3.8.12"
  },
  "orig_nbformat": 4
 },
 "nbformat": 4,
 "nbformat_minor": 2
}
