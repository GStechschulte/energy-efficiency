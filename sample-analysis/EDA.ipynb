{
 "cells": [
  {
   "cell_type": "code",
   "execution_count": null,
   "metadata": {},
   "outputs": [],
   "source": [
    "import pandas as pd\n",
    "import numpy as np\n",
    "import matplotlib.pyplot as plt\n",
    "import seaborn as sns"
   ]
  },
  {
   "cell_type": "code",
   "execution_count": null,
   "metadata": {},
   "outputs": [],
   "source": [
    "day1 = '5fe3412c923d596335e69d4c-20210808-v0.0.1_SE05000139_Kaeltemaschine.csv' ## Sunday\n",
    "day2 = '5fe3412c923d596335e69d4c-20210809-v0.0.1_SE05000139_Kaeltemaschine.csv' ## Monday\n",
    "day3 = '5fe3412c923d596335e69d4c-20210810-v0.0.1_SE05000139_Kaeltemaschine.csv' ## Tuesday\n",
    "day1 = pd.read_csv('/Users/wastechs/Documents/data/Kaeltemaschine/{}'.format(day1))\n",
    "day2 = pd.read_csv('/Users/wastechs/Documents/data/Kaeltemaschine/{}'.format(day2))\n",
    "day3 = pd.read_csv('/Users/wastechs/Documents/data/Kaeltemaschine/{}'.format(day3))"
   ]
  },
  {
   "cell_type": "code",
   "execution_count": null,
   "metadata": {},
   "outputs": [],
   "source": [
    "def epoch_convert(df):\n",
    "    df.t = pd.to_datetime(df.t, unit='s')\n",
    "    df.set_index(df.t, inplace=True)\n",
    "    del df['t']\n",
    "    return df"
   ]
  },
  {
   "cell_type": "code",
   "execution_count": null,
   "metadata": {},
   "outputs": [],
   "source": [
    "day1 = epoch_convert(day1)\n",
    "day2 = epoch_convert(day2)\n",
    "day3 = epoch_convert(day3)"
   ]
  },
  {
   "cell_type": "code",
   "execution_count": null,
   "metadata": {},
   "outputs": [],
   "source": [
    "day1.shape, day2.shape, day3.shape"
   ]
  },
  {
   "cell_type": "code",
   "execution_count": null,
   "metadata": {},
   "outputs": [],
   "source": [
    "day1.index.min(), day1.index.max(), day2.index.min(), day2.index.max(), day3.index.min(), day3.index.max()"
   ]
  },
  {
   "cell_type": "code",
   "execution_count": null,
   "metadata": {},
   "outputs": [],
   "source": [
    "day1"
   ]
  },
  {
   "cell_type": "code",
   "execution_count": null,
   "metadata": {},
   "outputs": [],
   "source": [
    "activePower = pd.DataFrame(day1['P'].groupby(day1.index).mean())"
   ]
  },
  {
   "cell_type": "code",
   "execution_count": null,
   "metadata": {},
   "outputs": [],
   "source": [
    "def plotter(df, feat):\n",
    "    plt.figure(figsize=(16, 6))\n",
    "    plt.plot(df.index, df[feat])\n",
    "    plt.show()"
   ]
  },
  {
   "cell_type": "code",
   "execution_count": null,
   "metadata": {},
   "outputs": [],
   "source": [
    "plotter(activePower, 'P')"
   ]
  },
  {
   "cell_type": "code",
   "execution_count": null,
   "metadata": {},
   "outputs": [],
   "source": [
    "plotter(day1, 'P')"
   ]
  },
  {
   "cell_type": "code",
   "execution_count": null,
   "metadata": {},
   "outputs": [],
   "source": [
    "plotter(day2, 'P')"
   ]
  },
  {
   "cell_type": "code",
   "execution_count": null,
   "metadata": {},
   "outputs": [],
   "source": [
    "plotter(day3, 'P')"
   ]
  },
  {
   "cell_type": "code",
   "execution_count": null,
   "metadata": {},
   "outputs": [],
   "source": [
    "hour = day2['2021-08-08 22:00:00': '2021-08-08 22:00:10']\n",
    "plotter(hour, 'V')"
   ]
  }
 ],
 "metadata": {
  "interpreter": {
   "hash": "55f578ea790fce859303417df5f33993e9db329ffe5a387d7c54812db965934b"
  },
  "kernelspec": {
   "display_name": "Python 3.8.12 64-bit ('thesis': conda)",
   "name": "python3"
  },
  "language_info": {
   "codemirror_mode": {
    "name": "ipython",
    "version": 3
   },
   "file_extension": ".py",
   "mimetype": "text/x-python",
   "name": "python",
   "nbconvert_exporter": "python",
   "pygments_lexer": "ipython3",
   "version": "3.8.12"
  },
  "orig_nbformat": 4
 },
 "nbformat": 4,
 "nbformat_minor": 2
}
