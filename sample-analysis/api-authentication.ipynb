{
 "cells": [
  {
   "cell_type": "code",
   "execution_count": 26,
   "source": [
    "import requests\n",
    "from requests.structures import CaseInsensitiveDict"
   ],
   "outputs": [],
   "metadata": {}
  },
  {
   "cell_type": "code",
   "execution_count": 29,
   "source": [
    "# Authenticate Session\n",
    "request_url = 'https://docs.cloud.clemap.com/authentication'\n",
    "\n",
    "headers = CaseInsensitiveDict()\n",
    "headers[\"Accept\"] = \"application/json\"\n",
    "headers[\"Content-Type\"] = \"application/json\"\n",
    "\n",
    "data = '{\"strategy\": \"local\", \"email\": \"gabriel.stechschulte@stud.hslu.ch\", \"password\": \"energy_efficiency\"}'\n",
    "\n",
    "resp = requests.post(url, headers=headers, data=data)\n",
    "resp\n"
   ],
   "outputs": [
    {
     "output_type": "execute_result",
     "data": {
      "text/plain": [
       "'{\"strategy\": \"local\", \"email\": \"gabriel.stechschulte@stud.hslu.ch\", \"password\": \"energy_efficiency\"}'"
      ]
     },
     "metadata": {},
     "execution_count": 29
    }
   ],
   "metadata": {}
  },
  {
   "cell_type": "code",
   "execution_count": 32,
   "source": [
    "# Authenticate User (only if you do not have a user account already verified)\n",
    "request_url = 'https://docs.cloud.clemap.com/users'\n",
    "headers = CaseInsensitiveDict()\n",
    "headers[\"Accept\"] = \"application/json\"\n",
    "headers[\"Content-Type\"] = \"application/json\"\n",
    "\n",
    "data = '{\"email\": \"gabriel.stechschulte@stud.hslu.ch\", \"password\": \"energy_efficiency\"}'\n",
    "\n",
    "resp = requests.post(request_url, headers=headers, data=data)\n",
    "resp"
   ],
   "outputs": [],
   "metadata": {}
  },
  {
   "cell_type": "code",
   "execution_count": 34,
   "source": [
    "# Officially activate new user account\n",
    "request_url = 'https://docs.cloud.clemap.com/authManagement'\n",
    "headers = CaseInsensitiveDict()\n",
    "headers[\"Accept\"] = \"application/json\"\n",
    "headers[\"Content-Type\"] = \"application/json\"\n",
    "\n",
    "data = '{\"action\": \"verifySignupLong\", \"value\": \"dcebe66d296b67bbba87613c284faf\"}'\n",
    "\n",
    "resp = requests.post(request_url, headers=headers, data=data)\n",
    "resp"
   ],
   "outputs": [],
   "metadata": {}
  }
 ],
 "metadata": {
  "orig_nbformat": 4,
  "language_info": {
   "name": "python",
   "version": "3.7.10",
   "mimetype": "text/x-python",
   "codemirror_mode": {
    "name": "ipython",
    "version": 3
   },
   "pygments_lexer": "ipython3",
   "nbconvert_exporter": "python",
   "file_extension": ".py"
  },
  "kernelspec": {
   "name": "python3",
   "display_name": "Python 3.7.10 64-bit ('energy': conda)"
  },
  "interpreter": {
   "hash": "477339f4ad61d6d07c760695862622abec8e77fa0b426a41289fa76b11786938"
  }
 },
 "nbformat": 4,
 "nbformat_minor": 2
}