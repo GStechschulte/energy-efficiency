{
 "cells": [
  {
   "cell_type": "code",
   "execution_count": 4,
   "metadata": {},
   "outputs": [],
   "source": [
    "import pandas as pd\n",
    "import matplotlib.pyplot as plt\n",
    "import seaborn as sns\n",
    "import sys\n",
    "sys.path.append('/Users/wastechs/Documents/git-repos/energy-efficiency')\n",
    "from lib.util.helper import weekday_time_series\n",
    "import seaborn as sns\n",
    "import numpy as np\n",
    "import plotly.express as px\n",
    "from statsmodels.graphics.tsaplots import plot_acf"
   ]
  },
  {
   "cell_type": "code",
   "execution_count": 2,
   "metadata": {},
   "outputs": [],
   "source": [
    "df = weekday_time_series(sensor_id='og_30T')"
   ]
  },
  {
   "cell_type": "code",
   "execution_count": 3,
   "metadata": {},
   "outputs": [
    {
     "data": {
      "application/vnd.plotly.v1+json": {
       "config": {
        "plotlyServerURL": "https://plot.ly"
       },
       "data": [
        {
         "hovertemplate": "Time=%{x}<br>kW=%{y}<extra></extra>",
         "legendgroup": "",
         "line": {
          "color": "#636efa",
          "dash": "solid"
         },
         "marker": {
          "symbol": "circle"
         },
         "mode": "lines",
         "name": "",
         "orientation": "v",
         "showlegend": false,
         "type": "scatter",
         "x": [
          "2021-10-11T00:00:00",
          "2021-10-11T00:30:00",
          "2021-10-11T01:00:00",
          "2021-10-11T01:30:00",
          "2021-10-11T02:00:00",
          "2021-10-11T02:30:00",
          "2021-10-11T03:00:00",
          "2021-10-11T03:30:00",
          "2021-10-11T04:00:00",
          "2021-10-11T04:30:00",
          "2021-10-11T05:00:00",
          "2021-10-11T05:30:00",
          "2021-10-11T06:00:00",
          "2021-10-11T06:30:00",
          "2021-10-11T07:00:00",
          "2021-10-11T07:30:00",
          "2021-10-11T08:00:00",
          "2021-10-11T08:30:00",
          "2021-10-11T09:00:00",
          "2021-10-11T09:30:00",
          "2021-10-11T10:00:00",
          "2021-10-11T10:30:00",
          "2021-10-11T11:00:00",
          "2021-10-11T11:30:00",
          "2021-10-11T12:00:00",
          "2021-10-11T12:30:00",
          "2021-10-11T13:00:00",
          "2021-10-11T13:30:00",
          "2021-10-11T14:00:00",
          "2021-10-11T14:30:00",
          "2021-10-11T15:00:00",
          "2021-10-11T15:30:00",
          "2021-10-11T16:00:00",
          "2021-10-11T16:30:00",
          "2021-10-11T17:00:00",
          "2021-10-11T17:30:00",
          "2021-10-11T18:00:00",
          "2021-10-11T18:30:00",
          "2021-10-11T19:00:00",
          "2021-10-11T19:30:00",
          "2021-10-11T20:00:00",
          "2021-10-11T20:30:00",
          "2021-10-11T21:00:00",
          "2021-10-11T21:30:00",
          "2021-10-11T22:00:00",
          "2021-10-11T22:30:00",
          "2021-10-11T23:00:00",
          "2021-10-11T23:30:00",
          "2021-10-12T00:00:00",
          "2021-10-12T00:30:00",
          "2021-10-12T01:00:00",
          "2021-10-12T01:30:00",
          "2021-10-12T02:00:00",
          "2021-10-12T02:30:00",
          "2021-10-12T03:00:00",
          "2021-10-12T03:30:00",
          "2021-10-12T04:00:00",
          "2021-10-12T04:30:00",
          "2021-10-12T05:00:00",
          "2021-10-12T05:30:00",
          "2021-10-12T06:00:00",
          "2021-10-12T06:30:00",
          "2021-10-12T07:00:00",
          "2021-10-12T07:30:00",
          "2021-10-12T08:00:00",
          "2021-10-12T08:30:00",
          "2021-10-12T09:00:00",
          "2021-10-12T09:30:00",
          "2021-10-12T10:00:00",
          "2021-10-12T10:30:00",
          "2021-10-12T11:00:00",
          "2021-10-12T11:30:00",
          "2021-10-12T12:00:00",
          "2021-10-12T12:30:00",
          "2021-10-12T13:00:00",
          "2021-10-12T13:30:00",
          "2021-10-12T14:00:00",
          "2021-10-12T14:30:00",
          "2021-10-12T15:00:00",
          "2021-10-12T15:30:00",
          "2021-10-12T16:00:00",
          "2021-10-12T16:30:00",
          "2021-10-12T17:00:00",
          "2021-10-12T17:30:00",
          "2021-10-12T18:00:00",
          "2021-10-12T18:30:00",
          "2021-10-12T19:00:00",
          "2021-10-12T19:30:00",
          "2021-10-12T20:00:00",
          "2021-10-12T20:30:00",
          "2021-10-12T21:00:00",
          "2021-10-12T21:30:00",
          "2021-10-12T22:00:00",
          "2021-10-12T22:30:00",
          "2021-10-12T23:00:00",
          "2021-10-12T23:30:00",
          "2021-10-13T00:00:00",
          "2021-10-13T00:30:00",
          "2021-10-13T01:00:00",
          "2021-10-13T01:30:00",
          "2021-10-13T02:00:00",
          "2021-10-13T02:30:00",
          "2021-10-13T03:00:00",
          "2021-10-13T03:30:00",
          "2021-10-13T04:00:00",
          "2021-10-13T04:30:00",
          "2021-10-13T05:00:00",
          "2021-10-13T05:30:00",
          "2021-10-13T06:00:00",
          "2021-10-13T06:30:00",
          "2021-10-13T07:00:00",
          "2021-10-13T07:30:00",
          "2021-10-13T08:00:00",
          "2021-10-13T08:30:00",
          "2021-10-13T09:00:00",
          "2021-10-13T09:30:00",
          "2021-10-13T10:00:00",
          "2021-10-13T10:30:00",
          "2021-10-13T11:00:00",
          "2021-10-13T11:30:00",
          "2021-10-13T12:00:00",
          "2021-10-13T12:30:00",
          "2021-10-13T13:00:00",
          "2021-10-13T13:30:00",
          "2021-10-13T14:00:00",
          "2021-10-13T14:30:00",
          "2021-10-13T15:00:00",
          "2021-10-13T15:30:00",
          "2021-10-13T16:00:00",
          "2021-10-13T16:30:00",
          "2021-10-13T17:00:00",
          "2021-10-13T17:30:00",
          "2021-10-13T18:00:00",
          "2021-10-13T18:30:00",
          "2021-10-13T19:00:00",
          "2021-10-13T19:30:00",
          "2021-10-13T20:00:00",
          "2021-10-13T20:30:00",
          "2021-10-13T21:00:00",
          "2021-10-13T21:30:00",
          "2021-10-13T22:00:00",
          "2021-10-13T22:30:00",
          "2021-10-13T23:00:00",
          "2021-10-13T23:30:00",
          "2021-10-14T00:00:00",
          "2021-10-14T00:30:00",
          "2021-10-14T01:00:00",
          "2021-10-14T01:30:00",
          "2021-10-14T02:00:00",
          "2021-10-14T02:30:00",
          "2021-10-14T03:00:00",
          "2021-10-14T03:30:00",
          "2021-10-14T04:00:00",
          "2021-10-14T04:30:00",
          "2021-10-14T05:00:00",
          "2021-10-14T05:30:00",
          "2021-10-14T06:00:00",
          "2021-10-14T06:30:00",
          "2021-10-14T07:00:00",
          "2021-10-14T07:30:00",
          "2021-10-14T08:00:00",
          "2021-10-14T08:30:00",
          "2021-10-14T09:00:00",
          "2021-10-14T09:30:00",
          "2021-10-14T10:00:00",
          "2021-10-14T10:30:00",
          "2021-10-14T11:00:00",
          "2021-10-14T11:30:00",
          "2021-10-14T12:00:00",
          "2021-10-14T12:30:00",
          "2021-10-14T13:00:00",
          "2021-10-14T13:30:00",
          "2021-10-14T14:00:00",
          "2021-10-14T14:30:00",
          "2021-10-14T15:00:00",
          "2021-10-14T15:30:00",
          "2021-10-14T16:00:00",
          "2021-10-14T16:30:00",
          "2021-10-14T17:00:00",
          "2021-10-14T17:30:00",
          "2021-10-14T18:00:00",
          "2021-10-14T18:30:00",
          "2021-10-14T19:00:00",
          "2021-10-14T19:30:00",
          "2021-10-14T20:00:00",
          "2021-10-14T20:30:00",
          "2021-10-14T21:00:00",
          "2021-10-14T21:30:00",
          "2021-10-14T22:00:00",
          "2021-10-14T22:30:00",
          "2021-10-14T23:00:00",
          "2021-10-14T23:30:00",
          "2021-10-15T00:00:00",
          "2021-10-15T00:30:00",
          "2021-10-15T01:00:00",
          "2021-10-15T01:30:00",
          "2021-10-15T02:00:00",
          "2021-10-15T02:30:00",
          "2021-10-15T03:00:00",
          "2021-10-15T03:30:00",
          "2021-10-15T04:00:00",
          "2021-10-15T04:30:00",
          "2021-10-15T05:00:00",
          "2021-10-15T05:30:00",
          "2021-10-15T06:00:00",
          "2021-10-15T06:30:00",
          "2021-10-15T07:00:00",
          "2021-10-15T07:30:00",
          "2021-10-15T08:00:00",
          "2021-10-15T08:30:00",
          "2021-10-15T09:00:00",
          "2021-10-15T09:30:00",
          "2021-10-15T10:00:00",
          "2021-10-15T10:30:00",
          "2021-10-15T11:00:00",
          "2021-10-15T11:30:00",
          "2021-10-15T12:00:00",
          "2021-10-15T12:30:00",
          "2021-10-15T13:00:00",
          "2021-10-15T13:30:00",
          "2021-10-15T14:00:00",
          "2021-10-15T14:30:00",
          "2021-10-15T15:00:00",
          "2021-10-15T15:30:00",
          "2021-10-15T16:00:00",
          "2021-10-15T16:30:00",
          "2021-10-15T17:00:00",
          "2021-10-15T17:30:00",
          "2021-10-15T18:00:00",
          "2021-10-15T18:30:00",
          "2021-10-15T19:00:00",
          "2021-10-15T19:30:00",
          "2021-10-15T20:00:00",
          "2021-10-15T20:30:00",
          "2021-10-15T21:00:00",
          "2021-10-15T21:30:00",
          "2021-10-15T22:00:00",
          "2021-10-15T22:30:00",
          "2021-10-15T23:00:00",
          "2021-10-15T23:30:00"
         ],
         "xaxis": "x",
         "y": [
          0.5258887847299667,
          0.4792681044801548,
          0.4800786369575646,
          0.4983761002074458,
          0.5154811437352921,
          0.5028132604703776,
          0.49791811330423247,
          0.552828637761263,
          0.5031145270205422,
          0.4723051435028289,
          1.312704793767998,
          3.780769429168804,
          4.830429937980526,
          5.3902440781691405,
          5.3453603907644025,
          5.113601067044949,
          4.96617779513788,
          5.0237887903268,
          4.916407123701904,
          5.085963597356215,
          4.839672885594153,
          4.310096425058228,
          4.527004594217735,
          4.30496637335571,
          4.295572748385264,
          4.317762270759768,
          4.393797416298215,
          4.228045538400719,
          3.684489990639873,
          3.7490759344916524,
          2.367836320095392,
          1.571258953612572,
          1.1499373085221558,
          1.035913005170591,
          0.6719234051401096,
          0.6268233579478627,
          0.6671523623316216,
          0.6458459958050891,
          0.6703931241906063,
          0.6401123303925238,
          0.6494649616712281,
          0.5543004292216204,
          0.5516872831196622,
          0.5765702945794009,
          0.5470218543360115,
          0.5646405375744891,
          0.5597866164646558,
          0.5467705826366928,
          0.5318924678463098,
          0.5501666600554314,
          0.5413951256231596,
          0.5246218536528727,
          0.5223191153411609,
          0.563223827754308,
          0.5216222100783078,
          0.5375635432494347,
          0.5621788527463016,
          0.5911764476287777,
          2.2987372347285073,
          4.091404722387368,
          5.268683929871887,
          6.015269905231328,
          5.7413325333831775,
          5.756548371909289,
          5.5665956762210245,
          5.227224867845307,
          4.6525519692413795,
          5.549879283814065,
          5.030648374479327,
          5.124390421331325,
          5.492652346334391,
          5.368258341025085,
          5.670579190775015,
          5.636603475106069,
          5.38335658972213,
          5.319090307328815,
          4.94572656547672,
          5.000149539891411,
          3.6633724270426993,
          3.4583913959804358,
          2.0646174273020157,
          1.4512857300267878,
          1.0497190492462831,
          0.6526755550137862,
          0.5983320826097105,
          0.5608526828883267,
          0.6030850550627678,
          0.5476431042750135,
          0.48031037943740634,
          0.4742688448334571,
          0.47709254526739153,
          0.5285100224327745,
          0.48371123891805046,
          0.4873059111059551,
          0.4863324413740827,
          0.5502943211682303,
          0.4633087855484375,
          0.46561819261907944,
          0.47962723799350365,
          0.4916748920876636,
          0.46683559120461054,
          0.4808916584467239,
          0.49862038600238057,
          0.5082394615587104,
          0.466683647518651,
          0.46646750160248956,
          1.190180717560335,
          3.780465857473493,
          5.325309223945913,
          5.32942393535092,
          5.3295087828736465,
          5.378460111105964,
          4.583843144185295,
          4.598208405884147,
          4.5722432846757615,
          4.32601024408733,
          4.4639822956459705,
          4.736602824382131,
          5.083890845645406,
          4.854755172077555,
          4.462936022244013,
          4.441205246603118,
          5.014843043822828,
          4.436336378037071,
          4.245647229125965,
          3.218137886020416,
          2.4538944163491805,
          1.6250409113020783,
          2.3266537760078156,
          1.661458156488494,
          0.7213541128293188,
          0.637006544704505,
          0.6542164526120261,
          0.6858105207356144,
          0.6845511651576328,
          0.6204457479954162,
          0.46701902261540085,
          0.4616034110182582,
          0.4845745923431829,
          0.4927837154709404,
          0.4594869338565447,
          0.47654452790291624,
          0.45988665970061654,
          0.49131268427895264,
          0.4816638979336061,
          0.45712329322434725,
          0.4636469966253366,
          0.5344947821316431,
          0.4758543765093875,
          0.4713073962048068,
          0.4940063848415856,
          0.5065665402117372,
          0.5152704061208337,
          0.5050980276462035,
          1.1011694942726327,
          3.328821276580275,
          4.852839650374776,
          5.518919707009141,
          5.398748467141526,
          5.242088432098776,
          4.607685644580743,
          5.327659626054933,
          5.074992480680801,
          4.964667346738118,
          4.398185962878597,
          3.9411190930246955,
          4.442815594469233,
          4.2639679788561375,
          4.281363807361751,
          4.176521306552098,
          4.053248558331413,
          3.9706518165102254,
          3.8055001397028114,
          3.3833682803389458,
          2.5300177279053746,
          1.5830722937270783,
          1.6373343155148952,
          0.7275074439744034,
          0.6636432513813451,
          0.6573915387508699,
          0.620122334060938,
          0.630323804884842,
          0.6124400136831512,
          0.6604712952783313,
          0.6515399229507214,
          0.6118594828557686,
          0.6116986662486984,
          0.6165569666883463,
          0.6130828654682784,
          0.5780306348690359,
          0.6535802352513189,
          0.66497524957043,
          0.6086756693133955,
          0.6199817509366797,
          0.6091589210587385,
          0.5985429598328359,
          0.6129429920745486,
          0.47999261708155694,
          0.46394796054485216,
          0.5186829316771248,
          0.5121555730980518,
          0.4892791924219894,
          0.671253366566059,
          3.705053162300694,
          5.011254365968176,
          5.28018664144557,
          5.160739826077491,
          5.3166657789387,
          5.118067045682967,
          5.237911334280685,
          5.080208184384563,
          4.833049353544296,
          4.034827554626558,
          3.8000395317563678,
          3.9779684168565637,
          4.091946295789296,
          4.160984395870202,
          4.3726863941476966,
          4.77703941456361,
          4.3837945244981,
          4.071197291488443,
          4.5394302325246025,
          3.724666690130967,
          3.3699825548172826,
          2.717300966795156,
          1.3959815763937458,
          0.6650630160226543,
          0.5363153068729035,
          0.5235819743613532,
          0.4948594088333662,
          0.5035052532398163,
          0.4914187967770353,
          0.47262587517223614,
          0.4917255177100746,
          0.5230205280731928,
          0.5066627278636817,
          0.4901645605278276,
          0.5012198389593054,
          0.5005961623784735,
          0.5168947668183648
         ],
         "yaxis": "y"
        }
       ],
       "layout": {
        "legend": {
         "tracegroupgap": 0
        },
        "template": {
         "data": {
          "bar": [
           {
            "error_x": {
             "color": "#2a3f5f"
            },
            "error_y": {
             "color": "#2a3f5f"
            },
            "marker": {
             "line": {
              "color": "#E5ECF6",
              "width": 0.5
             },
             "pattern": {
              "fillmode": "overlay",
              "size": 10,
              "solidity": 0.2
             }
            },
            "type": "bar"
           }
          ],
          "barpolar": [
           {
            "marker": {
             "line": {
              "color": "#E5ECF6",
              "width": 0.5
             },
             "pattern": {
              "fillmode": "overlay",
              "size": 10,
              "solidity": 0.2
             }
            },
            "type": "barpolar"
           }
          ],
          "carpet": [
           {
            "aaxis": {
             "endlinecolor": "#2a3f5f",
             "gridcolor": "white",
             "linecolor": "white",
             "minorgridcolor": "white",
             "startlinecolor": "#2a3f5f"
            },
            "baxis": {
             "endlinecolor": "#2a3f5f",
             "gridcolor": "white",
             "linecolor": "white",
             "minorgridcolor": "white",
             "startlinecolor": "#2a3f5f"
            },
            "type": "carpet"
           }
          ],
          "choropleth": [
           {
            "colorbar": {
             "outlinewidth": 0,
             "ticks": ""
            },
            "type": "choropleth"
           }
          ],
          "contour": [
           {
            "colorbar": {
             "outlinewidth": 0,
             "ticks": ""
            },
            "colorscale": [
             [
              0,
              "#0d0887"
             ],
             [
              0.1111111111111111,
              "#46039f"
             ],
             [
              0.2222222222222222,
              "#7201a8"
             ],
             [
              0.3333333333333333,
              "#9c179e"
             ],
             [
              0.4444444444444444,
              "#bd3786"
             ],
             [
              0.5555555555555556,
              "#d8576b"
             ],
             [
              0.6666666666666666,
              "#ed7953"
             ],
             [
              0.7777777777777778,
              "#fb9f3a"
             ],
             [
              0.8888888888888888,
              "#fdca26"
             ],
             [
              1,
              "#f0f921"
             ]
            ],
            "type": "contour"
           }
          ],
          "contourcarpet": [
           {
            "colorbar": {
             "outlinewidth": 0,
             "ticks": ""
            },
            "type": "contourcarpet"
           }
          ],
          "heatmap": [
           {
            "colorbar": {
             "outlinewidth": 0,
             "ticks": ""
            },
            "colorscale": [
             [
              0,
              "#0d0887"
             ],
             [
              0.1111111111111111,
              "#46039f"
             ],
             [
              0.2222222222222222,
              "#7201a8"
             ],
             [
              0.3333333333333333,
              "#9c179e"
             ],
             [
              0.4444444444444444,
              "#bd3786"
             ],
             [
              0.5555555555555556,
              "#d8576b"
             ],
             [
              0.6666666666666666,
              "#ed7953"
             ],
             [
              0.7777777777777778,
              "#fb9f3a"
             ],
             [
              0.8888888888888888,
              "#fdca26"
             ],
             [
              1,
              "#f0f921"
             ]
            ],
            "type": "heatmap"
           }
          ],
          "heatmapgl": [
           {
            "colorbar": {
             "outlinewidth": 0,
             "ticks": ""
            },
            "colorscale": [
             [
              0,
              "#0d0887"
             ],
             [
              0.1111111111111111,
              "#46039f"
             ],
             [
              0.2222222222222222,
              "#7201a8"
             ],
             [
              0.3333333333333333,
              "#9c179e"
             ],
             [
              0.4444444444444444,
              "#bd3786"
             ],
             [
              0.5555555555555556,
              "#d8576b"
             ],
             [
              0.6666666666666666,
              "#ed7953"
             ],
             [
              0.7777777777777778,
              "#fb9f3a"
             ],
             [
              0.8888888888888888,
              "#fdca26"
             ],
             [
              1,
              "#f0f921"
             ]
            ],
            "type": "heatmapgl"
           }
          ],
          "histogram": [
           {
            "marker": {
             "pattern": {
              "fillmode": "overlay",
              "size": 10,
              "solidity": 0.2
             }
            },
            "type": "histogram"
           }
          ],
          "histogram2d": [
           {
            "colorbar": {
             "outlinewidth": 0,
             "ticks": ""
            },
            "colorscale": [
             [
              0,
              "#0d0887"
             ],
             [
              0.1111111111111111,
              "#46039f"
             ],
             [
              0.2222222222222222,
              "#7201a8"
             ],
             [
              0.3333333333333333,
              "#9c179e"
             ],
             [
              0.4444444444444444,
              "#bd3786"
             ],
             [
              0.5555555555555556,
              "#d8576b"
             ],
             [
              0.6666666666666666,
              "#ed7953"
             ],
             [
              0.7777777777777778,
              "#fb9f3a"
             ],
             [
              0.8888888888888888,
              "#fdca26"
             ],
             [
              1,
              "#f0f921"
             ]
            ],
            "type": "histogram2d"
           }
          ],
          "histogram2dcontour": [
           {
            "colorbar": {
             "outlinewidth": 0,
             "ticks": ""
            },
            "colorscale": [
             [
              0,
              "#0d0887"
             ],
             [
              0.1111111111111111,
              "#46039f"
             ],
             [
              0.2222222222222222,
              "#7201a8"
             ],
             [
              0.3333333333333333,
              "#9c179e"
             ],
             [
              0.4444444444444444,
              "#bd3786"
             ],
             [
              0.5555555555555556,
              "#d8576b"
             ],
             [
              0.6666666666666666,
              "#ed7953"
             ],
             [
              0.7777777777777778,
              "#fb9f3a"
             ],
             [
              0.8888888888888888,
              "#fdca26"
             ],
             [
              1,
              "#f0f921"
             ]
            ],
            "type": "histogram2dcontour"
           }
          ],
          "mesh3d": [
           {
            "colorbar": {
             "outlinewidth": 0,
             "ticks": ""
            },
            "type": "mesh3d"
           }
          ],
          "parcoords": [
           {
            "line": {
             "colorbar": {
              "outlinewidth": 0,
              "ticks": ""
             }
            },
            "type": "parcoords"
           }
          ],
          "pie": [
           {
            "automargin": true,
            "type": "pie"
           }
          ],
          "scatter": [
           {
            "marker": {
             "colorbar": {
              "outlinewidth": 0,
              "ticks": ""
             }
            },
            "type": "scatter"
           }
          ],
          "scatter3d": [
           {
            "line": {
             "colorbar": {
              "outlinewidth": 0,
              "ticks": ""
             }
            },
            "marker": {
             "colorbar": {
              "outlinewidth": 0,
              "ticks": ""
             }
            },
            "type": "scatter3d"
           }
          ],
          "scattercarpet": [
           {
            "marker": {
             "colorbar": {
              "outlinewidth": 0,
              "ticks": ""
             }
            },
            "type": "scattercarpet"
           }
          ],
          "scattergeo": [
           {
            "marker": {
             "colorbar": {
              "outlinewidth": 0,
              "ticks": ""
             }
            },
            "type": "scattergeo"
           }
          ],
          "scattergl": [
           {
            "marker": {
             "colorbar": {
              "outlinewidth": 0,
              "ticks": ""
             }
            },
            "type": "scattergl"
           }
          ],
          "scattermapbox": [
           {
            "marker": {
             "colorbar": {
              "outlinewidth": 0,
              "ticks": ""
             }
            },
            "type": "scattermapbox"
           }
          ],
          "scatterpolar": [
           {
            "marker": {
             "colorbar": {
              "outlinewidth": 0,
              "ticks": ""
             }
            },
            "type": "scatterpolar"
           }
          ],
          "scatterpolargl": [
           {
            "marker": {
             "colorbar": {
              "outlinewidth": 0,
              "ticks": ""
             }
            },
            "type": "scatterpolargl"
           }
          ],
          "scatterternary": [
           {
            "marker": {
             "colorbar": {
              "outlinewidth": 0,
              "ticks": ""
             }
            },
            "type": "scatterternary"
           }
          ],
          "surface": [
           {
            "colorbar": {
             "outlinewidth": 0,
             "ticks": ""
            },
            "colorscale": [
             [
              0,
              "#0d0887"
             ],
             [
              0.1111111111111111,
              "#46039f"
             ],
             [
              0.2222222222222222,
              "#7201a8"
             ],
             [
              0.3333333333333333,
              "#9c179e"
             ],
             [
              0.4444444444444444,
              "#bd3786"
             ],
             [
              0.5555555555555556,
              "#d8576b"
             ],
             [
              0.6666666666666666,
              "#ed7953"
             ],
             [
              0.7777777777777778,
              "#fb9f3a"
             ],
             [
              0.8888888888888888,
              "#fdca26"
             ],
             [
              1,
              "#f0f921"
             ]
            ],
            "type": "surface"
           }
          ],
          "table": [
           {
            "cells": {
             "fill": {
              "color": "#EBF0F8"
             },
             "line": {
              "color": "white"
             }
            },
            "header": {
             "fill": {
              "color": "#C8D4E3"
             },
             "line": {
              "color": "white"
             }
            },
            "type": "table"
           }
          ]
         },
         "layout": {
          "annotationdefaults": {
           "arrowcolor": "#2a3f5f",
           "arrowhead": 0,
           "arrowwidth": 1
          },
          "autotypenumbers": "strict",
          "coloraxis": {
           "colorbar": {
            "outlinewidth": 0,
            "ticks": ""
           }
          },
          "colorscale": {
           "diverging": [
            [
             0,
             "#8e0152"
            ],
            [
             0.1,
             "#c51b7d"
            ],
            [
             0.2,
             "#de77ae"
            ],
            [
             0.3,
             "#f1b6da"
            ],
            [
             0.4,
             "#fde0ef"
            ],
            [
             0.5,
             "#f7f7f7"
            ],
            [
             0.6,
             "#e6f5d0"
            ],
            [
             0.7,
             "#b8e186"
            ],
            [
             0.8,
             "#7fbc41"
            ],
            [
             0.9,
             "#4d9221"
            ],
            [
             1,
             "#276419"
            ]
           ],
           "sequential": [
            [
             0,
             "#0d0887"
            ],
            [
             0.1111111111111111,
             "#46039f"
            ],
            [
             0.2222222222222222,
             "#7201a8"
            ],
            [
             0.3333333333333333,
             "#9c179e"
            ],
            [
             0.4444444444444444,
             "#bd3786"
            ],
            [
             0.5555555555555556,
             "#d8576b"
            ],
            [
             0.6666666666666666,
             "#ed7953"
            ],
            [
             0.7777777777777778,
             "#fb9f3a"
            ],
            [
             0.8888888888888888,
             "#fdca26"
            ],
            [
             1,
             "#f0f921"
            ]
           ],
           "sequentialminus": [
            [
             0,
             "#0d0887"
            ],
            [
             0.1111111111111111,
             "#46039f"
            ],
            [
             0.2222222222222222,
             "#7201a8"
            ],
            [
             0.3333333333333333,
             "#9c179e"
            ],
            [
             0.4444444444444444,
             "#bd3786"
            ],
            [
             0.5555555555555556,
             "#d8576b"
            ],
            [
             0.6666666666666666,
             "#ed7953"
            ],
            [
             0.7777777777777778,
             "#fb9f3a"
            ],
            [
             0.8888888888888888,
             "#fdca26"
            ],
            [
             1,
             "#f0f921"
            ]
           ]
          },
          "colorway": [
           "#636efa",
           "#EF553B",
           "#00cc96",
           "#ab63fa",
           "#FFA15A",
           "#19d3f3",
           "#FF6692",
           "#B6E880",
           "#FF97FF",
           "#FECB52"
          ],
          "font": {
           "color": "#2a3f5f"
          },
          "geo": {
           "bgcolor": "white",
           "lakecolor": "white",
           "landcolor": "#E5ECF6",
           "showlakes": true,
           "showland": true,
           "subunitcolor": "white"
          },
          "hoverlabel": {
           "align": "left"
          },
          "hovermode": "closest",
          "mapbox": {
           "style": "light"
          },
          "paper_bgcolor": "white",
          "plot_bgcolor": "#E5ECF6",
          "polar": {
           "angularaxis": {
            "gridcolor": "white",
            "linecolor": "white",
            "ticks": ""
           },
           "bgcolor": "#E5ECF6",
           "radialaxis": {
            "gridcolor": "white",
            "linecolor": "white",
            "ticks": ""
           }
          },
          "scene": {
           "xaxis": {
            "backgroundcolor": "#E5ECF6",
            "gridcolor": "white",
            "gridwidth": 2,
            "linecolor": "white",
            "showbackground": true,
            "ticks": "",
            "zerolinecolor": "white"
           },
           "yaxis": {
            "backgroundcolor": "#E5ECF6",
            "gridcolor": "white",
            "gridwidth": 2,
            "linecolor": "white",
            "showbackground": true,
            "ticks": "",
            "zerolinecolor": "white"
           },
           "zaxis": {
            "backgroundcolor": "#E5ECF6",
            "gridcolor": "white",
            "gridwidth": 2,
            "linecolor": "white",
            "showbackground": true,
            "ticks": "",
            "zerolinecolor": "white"
           }
          },
          "shapedefaults": {
           "line": {
            "color": "#2a3f5f"
           }
          },
          "ternary": {
           "aaxis": {
            "gridcolor": "white",
            "linecolor": "white",
            "ticks": ""
           },
           "baxis": {
            "gridcolor": "white",
            "linecolor": "white",
            "ticks": ""
           },
           "bgcolor": "#E5ECF6",
           "caxis": {
            "gridcolor": "white",
            "linecolor": "white",
            "ticks": ""
           }
          },
          "title": {
           "x": 0.05
          },
          "xaxis": {
           "automargin": true,
           "gridcolor": "white",
           "linecolor": "white",
           "ticks": "",
           "title": {
            "standoff": 15
           },
           "zerolinecolor": "white",
           "zerolinewidth": 2
          },
          "yaxis": {
           "automargin": true,
           "gridcolor": "white",
           "linecolor": "white",
           "ticks": "",
           "title": {
            "standoff": 15
           },
           "zerolinecolor": "white",
           "zerolinewidth": 2
          }
         }
        },
        "title": {
         "text": "UV OG - 1st Floor"
        },
        "xaxis": {
         "anchor": "y",
         "domain": [
          0,
          1
         ],
         "title": {
          "text": "Time"
         }
        },
        "yaxis": {
         "anchor": "x",
         "domain": [
          0,
          1
         ],
         "title": {
          "text": "kW"
         }
        }
       }
      }
     },
     "metadata": {},
     "output_type": "display_data"
    }
   ],
   "source": [
    "px.line(\n",
    "    x=df.index, y=df.kw, \n",
    "    title='UV OG - 1st Floor',\n",
    "    labels={\n",
    "        'x': 'Time',\n",
    "        'y': 'kW'\n",
    "    })"
   ]
  },
  {
   "cell_type": "code",
   "execution_count": 5,
   "metadata": {},
   "outputs": [],
   "source": [
    "time_int_range = np.arange(0, df.shape[0]*30, 30)\n",
    "df['t'] = time_int_range\n",
    "df['t_scaled'] = (df['t'] - df['t'].min()) / (df['t'].max() - df['t'].min())"
   ]
  },
  {
   "cell_type": "code",
   "execution_count": 6,
   "metadata": {},
   "outputs": [
    {
     "data": {
      "image/png": "[encoded data removed]",
      "text/plain": [
       "<Figure size 1152x504 with 1 Axes>"
      ]
     },
     "execution_count": 6,
     "metadata": {},
     "output_type": "execute_result"
    },
    {
     "data": {
      "image/png": "[encoded data removed]",
      "text/plain": [
       "<Figure size 1152x504 with 1 Axes>"
      ]
     },
     "metadata": {
      "needs_background": "light"
     },
     "output_type": "display_data"
    }
   ],
   "source": [
    "fig, ax = plt.subplots(figsize=(16, 7))\n",
    "plot_acf(df.kw.values.squeeze(), lags=100, ax=ax)"
   ]
  },
  {
   "cell_type": "code",
   "execution_count": 7,
   "metadata": {},
   "outputs": [
    {
     "data": {
      "text/plain": [
       "(0.13807531380753138, 0.07112970711297072)"
      ]
     },
     "execution_count": 7,
     "metadata": {},
     "output_type": "execute_result"
    }
   ],
   "source": [
    "# Short term interval\n",
    "df['t_scaled'].iloc[33], df['t_scaled'].iloc[17]"
   ]
  },
  {
   "cell_type": "code",
   "execution_count": 8,
   "metadata": {},
   "outputs": [
    {
     "data": {
      "text/plain": [
       "(0.2301255230125523, 0.19665271966527198)"
      ]
     },
     "execution_count": 8,
     "metadata": {},
     "output_type": "execute_result"
    }
   ],
   "source": [
    "# Long term interval\n",
    "df['t_scaled'].iloc[55], df['t_scaled'].iloc[47]"
   ]
  },
  {
   "cell_type": "code",
   "execution_count": null,
   "metadata": {},
   "outputs": [],
   "source": []
  }
 ],
 "metadata": {
  "interpreter": {
   "hash": "55f578ea790fce859303417df5f33993e9db329ffe5a387d7c54812db965934b"
  },
  "kernelspec": {
   "display_name": "Python 3.8.12 64-bit ('thesis': conda)",
   "language": "python",
   "name": "python3"
  },
  "language_info": {
   "codemirror_mode": {
    "name": "ipython",
    "version": 3
   },
   "file_extension": ".py",
   "mimetype": "text/x-python",
   "name": "python",
   "nbconvert_exporter": "python",
   "pygments_lexer": "ipython3",
   "version": "3.8.12"
  },
  "orig_nbformat": 4
 },
 "nbformat": 4,
 "nbformat_minor": 2
}
