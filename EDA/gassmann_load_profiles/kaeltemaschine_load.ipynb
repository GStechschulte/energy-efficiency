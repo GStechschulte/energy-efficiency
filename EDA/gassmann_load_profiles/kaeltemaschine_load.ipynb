{
 "cells": [
  {
   "cell_type": "code",
   "execution_count": 1,
   "metadata": {},
   "outputs": [],
   "source": [
    "import pandas as pd\n",
    "import numpy as np\n",
    "import matplotlib.pyplot as plt\n",
    "import seaborn as sns\n",
    "import plotly.express as px"
   ]
  },
  {
   "cell_type": "markdown",
   "metadata": {},
   "source": [
    "## Load Profiles\n",
    "\n",
    "Notes:\n",
    "\n",
    "l1_p , l2_p , l3_p : mean power in W. To obtain total energy in Wh consumed during the interval (depends on the granularity):\n",
    "\n",
    " - Energy = (l1_p + l2_p + l3_p) / granularity \n",
    "\n",
    "Depending on the usage and displayed data, the power of the 3 phases ( l1_p , l2_p , l3_p ) need to be added to form a single value."
   ]
  },
  {
   "cell_type": "code",
   "execution_count": 2,
   "metadata": {},
   "outputs": [],
   "source": [
    "day1 = '5fe3412c923d596335e69d4c-20210808-v0.0.1_SE05000139_Kaeltemaschine.csv' ## Sunday\n",
    "day2 = '5fe3412c923d596335e69d4c-20210809-v0.0.1_SE05000139_Kaeltemaschine.csv' ## Monday\n",
    "day3 = '5fe3412c923d596335e69d4c-20210810-v0.0.1_SE05000139_Kaeltemaschine.csv' ## Tuesday\n",
    "day1 = pd.read_csv('/Users/wastechs/Documents/data/Kaeltemaschine/{}'.format(day1))\n",
    "day2 = pd.read_csv('/Users/wastechs/Documents/data/Kaeltemaschine/{}'.format(day2))\n",
    "day3 = pd.read_csv('/Users/wastechs/Documents/data/Kaeltemaschine/{}'.format(day3))"
   ]
  },
  {
   "cell_type": "code",
   "execution_count": 3,
   "metadata": {},
   "outputs": [],
   "source": [
    "def epoch_convert(df):\n",
    "    df.t = pd.to_datetime(df.t, unit='s')\n",
    "    df.set_index(df.t, inplace=True)\n",
    "    del df['t']\n",
    "    return df"
   ]
  },
  {
   "cell_type": "code",
   "execution_count": 4,
   "metadata": {},
   "outputs": [],
   "source": [
    "day1 = epoch_convert(day1)\n",
    "day2 = epoch_convert(day2)\n",
    "day3 = epoch_convert(day3)"
   ]
  },
  {
   "cell_type": "code",
   "execution_count": 5,
   "metadata": {},
   "outputs": [],
   "source": [
    "machine = pd.concat([day1, day2, day3])"
   ]
  },
  {
   "cell_type": "code",
   "execution_count": 20,
   "metadata": {},
   "outputs": [
    {
     "data": {
      "text/html": [
       "<div>\n",
       "<style scoped>\n",
       "    .dataframe tbody tr th:only-of-type {\n",
       "        vertical-align: middle;\n",
       "    }\n",
       "\n",
       "    .dataframe tbody tr th {\n",
       "        vertical-align: top;\n",
       "    }\n",
       "\n",
       "    .dataframe thead th {\n",
       "        text-align: right;\n",
       "    }\n",
       "</style>\n",
       "<table border=\"1\" class=\"dataframe\">\n",
       "  <thead>\n",
       "    <tr style=\"text-align: right;\">\n",
       "      <th></th>\n",
       "      <th>L</th>\n",
       "      <th>V</th>\n",
       "      <th>I</th>\n",
       "      <th>S</th>\n",
       "      <th>P</th>\n",
       "      <th>Q</th>\n",
       "      <th>PF</th>\n",
       "      <th>PHI</th>\n",
       "    </tr>\n",
       "    <tr>\n",
       "      <th>t</th>\n",
       "      <th></th>\n",
       "      <th></th>\n",
       "      <th></th>\n",
       "      <th></th>\n",
       "      <th></th>\n",
       "      <th></th>\n",
       "      <th></th>\n",
       "      <th></th>\n",
       "    </tr>\n",
       "  </thead>\n",
       "  <tbody>\n",
       "    <tr>\n",
       "      <th>2021-08-07 21:59:00.200999975</th>\n",
       "      <td>1.0</td>\n",
       "      <td>238.921</td>\n",
       "      <td>31.026</td>\n",
       "      <td>7411.529</td>\n",
       "      <td>4752.550</td>\n",
       "      <td>5675.528</td>\n",
       "      <td>0.642</td>\n",
       "      <td>120.00</td>\n",
       "    </tr>\n",
       "    <tr>\n",
       "      <th>2021-08-07 21:59:00.200999975</th>\n",
       "      <td>2.0</td>\n",
       "      <td>239.071</td>\n",
       "      <td>29.281</td>\n",
       "      <td>6998.035</td>\n",
       "      <td>4515.562</td>\n",
       "      <td>5331.538</td>\n",
       "      <td>0.647</td>\n",
       "      <td>120.00</td>\n",
       "    </tr>\n",
       "    <tr>\n",
       "      <th>2021-08-07 21:59:00.200999975</th>\n",
       "      <td>3.0</td>\n",
       "      <td>240.536</td>\n",
       "      <td>30.406</td>\n",
       "      <td>7315.965</td>\n",
       "      <td>4822.356</td>\n",
       "      <td>5482.820</td>\n",
       "      <td>0.659</td>\n",
       "      <td>120.00</td>\n",
       "    </tr>\n",
       "    <tr>\n",
       "      <th>2021-08-07 21:59:00.282999992</th>\n",
       "      <td>1.0</td>\n",
       "      <td>238.920</td>\n",
       "      <td>30.994</td>\n",
       "      <td>7403.923</td>\n",
       "      <td>4749.859</td>\n",
       "      <td>5656.511</td>\n",
       "      <td>0.642</td>\n",
       "      <td>120.00</td>\n",
       "    </tr>\n",
       "    <tr>\n",
       "      <th>2021-08-07 21:59:00.282999992</th>\n",
       "      <td>2.0</td>\n",
       "      <td>239.067</td>\n",
       "      <td>29.265</td>\n",
       "      <td>6994.562</td>\n",
       "      <td>4522.702</td>\n",
       "      <td>5318.453</td>\n",
       "      <td>0.647</td>\n",
       "      <td>120.00</td>\n",
       "    </tr>\n",
       "    <tr>\n",
       "      <th>...</th>\n",
       "      <td>...</td>\n",
       "      <td>...</td>\n",
       "      <td>...</td>\n",
       "      <td>...</td>\n",
       "      <td>...</td>\n",
       "      <td>...</td>\n",
       "      <td>...</td>\n",
       "      <td>...</td>\n",
       "    </tr>\n",
       "    <tr>\n",
       "      <th>2021-08-10 21:58:59.917999983</th>\n",
       "      <td>2.0</td>\n",
       "      <td>238.098</td>\n",
       "      <td>5.017</td>\n",
       "      <td>1194.127</td>\n",
       "      <td>1043.380</td>\n",
       "      <td>570.008</td>\n",
       "      <td>0.874</td>\n",
       "      <td>151.58</td>\n",
       "    </tr>\n",
       "    <tr>\n",
       "      <th>2021-08-10 21:58:59.917999983</th>\n",
       "      <td>3.0</td>\n",
       "      <td>239.269</td>\n",
       "      <td>5.396</td>\n",
       "      <td>1291.573</td>\n",
       "      <td>1117.044</td>\n",
       "      <td>635.928</td>\n",
       "      <td>0.865</td>\n",
       "      <td>120.00</td>\n",
       "    </tr>\n",
       "    <tr>\n",
       "      <th>2021-08-10 21:59:00.000000000</th>\n",
       "      <td>1.0</td>\n",
       "      <td>237.744</td>\n",
       "      <td>6.195</td>\n",
       "      <td>1472.678</td>\n",
       "      <td>1281.357</td>\n",
       "      <td>716.402</td>\n",
       "      <td>0.871</td>\n",
       "      <td>120.00</td>\n",
       "    </tr>\n",
       "    <tr>\n",
       "      <th>2021-08-10 21:59:00.000000000</th>\n",
       "      <td>2.0</td>\n",
       "      <td>238.102</td>\n",
       "      <td>5.011</td>\n",
       "      <td>1192.947</td>\n",
       "      <td>1040.456</td>\n",
       "      <td>569.335</td>\n",
       "      <td>0.874</td>\n",
       "      <td>120.00</td>\n",
       "    </tr>\n",
       "    <tr>\n",
       "      <th>2021-08-10 21:59:00.000000000</th>\n",
       "      <td>3.0</td>\n",
       "      <td>239.265</td>\n",
       "      <td>5.390</td>\n",
       "      <td>1290.062</td>\n",
       "      <td>1115.191</td>\n",
       "      <td>635.502</td>\n",
       "      <td>0.865</td>\n",
       "      <td>120.00</td>\n",
       "    </tr>\n",
       "  </tbody>\n",
       "</table>\n",
       "<p>9303432 rows × 8 columns</p>\n",
       "</div>"
      ],
      "text/plain": [
       "                                 L        V       I         S         P  \\\n",
       "t                                                                         \n",
       "2021-08-07 21:59:00.200999975  1.0  238.921  31.026  7411.529  4752.550   \n",
       "2021-08-07 21:59:00.200999975  2.0  239.071  29.281  6998.035  4515.562   \n",
       "2021-08-07 21:59:00.200999975  3.0  240.536  30.406  7315.965  4822.356   \n",
       "2021-08-07 21:59:00.282999992  1.0  238.920  30.994  7403.923  4749.859   \n",
       "2021-08-07 21:59:00.282999992  2.0  239.067  29.265  6994.562  4522.702   \n",
       "...                            ...      ...     ...       ...       ...   \n",
       "2021-08-10 21:58:59.917999983  2.0  238.098   5.017  1194.127  1043.380   \n",
       "2021-08-10 21:58:59.917999983  3.0  239.269   5.396  1291.573  1117.044   \n",
       "2021-08-10 21:59:00.000000000  1.0  237.744   6.195  1472.678  1281.357   \n",
       "2021-08-10 21:59:00.000000000  2.0  238.102   5.011  1192.947  1040.456   \n",
       "2021-08-10 21:59:00.000000000  3.0  239.265   5.390  1290.062  1115.191   \n",
       "\n",
       "                                      Q     PF     PHI  \n",
       "t                                                       \n",
       "2021-08-07 21:59:00.200999975  5675.528  0.642  120.00  \n",
       "2021-08-07 21:59:00.200999975  5331.538  0.647  120.00  \n",
       "2021-08-07 21:59:00.200999975  5482.820  0.659  120.00  \n",
       "2021-08-07 21:59:00.282999992  5656.511  0.642  120.00  \n",
       "2021-08-07 21:59:00.282999992  5318.453  0.647  120.00  \n",
       "...                                 ...    ...     ...  \n",
       "2021-08-10 21:58:59.917999983   570.008  0.874  151.58  \n",
       "2021-08-10 21:58:59.917999983   635.928  0.865  120.00  \n",
       "2021-08-10 21:59:00.000000000   716.402  0.871  120.00  \n",
       "2021-08-10 21:59:00.000000000   569.335  0.874  120.00  \n",
       "2021-08-10 21:59:00.000000000   635.502  0.865  120.00  \n",
       "\n",
       "[9303432 rows x 8 columns]"
      ]
     },
     "execution_count": 20,
     "metadata": {},
     "output_type": "execute_result"
    }
   ],
   "source": [
    "machine"
   ]
  },
  {
   "cell_type": "code",
   "execution_count": null,
   "metadata": {},
   "outputs": [],
   "source": [
    "day1.index[3] - day1.index[0]"
   ]
  },
  {
   "cell_type": "code",
   "execution_count": null,
   "metadata": {},
   "outputs": [],
   "source": [
    "def kwatt_avg(df):\n",
    "    \"\"\"\n",
    "    Unbalanced loads (amps vary between phases)\n",
    "    \"\"\"\n",
    "    df_avg = pd.DataFrame(df[['P', 'I', 'V', 'PF']].groupby(df.index).mean())\n",
    "    df_avg['kW_avg'] = (df_avg['V'] * df_avg['I'] * df_avg['PF'] * np.sqrt(3)) / 1000\n",
    "\n",
    "    return df_avg"
   ]
  },
  {
   "cell_type": "code",
   "execution_count": null,
   "metadata": {},
   "outputs": [],
   "source": [
    "machine_avg_kw = kwatt_avg(machine)"
   ]
  },
  {
   "cell_type": "code",
   "execution_count": null,
   "metadata": {},
   "outputs": [],
   "source": [
    "def kwatt(df):\n",
    "    \"\"\"\n",
    "    Unbalanced loads (amps vary between phases)\n",
    "    \"\"\"\n",
    "\n",
    "    df['p_total'] = (df['V'] * df['I'] * df['PF']) / 1000\n",
    "\n",
    "    #df['kW'] = df['p_total'].groupby(df.index).sum()\n",
    "\n",
    "    #df.index = df.index.drop_duplicates()\n",
    "\n",
    "    return df"
   ]
  },
  {
   "cell_type": "code",
   "execution_count": null,
   "metadata": {},
   "outputs": [],
   "source": [
    "machine_kw = kwatt(machine)"
   ]
  },
  {
   "cell_type": "code",
   "execution_count": null,
   "metadata": {},
   "outputs": [],
   "source": [
    "machine_kw"
   ]
  },
  {
   "cell_type": "code",
   "execution_count": null,
   "metadata": {},
   "outputs": [],
   "source": [
    "machine_kw.drop_duplicates(subset=['kW'], keep='first', inplace=True)"
   ]
  },
  {
   "cell_type": "code",
   "execution_count": null,
   "metadata": {},
   "outputs": [],
   "source": [
    "machine_kw"
   ]
  },
  {
   "cell_type": "code",
   "execution_count": null,
   "metadata": {},
   "outputs": [],
   "source": [
    "day1_kw = kwatt(day1)\n",
    "day2_kw = kwatt(day2)\n",
    "day3_kw = kwatt(day3)"
   ]
  },
  {
   "cell_type": "code",
   "execution_count": null,
   "metadata": {},
   "outputs": [],
   "source": [
    "def decompose_phases(df):\n",
    "    df_1 = df[df.L == 1.0]\n",
    "    df_2 = df[df.L == 2.0]\n",
    "    df_3 = df[df.L == 3.0]\n",
    "\n",
    "    return df_1, df_2, df_3"
   ]
  },
  {
   "cell_type": "code",
   "execution_count": null,
   "metadata": {},
   "outputs": [],
   "source": [
    "day1_phase1, day1_phase2, day1_phase3 = decompose_phases(day1)\n",
    "day2_phase1, day2_phase2, day2_phase3 = decompose_phases(day2)\n",
    "day3_phase1, day3_phase2, day3_phase3 = decompose_phases(day3)"
   ]
  },
  {
   "cell_type": "code",
   "execution_count": 36,
   "metadata": {},
   "outputs": [],
   "source": [
    "def load_plotter(df, feat, resample=None):\n",
    "    \n",
    "    if resample != None:\n",
    "        plt.figure(figsize=(16, 6))\n",
    "        plt.plot(df.resample(resample).sum().index, df[feat].resample(resample).mean() / 1000)\n",
    "        plt.title('Kaeltemaschine')\n",
    "        plt.xlabel('Time = M-d-H')\n",
    "        plt.ylabel('Power')\n",
    "        plt.show()\n",
    "\n",
    "    else:\n",
    "        plt.figure(figsize=(16, 6))\n",
    "        plt.plot(df.index, df[feat])\n",
    "        plt.title('Kaeltemaschine')\n",
    "        plt.xlabel('Time = M-d-H')\n",
    "        plt.ylabel('{}'.format(feat))\n",
    "        plt.show()"
   ]
  },
  {
   "cell_type": "code",
   "execution_count": 51,
   "metadata": {},
   "outputs": [
    {
     "data": {
      "text/html": [
       "<div>\n",
       "<style scoped>\n",
       "    .dataframe tbody tr th:only-of-type {\n",
       "        vertical-align: middle;\n",
       "    }\n",
       "\n",
       "    .dataframe tbody tr th {\n",
       "        vertical-align: top;\n",
       "    }\n",
       "\n",
       "    .dataframe thead th {\n",
       "        text-align: right;\n",
       "    }\n",
       "</style>\n",
       "<table border=\"1\" class=\"dataframe\">\n",
       "  <thead>\n",
       "    <tr style=\"text-align: right;\">\n",
       "      <th></th>\n",
       "      <th>V</th>\n",
       "      <th>I</th>\n",
       "      <th>S</th>\n",
       "      <th>P</th>\n",
       "      <th>Q</th>\n",
       "      <th>PF</th>\n",
       "      <th>PHI</th>\n",
       "      <th>kw</th>\n",
       "    </tr>\n",
       "    <tr>\n",
       "      <th>t</th>\n",
       "      <th></th>\n",
       "      <th></th>\n",
       "      <th></th>\n",
       "      <th></th>\n",
       "      <th></th>\n",
       "      <th></th>\n",
       "      <th></th>\n",
       "      <th></th>\n",
       "    </tr>\n",
       "  </thead>\n",
       "  <tbody>\n",
       "    <tr>\n",
       "      <th>2021-08-07 21:55:00</th>\n",
       "      <td>239.599281</td>\n",
       "      <td>30.191753</td>\n",
       "      <td>7233.461711</td>\n",
       "      <td>4692.293859</td>\n",
       "      <td>5488.714703</td>\n",
       "      <td>0.648763</td>\n",
       "      <td>137.899583</td>\n",
       "      <td>4.692294</td>\n",
       "    </tr>\n",
       "    <tr>\n",
       "      <th>2021-08-07 22:00:00</th>\n",
       "      <td>238.932836</td>\n",
       "      <td>25.268698</td>\n",
       "      <td>6037.169112</td>\n",
       "      <td>3983.620349</td>\n",
       "      <td>4499.394974</td>\n",
       "      <td>0.691215</td>\n",
       "      <td>136.814073</td>\n",
       "      <td>3.983620</td>\n",
       "    </tr>\n",
       "    <tr>\n",
       "      <th>2021-08-07 22:05:00</th>\n",
       "      <td>239.020670</td>\n",
       "      <td>5.535246</td>\n",
       "      <td>1322.853949</td>\n",
       "      <td>1145.480842</td>\n",
       "      <td>650.008628</td>\n",
       "      <td>0.866046</td>\n",
       "      <td>134.677281</td>\n",
       "      <td>1.145481</td>\n",
       "    </tr>\n",
       "    <tr>\n",
       "      <th>2021-08-07 22:10:00</th>\n",
       "      <td>238.757096</td>\n",
       "      <td>23.162330</td>\n",
       "      <td>5528.241862</td>\n",
       "      <td>3655.219144</td>\n",
       "      <td>4096.875443</td>\n",
       "      <td>0.706851</td>\n",
       "      <td>136.310999</td>\n",
       "      <td>3.655219</td>\n",
       "    </tr>\n",
       "    <tr>\n",
       "      <th>2021-08-07 22:15:00</th>\n",
       "      <td>238.808210</td>\n",
       "      <td>30.104900</td>\n",
       "      <td>7188.790033</td>\n",
       "      <td>4677.619675</td>\n",
       "      <td>5442.094673</td>\n",
       "      <td>0.650652</td>\n",
       "      <td>137.473466</td>\n",
       "      <td>4.677620</td>\n",
       "    </tr>\n",
       "    <tr>\n",
       "      <th>...</th>\n",
       "      <td>...</td>\n",
       "      <td>...</td>\n",
       "      <td>...</td>\n",
       "      <td>...</td>\n",
       "      <td>...</td>\n",
       "      <td>...</td>\n",
       "      <td>...</td>\n",
       "      <td>...</td>\n",
       "    </tr>\n",
       "    <tr>\n",
       "      <th>2021-08-10 21:35:00</th>\n",
       "      <td>237.325930</td>\n",
       "      <td>31.037908</td>\n",
       "      <td>7365.507698</td>\n",
       "      <td>4931.732438</td>\n",
       "      <td>5454.721738</td>\n",
       "      <td>0.669527</td>\n",
       "      <td>137.775045</td>\n",
       "      <td>4.931732</td>\n",
       "    </tr>\n",
       "    <tr>\n",
       "      <th>2021-08-10 21:40:00</th>\n",
       "      <td>237.652914</td>\n",
       "      <td>26.900796</td>\n",
       "      <td>6390.955511</td>\n",
       "      <td>4305.084897</td>\n",
       "      <td>4690.791058</td>\n",
       "      <td>0.697939</td>\n",
       "      <td>136.733867</td>\n",
       "      <td>4.305085</td>\n",
       "    </tr>\n",
       "    <tr>\n",
       "      <th>2021-08-10 21:45:00</th>\n",
       "      <td>238.075880</td>\n",
       "      <td>17.494907</td>\n",
       "      <td>4164.266865</td>\n",
       "      <td>2916.383064</td>\n",
       "      <td>2904.660516</td>\n",
       "      <td>0.774028</td>\n",
       "      <td>137.024086</td>\n",
       "      <td>2.916383</td>\n",
       "    </tr>\n",
       "    <tr>\n",
       "      <th>2021-08-10 21:50:00</th>\n",
       "      <td>238.319032</td>\n",
       "      <td>31.052683</td>\n",
       "      <td>7399.849231</td>\n",
       "      <td>4929.874564</td>\n",
       "      <td>5502.209615</td>\n",
       "      <td>0.666166</td>\n",
       "      <td>135.956111</td>\n",
       "      <td>4.929875</td>\n",
       "    </tr>\n",
       "    <tr>\n",
       "      <th>2021-08-10 21:55:00</th>\n",
       "      <td>238.291207</td>\n",
       "      <td>10.105455</td>\n",
       "      <td>2406.594497</td>\n",
       "      <td>1822.119594</td>\n",
       "      <td>1508.122238</td>\n",
       "      <td>0.830920</td>\n",
       "      <td>136.162888</td>\n",
       "      <td>1.822120</td>\n",
       "    </tr>\n",
       "  </tbody>\n",
       "</table>\n",
       "<p>865 rows × 8 columns</p>\n",
       "</div>"
      ],
      "text/plain": [
       "                              V          I            S            P  \\\n",
       "t                                                                      \n",
       "2021-08-07 21:55:00  239.599281  30.191753  7233.461711  4692.293859   \n",
       "2021-08-07 22:00:00  238.932836  25.268698  6037.169112  3983.620349   \n",
       "2021-08-07 22:05:00  239.020670   5.535246  1322.853949  1145.480842   \n",
       "2021-08-07 22:10:00  238.757096  23.162330  5528.241862  3655.219144   \n",
       "2021-08-07 22:15:00  238.808210  30.104900  7188.790033  4677.619675   \n",
       "...                         ...        ...          ...          ...   \n",
       "2021-08-10 21:35:00  237.325930  31.037908  7365.507698  4931.732438   \n",
       "2021-08-10 21:40:00  237.652914  26.900796  6390.955511  4305.084897   \n",
       "2021-08-10 21:45:00  238.075880  17.494907  4164.266865  2916.383064   \n",
       "2021-08-10 21:50:00  238.319032  31.052683  7399.849231  4929.874564   \n",
       "2021-08-10 21:55:00  238.291207  10.105455  2406.594497  1822.119594   \n",
       "\n",
       "                               Q        PF         PHI        kw  \n",
       "t                                                                 \n",
       "2021-08-07 21:55:00  5488.714703  0.648763  137.899583  4.692294  \n",
       "2021-08-07 22:00:00  4499.394974  0.691215  136.814073  3.983620  \n",
       "2021-08-07 22:05:00   650.008628  0.866046  134.677281  1.145481  \n",
       "2021-08-07 22:10:00  4096.875443  0.706851  136.310999  3.655219  \n",
       "2021-08-07 22:15:00  5442.094673  0.650652  137.473466  4.677620  \n",
       "...                          ...       ...         ...       ...  \n",
       "2021-08-10 21:35:00  5454.721738  0.669527  137.775045  4.931732  \n",
       "2021-08-10 21:40:00  4690.791058  0.697939  136.733867  4.305085  \n",
       "2021-08-10 21:45:00  2904.660516  0.774028  137.024086  2.916383  \n",
       "2021-08-10 21:50:00  5502.209615  0.666166  135.956111  4.929875  \n",
       "2021-08-10 21:55:00  1508.122238  0.830920  136.162888  1.822120  \n",
       "\n",
       "[865 rows x 8 columns]"
      ]
     },
     "execution_count": 51,
     "metadata": {},
     "output_type": "execute_result"
    }
   ],
   "source": [
    "feats = ['V', 'I', 'S', 'P', 'Q', 'PF', 'PHI']\n",
    "\n",
    "new_df = pd.DataFrame(\n",
    "    data=machine[feats].resample('5T').mean(),\n",
    "    index=machine.resample('5T').sum().index)\n",
    "\n",
    "new_df['kw'] = new_df['P'] / 1000\n",
    "\n",
    "new_df"
   ]
  },
  {
   "cell_type": "markdown",
   "metadata": {},
   "source": [
    "### Original Resolution"
   ]
  },
  {
   "cell_type": "markdown",
   "metadata": {},
   "source": [
    "Tuesday:\n",
    "- Idle / standby mode seems to be occuring from 21:00 until about 7:00\n",
    "- Normal operations from 7:00 until 19:00 and standby mode again until 7:00\n",
    "- Three peaks occuring around mid-day and in the afteroon are worth investigating\n",
    "    - It would be interesting to know what Gassmann was doing in/with the fridge during these time periods?\n",
    "    - Moving products inside, taking products out. . ."
   ]
  },
  {
   "cell_type": "code",
   "execution_count": 54,
   "metadata": {},
   "outputs": [
    {
     "data": {
      "image/png": "[encoded data removed]",
      "text/plain": [
       "<Figure size 1152x432 with 1 Axes>"
      ]
     },
     "metadata": {
      "needs_background": "light"
     },
     "output_type": "display_data"
    }
   ],
   "source": [
    "load_plotter(machine, 'P', '1T')"
   ]
  },
  {
   "cell_type": "code",
   "execution_count": null,
   "metadata": {},
   "outputs": [],
   "source": [
    "load_plotter(machine_kw, 'kW')"
   ]
  },
  {
   "cell_type": "code",
   "execution_count": null,
   "metadata": {},
   "outputs": [],
   "source": [
    "load_plotter(machine_avg_kw, 'kW_avg')"
   ]
  },
  {
   "cell_type": "code",
   "execution_count": null,
   "metadata": {},
   "outputs": [],
   "source": [
    "load_plotter(day3_phase1, 'P')"
   ]
  },
  {
   "cell_type": "markdown",
   "metadata": {},
   "source": [
    "Monday:\n",
    "- Idle / standby mode seems to be occuring from 21:00 until about 8:00\n",
    "- Normal operations from 8:00 until 19:00 and standby mode again until 7:00\n",
    "- The difference with this load profile is there are no peaks occuring. Rather a steady state \"normal\" operation mode throughout the business hours with a slight linear trend until noon and then a slight linear decreasing trend until ~17:00"
   ]
  },
  {
   "cell_type": "code",
   "execution_count": null,
   "metadata": {},
   "outputs": [],
   "source": [
    "load_plotter(day2_phase1, 'P')"
   ]
  },
  {
   "cell_type": "markdown",
   "metadata": {},
   "source": [
    "Sunday:\n",
    " - Idle / standby mode seems to be occuring for the majority of the day with cycling periods\n",
    " - Power consumption increases slightly throughout the day until about ~13:00 and then decreases\n",
    "    - Possibly due to increasing ambient temperatures?"
   ]
  },
  {
   "cell_type": "code",
   "execution_count": null,
   "metadata": {},
   "outputs": [],
   "source": [
    "load_plotter(day1_phase1, 'P')"
   ]
  },
  {
   "cell_type": "markdown",
   "metadata": {},
   "source": [
    "Investigating Monday idle mode:\n",
    " - How long do these peaks last?"
   ]
  },
  {
   "cell_type": "code",
   "execution_count": null,
   "metadata": {},
   "outputs": [],
   "source": [
    "# Idle mode for Monday\n",
    "load_plotter(day2_phase1['2021-08-08 21:59': '2021-08-09 8:30:00'], 'P')"
   ]
  },
  {
   "cell_type": "code",
   "execution_count": null,
   "metadata": {},
   "outputs": [],
   "source": [
    "# \n",
    "load_plotter(day2_phase1['2021-08-09 14:00:00': '2021-08-09 21:30:00'], 'P')"
   ]
  },
  {
   "cell_type": "code",
   "execution_count": null,
   "metadata": {},
   "outputs": [],
   "source": [
    "# What's signal and what's noise here?\n",
    "load_plotter(day2_phase1['2021-08-09 17:27:30': '2021-08-09 17:28:15'], 'P')"
   ]
  },
  {
   "cell_type": "markdown",
   "metadata": {},
   "source": [
    "Investigating the first peak on Tuesday:\n",
    "\n",
    "- What's signal and what's noise here?\n",
    "    - After the initial jump, consumption falls down to a consistent level for ~5 minutes and then falls down to \"normal\" operating hour levels again"
   ]
  },
  {
   "cell_type": "code",
   "execution_count": null,
   "metadata": {},
   "outputs": [],
   "source": [
    "load_plotter(day3_phase1['2021-08-10 11:25': '2021-08-10 11:30'], 'P') ## instant. power\n",
    "\n",
    "## spike mainly comes from the current becasue it draws more current"
   ]
  },
  {
   "cell_type": "code",
   "execution_count": null,
   "metadata": {},
   "outputs": [],
   "source": [
    "day1.describe().T"
   ]
  },
  {
   "cell_type": "markdown",
   "metadata": {},
   "source": [
    "## 15 minute Resolution"
   ]
  },
  {
   "cell_type": "code",
   "execution_count": null,
   "metadata": {},
   "outputs": [],
   "source": [
    "load_plotter(day3_phase1, 'P', '1H')"
   ]
  },
  {
   "cell_type": "code",
   "execution_count": null,
   "metadata": {},
   "outputs": [],
   "source": [
    "load_plotter(day2_phase1, 'P', '1H')"
   ]
  },
  {
   "cell_type": "code",
   "execution_count": null,
   "metadata": {},
   "outputs": [],
   "source": [
    "load_plotter(day1_phase1, 'P', '1H')"
   ]
  },
  {
   "cell_type": "code",
   "execution_count": null,
   "metadata": {},
   "outputs": [],
   "source": [
    "sns.kdeplot(day1_phase1.P)\n",
    "sns.kdeplot(day1_phase2.P)\n",
    "sns.kdeplot(day1_phase3.P)"
   ]
  }
 ],
 "metadata": {
  "interpreter": {
   "hash": "55f578ea790fce859303417df5f33993e9db329ffe5a387d7c54812db965934b"
  },
  "kernelspec": {
   "display_name": "Python 3.8.12 64-bit ('thesis': conda)",
   "name": "python3"
  },
  "language_info": {
   "codemirror_mode": {
    "name": "ipython",
    "version": 3
   },
   "file_extension": ".py",
   "mimetype": "text/x-python",
   "name": "python",
   "nbconvert_exporter": "python",
   "pygments_lexer": "ipython3",
   "version": "3.8.12"
  },
  "orig_nbformat": 4
 },
 "nbformat": 4,
 "nbformat_minor": 2
}
