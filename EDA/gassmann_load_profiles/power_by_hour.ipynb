{
 "cells": [
  {
   "cell_type": "code",
   "execution_count": 2,
   "metadata": {},
   "outputs": [],
   "source": [
    "import pandas as pd\n",
    "import matplotlib.pyplot as plt\n",
    "import seaborn as sns\n",
    "import sys\n",
    "sys.path.append('/Users/wastechs/Documents/git-repos/energy-efficiency')\n",
    "from lib.util.helper import query_table\n",
    "from lib.visualizer import visualize_hourly\n",
    "import seaborn as sns\n",
    "import plotly.express as px"
   ]
  },
  {
   "cell_type": "code",
   "execution_count": 3,
   "metadata": {},
   "outputs": [
    {
     "name": "stdout",
     "output_type": "stream",
     "text": [
      "gesamtmessung\n",
      "vk_2_eg\n",
      "stahl_folder\n",
      "og_3\n",
      "eg\n",
      "entsorgung\n",
      "og\n",
      "uv_eg\n",
      "r707lv_f4032\n",
      "uv_sigma_line_eg\n",
      "r707lv_trockner\n",
      "r707lv_vari_air\n",
      "xl106_druckmaschine\n",
      "xl106_uv_scan\n",
      "hauptluftung\n",
      "vk_1_ug\n",
      "r707lv_f4034\n",
      "og_2\n",
      "not_in_list\n"
     ]
    }
   ],
   "source": [
    "machine_kwh = visualize_hourly()"
   ]
  },
  {
   "cell_type": "code",
   "execution_count": 4,
   "metadata": {},
   "outputs": [],
   "source": [
    "df = pd.DataFrame.from_dict(machine_kwh)"
   ]
  },
  {
   "cell_type": "code",
   "execution_count": 7,
   "metadata": {},
   "outputs": [],
   "source": [
    "df.drop(labels=['gesamtmessung', 'not_in_list'], axis=1, inplace=True)"
   ]
  },
  {
   "cell_type": "code",
   "execution_count": 8,
   "metadata": {},
   "outputs": [],
   "source": [
    "feats = list(df.columns)"
   ]
  },
  {
   "cell_type": "code",
   "execution_count": 19,
   "metadata": {},
   "outputs": [
    {
     "data": {
      "application/vnd.plotly.v1+json": {
       "config": {
        "plotlyServerURL": "https://plot.ly"
       },
       "data": [
        {
         "alignmentgroup": "True",
         "hovertemplate": "variable=vk_2_eg<br>Hour=%{x}<br>Average kW=%{y}<extra></extra>",
         "legendgroup": "vk_2_eg",
         "marker": {
          "color": "#AA0DFE",
          "pattern": {
           "shape": ""
          }
         },
         "name": "vk_2_eg",
         "offsetgroup": "vk_2_eg",
         "orientation": "v",
         "showlegend": true,
         "textposition": "auto",
         "type": "bar",
         "x": [
          0,
          1,
          2,
          3,
          4,
          5,
          6,
          7,
          8,
          9,
          10,
          11,
          12,
          13,
          14,
          15,
          16,
          17,
          18,
          19,
          20,
          21,
          22,
          23
         ],
         "xaxis": "x",
         "y": [
          0.019993600188991427,
          0.01993186727493966,
          0.019904374228518405,
          0.019638083653541284,
          2.0646709241698615,
          4.1436707088457005,
          3.2345244037829164,
          4.367405049260993,
          3.924768236816086,
          2.9396351024794303,
          2.9765560698888405,
          3.7291114006554733,
          2.866237720452932,
          1.5158999026555608,
          0.01933229820761158,
          0.01940498594484981,
          0.01947223516137511,
          0.019453788461405674,
          0.019521602499037102,
          0.019729024816272842,
          0.020006512809675994,
          0.020092438945605483,
          0.020093739232566167,
          0.02005387758206021
         ],
         "yaxis": "y"
        },
        {
         "alignmentgroup": "True",
         "hovertemplate": "variable=stahl_folder<br>Hour=%{x}<br>Average kW=%{y}<extra></extra>",
         "legendgroup": "stahl_folder",
         "marker": {
          "color": "#3283FE",
          "pattern": {
           "shape": ""
          }
         },
         "name": "stahl_folder",
         "offsetgroup": "stahl_folder",
         "orientation": "v",
         "showlegend": true,
         "textposition": "auto",
         "type": "bar",
         "x": [
          0,
          1,
          2,
          3,
          4,
          5,
          6,
          7,
          8,
          9,
          10,
          11,
          12,
          13,
          14,
          15,
          16,
          17,
          18,
          19,
          20,
          21,
          22,
          23
         ],
         "xaxis": "x",
         "y": [
          0.2818387300472509,
          0.28144345765225265,
          0.28155629624018763,
          0.3029251750940058,
          1.1649110424254556,
          1.2443853496770385,
          1.7768232592604736,
          1.8384314392245193,
          2.258588733660577,
          1.8228449704325504,
          2.1351790046411674,
          1.2914147891428756,
          1.1612211091065503,
          1.4289248376049077,
          1.7673659507324793,
          1.6094419615298243,
          1.4766277978738018,
          1.863821068682957,
          1.646027870389714,
          0.9296988104470196,
          0.22522484423468878,
          0.22628157668553142,
          0.2816981269190065,
          0.28179636629377885
         ],
         "yaxis": "y"
        },
        {
         "alignmentgroup": "True",
         "hovertemplate": "variable=og_3<br>Hour=%{x}<br>Average kW=%{y}<extra></extra>",
         "legendgroup": "og_3",
         "marker": {
          "color": "#85660D",
          "pattern": {
           "shape": ""
          }
         },
         "name": "og_3",
         "offsetgroup": "og_3",
         "orientation": "v",
         "showlegend": true,
         "textposition": "auto",
         "type": "bar",
         "x": [
          0,
          1,
          2,
          3,
          4,
          5,
          6,
          7,
          8,
          9,
          10,
          11,
          12,
          13,
          14,
          15,
          16,
          17,
          18,
          19,
          20,
          21,
          22,
          23
         ],
         "xaxis": "x",
         "y": [
          -0.0003509828500055146,
          -0.0002919314180026395,
          -0.0003585490137353378,
          -0.00031431549665723396,
          0.5574249556775427,
          1.001502370343389,
          0.6035835432898845,
          1.023885009685421,
          0.9249169665507754,
          0.7037045906726863,
          0.7544345613445248,
          1.0921880910224444,
          0.6203916772676354,
          0.4874411578231139,
          -0.0003988142038825289,
          -0.0004402291235704633,
          -0.0003653119855561287,
          -0.0004013693448360483,
          -0.0003810501045522947,
          -0.0002644143971160342,
          -0.00029787628995221917,
          -0.00031963613625586405,
          -0.0003125487490964869,
          -0.00033616516689421625
         ],
         "yaxis": "y"
        },
        {
         "alignmentgroup": "True",
         "hovertemplate": "variable=eg<br>Hour=%{x}<br>Average kW=%{y}<extra></extra>",
         "legendgroup": "eg",
         "marker": {
          "color": "#782AB6",
          "pattern": {
           "shape": ""
          }
         },
         "name": "eg",
         "offsetgroup": "eg",
         "orientation": "v",
         "showlegend": true,
         "textposition": "auto",
         "type": "bar",
         "x": [
          0,
          1,
          2,
          3,
          4,
          5,
          6,
          7,
          8,
          9,
          10,
          11,
          12,
          13,
          14,
          15,
          16,
          17,
          18,
          19,
          20,
          21,
          22,
          23
         ],
         "xaxis": "x",
         "y": [
          6.487547618754641,
          6.468541865302041,
          6.4433967005343495,
          7.088103728447356,
          8.875565069460526,
          9.423864749791713,
          10.109126802490787,
          10.15368732218519,
          10.06687181726647,
          9.789549857747678,
          9.688648376065913,
          9.607033501454962,
          8.950059732827178,
          8.720720089381166,
          8.51883982678361,
          8.527510368969198,
          8.338291894172775,
          7.6556269783227515,
          7.704251989279739,
          7.654862149521303,
          6.848086112899941,
          6.418672737453543,
          6.482069090966883,
          6.473314056121097
         ],
         "yaxis": "y"
        },
        {
         "alignmentgroup": "True",
         "hovertemplate": "variable=entsorgung<br>Hour=%{x}<br>Average kW=%{y}<extra></extra>",
         "legendgroup": "entsorgung",
         "marker": {
          "color": "#565656",
          "pattern": {
           "shape": ""
          }
         },
         "name": "entsorgung",
         "offsetgroup": "entsorgung",
         "orientation": "v",
         "showlegend": true,
         "textposition": "auto",
         "type": "bar",
         "x": [
          0,
          1,
          2,
          3,
          4,
          5,
          6,
          7,
          8,
          9,
          10,
          11,
          12,
          13,
          14,
          15,
          16,
          17,
          18,
          19,
          20,
          21,
          22,
          23
         ],
         "xaxis": "x",
         "y": [
          0.868745577293857,
          0.8168209888528244,
          0.8105523977774138,
          0.796249823824586,
          0.8134490063416606,
          1.3797609169557041,
          2.1976168546755805,
          2.428626107327364,
          2.538572369295189,
          2.4307818389633633,
          2.3428867902995845,
          2.5089995232916746,
          2.348418711528968,
          2.286312095194476,
          2.0878926418868713,
          1.7288093518046048,
          1.4729581157002352,
          1.1020737368698033,
          0.8901812823982924,
          0.8623790718090011,
          0.8682508117247713,
          0.8383555105439638,
          0.8645573691911391,
          0.8755498216027788
         ],
         "yaxis": "y"
        },
        {
         "alignmentgroup": "True",
         "hovertemplate": "variable=og<br>Hour=%{x}<br>Average kW=%{y}<extra></extra>",
         "legendgroup": "og",
         "marker": {
          "color": "#1C8356",
          "pattern": {
           "shape": ""
          }
         },
         "name": "og",
         "offsetgroup": "og",
         "orientation": "v",
         "showlegend": true,
         "textposition": "auto",
         "type": "bar",
         "x": [
          0,
          1,
          2,
          3,
          4,
          5,
          6,
          7,
          8,
          9,
          10,
          11,
          12,
          13,
          14,
          15,
          16,
          17,
          18,
          19,
          20,
          21,
          22,
          23
         ],
         "xaxis": "x",
         "y": [
          0.5104889031885302,
          0.5098741284513207,
          0.5033705783741773,
          0.498412382683938,
          0.5059138527570194,
          1.703525999312408,
          3.450642773936913,
          3.492040181615217,
          3.318852871676549,
          3.2354608230240722,
          2.9476917585348867,
          3.0457947995260954,
          2.993500628027064,
          2.96768015601307,
          2.7677344901585657,
          1.840647042173902,
          1.1714546434464428,
          0.6523512295026865,
          0.631586105556743,
          0.5957158329432217,
          0.5167925001497683,
          0.5163636471394563,
          0.5201687862509319,
          0.5357924125508693
         ],
         "yaxis": "y"
        },
        {
         "alignmentgroup": "True",
         "hovertemplate": "variable=uv_eg<br>Hour=%{x}<br>Average kW=%{y}<extra></extra>",
         "legendgroup": "uv_eg",
         "marker": {
          "color": "#16FF32",
          "pattern": {
           "shape": ""
          }
         },
         "name": "uv_eg",
         "offsetgroup": "uv_eg",
         "orientation": "v",
         "showlegend": true,
         "textposition": "auto",
         "type": "bar",
         "x": [
          0,
          1,
          2,
          3,
          4,
          5,
          6,
          7,
          8,
          9,
          10,
          11,
          12,
          13,
          14,
          15,
          16,
          17,
          18,
          19,
          20,
          21,
          22,
          23
         ],
         "xaxis": "x",
         "y": [
          0.9361630776210813,
          0.973012770424041,
          0.9730840565111694,
          1.1679792576756935,
          3.80665862242478,
          5.806397725012766,
          5.552387361722717,
          6.355279653314251,
          6.223061739581719,
          5.212082175533793,
          4.799526175901866,
          5.200618032686078,
          4.724503385053047,
          3.569195834984859,
          2.190648366793152,
          1.6397911752897543,
          1.235591116991192,
          1.038273695935144,
          0.9193893404804695,
          0.9304586534104964,
          0.9097802920478255,
          0.8745090257572729,
          0.965555023244612,
          0.9411300472789099
         ],
         "yaxis": "y"
        },
        {
         "alignmentgroup": "True",
         "hovertemplate": "variable=r707lv_f4032<br>Hour=%{x}<br>Average kW=%{y}<extra></extra>",
         "legendgroup": "r707lv_f4032",
         "marker": {
          "color": "#F7E1A0",
          "pattern": {
           "shape": ""
          }
         },
         "name": "r707lv_f4032",
         "offsetgroup": "r707lv_f4032",
         "orientation": "v",
         "showlegend": true,
         "textposition": "auto",
         "type": "bar",
         "x": [
          0,
          1,
          2,
          3,
          4,
          5,
          6,
          7,
          8,
          9,
          10,
          11,
          12,
          13,
          14,
          15,
          16,
          17,
          18,
          19,
          20,
          21,
          22,
          23
         ],
         "xaxis": "x",
         "y": [
          0.055217107269762214,
          0.05513323285990418,
          0.055161389119906604,
          0.04877374375881905,
          0.024890482393832784,
          0.01897831942303021,
          0.027446901411322784,
          0.025774088173344093,
          0.03409188815306895,
          0.027731358586346913,
          0.031730470937328246,
          0.017175590570970716,
          0.0275105626968035,
          0.032258425458770855,
          0.033075829957071846,
          0.036743939100422764,
          0.0345846580333654,
          0.041437938646574426,
          0.03758470287493881,
          0.04480140240931147,
          0.05510680322289494,
          0.05552564902629993,
          0.05556369214159273,
          0.05534318868296508
         ],
         "yaxis": "y"
        },
        {
         "alignmentgroup": "True",
         "hovertemplate": "variable=uv_sigma_line_eg<br>Hour=%{x}<br>Average kW=%{y}<extra></extra>",
         "legendgroup": "uv_sigma_line_eg",
         "marker": {
          "color": "#E2E2E2",
          "pattern": {
           "shape": ""
          }
         },
         "name": "uv_sigma_line_eg",
         "offsetgroup": "uv_sigma_line_eg",
         "orientation": "v",
         "showlegend": true,
         "textposition": "auto",
         "type": "bar",
         "x": [
          0,
          1,
          2,
          3,
          4,
          5,
          6,
          7,
          8,
          9,
          10,
          11,
          12,
          13,
          14,
          15,
          16,
          17,
          18,
          19,
          20,
          21,
          22,
          23
         ],
         "xaxis": "x",
         "y": [
          1.8657182980586,
          1.8705775976812913,
          1.8700838728696367,
          1.8608554976524665,
          1.8709361570867848,
          1.863558038990078,
          1.8644181746442103,
          1.8684788246202462,
          1.8751085863509074,
          1.8740526472034875,
          1.8679519845543204,
          1.8937483010576048,
          1.897201925336348,
          1.895144138487173,
          1.9003701963401312,
          1.9007843713283026,
          1.8902576667812758,
          1.8789393741280003,
          1.8815873464806645,
          1.865592292193234,
          1.876959871008344,
          1.8585544480247438,
          1.8744236479097376,
          1.8751692598671261
         ],
         "yaxis": "y"
        },
        {
         "alignmentgroup": "True",
         "hovertemplate": "variable=r707lv_trockner<br>Hour=%{x}<br>Average kW=%{y}<extra></extra>",
         "legendgroup": "r707lv_trockner",
         "marker": {
          "color": "#1CBE4F",
          "pattern": {
           "shape": ""
          }
         },
         "name": "r707lv_trockner",
         "offsetgroup": "r707lv_trockner",
         "orientation": "v",
         "showlegend": true,
         "textposition": "auto",
         "type": "bar",
         "x": [
          0,
          1,
          2,
          3,
          4,
          5,
          6,
          7,
          8,
          9,
          10,
          11,
          12,
          13,
          14,
          15,
          16,
          17,
          18,
          19,
          20,
          21,
          22,
          23
         ],
         "xaxis": "x",
         "y": [
          2.4989671851368693,
          2.494517808737404,
          2.4954572360184004,
          2.4885955056700304,
          2.483048978269402,
          2.460664695221557,
          2.460795661024638,
          2.5301063063638694,
          2.614200927741026,
          2.9215429018374923,
          2.9408970509091925,
          3.367873640050176,
          3.2929536316546892,
          3.266917139896233,
          3.4158952976579804,
          3.015103285634016,
          3.212506749852979,
          3.0246076385450915,
          2.9238443937768612,
          2.8596670475640296,
          2.725772514129277,
          2.582517400854292,
          2.5810922045326707,
          2.5087277299310555
         ],
         "yaxis": "y"
        },
        {
         "alignmentgroup": "True",
         "hovertemplate": "variable=r707lv_vari_air<br>Hour=%{x}<br>Average kW=%{y}<extra></extra>",
         "legendgroup": "r707lv_vari_air",
         "marker": {
          "color": "#C4451C",
          "pattern": {
           "shape": ""
          }
         },
         "name": "r707lv_vari_air",
         "offsetgroup": "r707lv_vari_air",
         "orientation": "v",
         "showlegend": true,
         "textposition": "auto",
         "type": "bar",
         "x": [
          0,
          1,
          2,
          3,
          4,
          5,
          6,
          7,
          8,
          9,
          10,
          11,
          12,
          13,
          14,
          15,
          16,
          17,
          18,
          19,
          20,
          21,
          22,
          23
         ],
         "xaxis": "x",
         "y": [
          0.0029515298937151354,
          0.002943165957817974,
          0.0029510975089004554,
          0.0029486194714567165,
          2.035345224474103,
          3.1814417879369157,
          4.509557519304006,
          4.173555535825261,
          2.823422492077289,
          2.655136023824061,
          3.7508268210723217,
          3.753156695387519,
          3.0567095920346445,
          4.127578807136092,
          3.9618607329290825,
          3.7689834179569615,
          2.7873347810761167,
          2.6994687635066494,
          2.83602206179366,
          1.2703247268451123,
          0.008774631140449941,
          0.0058979570251195875,
          0.0029639177800620873,
          0.0029519685120213495
         ],
         "yaxis": "y"
        },
        {
         "alignmentgroup": "True",
         "hovertemplate": "variable=xl106_druckmaschine<br>Hour=%{x}<br>Average kW=%{y}<extra></extra>",
         "legendgroup": "xl106_druckmaschine",
         "marker": {
          "color": "#DEA0FD",
          "pattern": {
           "shape": ""
          }
         },
         "name": "xl106_druckmaschine",
         "offsetgroup": "xl106_druckmaschine",
         "orientation": "v",
         "showlegend": true,
         "textposition": "auto",
         "type": "bar",
         "x": [
          0,
          1,
          2,
          3,
          4,
          5,
          6,
          7,
          8,
          9,
          10,
          11,
          12,
          13,
          14,
          15,
          16,
          17,
          18,
          19,
          20,
          21,
          22,
          23
         ],
         "xaxis": "x",
         "y": [
          -0.000044630125271721725,
          -0.00004980383634919285,
          -0.00004147665600299872,
          0.22870940687953126,
          1.9554968942575677,
          2.979592592139812,
          3.1258147456613985,
          2.9079872746812976,
          3.140200553969414,
          2.9022117057376966,
          2.8092752793359295,
          2.307129470391627,
          1.6980813831561108,
          1.8957318928338507,
          1.8333883807766291,
          1.9209629042966707,
          1.7647683771170335,
          2.141743960889103,
          1.9564950126448655,
          1.1734936578250927,
          -0.00005392920128675264,
          -0.0000499311228635316,
          -0.000047619425819971764,
          -0.000046913190510666334
         ],
         "yaxis": "y"
        },
        {
         "alignmentgroup": "True",
         "hovertemplate": "variable=xl106_uv_scan<br>Hour=%{x}<br>Average kW=%{y}<extra></extra>",
         "legendgroup": "xl106_uv_scan",
         "marker": {
          "color": "#FE00FA",
          "pattern": {
           "shape": ""
          }
         },
         "name": "xl106_uv_scan",
         "offsetgroup": "xl106_uv_scan",
         "orientation": "v",
         "showlegend": true,
         "textposition": "auto",
         "type": "bar",
         "x": [
          0,
          1,
          2,
          3,
          4,
          5,
          6,
          7,
          8,
          9,
          10,
          11,
          12,
          13,
          14,
          15,
          16,
          17,
          18,
          19,
          20,
          21,
          22,
          23
         ],
         "xaxis": "x",
         "y": [
          0.00007125006133585951,
          0.00007053660869770104,
          0.00006523988939220525,
          0.00010974990131924914,
          0.0009770772008601144,
          0.0017634325008299965,
          0.15408221767995287,
          0.29389742454018974,
          0.28280106372562336,
          0.26091119986215067,
          0.5147679169207049,
          0.392287876362026,
          0.32273102559735767,
          0.0011202232925330848,
          0.0010325174055077662,
          0.5145747348112811,
          0.3569637693942405,
          0.44106074240092963,
          0.23598192427880021,
          0.0006179426764211002,
          0.00008406637753031418,
          0.00007400337267086776,
          0.00006839179359776998,
          0.00006300388974671006
         ],
         "yaxis": "y"
        },
        {
         "alignmentgroup": "True",
         "hovertemplate": "variable=hauptluftung<br>Hour=%{x}<br>Average kW=%{y}<extra></extra>",
         "legendgroup": "hauptluftung",
         "marker": {
          "color": "#325A9B",
          "pattern": {
           "shape": ""
          }
         },
         "name": "hauptluftung",
         "offsetgroup": "hauptluftung",
         "orientation": "v",
         "showlegend": true,
         "textposition": "auto",
         "type": "bar",
         "x": [
          0,
          1,
          2,
          3,
          4,
          5,
          6,
          7,
          8,
          9,
          10,
          11,
          12,
          13,
          14,
          15,
          16,
          17,
          18,
          19,
          20,
          21,
          22,
          23
         ],
         "xaxis": "x",
         "y": [
          0.9686067753205687,
          0.9767480893519618,
          0.9870385079306261,
          0.9873448105573481,
          0.9933554692962354,
          2.4619368072403867,
          2.81150673590646,
          2.8613075106935266,
          4.176214312024126,
          4.563080643443172,
          3.8936753359080796,
          2.597499058671168,
          2.697092230164421,
          1.9797609376930965,
          1.4687578078396037,
          0.9436348178359593,
          0.9256877249410067,
          0.8662980314490525,
          0.8608739666136057,
          0.8743137709092068,
          0.8726856404812109,
          0.892719752886371,
          0.9663838492178379,
          0.9716640327487064
         ],
         "yaxis": "y"
        },
        {
         "alignmentgroup": "True",
         "hovertemplate": "variable=vk_1_ug<br>Hour=%{x}<br>Average kW=%{y}<extra></extra>",
         "legendgroup": "vk_1_ug",
         "marker": {
          "color": "#FEAF16",
          "pattern": {
           "shape": ""
          }
         },
         "name": "vk_1_ug",
         "offsetgroup": "vk_1_ug",
         "orientation": "v",
         "showlegend": true,
         "textposition": "auto",
         "type": "bar",
         "x": [
          0,
          1,
          2,
          3,
          4,
          5,
          6,
          7,
          8,
          9,
          10,
          11,
          12,
          13,
          14,
          15,
          16,
          17,
          18,
          19,
          20,
          21,
          22,
          23
         ],
         "xaxis": "x",
         "y": [
          5.324220594397951,
          5.005015638510948,
          5.4359271863179774,
          5.042279058316769,
          5.509680848601944,
          5.231550473588109,
          5.456755844339753,
          5.461452113439317,
          5.877673397092416,
          5.922820264051681,
          5.917334761848322,
          6.094559420918114,
          6.1600207981006045,
          6.262605504600814,
          5.58712780593536,
          5.9119971534467295,
          5.414126690626193,
          5.699866133374907,
          5.359662818063907,
          5.557458040932419,
          5.378743358060347,
          5.317243088755607,
          5.348783292380541,
          5.146316620764443
         ],
         "yaxis": "y"
        },
        {
         "alignmentgroup": "True",
         "hovertemplate": "variable=r707lv_f4034<br>Hour=%{x}<br>Average kW=%{y}<extra></extra>",
         "legendgroup": "r707lv_f4034",
         "marker": {
          "color": "#F8A19F",
          "pattern": {
           "shape": ""
          }
         },
         "name": "r707lv_f4034",
         "offsetgroup": "r707lv_f4034",
         "orientation": "v",
         "showlegend": true,
         "textposition": "auto",
         "type": "bar",
         "x": [
          0,
          1,
          2,
          3,
          4,
          5,
          6,
          7,
          8,
          9,
          10,
          11,
          12,
          13,
          14,
          15,
          16,
          17,
          18,
          19,
          20,
          21,
          22,
          23
         ],
         "xaxis": "x",
         "y": [
          0.0029474386525003347,
          0.0029992469636566464,
          0.002994443744577932,
          0.003141169590683675,
          5.903192779644903,
          8.04156408419079,
          11.995308031434694,
          10.602066222394162,
          7.967657795099891,
          7.634316153347709,
          9.419542134789351,
          9.271014761855396,
          8.119098533258029,
          10.419771024100248,
          8.942582332295949,
          9.622158764558995,
          7.239155876726724,
          6.499649953167676,
          7.701408388077971,
          4.055619656043769,
          0.21950115266908607,
          0.0031187814219578633,
          0.0031151565679549305,
          0.003001491505616928
         ],
         "yaxis": "y"
        },
        {
         "alignmentgroup": "True",
         "hovertemplate": "variable=og_2<br>Hour=%{x}<br>Average kW=%{y}<extra></extra>",
         "legendgroup": "og_2",
         "marker": {
          "color": "#90AD1C",
          "pattern": {
           "shape": ""
          }
         },
         "name": "og_2",
         "offsetgroup": "og_2",
         "orientation": "v",
         "showlegend": true,
         "textposition": "auto",
         "type": "bar",
         "x": [
          0,
          1,
          2,
          3,
          4,
          5,
          6,
          7,
          8,
          9,
          10,
          11,
          12,
          13,
          14,
          15,
          16,
          17,
          18,
          19,
          20,
          21,
          22,
          23
         ],
         "xaxis": "x",
         "y": [
          -0.008692201178123459,
          -0.008652528805920351,
          -0.00895791875520765,
          -0.007716339649578344,
          0.008164336210450297,
          0.03302859715192828,
          0.02592592336116769,
          0.0809580983850355,
          0.022346608464096442,
          0.02979092612721912,
          0.026356074930973018,
          0.03524310223628782,
          -0.015276349231371165,
          -0.03848935974726189,
          -0.0354759087485173,
          -0.03786003687822975,
          -0.031226826077231026,
          -0.028005727813957312,
          -0.031221058446121754,
          -0.020985657923856527,
          -0.009781851679545693,
          -0.009089974395162898,
          -0.009085792289181216,
          -0.008925517961087223
         ],
         "yaxis": "y"
        }
       ],
       "layout": {
        "barmode": "relative",
        "height": 750,
        "legend": {
         "title": {
          "text": "variable"
         },
         "tracegroupgap": 0
        },
        "template": {
         "data": {
          "bar": [
           {
            "error_x": {
             "color": "#2a3f5f"
            },
            "error_y": {
             "color": "#2a3f5f"
            },
            "marker": {
             "line": {
              "color": "#E5ECF6",
              "width": 0.5
             },
             "pattern": {
              "fillmode": "overlay",
              "size": 10,
              "solidity": 0.2
             }
            },
            "type": "bar"
           }
          ],
          "barpolar": [
           {
            "marker": {
             "line": {
              "color": "#E5ECF6",
              "width": 0.5
             },
             "pattern": {
              "fillmode": "overlay",
              "size": 10,
              "solidity": 0.2
             }
            },
            "type": "barpolar"
           }
          ],
          "carpet": [
           {
            "aaxis": {
             "endlinecolor": "#2a3f5f",
             "gridcolor": "white",
             "linecolor": "white",
             "minorgridcolor": "white",
             "startlinecolor": "#2a3f5f"
            },
            "baxis": {
             "endlinecolor": "#2a3f5f",
             "gridcolor": "white",
             "linecolor": "white",
             "minorgridcolor": "white",
             "startlinecolor": "#2a3f5f"
            },
            "type": "carpet"
           }
          ],
          "choropleth": [
           {
            "colorbar": {
             "outlinewidth": 0,
             "ticks": ""
            },
            "type": "choropleth"
           }
          ],
          "contour": [
           {
            "colorbar": {
             "outlinewidth": 0,
             "ticks": ""
            },
            "colorscale": [
             [
              0,
              "#0d0887"
             ],
             [
              0.1111111111111111,
              "#46039f"
             ],
             [
              0.2222222222222222,
              "#7201a8"
             ],
             [
              0.3333333333333333,
              "#9c179e"
             ],
             [
              0.4444444444444444,
              "#bd3786"
             ],
             [
              0.5555555555555556,
              "#d8576b"
             ],
             [
              0.6666666666666666,
              "#ed7953"
             ],
             [
              0.7777777777777778,
              "#fb9f3a"
             ],
             [
              0.8888888888888888,
              "#fdca26"
             ],
             [
              1,
              "#f0f921"
             ]
            ],
            "type": "contour"
           }
          ],
          "contourcarpet": [
           {
            "colorbar": {
             "outlinewidth": 0,
             "ticks": ""
            },
            "type": "contourcarpet"
           }
          ],
          "heatmap": [
           {
            "colorbar": {
             "outlinewidth": 0,
             "ticks": ""
            },
            "colorscale": [
             [
              0,
              "#0d0887"
             ],
             [
              0.1111111111111111,
              "#46039f"
             ],
             [
              0.2222222222222222,
              "#7201a8"
             ],
             [
              0.3333333333333333,
              "#9c179e"
             ],
             [
              0.4444444444444444,
              "#bd3786"
             ],
             [
              0.5555555555555556,
              "#d8576b"
             ],
             [
              0.6666666666666666,
              "#ed7953"
             ],
             [
              0.7777777777777778,
              "#fb9f3a"
             ],
             [
              0.8888888888888888,
              "#fdca26"
             ],
             [
              1,
              "#f0f921"
             ]
            ],
            "type": "heatmap"
           }
          ],
          "heatmapgl": [
           {
            "colorbar": {
             "outlinewidth": 0,
             "ticks": ""
            },
            "colorscale": [
             [
              0,
              "#0d0887"
             ],
             [
              0.1111111111111111,
              "#46039f"
             ],
             [
              0.2222222222222222,
              "#7201a8"
             ],
             [
              0.3333333333333333,
              "#9c179e"
             ],
             [
              0.4444444444444444,
              "#bd3786"
             ],
             [
              0.5555555555555556,
              "#d8576b"
             ],
             [
              0.6666666666666666,
              "#ed7953"
             ],
             [
              0.7777777777777778,
              "#fb9f3a"
             ],
             [
              0.8888888888888888,
              "#fdca26"
             ],
             [
              1,
              "#f0f921"
             ]
            ],
            "type": "heatmapgl"
           }
          ],
          "histogram": [
           {
            "marker": {
             "pattern": {
              "fillmode": "overlay",
              "size": 10,
              "solidity": 0.2
             }
            },
            "type": "histogram"
           }
          ],
          "histogram2d": [
           {
            "colorbar": {
             "outlinewidth": 0,
             "ticks": ""
            },
            "colorscale": [
             [
              0,
              "#0d0887"
             ],
             [
              0.1111111111111111,
              "#46039f"
             ],
             [
              0.2222222222222222,
              "#7201a8"
             ],
             [
              0.3333333333333333,
              "#9c179e"
             ],
             [
              0.4444444444444444,
              "#bd3786"
             ],
             [
              0.5555555555555556,
              "#d8576b"
             ],
             [
              0.6666666666666666,
              "#ed7953"
             ],
             [
              0.7777777777777778,
              "#fb9f3a"
             ],
             [
              0.8888888888888888,
              "#fdca26"
             ],
             [
              1,
              "#f0f921"
             ]
            ],
            "type": "histogram2d"
           }
          ],
          "histogram2dcontour": [
           {
            "colorbar": {
             "outlinewidth": 0,
             "ticks": ""
            },
            "colorscale": [
             [
              0,
              "#0d0887"
             ],
             [
              0.1111111111111111,
              "#46039f"
             ],
             [
              0.2222222222222222,
              "#7201a8"
             ],
             [
              0.3333333333333333,
              "#9c179e"
             ],
             [
              0.4444444444444444,
              "#bd3786"
             ],
             [
              0.5555555555555556,
              "#d8576b"
             ],
             [
              0.6666666666666666,
              "#ed7953"
             ],
             [
              0.7777777777777778,
              "#fb9f3a"
             ],
             [
              0.8888888888888888,
              "#fdca26"
             ],
             [
              1,
              "#f0f921"
             ]
            ],
            "type": "histogram2dcontour"
           }
          ],
          "mesh3d": [
           {
            "colorbar": {
             "outlinewidth": 0,
             "ticks": ""
            },
            "type": "mesh3d"
           }
          ],
          "parcoords": [
           {
            "line": {
             "colorbar": {
              "outlinewidth": 0,
              "ticks": ""
             }
            },
            "type": "parcoords"
           }
          ],
          "pie": [
           {
            "automargin": true,
            "type": "pie"
           }
          ],
          "scatter": [
           {
            "marker": {
             "colorbar": {
              "outlinewidth": 0,
              "ticks": ""
             }
            },
            "type": "scatter"
           }
          ],
          "scatter3d": [
           {
            "line": {
             "colorbar": {
              "outlinewidth": 0,
              "ticks": ""
             }
            },
            "marker": {
             "colorbar": {
              "outlinewidth": 0,
              "ticks": ""
             }
            },
            "type": "scatter3d"
           }
          ],
          "scattercarpet": [
           {
            "marker": {
             "colorbar": {
              "outlinewidth": 0,
              "ticks": ""
             }
            },
            "type": "scattercarpet"
           }
          ],
          "scattergeo": [
           {
            "marker": {
             "colorbar": {
              "outlinewidth": 0,
              "ticks": ""
             }
            },
            "type": "scattergeo"
           }
          ],
          "scattergl": [
           {
            "marker": {
             "colorbar": {
              "outlinewidth": 0,
              "ticks": ""
             }
            },
            "type": "scattergl"
           }
          ],
          "scattermapbox": [
           {
            "marker": {
             "colorbar": {
              "outlinewidth": 0,
              "ticks": ""
             }
            },
            "type": "scattermapbox"
           }
          ],
          "scatterpolar": [
           {
            "marker": {
             "colorbar": {
              "outlinewidth": 0,
              "ticks": ""
             }
            },
            "type": "scatterpolar"
           }
          ],
          "scatterpolargl": [
           {
            "marker": {
             "colorbar": {
              "outlinewidth": 0,
              "ticks": ""
             }
            },
            "type": "scatterpolargl"
           }
          ],
          "scatterternary": [
           {
            "marker": {
             "colorbar": {
              "outlinewidth": 0,
              "ticks": ""
             }
            },
            "type": "scatterternary"
           }
          ],
          "surface": [
           {
            "colorbar": {
             "outlinewidth": 0,
             "ticks": ""
            },
            "colorscale": [
             [
              0,
              "#0d0887"
             ],
             [
              0.1111111111111111,
              "#46039f"
             ],
             [
              0.2222222222222222,
              "#7201a8"
             ],
             [
              0.3333333333333333,
              "#9c179e"
             ],
             [
              0.4444444444444444,
              "#bd3786"
             ],
             [
              0.5555555555555556,
              "#d8576b"
             ],
             [
              0.6666666666666666,
              "#ed7953"
             ],
             [
              0.7777777777777778,
              "#fb9f3a"
             ],
             [
              0.8888888888888888,
              "#fdca26"
             ],
             [
              1,
              "#f0f921"
             ]
            ],
            "type": "surface"
           }
          ],
          "table": [
           {
            "cells": {
             "fill": {
              "color": "#EBF0F8"
             },
             "line": {
              "color": "white"
             }
            },
            "header": {
             "fill": {
              "color": "#C8D4E3"
             },
             "line": {
              "color": "white"
             }
            },
            "type": "table"
           }
          ]
         },
         "layout": {
          "annotationdefaults": {
           "arrowcolor": "#2a3f5f",
           "arrowhead": 0,
           "arrowwidth": 1
          },
          "autotypenumbers": "strict",
          "coloraxis": {
           "colorbar": {
            "outlinewidth": 0,
            "ticks": ""
           }
          },
          "colorscale": {
           "diverging": [
            [
             0,
             "#8e0152"
            ],
            [
             0.1,
             "#c51b7d"
            ],
            [
             0.2,
             "#de77ae"
            ],
            [
             0.3,
             "#f1b6da"
            ],
            [
             0.4,
             "#fde0ef"
            ],
            [
             0.5,
             "#f7f7f7"
            ],
            [
             0.6,
             "#e6f5d0"
            ],
            [
             0.7,
             "#b8e186"
            ],
            [
             0.8,
             "#7fbc41"
            ],
            [
             0.9,
             "#4d9221"
            ],
            [
             1,
             "#276419"
            ]
           ],
           "sequential": [
            [
             0,
             "#0d0887"
            ],
            [
             0.1111111111111111,
             "#46039f"
            ],
            [
             0.2222222222222222,
             "#7201a8"
            ],
            [
             0.3333333333333333,
             "#9c179e"
            ],
            [
             0.4444444444444444,
             "#bd3786"
            ],
            [
             0.5555555555555556,
             "#d8576b"
            ],
            [
             0.6666666666666666,
             "#ed7953"
            ],
            [
             0.7777777777777778,
             "#fb9f3a"
            ],
            [
             0.8888888888888888,
             "#fdca26"
            ],
            [
             1,
             "#f0f921"
            ]
           ],
           "sequentialminus": [
            [
             0,
             "#0d0887"
            ],
            [
             0.1111111111111111,
             "#46039f"
            ],
            [
             0.2222222222222222,
             "#7201a8"
            ],
            [
             0.3333333333333333,
             "#9c179e"
            ],
            [
             0.4444444444444444,
             "#bd3786"
            ],
            [
             0.5555555555555556,
             "#d8576b"
            ],
            [
             0.6666666666666666,
             "#ed7953"
            ],
            [
             0.7777777777777778,
             "#fb9f3a"
            ],
            [
             0.8888888888888888,
             "#fdca26"
            ],
            [
             1,
             "#f0f921"
            ]
           ]
          },
          "colorway": [
           "#636efa",
           "#EF553B",
           "#00cc96",
           "#ab63fa",
           "#FFA15A",
           "#19d3f3",
           "#FF6692",
           "#B6E880",
           "#FF97FF",
           "#FECB52"
          ],
          "font": {
           "color": "#2a3f5f"
          },
          "geo": {
           "bgcolor": "white",
           "lakecolor": "white",
           "landcolor": "#E5ECF6",
           "showlakes": true,
           "showland": true,
           "subunitcolor": "white"
          },
          "hoverlabel": {
           "align": "left"
          },
          "hovermode": "closest",
          "mapbox": {
           "style": "light"
          },
          "paper_bgcolor": "white",
          "plot_bgcolor": "#E5ECF6",
          "polar": {
           "angularaxis": {
            "gridcolor": "white",
            "linecolor": "white",
            "ticks": ""
           },
           "bgcolor": "#E5ECF6",
           "radialaxis": {
            "gridcolor": "white",
            "linecolor": "white",
            "ticks": ""
           }
          },
          "scene": {
           "xaxis": {
            "backgroundcolor": "#E5ECF6",
            "gridcolor": "white",
            "gridwidth": 2,
            "linecolor": "white",
            "showbackground": true,
            "ticks": "",
            "zerolinecolor": "white"
           },
           "yaxis": {
            "backgroundcolor": "#E5ECF6",
            "gridcolor": "white",
            "gridwidth": 2,
            "linecolor": "white",
            "showbackground": true,
            "ticks": "",
            "zerolinecolor": "white"
           },
           "zaxis": {
            "backgroundcolor": "#E5ECF6",
            "gridcolor": "white",
            "gridwidth": 2,
            "linecolor": "white",
            "showbackground": true,
            "ticks": "",
            "zerolinecolor": "white"
           }
          },
          "shapedefaults": {
           "line": {
            "color": "#2a3f5f"
           }
          },
          "ternary": {
           "aaxis": {
            "gridcolor": "white",
            "linecolor": "white",
            "ticks": ""
           },
           "baxis": {
            "gridcolor": "white",
            "linecolor": "white",
            "ticks": ""
           },
           "bgcolor": "#E5ECF6",
           "caxis": {
            "gridcolor": "white",
            "linecolor": "white",
            "ticks": ""
           }
          },
          "title": {
           "x": 0.05
          },
          "xaxis": {
           "automargin": true,
           "gridcolor": "white",
           "linecolor": "white",
           "ticks": "",
           "title": {
            "standoff": 15
           },
           "zerolinecolor": "white",
           "zerolinewidth": 2
          },
          "yaxis": {
           "automargin": true,
           "gridcolor": "white",
           "linecolor": "white",
           "ticks": "",
           "title": {
            "standoff": 15
           },
           "zerolinecolor": "white",
           "zerolinewidth": 2
          }
         }
        },
        "title": {
         "text": "Hourly Energy Consumption",
         "x": 0.5
        },
        "width": 1000,
        "xaxis": {
         "anchor": "y",
         "domain": [
          0,
          1
         ],
         "title": {
          "text": "Hour"
         }
        },
        "yaxis": {
         "anchor": "x",
         "domain": [
          0,
          1
         ],
         "title": {
          "text": "Average kW"
         }
        }
       }
      }
     },
     "metadata": {},
     "output_type": "display_data"
    }
   ],
   "source": [
    "fig = px.bar(\n",
    "    df, x=df.index, y=feats, \n",
    "    title=\"Average Energy Consumption Load\",\n",
    "    labels = {\n",
    "        'index': 'Hour',\n",
    "        'value': 'Average kW'\n",
    "    }, \n",
    "    color_discrete_sequence=px.colors.qualitative.Alphabet,\n",
    "    height=750,\n",
    "    width=1000)\n",
    "fig.update_layout(title_text='Hourly Energy Consumption', title_x=0.5)\n",
    "fig.show()"
   ]
  },
  {
   "cell_type": "code",
   "execution_count": null,
   "metadata": {},
   "outputs": [],
   "source": []
  }
 ],
 "metadata": {
  "interpreter": {
   "hash": "55f578ea790fce859303417df5f33993e9db329ffe5a387d7c54812db965934b"
  },
  "kernelspec": {
   "display_name": "Python 3.8.12 64-bit ('thesis': conda)",
   "language": "python",
   "name": "python3"
  },
  "language_info": {
   "codemirror_mode": {
    "name": "ipython",
    "version": 3
   },
   "file_extension": ".py",
   "mimetype": "text/x-python",
   "name": "python",
   "nbconvert_exporter": "python",
   "pygments_lexer": "ipython3",
   "version": "3.8.12"
  },
  "orig_nbformat": 4
 },
 "nbformat": 4,
 "nbformat_minor": 2
}
