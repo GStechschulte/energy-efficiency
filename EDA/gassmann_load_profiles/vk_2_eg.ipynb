{
 "cells": [
  {
   "cell_type": "code",
   "execution_count": 16,
   "metadata": {},
   "outputs": [],
   "source": [
    "import pandas as pd\n",
    "import matplotlib.pyplot as plt\n",
    "import seaborn as sns\n",
    "import numpy as np\n",
    "import sys\n",
    "sys.path.append('/Users/wastechs/Documents/git-repos/energy-efficiency')\n",
    "from lib.util.helper import weekday_time_series\n",
    "import seaborn as sns\n",
    "import plotly.express as px\n",
    "from statsmodels.graphics.tsaplots import plot_acf"
   ]
  },
  {
   "cell_type": "code",
   "execution_count": 29,
   "metadata": {},
   "outputs": [],
   "source": [
    "df = weekday_time_series(sensor_id='vk_2_eg_30T')"
   ]
  },
  {
   "cell_type": "code",
   "execution_count": 30,
   "metadata": {},
   "outputs": [
    {
     "data": {
      "application/vnd.plotly.v1+json": {
       "config": {
        "plotlyServerURL": "https://plot.ly"
       },
       "data": [
        {
         "hovertemplate": "Time=%{x}<br>kW=%{y}<extra></extra>",
         "legendgroup": "",
         "line": {
          "color": "#636efa",
          "dash": "solid"
         },
         "marker": {
          "symbol": "circle"
         },
         "mode": "lines",
         "name": "",
         "orientation": "v",
         "showlegend": false,
         "type": "scatter",
         "x": [
          "2021-10-11T00:00:00",
          "2021-10-11T00:30:00",
          "2021-10-11T01:00:00",
          "2021-10-11T01:30:00",
          "2021-10-11T02:00:00",
          "2021-10-11T02:30:00",
          "2021-10-11T03:00:00",
          "2021-10-11T03:30:00",
          "2021-10-11T04:00:00",
          "2021-10-11T04:30:00",
          "2021-10-11T05:00:00",
          "2021-10-11T05:30:00",
          "2021-10-11T06:00:00",
          "2021-10-11T06:30:00",
          "2021-10-11T07:00:00",
          "2021-10-11T07:30:00",
          "2021-10-11T08:00:00",
          "2021-10-11T08:30:00",
          "2021-10-11T09:00:00",
          "2021-10-11T09:30:00",
          "2021-10-11T10:00:00",
          "2021-10-11T10:30:00",
          "2021-10-11T11:00:00",
          "2021-10-11T11:30:00",
          "2021-10-11T12:00:00",
          "2021-10-11T12:30:00",
          "2021-10-11T13:00:00",
          "2021-10-11T13:30:00",
          "2021-10-11T14:00:00",
          "2021-10-11T14:30:00",
          "2021-10-11T15:00:00",
          "2021-10-11T15:30:00",
          "2021-10-11T16:00:00",
          "2021-10-11T16:30:00",
          "2021-10-11T17:00:00",
          "2021-10-11T17:30:00",
          "2021-10-11T18:00:00",
          "2021-10-11T18:30:00",
          "2021-10-11T19:00:00",
          "2021-10-11T19:30:00",
          "2021-10-11T20:00:00",
          "2021-10-11T20:30:00",
          "2021-10-11T21:00:00",
          "2021-10-11T21:30:00",
          "2021-10-11T22:00:00",
          "2021-10-11T22:30:00",
          "2021-10-11T23:00:00",
          "2021-10-11T23:30:00",
          "2021-10-12T00:00:00",
          "2021-10-12T00:30:00",
          "2021-10-12T01:00:00",
          "2021-10-12T01:30:00",
          "2021-10-12T02:00:00",
          "2021-10-12T02:30:00",
          "2021-10-12T03:00:00",
          "2021-10-12T03:30:00",
          "2021-10-12T04:00:00",
          "2021-10-12T04:30:00",
          "2021-10-12T05:00:00",
          "2021-10-12T05:30:00",
          "2021-10-12T06:00:00",
          "2021-10-12T06:30:00",
          "2021-10-12T07:00:00",
          "2021-10-12T07:30:00",
          "2021-10-12T08:00:00",
          "2021-10-12T08:30:00",
          "2021-10-12T09:00:00",
          "2021-10-12T09:30:00",
          "2021-10-12T10:00:00",
          "2021-10-12T10:30:00",
          "2021-10-12T11:00:00",
          "2021-10-12T11:30:00",
          "2021-10-12T12:00:00",
          "2021-10-12T12:30:00",
          "2021-10-12T13:00:00",
          "2021-10-12T13:30:00",
          "2021-10-12T14:00:00",
          "2021-10-12T14:30:00",
          "2021-10-12T15:00:00",
          "2021-10-12T15:30:00",
          "2021-10-12T16:00:00",
          "2021-10-12T16:30:00",
          "2021-10-12T17:00:00",
          "2021-10-12T17:30:00",
          "2021-10-12T18:00:00",
          "2021-10-12T18:30:00",
          "2021-10-12T19:00:00",
          "2021-10-12T19:30:00",
          "2021-10-12T20:00:00",
          "2021-10-12T20:30:00",
          "2021-10-12T21:00:00",
          "2021-10-12T21:30:00",
          "2021-10-12T22:00:00",
          "2021-10-12T22:30:00",
          "2021-10-12T23:00:00",
          "2021-10-12T23:30:00",
          "2021-10-13T00:00:00",
          "2021-10-13T00:30:00",
          "2021-10-13T01:00:00",
          "2021-10-13T01:30:00",
          "2021-10-13T02:00:00",
          "2021-10-13T02:30:00",
          "2021-10-13T03:00:00",
          "2021-10-13T03:30:00",
          "2021-10-13T04:00:00",
          "2021-10-13T04:30:00",
          "2021-10-13T05:00:00",
          "2021-10-13T05:30:00",
          "2021-10-13T06:00:00",
          "2021-10-13T06:30:00",
          "2021-10-13T07:00:00",
          "2021-10-13T07:30:00",
          "2021-10-13T08:00:00",
          "2021-10-13T08:30:00",
          "2021-10-13T09:00:00",
          "2021-10-13T09:30:00",
          "2021-10-13T10:00:00",
          "2021-10-13T10:30:00",
          "2021-10-13T11:00:00",
          "2021-10-13T11:30:00",
          "2021-10-13T12:00:00",
          "2021-10-13T12:30:00",
          "2021-10-13T13:00:00",
          "2021-10-13T13:30:00",
          "2021-10-13T14:00:00",
          "2021-10-13T14:30:00",
          "2021-10-13T15:00:00",
          "2021-10-13T15:30:00",
          "2021-10-13T16:00:00",
          "2021-10-13T16:30:00",
          "2021-10-13T17:00:00",
          "2021-10-13T17:30:00",
          "2021-10-13T18:00:00",
          "2021-10-13T18:30:00",
          "2021-10-13T19:00:00",
          "2021-10-13T19:30:00",
          "2021-10-13T20:00:00",
          "2021-10-13T20:30:00",
          "2021-10-13T21:00:00",
          "2021-10-13T21:30:00",
          "2021-10-13T22:00:00",
          "2021-10-13T22:30:00",
          "2021-10-13T23:00:00",
          "2021-10-13T23:30:00",
          "2021-10-14T00:00:00",
          "2021-10-14T00:30:00",
          "2021-10-14T01:00:00",
          "2021-10-14T01:30:00",
          "2021-10-14T02:00:00",
          "2021-10-14T02:30:00",
          "2021-10-14T03:00:00",
          "2021-10-14T03:30:00",
          "2021-10-14T04:00:00",
          "2021-10-14T04:30:00",
          "2021-10-14T05:00:00",
          "2021-10-14T05:30:00",
          "2021-10-14T06:00:00",
          "2021-10-14T06:30:00",
          "2021-10-14T07:00:00",
          "2021-10-14T07:30:00",
          "2021-10-14T08:00:00",
          "2021-10-14T08:30:00",
          "2021-10-14T09:00:00",
          "2021-10-14T09:30:00",
          "2021-10-14T10:00:00",
          "2021-10-14T10:30:00",
          "2021-10-14T11:00:00",
          "2021-10-14T11:30:00",
          "2021-10-14T12:00:00",
          "2021-10-14T12:30:00",
          "2021-10-14T13:00:00",
          "2021-10-14T13:30:00",
          "2021-10-14T14:00:00",
          "2021-10-14T14:30:00",
          "2021-10-14T15:00:00",
          "2021-10-14T15:30:00",
          "2021-10-14T16:00:00",
          "2021-10-14T16:30:00",
          "2021-10-14T17:00:00",
          "2021-10-14T17:30:00",
          "2021-10-14T18:00:00",
          "2021-10-14T18:30:00",
          "2021-10-14T19:00:00",
          "2021-10-14T19:30:00",
          "2021-10-14T20:00:00",
          "2021-10-14T20:30:00",
          "2021-10-14T21:00:00",
          "2021-10-14T21:30:00",
          "2021-10-14T22:00:00",
          "2021-10-14T22:30:00",
          "2021-10-14T23:00:00",
          "2021-10-14T23:30:00",
          "2021-10-15T00:00:00",
          "2021-10-15T00:30:00",
          "2021-10-15T01:00:00",
          "2021-10-15T01:30:00",
          "2021-10-15T02:00:00",
          "2021-10-15T02:30:00",
          "2021-10-15T03:00:00",
          "2021-10-15T03:30:00",
          "2021-10-15T04:00:00",
          "2021-10-15T04:30:00",
          "2021-10-15T05:00:00",
          "2021-10-15T05:30:00",
          "2021-10-15T06:00:00",
          "2021-10-15T06:30:00",
          "2021-10-15T07:00:00",
          "2021-10-15T07:30:00",
          "2021-10-15T08:00:00",
          "2021-10-15T08:30:00",
          "2021-10-15T09:00:00",
          "2021-10-15T09:30:00",
          "2021-10-15T10:00:00",
          "2021-10-15T10:30:00",
          "2021-10-15T11:00:00",
          "2021-10-15T11:30:00",
          "2021-10-15T12:00:00",
          "2021-10-15T12:30:00",
          "2021-10-15T13:00:00",
          "2021-10-15T13:30:00",
          "2021-10-15T14:00:00",
          "2021-10-15T14:30:00",
          "2021-10-15T15:00:00",
          "2021-10-15T15:30:00",
          "2021-10-15T16:00:00",
          "2021-10-15T16:30:00",
          "2021-10-15T17:00:00",
          "2021-10-15T17:30:00",
          "2021-10-15T18:00:00",
          "2021-10-15T18:30:00",
          "2021-10-15T19:00:00",
          "2021-10-15T19:30:00",
          "2021-10-15T20:00:00",
          "2021-10-15T20:30:00",
          "2021-10-15T21:00:00",
          "2021-10-15T21:30:00",
          "2021-10-15T22:00:00",
          "2021-10-15T22:30:00",
          "2021-10-15T23:00:00",
          "2021-10-15T23:30:00"
         ],
         "xaxis": "x",
         "y": [
          0.02012733073243242,
          0.020002693229310423,
          0.020051003141882153,
          0.020060632557996005,
          0.019887890539869196,
          0.019785776756137907,
          0.019737001811006613,
          0.01944254456104522,
          0.01878814943115863,
          5.646308321876671,
          6.006586013484943,
          4.95540464153401,
          4.693338291412516,
          1.3886759944945735,
          7.987768926531951,
          5.906997905537786,
          4.944140123328939,
          4.959260825206479,
          4.9632497816039,
          2.422943147152076,
          3.3618988607547378,
          8.499160228273954,
          9.156960578326078,
          8.146844098522438,
          8.689054925109865,
          9.27806947296097,
          7.9475776646687555,
          0.019992366923624612,
          0.01974300676292637,
          0.01963297401129869,
          0.019778783365840515,
          0.019417460126591804,
          0.019309293125329172,
          0.019404392877043184,
          0.019160003637827362,
          0.019465110615701373,
          0.01943487288542181,
          0.019534842295071596,
          0.01939095616968562,
          0.019753788799109138,
          0.020063657951766994,
          0.020407497670459185,
          0.020451434294648522,
          0.02068814652490818,
          0.020456069539908455,
          0.020413486697311217,
          0.020262221938459727,
          0.020401166117172773,
          0.020291176093619114,
          0.020236301338905638,
          0.02005225724940419,
          0.02023817751772461,
          0.020141884776721512,
          0.020087091926272574,
          0.019887116961508113,
          0.019530400266184265,
          0.27829036773732363,
          3.630310761828429,
          2.448856816446907,
          2.1733021209763272,
          0.019577208271421943,
          0.7937431285130969,
          5.127264555692031,
          3.6981607593999186,
          1.4821439456921044,
          2.2568245358558845,
          5.14355015135177,
          3.8738214958163524,
          2.20928893530737,
          4.660555226485527,
          5.88246748898471,
          7.932975948249185,
          7.915682576795031,
          5.092051638031893,
          3.513238969617571,
          1.009696139318048,
          0.018293569661790885,
          0.018917328410884206,
          0.018818819411554253,
          0.018704965745685052,
          0.018912552687371957,
          0.018802062426493377,
          0.01849694247856109,
          0.018570084583121375,
          0.018665741583468353,
          0.018616530358608604,
          0.018808821602130498,
          0.01933129663679639,
          0.01976481402368047,
          0.01973629833441806,
          0.01983729841019364,
          0.01996220558650594,
          0.01969185740379522,
          0.02013288211533167,
          0.019666766918925258,
          0.019800416330004796,
          0.019789611614121464,
          0.019748950302580764,
          0.019598270453101533,
          0.019743735784812495,
          0.019721367152673884,
          0.019736529565648506,
          0.019356362621710994,
          0.018932777793255192,
          0.018297877530176216,
          5.814554580344713,
          6.364804939440698,
          7.95834987046585,
          7.940820473346175,
          3.581578376369676,
          7.016593166191011,
          7.960525633725006,
          3.2768645955852653,
          4.399948904815486,
          7.682629944750174,
          3.3716154284804585,
          1.7210022871517845,
          3.598784329907229,
          2.749764801928542,
          3.5900391183836136,
          1.2859237780990684,
          0.01842513538523467,
          3.5399056648477325,
          2.7017037371323283,
          0.01855898385573894,
          0.01835440646140024,
          0.018078731017508325,
          0.018538126261687934,
          0.018844047380233483,
          0.018454021235759732,
          0.01846449300396104,
          0.018354322126250176,
          0.018349859552996638,
          0.018409825749836538,
          0.018720672594999405,
          0.018941097263496878,
          0.01937721944689383,
          0.019842272412084586,
          0.019735033094951587,
          0.019762714369737745,
          0.01978734323968765,
          0.0197550001083683,
          0.01980526456426994,
          0.019831071939440118,
          0.019636545644503404,
          0.019546826329230268,
          0.019498872693784256,
          0.019728984599429372,
          0.019563016112556272,
          0.019502600402445922,
          0.01934102880314561,
          0.01898451298600838,
          0.20329458445177215,
          7.582872682584936,
          6.303805687346042,
          7.113106346542967,
          9.315057339154478,
          3.522737055151022,
          4.835732105755936,
          7.937972362841283,
          9.292184245298646,
          7.6268639843257775,
          7.053100885704004,
          4.150653571519443,
          2.403389631971684,
          9.242220164955839,
          9.284337276477453,
          7.213693237004396,
          7.021496298056512,
          7.845446398775131,
          9.263860750551878,
          2.3079915635471964,
          0.01858111882429502,
          0.01859298333101164,
          0.01898476048728993,
          0.01916327958087747,
          0.019051238619301858,
          0.019029266635708083,
          0.018924484970900424,
          0.019126399260086798,
          0.018991617694403405,
          0.019015804770086915,
          0.019163441498334058,
          0.019342428206557502,
          0.019542949769355392,
          0.019722175589296974,
          0.019955065970128055,
          0.02010384515739743,
          0.019869075723796124,
          0.020019860552587292,
          0.01989686835059121,
          0.01984513720573945,
          0.019729392532046586,
          0.019640953322809674,
          0.019856304927320923,
          0.019959930869585994,
          0.019889214864008124,
          0.01977336954839487,
          0.019659804915800584,
          0.019879805273017675,
          0.7793985107015078,
          8.547120013852997,
          5.999573656402861,
          6.296257489643859,
          8.383675161346824,
          4.675605668487801,
          8.861446954763379,
          9.259317949926448,
          9.243621928601485,
          9.257680659058629,
          5.582918377663186,
          2.2920411268620122,
          3.7164935756726916,
          7.903937321282306,
          4.370280131091226,
          2.601521323624135,
          2.6486193508034215,
          0.019717481304361205,
          0.01958195017644862,
          0.019480545852677274,
          0.0193280172277692,
          0.01918394107540889,
          0.019239289961442894,
          0.019433053881281203,
          0.019482897995510465,
          0.019517135642538208,
          0.019608818201521185,
          0.019815965394495646,
          0.01986336289760745,
          0.019989856103526295,
          0.019863699464461863,
          0.01989328988266592,
          0.019952190294869613,
          0.02028709839515971,
          0.020225336521942534,
          0.020366890168575298,
          0.02040454911066735,
          0.020227566908168182,
          0.02003871905137853,
          0.02013664854113586
         ],
         "yaxis": "y"
        }
       ],
       "layout": {
        "legend": {
         "tracegroupgap": 0
        },
        "template": {
         "data": {
          "bar": [
           {
            "error_x": {
             "color": "#2a3f5f"
            },
            "error_y": {
             "color": "#2a3f5f"
            },
            "marker": {
             "line": {
              "color": "#E5ECF6",
              "width": 0.5
             },
             "pattern": {
              "fillmode": "overlay",
              "size": 10,
              "solidity": 0.2
             }
            },
            "type": "bar"
           }
          ],
          "barpolar": [
           {
            "marker": {
             "line": {
              "color": "#E5ECF6",
              "width": 0.5
             },
             "pattern": {
              "fillmode": "overlay",
              "size": 10,
              "solidity": 0.2
             }
            },
            "type": "barpolar"
           }
          ],
          "carpet": [
           {
            "aaxis": {
             "endlinecolor": "#2a3f5f",
             "gridcolor": "white",
             "linecolor": "white",
             "minorgridcolor": "white",
             "startlinecolor": "#2a3f5f"
            },
            "baxis": {
             "endlinecolor": "#2a3f5f",
             "gridcolor": "white",
             "linecolor": "white",
             "minorgridcolor": "white",
             "startlinecolor": "#2a3f5f"
            },
            "type": "carpet"
           }
          ],
          "choropleth": [
           {
            "colorbar": {
             "outlinewidth": 0,
             "ticks": ""
            },
            "type": "choropleth"
           }
          ],
          "contour": [
           {
            "colorbar": {
             "outlinewidth": 0,
             "ticks": ""
            },
            "colorscale": [
             [
              0,
              "#0d0887"
             ],
             [
              0.1111111111111111,
              "#46039f"
             ],
             [
              0.2222222222222222,
              "#7201a8"
             ],
             [
              0.3333333333333333,
              "#9c179e"
             ],
             [
              0.4444444444444444,
              "#bd3786"
             ],
             [
              0.5555555555555556,
              "#d8576b"
             ],
             [
              0.6666666666666666,
              "#ed7953"
             ],
             [
              0.7777777777777778,
              "#fb9f3a"
             ],
             [
              0.8888888888888888,
              "#fdca26"
             ],
             [
              1,
              "#f0f921"
             ]
            ],
            "type": "contour"
           }
          ],
          "contourcarpet": [
           {
            "colorbar": {
             "outlinewidth": 0,
             "ticks": ""
            },
            "type": "contourcarpet"
           }
          ],
          "heatmap": [
           {
            "colorbar": {
             "outlinewidth": 0,
             "ticks": ""
            },
            "colorscale": [
             [
              0,
              "#0d0887"
             ],
             [
              0.1111111111111111,
              "#46039f"
             ],
             [
              0.2222222222222222,
              "#7201a8"
             ],
             [
              0.3333333333333333,
              "#9c179e"
             ],
             [
              0.4444444444444444,
              "#bd3786"
             ],
             [
              0.5555555555555556,
              "#d8576b"
             ],
             [
              0.6666666666666666,
              "#ed7953"
             ],
             [
              0.7777777777777778,
              "#fb9f3a"
             ],
             [
              0.8888888888888888,
              "#fdca26"
             ],
             [
              1,
              "#f0f921"
             ]
            ],
            "type": "heatmap"
           }
          ],
          "heatmapgl": [
           {
            "colorbar": {
             "outlinewidth": 0,
             "ticks": ""
            },
            "colorscale": [
             [
              0,
              "#0d0887"
             ],
             [
              0.1111111111111111,
              "#46039f"
             ],
             [
              0.2222222222222222,
              "#7201a8"
             ],
             [
              0.3333333333333333,
              "#9c179e"
             ],
             [
              0.4444444444444444,
              "#bd3786"
             ],
             [
              0.5555555555555556,
              "#d8576b"
             ],
             [
              0.6666666666666666,
              "#ed7953"
             ],
             [
              0.7777777777777778,
              "#fb9f3a"
             ],
             [
              0.8888888888888888,
              "#fdca26"
             ],
             [
              1,
              "#f0f921"
             ]
            ],
            "type": "heatmapgl"
           }
          ],
          "histogram": [
           {
            "marker": {
             "pattern": {
              "fillmode": "overlay",
              "size": 10,
              "solidity": 0.2
             }
            },
            "type": "histogram"
           }
          ],
          "histogram2d": [
           {
            "colorbar": {
             "outlinewidth": 0,
             "ticks": ""
            },
            "colorscale": [
             [
              0,
              "#0d0887"
             ],
             [
              0.1111111111111111,
              "#46039f"
             ],
             [
              0.2222222222222222,
              "#7201a8"
             ],
             [
              0.3333333333333333,
              "#9c179e"
             ],
             [
              0.4444444444444444,
              "#bd3786"
             ],
             [
              0.5555555555555556,
              "#d8576b"
             ],
             [
              0.6666666666666666,
              "#ed7953"
             ],
             [
              0.7777777777777778,
              "#fb9f3a"
             ],
             [
              0.8888888888888888,
              "#fdca26"
             ],
             [
              1,
              "#f0f921"
             ]
            ],
            "type": "histogram2d"
           }
          ],
          "histogram2dcontour": [
           {
            "colorbar": {
             "outlinewidth": 0,
             "ticks": ""
            },
            "colorscale": [
             [
              0,
              "#0d0887"
             ],
             [
              0.1111111111111111,
              "#46039f"
             ],
             [
              0.2222222222222222,
              "#7201a8"
             ],
             [
              0.3333333333333333,
              "#9c179e"
             ],
             [
              0.4444444444444444,
              "#bd3786"
             ],
             [
              0.5555555555555556,
              "#d8576b"
             ],
             [
              0.6666666666666666,
              "#ed7953"
             ],
             [
              0.7777777777777778,
              "#fb9f3a"
             ],
             [
              0.8888888888888888,
              "#fdca26"
             ],
             [
              1,
              "#f0f921"
             ]
            ],
            "type": "histogram2dcontour"
           }
          ],
          "mesh3d": [
           {
            "colorbar": {
             "outlinewidth": 0,
             "ticks": ""
            },
            "type": "mesh3d"
           }
          ],
          "parcoords": [
           {
            "line": {
             "colorbar": {
              "outlinewidth": 0,
              "ticks": ""
             }
            },
            "type": "parcoords"
           }
          ],
          "pie": [
           {
            "automargin": true,
            "type": "pie"
           }
          ],
          "scatter": [
           {
            "marker": {
             "colorbar": {
              "outlinewidth": 0,
              "ticks": ""
             }
            },
            "type": "scatter"
           }
          ],
          "scatter3d": [
           {
            "line": {
             "colorbar": {
              "outlinewidth": 0,
              "ticks": ""
             }
            },
            "marker": {
             "colorbar": {
              "outlinewidth": 0,
              "ticks": ""
             }
            },
            "type": "scatter3d"
           }
          ],
          "scattercarpet": [
           {
            "marker": {
             "colorbar": {
              "outlinewidth": 0,
              "ticks": ""
             }
            },
            "type": "scattercarpet"
           }
          ],
          "scattergeo": [
           {
            "marker": {
             "colorbar": {
              "outlinewidth": 0,
              "ticks": ""
             }
            },
            "type": "scattergeo"
           }
          ],
          "scattergl": [
           {
            "marker": {
             "colorbar": {
              "outlinewidth": 0,
              "ticks": ""
             }
            },
            "type": "scattergl"
           }
          ],
          "scattermapbox": [
           {
            "marker": {
             "colorbar": {
              "outlinewidth": 0,
              "ticks": ""
             }
            },
            "type": "scattermapbox"
           }
          ],
          "scatterpolar": [
           {
            "marker": {
             "colorbar": {
              "outlinewidth": 0,
              "ticks": ""
             }
            },
            "type": "scatterpolar"
           }
          ],
          "scatterpolargl": [
           {
            "marker": {
             "colorbar": {
              "outlinewidth": 0,
              "ticks": ""
             }
            },
            "type": "scatterpolargl"
           }
          ],
          "scatterternary": [
           {
            "marker": {
             "colorbar": {
              "outlinewidth": 0,
              "ticks": ""
             }
            },
            "type": "scatterternary"
           }
          ],
          "surface": [
           {
            "colorbar": {
             "outlinewidth": 0,
             "ticks": ""
            },
            "colorscale": [
             [
              0,
              "#0d0887"
             ],
             [
              0.1111111111111111,
              "#46039f"
             ],
             [
              0.2222222222222222,
              "#7201a8"
             ],
             [
              0.3333333333333333,
              "#9c179e"
             ],
             [
              0.4444444444444444,
              "#bd3786"
             ],
             [
              0.5555555555555556,
              "#d8576b"
             ],
             [
              0.6666666666666666,
              "#ed7953"
             ],
             [
              0.7777777777777778,
              "#fb9f3a"
             ],
             [
              0.8888888888888888,
              "#fdca26"
             ],
             [
              1,
              "#f0f921"
             ]
            ],
            "type": "surface"
           }
          ],
          "table": [
           {
            "cells": {
             "fill": {
              "color": "#EBF0F8"
             },
             "line": {
              "color": "white"
             }
            },
            "header": {
             "fill": {
              "color": "#C8D4E3"
             },
             "line": {
              "color": "white"
             }
            },
            "type": "table"
           }
          ]
         },
         "layout": {
          "annotationdefaults": {
           "arrowcolor": "#2a3f5f",
           "arrowhead": 0,
           "arrowwidth": 1
          },
          "autotypenumbers": "strict",
          "coloraxis": {
           "colorbar": {
            "outlinewidth": 0,
            "ticks": ""
           }
          },
          "colorscale": {
           "diverging": [
            [
             0,
             "#8e0152"
            ],
            [
             0.1,
             "#c51b7d"
            ],
            [
             0.2,
             "#de77ae"
            ],
            [
             0.3,
             "#f1b6da"
            ],
            [
             0.4,
             "#fde0ef"
            ],
            [
             0.5,
             "#f7f7f7"
            ],
            [
             0.6,
             "#e6f5d0"
            ],
            [
             0.7,
             "#b8e186"
            ],
            [
             0.8,
             "#7fbc41"
            ],
            [
             0.9,
             "#4d9221"
            ],
            [
             1,
             "#276419"
            ]
           ],
           "sequential": [
            [
             0,
             "#0d0887"
            ],
            [
             0.1111111111111111,
             "#46039f"
            ],
            [
             0.2222222222222222,
             "#7201a8"
            ],
            [
             0.3333333333333333,
             "#9c179e"
            ],
            [
             0.4444444444444444,
             "#bd3786"
            ],
            [
             0.5555555555555556,
             "#d8576b"
            ],
            [
             0.6666666666666666,
             "#ed7953"
            ],
            [
             0.7777777777777778,
             "#fb9f3a"
            ],
            [
             0.8888888888888888,
             "#fdca26"
            ],
            [
             1,
             "#f0f921"
            ]
           ],
           "sequentialminus": [
            [
             0,
             "#0d0887"
            ],
            [
             0.1111111111111111,
             "#46039f"
            ],
            [
             0.2222222222222222,
             "#7201a8"
            ],
            [
             0.3333333333333333,
             "#9c179e"
            ],
            [
             0.4444444444444444,
             "#bd3786"
            ],
            [
             0.5555555555555556,
             "#d8576b"
            ],
            [
             0.6666666666666666,
             "#ed7953"
            ],
            [
             0.7777777777777778,
             "#fb9f3a"
            ],
            [
             0.8888888888888888,
             "#fdca26"
            ],
            [
             1,
             "#f0f921"
            ]
           ]
          },
          "colorway": [
           "#636efa",
           "#EF553B",
           "#00cc96",
           "#ab63fa",
           "#FFA15A",
           "#19d3f3",
           "#FF6692",
           "#B6E880",
           "#FF97FF",
           "#FECB52"
          ],
          "font": {
           "color": "#2a3f5f"
          },
          "geo": {
           "bgcolor": "white",
           "lakecolor": "white",
           "landcolor": "#E5ECF6",
           "showlakes": true,
           "showland": true,
           "subunitcolor": "white"
          },
          "hoverlabel": {
           "align": "left"
          },
          "hovermode": "closest",
          "mapbox": {
           "style": "light"
          },
          "paper_bgcolor": "white",
          "plot_bgcolor": "#E5ECF6",
          "polar": {
           "angularaxis": {
            "gridcolor": "white",
            "linecolor": "white",
            "ticks": ""
           },
           "bgcolor": "#E5ECF6",
           "radialaxis": {
            "gridcolor": "white",
            "linecolor": "white",
            "ticks": ""
           }
          },
          "scene": {
           "xaxis": {
            "backgroundcolor": "#E5ECF6",
            "gridcolor": "white",
            "gridwidth": 2,
            "linecolor": "white",
            "showbackground": true,
            "ticks": "",
            "zerolinecolor": "white"
           },
           "yaxis": {
            "backgroundcolor": "#E5ECF6",
            "gridcolor": "white",
            "gridwidth": 2,
            "linecolor": "white",
            "showbackground": true,
            "ticks": "",
            "zerolinecolor": "white"
           },
           "zaxis": {
            "backgroundcolor": "#E5ECF6",
            "gridcolor": "white",
            "gridwidth": 2,
            "linecolor": "white",
            "showbackground": true,
            "ticks": "",
            "zerolinecolor": "white"
           }
          },
          "shapedefaults": {
           "line": {
            "color": "#2a3f5f"
           }
          },
          "ternary": {
           "aaxis": {
            "gridcolor": "white",
            "linecolor": "white",
            "ticks": ""
           },
           "baxis": {
            "gridcolor": "white",
            "linecolor": "white",
            "ticks": ""
           },
           "bgcolor": "#E5ECF6",
           "caxis": {
            "gridcolor": "white",
            "linecolor": "white",
            "ticks": ""
           }
          },
          "title": {
           "x": 0.05
          },
          "xaxis": {
           "automargin": true,
           "gridcolor": "white",
           "linecolor": "white",
           "ticks": "",
           "title": {
            "standoff": 15
           },
           "zerolinecolor": "white",
           "zerolinewidth": 2
          },
          "yaxis": {
           "automargin": true,
           "gridcolor": "white",
           "linecolor": "white",
           "ticks": "",
           "title": {
            "standoff": 15
           },
           "zerolinecolor": "white",
           "zerolinewidth": 2
          }
         }
        },
        "title": {
         "text": "VK 2 EG"
        },
        "xaxis": {
         "anchor": "y",
         "domain": [
          0,
          1
         ],
         "title": {
          "text": "Time"
         }
        },
        "yaxis": {
         "anchor": "x",
         "domain": [
          0,
          1
         ],
         "title": {
          "text": "kW"
         }
        }
       }
      }
     },
     "metadata": {},
     "output_type": "display_data"
    }
   ],
   "source": [
    "px.line(\n",
    "    x=df.index, y=df.kw, \n",
    "    title='VK 2 EG',\n",
    "    labels={\n",
    "        'x': 'Time',\n",
    "        'y': 'kW'\n",
    "    })"
   ]
  },
  {
   "cell_type": "code",
   "execution_count": 31,
   "metadata": {},
   "outputs": [
    {
     "data": {
      "image/png": "[encoded data removed]",
      "text/plain": [
       "<Figure size 864x432 with 1 Axes>"
      ]
     },
     "metadata": {
      "needs_background": "light"
     },
     "output_type": "display_data"
    }
   ],
   "source": [
    "plt.figure(figsize=(12, 6))\n",
    "plt.hist(x=df.kw, bins=30)\n",
    "plt.show()"
   ]
  },
  {
   "cell_type": "code",
   "execution_count": 32,
   "metadata": {},
   "outputs": [],
   "source": [
    "time_int_range = np.arange(0, df.shape[0]*30, 30)\n",
    "df['t'] = time_int_range\n",
    "df['t_scaled'] = (df['t'] - df['t'].min()) / (df['t'].max() - df['t'].min())"
   ]
  },
  {
   "cell_type": "code",
   "execution_count": 33,
   "metadata": {},
   "outputs": [
    {
     "data": {
      "application/vnd.plotly.v1+json": {
       "config": {
        "plotlyServerURL": "https://plot.ly"
       },
       "data": [
        {
         "hovertemplate": "Time=%{x}<br>kW=%{y}<extra></extra>",
         "legendgroup": "",
         "line": {
          "color": "#636efa",
          "dash": "solid"
         },
         "marker": {
          "symbol": "circle"
         },
         "mode": "lines",
         "name": "",
         "orientation": "v",
         "showlegend": false,
         "type": "scatter",
         "x": [
          0,
          0.0041841004184100415,
          0.008368200836820083,
          0.012552301255230125,
          0.016736401673640166,
          0.02092050209205021,
          0.02510460251046025,
          0.029288702928870293,
          0.03347280334728033,
          0.03765690376569038,
          0.04184100418410042,
          0.04602510460251046,
          0.0502092050209205,
          0.05439330543933055,
          0.058577405857740586,
          0.06276150627615062,
          0.06694560669456066,
          0.07112970711297072,
          0.07531380753138076,
          0.0794979079497908,
          0.08368200836820083,
          0.08786610878661087,
          0.09205020920502092,
          0.09623430962343096,
          0.100418410041841,
          0.10460251046025104,
          0.1087866108786611,
          0.11297071129707113,
          0.11715481171548117,
          0.12133891213389121,
          0.12552301255230125,
          0.1297071129707113,
          0.13389121338912133,
          0.13807531380753138,
          0.14225941422594143,
          0.14644351464435146,
          0.1506276150627615,
          0.15481171548117154,
          0.1589958158995816,
          0.16317991631799164,
          0.16736401673640167,
          0.17154811715481172,
          0.17573221757322174,
          0.1799163179916318,
          0.18410041841004185,
          0.18828451882845187,
          0.19246861924686193,
          0.19665271966527198,
          0.200836820083682,
          0.20502092050209206,
          0.20920502092050208,
          0.21338912133891214,
          0.2175732217573222,
          0.2217573221757322,
          0.22594142259414227,
          0.2301255230125523,
          0.23430962343096234,
          0.2384937238493724,
          0.24267782426778242,
          0.24686192468619247,
          0.2510460251046025,
          0.25523012552301255,
          0.2594142259414226,
          0.26359832635983266,
          0.26778242677824265,
          0.2719665271966527,
          0.27615062761506276,
          0.2803347280334728,
          0.28451882845188287,
          0.28870292887029286,
          0.2928870292887029,
          0.29707112970711297,
          0.301255230125523,
          0.3054393305439331,
          0.30962343096234307,
          0.3138075313807531,
          0.3179916317991632,
          0.32217573221757323,
          0.3263598326359833,
          0.3305439330543933,
          0.33472803347280333,
          0.3389121338912134,
          0.34309623430962344,
          0.3472803347280335,
          0.3514644351464435,
          0.35564853556485354,
          0.3598326359832636,
          0.36401673640167365,
          0.3682008368200837,
          0.3723849372384937,
          0.37656903765690375,
          0.3807531380753138,
          0.38493723849372385,
          0.3891213389121339,
          0.39330543933054396,
          0.39748953974895396,
          0.401673640167364,
          0.40585774058577406,
          0.4100418410041841,
          0.41422594142259417,
          0.41841004184100417,
          0.4225941422594142,
          0.42677824267782427,
          0.4309623430962343,
          0.4351464435146444,
          0.4393305439330544,
          0.4435146443514644,
          0.4476987447698745,
          0.45188284518828453,
          0.4560669456066946,
          0.4602510460251046,
          0.46443514644351463,
          0.4686192468619247,
          0.47280334728033474,
          0.4769874476987448,
          0.4811715481171548,
          0.48535564853556484,
          0.4895397489539749,
          0.49372384937238495,
          0.497907949790795,
          0.502092050209205,
          0.5062761506276151,
          0.5104602510460251,
          0.5146443514644351,
          0.5188284518828452,
          0.5230125523012552,
          0.5271966527196653,
          0.5313807531380753,
          0.5355648535564853,
          0.5397489539748954,
          0.5439330543933054,
          0.5481171548117155,
          0.5523012552301255,
          0.5564853556485355,
          0.5606694560669456,
          0.5648535564853556,
          0.5690376569037657,
          0.5732217573221757,
          0.5774058577405857,
          0.5815899581589958,
          0.5857740585774058,
          0.5899581589958159,
          0.5941422594142259,
          0.5983263598326359,
          0.602510460251046,
          0.606694560669456,
          0.6108786610878661,
          0.6150627615062761,
          0.6192468619246861,
          0.6234309623430963,
          0.6276150627615062,
          0.6317991631799164,
          0.6359832635983264,
          0.6401673640167364,
          0.6443514644351465,
          0.6485355648535565,
          0.6527196652719666,
          0.6569037656903766,
          0.6610878661087866,
          0.6652719665271967,
          0.6694560669456067,
          0.6736401673640168,
          0.6778242677824268,
          0.6820083682008368,
          0.6861924686192469,
          0.6903765690376569,
          0.694560669456067,
          0.698744769874477,
          0.702928870292887,
          0.7071129707112971,
          0.7112970711297071,
          0.7154811715481172,
          0.7196652719665272,
          0.7238493723849372,
          0.7280334728033473,
          0.7322175732217573,
          0.7364016736401674,
          0.7405857740585774,
          0.7447698744769874,
          0.7489539748953975,
          0.7531380753138075,
          0.7573221757322176,
          0.7615062761506276,
          0.7656903765690377,
          0.7698744769874477,
          0.7740585774058577,
          0.7782426778242678,
          0.7824267782426778,
          0.7866108786610879,
          0.7907949790794979,
          0.7949790794979079,
          0.799163179916318,
          0.803347280334728,
          0.8075313807531381,
          0.8117154811715481,
          0.8158995815899581,
          0.8200836820083682,
          0.8242677824267782,
          0.8284518828451883,
          0.8326359832635983,
          0.8368200836820083,
          0.8410041841004184,
          0.8451882845188284,
          0.8493723849372385,
          0.8535564853556485,
          0.8577405857740585,
          0.8619246861924686,
          0.8661087866108786,
          0.8702928870292888,
          0.8744769874476988,
          0.8786610878661087,
          0.8828451882845189,
          0.8870292887029289,
          0.891213389121339,
          0.895397489539749,
          0.899581589958159,
          0.9037656903765691,
          0.9079497907949791,
          0.9121338912133892,
          0.9163179916317992,
          0.9205020920502092,
          0.9246861924686193,
          0.9288702928870293,
          0.9330543933054394,
          0.9372384937238494,
          0.9414225941422594,
          0.9456066945606695,
          0.9497907949790795,
          0.9539748953974896,
          0.9581589958158996,
          0.9623430962343096,
          0.9665271966527197,
          0.9707112970711297,
          0.9748953974895398,
          0.9790794979079498,
          0.9832635983263598,
          0.9874476987447699,
          0.9916317991631799,
          0.99581589958159,
          1
         ],
         "xaxis": "x",
         "y": [
          0.02012733073243242,
          0.020002693229310423,
          0.020051003141882153,
          0.020060632557996005,
          0.019887890539869196,
          0.019785776756137907,
          0.019737001811006613,
          0.01944254456104522,
          0.01878814943115863,
          5.646308321876671,
          6.006586013484943,
          4.95540464153401,
          4.693338291412516,
          1.3886759944945735,
          7.987768926531951,
          5.906997905537786,
          4.944140123328939,
          4.959260825206479,
          4.9632497816039,
          2.422943147152076,
          3.3618988607547378,
          8.499160228273954,
          9.156960578326078,
          8.146844098522438,
          8.689054925109865,
          9.27806947296097,
          7.9475776646687555,
          0.019992366923624612,
          0.01974300676292637,
          0.01963297401129869,
          0.019778783365840515,
          0.019417460126591804,
          0.019309293125329172,
          0.019404392877043184,
          0.019160003637827362,
          0.019465110615701373,
          0.01943487288542181,
          0.019534842295071596,
          0.01939095616968562,
          0.019753788799109138,
          0.020063657951766994,
          0.020407497670459185,
          0.020451434294648522,
          0.02068814652490818,
          0.020456069539908455,
          0.020413486697311217,
          0.020262221938459727,
          0.020401166117172773,
          0.020291176093619114,
          0.020236301338905638,
          0.02005225724940419,
          0.02023817751772461,
          0.020141884776721512,
          0.020087091926272574,
          0.019887116961508113,
          0.019530400266184265,
          0.27829036773732363,
          3.630310761828429,
          2.448856816446907,
          2.1733021209763272,
          0.019577208271421943,
          0.7937431285130969,
          5.127264555692031,
          3.6981607593999186,
          1.4821439456921044,
          2.2568245358558845,
          5.14355015135177,
          3.8738214958163524,
          2.20928893530737,
          4.660555226485527,
          5.88246748898471,
          7.932975948249185,
          7.915682576795031,
          5.092051638031893,
          3.513238969617571,
          1.009696139318048,
          0.018293569661790885,
          0.018917328410884206,
          0.018818819411554253,
          0.018704965745685052,
          0.018912552687371957,
          0.018802062426493377,
          0.01849694247856109,
          0.018570084583121375,
          0.018665741583468353,
          0.018616530358608604,
          0.018808821602130498,
          0.01933129663679639,
          0.01976481402368047,
          0.01973629833441806,
          0.01983729841019364,
          0.01996220558650594,
          0.01969185740379522,
          0.02013288211533167,
          0.019666766918925258,
          0.019800416330004796,
          0.019789611614121464,
          0.019748950302580764,
          0.019598270453101533,
          0.019743735784812495,
          0.019721367152673884,
          0.019736529565648506,
          0.019356362621710994,
          0.018932777793255192,
          0.018297877530176216,
          5.814554580344713,
          6.364804939440698,
          7.95834987046585,
          7.940820473346175,
          3.581578376369676,
          7.016593166191011,
          7.960525633725006,
          3.2768645955852653,
          4.399948904815486,
          7.682629944750174,
          3.3716154284804585,
          1.7210022871517845,
          3.598784329907229,
          2.749764801928542,
          3.5900391183836136,
          1.2859237780990684,
          0.01842513538523467,
          3.5399056648477325,
          2.7017037371323283,
          0.01855898385573894,
          0.01835440646140024,
          0.018078731017508325,
          0.018538126261687934,
          0.018844047380233483,
          0.018454021235759732,
          0.01846449300396104,
          0.018354322126250176,
          0.018349859552996638,
          0.018409825749836538,
          0.018720672594999405,
          0.018941097263496878,
          0.01937721944689383,
          0.019842272412084586,
          0.019735033094951587,
          0.019762714369737745,
          0.01978734323968765,
          0.0197550001083683,
          0.01980526456426994,
          0.019831071939440118,
          0.019636545644503404,
          0.019546826329230268,
          0.019498872693784256,
          0.019728984599429372,
          0.019563016112556272,
          0.019502600402445922,
          0.01934102880314561,
          0.01898451298600838,
          0.20329458445177215,
          7.582872682584936,
          6.303805687346042,
          7.113106346542967,
          9.315057339154478,
          3.522737055151022,
          4.835732105755936,
          7.937972362841283,
          9.292184245298646,
          7.6268639843257775,
          7.053100885704004,
          4.150653571519443,
          2.403389631971684,
          9.242220164955839,
          9.284337276477453,
          7.213693237004396,
          7.021496298056512,
          7.845446398775131,
          9.263860750551878,
          2.3079915635471964,
          0.01858111882429502,
          0.01859298333101164,
          0.01898476048728993,
          0.01916327958087747,
          0.019051238619301858,
          0.019029266635708083,
          0.018924484970900424,
          0.019126399260086798,
          0.018991617694403405,
          0.019015804770086915,
          0.019163441498334058,
          0.019342428206557502,
          0.019542949769355392,
          0.019722175589296974,
          0.019955065970128055,
          0.02010384515739743,
          0.019869075723796124,
          0.020019860552587292,
          0.01989686835059121,
          0.01984513720573945,
          0.019729392532046586,
          0.019640953322809674,
          0.019856304927320923,
          0.019959930869585994,
          0.019889214864008124,
          0.01977336954839487,
          0.019659804915800584,
          0.019879805273017675,
          0.7793985107015078,
          8.547120013852997,
          5.999573656402861,
          6.296257489643859,
          8.383675161346824,
          4.675605668487801,
          8.861446954763379,
          9.259317949926448,
          9.243621928601485,
          9.257680659058629,
          5.582918377663186,
          2.2920411268620122,
          3.7164935756726916,
          7.903937321282306,
          4.370280131091226,
          2.601521323624135,
          2.6486193508034215,
          0.019717481304361205,
          0.01958195017644862,
          0.019480545852677274,
          0.0193280172277692,
          0.01918394107540889,
          0.019239289961442894,
          0.019433053881281203,
          0.019482897995510465,
          0.019517135642538208,
          0.019608818201521185,
          0.019815965394495646,
          0.01986336289760745,
          0.019989856103526295,
          0.019863699464461863,
          0.01989328988266592,
          0.019952190294869613,
          0.02028709839515971,
          0.020225336521942534,
          0.020366890168575298,
          0.02040454911066735,
          0.020227566908168182,
          0.02003871905137853,
          0.02013664854113586
         ],
         "yaxis": "y"
        }
       ],
       "layout": {
        "legend": {
         "tracegroupgap": 0
        },
        "template": {
         "data": {
          "bar": [
           {
            "error_x": {
             "color": "#2a3f5f"
            },
            "error_y": {
             "color": "#2a3f5f"
            },
            "marker": {
             "line": {
              "color": "#E5ECF6",
              "width": 0.5
             },
             "pattern": {
              "fillmode": "overlay",
              "size": 10,
              "solidity": 0.2
             }
            },
            "type": "bar"
           }
          ],
          "barpolar": [
           {
            "marker": {
             "line": {
              "color": "#E5ECF6",
              "width": 0.5
             },
             "pattern": {
              "fillmode": "overlay",
              "size": 10,
              "solidity": 0.2
             }
            },
            "type": "barpolar"
           }
          ],
          "carpet": [
           {
            "aaxis": {
             "endlinecolor": "#2a3f5f",
             "gridcolor": "white",
             "linecolor": "white",
             "minorgridcolor": "white",
             "startlinecolor": "#2a3f5f"
            },
            "baxis": {
             "endlinecolor": "#2a3f5f",
             "gridcolor": "white",
             "linecolor": "white",
             "minorgridcolor": "white",
             "startlinecolor": "#2a3f5f"
            },
            "type": "carpet"
           }
          ],
          "choropleth": [
           {
            "colorbar": {
             "outlinewidth": 0,
             "ticks": ""
            },
            "type": "choropleth"
           }
          ],
          "contour": [
           {
            "colorbar": {
             "outlinewidth": 0,
             "ticks": ""
            },
            "colorscale": [
             [
              0,
              "#0d0887"
             ],
             [
              0.1111111111111111,
              "#46039f"
             ],
             [
              0.2222222222222222,
              "#7201a8"
             ],
             [
              0.3333333333333333,
              "#9c179e"
             ],
             [
              0.4444444444444444,
              "#bd3786"
             ],
             [
              0.5555555555555556,
              "#d8576b"
             ],
             [
              0.6666666666666666,
              "#ed7953"
             ],
             [
              0.7777777777777778,
              "#fb9f3a"
             ],
             [
              0.8888888888888888,
              "#fdca26"
             ],
             [
              1,
              "#f0f921"
             ]
            ],
            "type": "contour"
           }
          ],
          "contourcarpet": [
           {
            "colorbar": {
             "outlinewidth": 0,
             "ticks": ""
            },
            "type": "contourcarpet"
           }
          ],
          "heatmap": [
           {
            "colorbar": {
             "outlinewidth": 0,
             "ticks": ""
            },
            "colorscale": [
             [
              0,
              "#0d0887"
             ],
             [
              0.1111111111111111,
              "#46039f"
             ],
             [
              0.2222222222222222,
              "#7201a8"
             ],
             [
              0.3333333333333333,
              "#9c179e"
             ],
             [
              0.4444444444444444,
              "#bd3786"
             ],
             [
              0.5555555555555556,
              "#d8576b"
             ],
             [
              0.6666666666666666,
              "#ed7953"
             ],
             [
              0.7777777777777778,
              "#fb9f3a"
             ],
             [
              0.8888888888888888,
              "#fdca26"
             ],
             [
              1,
              "#f0f921"
             ]
            ],
            "type": "heatmap"
           }
          ],
          "heatmapgl": [
           {
            "colorbar": {
             "outlinewidth": 0,
             "ticks": ""
            },
            "colorscale": [
             [
              0,
              "#0d0887"
             ],
             [
              0.1111111111111111,
              "#46039f"
             ],
             [
              0.2222222222222222,
              "#7201a8"
             ],
             [
              0.3333333333333333,
              "#9c179e"
             ],
             [
              0.4444444444444444,
              "#bd3786"
             ],
             [
              0.5555555555555556,
              "#d8576b"
             ],
             [
              0.6666666666666666,
              "#ed7953"
             ],
             [
              0.7777777777777778,
              "#fb9f3a"
             ],
             [
              0.8888888888888888,
              "#fdca26"
             ],
             [
              1,
              "#f0f921"
             ]
            ],
            "type": "heatmapgl"
           }
          ],
          "histogram": [
           {
            "marker": {
             "pattern": {
              "fillmode": "overlay",
              "size": 10,
              "solidity": 0.2
             }
            },
            "type": "histogram"
           }
          ],
          "histogram2d": [
           {
            "colorbar": {
             "outlinewidth": 0,
             "ticks": ""
            },
            "colorscale": [
             [
              0,
              "#0d0887"
             ],
             [
              0.1111111111111111,
              "#46039f"
             ],
             [
              0.2222222222222222,
              "#7201a8"
             ],
             [
              0.3333333333333333,
              "#9c179e"
             ],
             [
              0.4444444444444444,
              "#bd3786"
             ],
             [
              0.5555555555555556,
              "#d8576b"
             ],
             [
              0.6666666666666666,
              "#ed7953"
             ],
             [
              0.7777777777777778,
              "#fb9f3a"
             ],
             [
              0.8888888888888888,
              "#fdca26"
             ],
             [
              1,
              "#f0f921"
             ]
            ],
            "type": "histogram2d"
           }
          ],
          "histogram2dcontour": [
           {
            "colorbar": {
             "outlinewidth": 0,
             "ticks": ""
            },
            "colorscale": [
             [
              0,
              "#0d0887"
             ],
             [
              0.1111111111111111,
              "#46039f"
             ],
             [
              0.2222222222222222,
              "#7201a8"
             ],
             [
              0.3333333333333333,
              "#9c179e"
             ],
             [
              0.4444444444444444,
              "#bd3786"
             ],
             [
              0.5555555555555556,
              "#d8576b"
             ],
             [
              0.6666666666666666,
              "#ed7953"
             ],
             [
              0.7777777777777778,
              "#fb9f3a"
             ],
             [
              0.8888888888888888,
              "#fdca26"
             ],
             [
              1,
              "#f0f921"
             ]
            ],
            "type": "histogram2dcontour"
           }
          ],
          "mesh3d": [
           {
            "colorbar": {
             "outlinewidth": 0,
             "ticks": ""
            },
            "type": "mesh3d"
           }
          ],
          "parcoords": [
           {
            "line": {
             "colorbar": {
              "outlinewidth": 0,
              "ticks": ""
             }
            },
            "type": "parcoords"
           }
          ],
          "pie": [
           {
            "automargin": true,
            "type": "pie"
           }
          ],
          "scatter": [
           {
            "marker": {
             "colorbar": {
              "outlinewidth": 0,
              "ticks": ""
             }
            },
            "type": "scatter"
           }
          ],
          "scatter3d": [
           {
            "line": {
             "colorbar": {
              "outlinewidth": 0,
              "ticks": ""
             }
            },
            "marker": {
             "colorbar": {
              "outlinewidth": 0,
              "ticks": ""
             }
            },
            "type": "scatter3d"
           }
          ],
          "scattercarpet": [
           {
            "marker": {
             "colorbar": {
              "outlinewidth": 0,
              "ticks": ""
             }
            },
            "type": "scattercarpet"
           }
          ],
          "scattergeo": [
           {
            "marker": {
             "colorbar": {
              "outlinewidth": 0,
              "ticks": ""
             }
            },
            "type": "scattergeo"
           }
          ],
          "scattergl": [
           {
            "marker": {
             "colorbar": {
              "outlinewidth": 0,
              "ticks": ""
             }
            },
            "type": "scattergl"
           }
          ],
          "scattermapbox": [
           {
            "marker": {
             "colorbar": {
              "outlinewidth": 0,
              "ticks": ""
             }
            },
            "type": "scattermapbox"
           }
          ],
          "scatterpolar": [
           {
            "marker": {
             "colorbar": {
              "outlinewidth": 0,
              "ticks": ""
             }
            },
            "type": "scatterpolar"
           }
          ],
          "scatterpolargl": [
           {
            "marker": {
             "colorbar": {
              "outlinewidth": 0,
              "ticks": ""
             }
            },
            "type": "scatterpolargl"
           }
          ],
          "scatterternary": [
           {
            "marker": {
             "colorbar": {
              "outlinewidth": 0,
              "ticks": ""
             }
            },
            "type": "scatterternary"
           }
          ],
          "surface": [
           {
            "colorbar": {
             "outlinewidth": 0,
             "ticks": ""
            },
            "colorscale": [
             [
              0,
              "#0d0887"
             ],
             [
              0.1111111111111111,
              "#46039f"
             ],
             [
              0.2222222222222222,
              "#7201a8"
             ],
             [
              0.3333333333333333,
              "#9c179e"
             ],
             [
              0.4444444444444444,
              "#bd3786"
             ],
             [
              0.5555555555555556,
              "#d8576b"
             ],
             [
              0.6666666666666666,
              "#ed7953"
             ],
             [
              0.7777777777777778,
              "#fb9f3a"
             ],
             [
              0.8888888888888888,
              "#fdca26"
             ],
             [
              1,
              "#f0f921"
             ]
            ],
            "type": "surface"
           }
          ],
          "table": [
           {
            "cells": {
             "fill": {
              "color": "#EBF0F8"
             },
             "line": {
              "color": "white"
             }
            },
            "header": {
             "fill": {
              "color": "#C8D4E3"
             },
             "line": {
              "color": "white"
             }
            },
            "type": "table"
           }
          ]
         },
         "layout": {
          "annotationdefaults": {
           "arrowcolor": "#2a3f5f",
           "arrowhead": 0,
           "arrowwidth": 1
          },
          "autotypenumbers": "strict",
          "coloraxis": {
           "colorbar": {
            "outlinewidth": 0,
            "ticks": ""
           }
          },
          "colorscale": {
           "diverging": [
            [
             0,
             "#8e0152"
            ],
            [
             0.1,
             "#c51b7d"
            ],
            [
             0.2,
             "#de77ae"
            ],
            [
             0.3,
             "#f1b6da"
            ],
            [
             0.4,
             "#fde0ef"
            ],
            [
             0.5,
             "#f7f7f7"
            ],
            [
             0.6,
             "#e6f5d0"
            ],
            [
             0.7,
             "#b8e186"
            ],
            [
             0.8,
             "#7fbc41"
            ],
            [
             0.9,
             "#4d9221"
            ],
            [
             1,
             "#276419"
            ]
           ],
           "sequential": [
            [
             0,
             "#0d0887"
            ],
            [
             0.1111111111111111,
             "#46039f"
            ],
            [
             0.2222222222222222,
             "#7201a8"
            ],
            [
             0.3333333333333333,
             "#9c179e"
            ],
            [
             0.4444444444444444,
             "#bd3786"
            ],
            [
             0.5555555555555556,
             "#d8576b"
            ],
            [
             0.6666666666666666,
             "#ed7953"
            ],
            [
             0.7777777777777778,
             "#fb9f3a"
            ],
            [
             0.8888888888888888,
             "#fdca26"
            ],
            [
             1,
             "#f0f921"
            ]
           ],
           "sequentialminus": [
            [
             0,
             "#0d0887"
            ],
            [
             0.1111111111111111,
             "#46039f"
            ],
            [
             0.2222222222222222,
             "#7201a8"
            ],
            [
             0.3333333333333333,
             "#9c179e"
            ],
            [
             0.4444444444444444,
             "#bd3786"
            ],
            [
             0.5555555555555556,
             "#d8576b"
            ],
            [
             0.6666666666666666,
             "#ed7953"
            ],
            [
             0.7777777777777778,
             "#fb9f3a"
            ],
            [
             0.8888888888888888,
             "#fdca26"
            ],
            [
             1,
             "#f0f921"
            ]
           ]
          },
          "colorway": [
           "#636efa",
           "#EF553B",
           "#00cc96",
           "#ab63fa",
           "#FFA15A",
           "#19d3f3",
           "#FF6692",
           "#B6E880",
           "#FF97FF",
           "#FECB52"
          ],
          "font": {
           "color": "#2a3f5f"
          },
          "geo": {
           "bgcolor": "white",
           "lakecolor": "white",
           "landcolor": "#E5ECF6",
           "showlakes": true,
           "showland": true,
           "subunitcolor": "white"
          },
          "hoverlabel": {
           "align": "left"
          },
          "hovermode": "closest",
          "mapbox": {
           "style": "light"
          },
          "paper_bgcolor": "white",
          "plot_bgcolor": "#E5ECF6",
          "polar": {
           "angularaxis": {
            "gridcolor": "white",
            "linecolor": "white",
            "ticks": ""
           },
           "bgcolor": "#E5ECF6",
           "radialaxis": {
            "gridcolor": "white",
            "linecolor": "white",
            "ticks": ""
           }
          },
          "scene": {
           "xaxis": {
            "backgroundcolor": "#E5ECF6",
            "gridcolor": "white",
            "gridwidth": 2,
            "linecolor": "white",
            "showbackground": true,
            "ticks": "",
            "zerolinecolor": "white"
           },
           "yaxis": {
            "backgroundcolor": "#E5ECF6",
            "gridcolor": "white",
            "gridwidth": 2,
            "linecolor": "white",
            "showbackground": true,
            "ticks": "",
            "zerolinecolor": "white"
           },
           "zaxis": {
            "backgroundcolor": "#E5ECF6",
            "gridcolor": "white",
            "gridwidth": 2,
            "linecolor": "white",
            "showbackground": true,
            "ticks": "",
            "zerolinecolor": "white"
           }
          },
          "shapedefaults": {
           "line": {
            "color": "#2a3f5f"
           }
          },
          "ternary": {
           "aaxis": {
            "gridcolor": "white",
            "linecolor": "white",
            "ticks": ""
           },
           "baxis": {
            "gridcolor": "white",
            "linecolor": "white",
            "ticks": ""
           },
           "bgcolor": "#E5ECF6",
           "caxis": {
            "gridcolor": "white",
            "linecolor": "white",
            "ticks": ""
           }
          },
          "title": {
           "x": 0.05
          },
          "xaxis": {
           "automargin": true,
           "gridcolor": "white",
           "linecolor": "white",
           "ticks": "",
           "title": {
            "standoff": 15
           },
           "zerolinecolor": "white",
           "zerolinewidth": 2
          },
          "yaxis": {
           "automargin": true,
           "gridcolor": "white",
           "linecolor": "white",
           "ticks": "",
           "title": {
            "standoff": 15
           },
           "zerolinecolor": "white",
           "zerolinewidth": 2
          }
         }
        },
        "title": {
         "text": "Entsorgung"
        },
        "xaxis": {
         "anchor": "y",
         "domain": [
          0,
          1
         ],
         "title": {
          "text": "Time"
         }
        },
        "yaxis": {
         "anchor": "x",
         "domain": [
          0,
          1
         ],
         "title": {
          "text": "kW"
         }
        }
       }
      }
     },
     "metadata": {},
     "output_type": "display_data"
    }
   ],
   "source": [
    "px.line(\n",
    "    x=df['t_scaled'], y=df.kw, \n",
    "    title='Entsorgung',\n",
    "    labels={\n",
    "        'x': 'Time',\n",
    "        'y': 'kW'\n",
    "    })"
   ]
  },
  {
   "cell_type": "code",
   "execution_count": 34,
   "metadata": {},
   "outputs": [
    {
     "data": {
      "image/png": "[encoded data removed]",
      "text/plain": [
       "<Figure size 1008x360 with 1 Axes>"
      ]
     },
     "execution_count": 34,
     "metadata": {},
     "output_type": "execute_result"
    },
    {
     "data": {
      "image/png": "[encoded data removed]",
      "text/plain": [
       "<Figure size 1008x360 with 1 Axes>"
      ]
     },
     "metadata": {
      "needs_background": "light"
     },
     "output_type": "display_data"
    }
   ],
   "source": [
    "fig, ax = plt.subplots(figsize=(14, 5))\n",
    "plot_acf(df.kw.values.squeeze(), lags=175, ax=ax)"
   ]
  },
  {
   "cell_type": "code",
   "execution_count": 37,
   "metadata": {},
   "outputs": [
    {
     "data": {
      "text/plain": [
       "(0.08368200836820083, 0.12552301255230125)"
      ]
     },
     "execution_count": 37,
     "metadata": {},
     "output_type": "execute_result"
    }
   ],
   "source": [
    "df['t_scaled'].iloc[20], df['t_scaled'].iloc[30]"
   ]
  },
  {
   "cell_type": "code",
   "execution_count": 38,
   "metadata": {},
   "outputs": [
    {
     "data": {
      "text/plain": [
       "(0.16736401673640167, 0.20920502092050208)"
      ]
     },
     "execution_count": 38,
     "metadata": {},
     "output_type": "execute_result"
    }
   ],
   "source": [
    "df['t_scaled'].iloc[40], df['t_scaled'].iloc[50]"
   ]
  },
  {
   "cell_type": "code",
   "execution_count": null,
   "metadata": {},
   "outputs": [],
   "source": []
  }
 ],
 "metadata": {
  "interpreter": {
   "hash": "55f578ea790fce859303417df5f33993e9db329ffe5a387d7c54812db965934b"
  },
  "kernelspec": {
   "display_name": "Python 3.8.12 64-bit ('thesis': conda)",
   "language": "python",
   "name": "python3"
  },
  "language_info": {
   "codemirror_mode": {
    "name": "ipython",
    "version": 3
   },
   "file_extension": ".py",
   "mimetype": "text/x-python",
   "name": "python",
   "nbconvert_exporter": "python",
   "pygments_lexer": "ipython3",
   "version": "3.8.12"
  },
  "orig_nbformat": 4
 },
 "nbformat": 4,
 "nbformat_minor": 2
}
