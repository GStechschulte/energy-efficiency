{
 "cells": [
  {
   "cell_type": "code",
   "execution_count": null,
   "metadata": {},
   "outputs": [],
   "source": [
    "import pandas as pd\n",
    "import matplotlib.pyplot as plt\n",
    "import seaborn as sns\n",
    "import sys\n",
    "import numpy as np\n",
    "sys.path.append('/Users/wastechs/Documents/git-repos/energy-efficiency')\n",
    "from lib.util.helper import query_table, weekday_time_series\n",
    "import seaborn as sns\n",
    "import plotly.express as px\n",
    "#import statsmodels.api as sm"
   ]
  },
  {
   "cell_type": "code",
   "execution_count": null,
   "metadata": {},
   "outputs": [],
   "source": [
    "druck_5T = query_table(table='xl106_druckmaschine_5T')\n",
    "uv_scan_5T = query_table(table='xl106_uv_scan_5T')"
   ]
  },
  {
   "cell_type": "code",
   "execution_count": null,
   "metadata": {},
   "outputs": [],
   "source": [
    "px.line(\n",
    "    x=druck_5T.index, y=druck_5T.kw * 1000, \n",
    "    title='Xl106 - Druckmaschine',\n",
    "    labels={\n",
    "        'x': 'Time',\n",
    "        'y': 'Watts'\n",
    "    })"
   ]
  },
  {
   "cell_type": "code",
   "execution_count": null,
   "metadata": {},
   "outputs": [],
   "source": [
    "px.line(\n",
    "    x=uv_scan_5T.index, y=uv_scan_5T.kw * 1000, \n",
    "    title='XL106 - UV Scan',\n",
    "    labels={\n",
    "        'x': 'Time',\n",
    "        'y': 'Watts'\n",
    "    })"
   ]
  },
  {
   "cell_type": "markdown",
   "metadata": {},
   "source": [
    "### Cross Correlation of Components in XL106"
   ]
  },
  {
   "cell_type": "code",
   "execution_count": null,
   "metadata": {},
   "outputs": [],
   "source": [
    "def cross_correlation(feat1, feat2):\n",
    "    cross_corr = sm.tsa.stattools.ccf(feat1, feat2, adjusted=False)\n",
    "    return cross_corr"
   ]
  },
  {
   "cell_type": "code",
   "execution_count": null,
   "metadata": {},
   "outputs": [],
   "source": [
    "cc_1 = cross_correlation(uv_scan_5T.p, druck_5T.p)"
   ]
  },
  {
   "cell_type": "code",
   "execution_count": null,
   "metadata": {},
   "outputs": [],
   "source": [
    "def plot_autocorr(x, axis=None, plot_marker=True):\n",
    "\n",
    "    if not axis:\n",
    "        _, axis = plt.subplots(figsize=(20, 7))\n",
    "\n",
    "    if plot_marker:\n",
    "        axis.plot(x, 'o')\n",
    "\n",
    "    axis.vlines(range(len(x)), [0], x)\n",
    "    axis.axhline()\n",
    "\n",
    "    return axis"
   ]
  },
  {
   "cell_type": "code",
   "execution_count": null,
   "metadata": {},
   "outputs": [],
   "source": [
    "plot_autocorr(cc_1, plot_marker=True) \n",
    "plt.title('Vari Air & Puder.')\n",
    "plt.show()"
   ]
  },
  {
   "cell_type": "markdown",
   "metadata": {},
   "source": [
    "### Machine Weekday Load Profile"
   ]
  },
  {
   "cell_type": "code",
   "execution_count": null,
   "metadata": {},
   "outputs": [],
   "source": [
    "druck_weekday = weekday_time_series('xl106_druckmaschine_5T')\n",
    "druck_weekday"
   ]
  },
  {
   "cell_type": "code",
   "execution_count": null,
   "metadata": {},
   "outputs": [],
   "source": []
  }
 ],
 "metadata": {
  "interpreter": {
   "hash": "55f578ea790fce859303417df5f33993e9db329ffe5a387d7c54812db965934b"
  },
  "kernelspec": {
   "display_name": "Python 3.8.12 64-bit ('thesis': conda)",
   "language": "python",
   "name": "python3"
  },
  "language_info": {
   "codemirror_mode": {
    "name": "ipython",
    "version": 3
   },
   "file_extension": ".py",
   "mimetype": "text/x-python",
   "name": "python",
   "nbconvert_exporter": "python",
   "pygments_lexer": "ipython3",
   "version": "3.8.12"
  },
  "orig_nbformat": 4
 },
 "nbformat": 4,
 "nbformat_minor": 2
}
