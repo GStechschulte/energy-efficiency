{
 "cells": [
  {
   "cell_type": "code",
   "execution_count": 1,
   "metadata": {},
   "outputs": [],
   "source": [
    "import pandas as pd\n",
    "import numpy as np\n",
    "import matplotlib.pyplot as plt\n",
    "import seaborn as sns\n",
    "import sys\n",
    "sys.path.append('/Users/wastechs/Documents/git-repos/energy-efficiency')\n",
    "from lib.util.helper import query_table, weekday_time_series\n",
    "from lib import visualizer\n",
    "import seaborn as sns\n",
    "import plotly.express as px\n",
    "from statsmodels.graphics.tsaplots import plot_acf"
   ]
  },
  {
   "cell_type": "code",
   "execution_count": null,
   "metadata": {},
   "outputs": [],
   "source": [
    "#df_1T = query_table(table='entsorgung_30T')\n",
    "ent_week = weekday_time_series(sensor_id='entsorgung_10T')\n",
    "ent_week['kw'] = round(ent_week['kw'], 2)\n",
    "ent_week['kw'] = ent_week['kw'].apply(lambda x: 0.0 if x == -0.0 else x)\n",
    "ent_week['log_kw'] = np.log(ent_week['kw'])"
   ]
  },
  {
   "cell_type": "code",
   "execution_count": null,
   "metadata": {},
   "outputs": [],
   "source": [
    "plt.figure(figsize=(16, 7))\n",
    "plt.plot(ent_week.index, ent_week.kw)\n",
    "plt.axvspan(\n",
    "    xmin=['2021-10-15 09:15'], \n",
    "    xmax=['2021-10-15 11:45'],\n",
    "    color='red',\n",
    "    alpha=0.25)\n",
    "plt.xlabel('Time (Year - Month - Day)', size=14)\n",
    "plt.ylabel('kW', size=14)\n",
    "plt.title('Paper Disposal Machine Signifciant Deviation', size=14)\n",
    "plt.show()"
   ]
  },
  {
   "cell_type": "code",
   "execution_count": null,
   "metadata": {},
   "outputs": [],
   "source": [
    "plt.figure(figsize=(16, 7))\n",
    "\n",
    "plt.plot(\n",
    "    ent_week['2021-10-11 17:30': '2021-10-12 05:00'].index,\n",
    "    ent_week['2021-10-11 17:30': '2021-10-12 05:00']['kw']\n",
    "    )\n",
    "plt.ylabel('kW', fontsize=14)\n",
    "plt.xlabel('Time (Month - Day - Hour)', fontsize=14)\n",
    "plt.title('Paper Disposal Machine: Non-operational Hours', fontsize=14)\n",
    "plt.show()"
   ]
  },
  {
   "cell_type": "code",
   "execution_count": null,
   "metadata": {},
   "outputs": [],
   "source": [
    "plt.figure(figsize=(16, 7))\n",
    "\n",
    "plt.plot(\n",
    "    ent_week['2021-10-14 08:00': '2021-10-14 13:00'].index,\n",
    "    ent_week['2021-10-14 08:00': '2021-10-14 13:00']['kw']\n",
    "    )\n",
    "plt.ylabel('kW', fontsize=14)\n",
    "plt.xlabel('Time (Month - Day - Hour)', fontsize=14)\n",
    "plt.title('Paper Disposal Machine: Peak Cycle Hours', fontsize=14)\n",
    "plt.show()"
   ]
  },
  {
   "cell_type": "code",
   "execution_count": null,
   "metadata": {},
   "outputs": [],
   "source": [
    "ent_week.shape"
   ]
  },
  {
   "cell_type": "code",
   "execution_count": null,
   "metadata": {},
   "outputs": [],
   "source": [
    "time_int_range = np.arange(0, 120*60, 60)\n",
    "ent_week['t'] = time_int_range\n",
    "ent_week['t_scaled'] = (ent_week['t'] - ent_week['t'].min()) / (ent_week['t'].max() - ent_week['t'].min())"
   ]
  },
  {
   "cell_type": "code",
   "execution_count": null,
   "metadata": {},
   "outputs": [],
   "source": [
    "px.line(\n",
    "    x=ent_week.index, y=ent_week.kw, \n",
    "    title='Entsorgung',\n",
    "    labels={\n",
    "        'x': 'Time',\n",
    "        'y': 'kW'\n",
    "    })"
   ]
  },
  {
   "cell_type": "code",
   "execution_count": null,
   "metadata": {},
   "outputs": [],
   "source": [
    "fig, ax = plt.subplots(figsize=(16, 6))\n",
    "plot_acf(ent_week.kw.values.squeeze(), lags=119, ax=ax)\n",
    "plt.xlabel('Lag', fontsize=14)\n",
    "plt.ylabel('Coefficient', fontsize=14)\n",
    "plt.title('Correlogram: Autocorrelation Coefficient', fontsize=14)"
   ]
  },
  {
   "cell_type": "code",
   "execution_count": null,
   "metadata": {},
   "outputs": [],
   "source": [
    "# Short term interval\n",
    "ent_week['t_scaled'].iloc[125], ent_week['t_scaled'].iloc[150]"
   ]
  },
  {
   "cell_type": "code",
   "execution_count": null,
   "metadata": {},
   "outputs": [],
   "source": [
    "# Long term interval\n",
    "ent_week['t_scaled'].iloc[260], ent_week['t_scaled'].iloc[300]"
   ]
  },
  {
   "cell_type": "code",
   "execution_count": 2,
   "metadata": {},
   "outputs": [
    {
     "data": {
      "image/png": "[encoded data removed]",
      "text/plain": [
       "<Figure size 864x576 with 2 Axes>"
      ]
     },
     "metadata": {
      "needs_background": "light"
     },
     "output_type": "display_data"
    }
   ],
   "source": [
    "visualizer.hourly_profile_heatmap(machine='entsorgung_10T')"
   ]
  },
  {
   "cell_type": "code",
   "execution_count": null,
   "metadata": {},
   "outputs": [],
   "source": []
  }
 ],
 "metadata": {
  "interpreter": {
   "hash": "55f578ea790fce859303417df5f33993e9db329ffe5a387d7c54812db965934b"
  },
  "kernelspec": {
   "display_name": "Python 3.8.12 64-bit ('thesis': conda)",
   "language": "python",
   "name": "python3"
  },
  "language_info": {
   "codemirror_mode": {
    "name": "ipython",
    "version": 3
   },
   "file_extension": ".py",
   "mimetype": "text/x-python",
   "name": "python",
   "nbconvert_exporter": "python",
   "pygments_lexer": "ipython3",
   "version": "3.8.12"
  },
  "orig_nbformat": 4
 },
 "nbformat": 4,
 "nbformat_minor": 2
}
