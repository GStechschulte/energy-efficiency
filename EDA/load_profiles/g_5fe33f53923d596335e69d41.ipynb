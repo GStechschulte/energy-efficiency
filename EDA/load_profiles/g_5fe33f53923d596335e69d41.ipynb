{
 "cells": [
  {
   "cell_type": "code",
   "execution_count": 1,
   "metadata": {},
   "outputs": [],
   "source": [
    "import pandas as pd\n",
    "import matplotlib.pyplot as plt\n",
    "import seaborn as sns\n",
    "import sys\n",
    "sys.path.append('/Users/wastechs/Documents/git-repos/energy-efficiency')\n",
    "from lib.util.helper import query_table\n",
    "import seaborn as sns"
   ]
  },
  {
   "cell_type": "code",
   "execution_count": 4,
   "metadata": {},
   "outputs": [],
   "source": [
    "df = query_table(table='g_5fe33f53923d596335e69d41')"
   ]
  },
  {
   "cell_type": "code",
   "execution_count": 5,
   "metadata": {},
   "outputs": [
    {
     "data": {
      "text/html": [
       "<div>\n",
       "<style scoped>\n",
       "    .dataframe tbody tr th:only-of-type {\n",
       "        vertical-align: middle;\n",
       "    }\n",
       "\n",
       "    .dataframe tbody tr th {\n",
       "        vertical-align: top;\n",
       "    }\n",
       "\n",
       "    .dataframe thead th {\n",
       "        text-align: right;\n",
       "    }\n",
       "</style>\n",
       "<table border=\"1\" class=\"dataframe\">\n",
       "  <thead>\n",
       "    <tr style=\"text-align: right;\">\n",
       "      <th></th>\n",
       "      <th>L</th>\n",
       "      <th>V</th>\n",
       "      <th>I</th>\n",
       "      <th>S</th>\n",
       "      <th>P</th>\n",
       "      <th>Q</th>\n",
       "      <th>PF</th>\n",
       "      <th>PHI</th>\n",
       "    </tr>\n",
       "    <tr>\n",
       "      <th>t</th>\n",
       "      <th></th>\n",
       "      <th></th>\n",
       "      <th></th>\n",
       "      <th></th>\n",
       "      <th></th>\n",
       "      <th></th>\n",
       "      <th></th>\n",
       "      <th></th>\n",
       "    </tr>\n",
       "  </thead>\n",
       "  <tbody>\n",
       "    <tr>\n",
       "      <th>2021-10-07 21:59:00.252999</th>\n",
       "      <td>1.0</td>\n",
       "      <td>238.590</td>\n",
       "      <td>62.480</td>\n",
       "      <td>14900.677</td>\n",
       "      <td>14044.936</td>\n",
       "      <td>-2521.506</td>\n",
       "      <td>0.945</td>\n",
       "      <td>95.407</td>\n",
       "    </tr>\n",
       "    <tr>\n",
       "      <th>2021-10-07 21:59:00.252999</th>\n",
       "      <td>2.0</td>\n",
       "      <td>238.641</td>\n",
       "      <td>63.201</td>\n",
       "      <td>15081.400</td>\n",
       "      <td>13020.679</td>\n",
       "      <td>-5455.443</td>\n",
       "      <td>0.864</td>\n",
       "      <td>92.011</td>\n",
       "    </tr>\n",
       "    <tr>\n",
       "      <th>2021-10-07 21:59:00.252999</th>\n",
       "      <td>3.0</td>\n",
       "      <td>240.329</td>\n",
       "      <td>61.068</td>\n",
       "      <td>14673.517</td>\n",
       "      <td>12711.654</td>\n",
       "      <td>-5765.186</td>\n",
       "      <td>0.867</td>\n",
       "      <td>120.000</td>\n",
       "    </tr>\n",
       "    <tr>\n",
       "      <th>2021-10-07 21:59:00.337000</th>\n",
       "      <td>1.0</td>\n",
       "      <td>238.586</td>\n",
       "      <td>62.477</td>\n",
       "      <td>14900.438</td>\n",
       "      <td>14019.084</td>\n",
       "      <td>-2534.910</td>\n",
       "      <td>0.945</td>\n",
       "      <td>120.000</td>\n",
       "    </tr>\n",
       "    <tr>\n",
       "      <th>2021-10-07 21:59:00.337000</th>\n",
       "      <td>2.0</td>\n",
       "      <td>238.649</td>\n",
       "      <td>63.189</td>\n",
       "      <td>15080.443</td>\n",
       "      <td>13012.301</td>\n",
       "      <td>-5449.459</td>\n",
       "      <td>0.864</td>\n",
       "      <td>120.000</td>\n",
       "    </tr>\n",
       "    <tr>\n",
       "      <th>...</th>\n",
       "      <td>...</td>\n",
       "      <td>...</td>\n",
       "      <td>...</td>\n",
       "      <td>...</td>\n",
       "      <td>...</td>\n",
       "      <td>...</td>\n",
       "      <td>...</td>\n",
       "      <td>...</td>\n",
       "    </tr>\n",
       "    <tr>\n",
       "      <th>2021-10-10 21:58:59.977999</th>\n",
       "      <td>2.0</td>\n",
       "      <td>238.355</td>\n",
       "      <td>72.652</td>\n",
       "      <td>17317.340</td>\n",
       "      <td>15737.509</td>\n",
       "      <td>7199.959</td>\n",
       "      <td>0.909</td>\n",
       "      <td>120.000</td>\n",
       "    </tr>\n",
       "    <tr>\n",
       "      <th>2021-10-10 21:58:59.977999</th>\n",
       "      <td>3.0</td>\n",
       "      <td>240.334</td>\n",
       "      <td>51.660</td>\n",
       "      <td>12413.401</td>\n",
       "      <td>11972.006</td>\n",
       "      <td>2954.762</td>\n",
       "      <td>0.965</td>\n",
       "      <td>120.000</td>\n",
       "    </tr>\n",
       "    <tr>\n",
       "      <th>2021-10-10 21:59:00.043999</th>\n",
       "      <td>1.0</td>\n",
       "      <td>238.576</td>\n",
       "      <td>77.840</td>\n",
       "      <td>18562.294</td>\n",
       "      <td>18113.239</td>\n",
       "      <td>3743.002</td>\n",
       "      <td>0.975</td>\n",
       "      <td>120.000</td>\n",
       "    </tr>\n",
       "    <tr>\n",
       "      <th>2021-10-10 21:59:00.043999</th>\n",
       "      <td>2.0</td>\n",
       "      <td>238.355</td>\n",
       "      <td>72.634</td>\n",
       "      <td>17311.116</td>\n",
       "      <td>15728.892</td>\n",
       "      <td>7164.533</td>\n",
       "      <td>0.909</td>\n",
       "      <td>120.000</td>\n",
       "    </tr>\n",
       "    <tr>\n",
       "      <th>2021-10-10 21:59:00.043999</th>\n",
       "      <td>3.0</td>\n",
       "      <td>240.332</td>\n",
       "      <td>51.643</td>\n",
       "      <td>12408.374</td>\n",
       "      <td>11996.422</td>\n",
       "      <td>2984.683</td>\n",
       "      <td>0.965</td>\n",
       "      <td>120.000</td>\n",
       "    </tr>\n",
       "  </tbody>\n",
       "</table>\n",
       "<p>9303414 rows × 8 columns</p>\n",
       "</div>"
      ],
      "text/plain": [
       "                              L        V       I          S          P  \\\n",
       "t                                                                        \n",
       "2021-10-07 21:59:00.252999  1.0  238.590  62.480  14900.677  14044.936   \n",
       "2021-10-07 21:59:00.252999  2.0  238.641  63.201  15081.400  13020.679   \n",
       "2021-10-07 21:59:00.252999  3.0  240.329  61.068  14673.517  12711.654   \n",
       "2021-10-07 21:59:00.337000  1.0  238.586  62.477  14900.438  14019.084   \n",
       "2021-10-07 21:59:00.337000  2.0  238.649  63.189  15080.443  13012.301   \n",
       "...                         ...      ...     ...        ...        ...   \n",
       "2021-10-10 21:58:59.977999  2.0  238.355  72.652  17317.340  15737.509   \n",
       "2021-10-10 21:58:59.977999  3.0  240.334  51.660  12413.401  11972.006   \n",
       "2021-10-10 21:59:00.043999  1.0  238.576  77.840  18562.294  18113.239   \n",
       "2021-10-10 21:59:00.043999  2.0  238.355  72.634  17311.116  15728.892   \n",
       "2021-10-10 21:59:00.043999  3.0  240.332  51.643  12408.374  11996.422   \n",
       "\n",
       "                                   Q     PF      PHI  \n",
       "t                                                     \n",
       "2021-10-07 21:59:00.252999 -2521.506  0.945   95.407  \n",
       "2021-10-07 21:59:00.252999 -5455.443  0.864   92.011  \n",
       "2021-10-07 21:59:00.252999 -5765.186  0.867  120.000  \n",
       "2021-10-07 21:59:00.337000 -2534.910  0.945  120.000  \n",
       "2021-10-07 21:59:00.337000 -5449.459  0.864  120.000  \n",
       "...                              ...    ...      ...  \n",
       "2021-10-10 21:58:59.977999  7199.959  0.909  120.000  \n",
       "2021-10-10 21:58:59.977999  2954.762  0.965  120.000  \n",
       "2021-10-10 21:59:00.043999  3743.002  0.975  120.000  \n",
       "2021-10-10 21:59:00.043999  7164.533  0.909  120.000  \n",
       "2021-10-10 21:59:00.043999  2984.683  0.965  120.000  \n",
       "\n",
       "[9303414 rows x 8 columns]"
      ]
     },
     "execution_count": 5,
     "metadata": {},
     "output_type": "execute_result"
    }
   ],
   "source": [
    "df"
   ]
  },
  {
   "cell_type": "code",
   "execution_count": 3,
   "metadata": {},
   "outputs": [],
   "source": [
    "kw = query_table(table='g_5fe33f53923d596335e69d41_kw')"
   ]
  },
  {
   "cell_type": "code",
   "execution_count": 4,
   "metadata": {},
   "outputs": [
    {
     "data": {
      "text/html": [
       "<div>\n",
       "<style scoped>\n",
       "    .dataframe tbody tr th:only-of-type {\n",
       "        vertical-align: middle;\n",
       "    }\n",
       "\n",
       "    .dataframe tbody tr th {\n",
       "        vertical-align: top;\n",
       "    }\n",
       "\n",
       "    .dataframe thead th {\n",
       "        text-align: right;\n",
       "    }\n",
       "</style>\n",
       "<table border=\"1\" class=\"dataframe\">\n",
       "  <thead>\n",
       "    <tr style=\"text-align: right;\">\n",
       "      <th></th>\n",
       "      <th>kw</th>\n",
       "    </tr>\n",
       "    <tr>\n",
       "      <th>t</th>\n",
       "      <th></th>\n",
       "    </tr>\n",
       "  </thead>\n",
       "  <tbody>\n",
       "    <tr>\n",
       "      <th>2021-10-07 21:59:00.252999</th>\n",
       "      <td>39.842811</td>\n",
       "    </tr>\n",
       "    <tr>\n",
       "      <th>2021-10-07 21:59:00.337000</th>\n",
       "      <td>39.828557</td>\n",
       "    </tr>\n",
       "    <tr>\n",
       "      <th>2021-10-07 21:59:00.420000</th>\n",
       "      <td>39.798591</td>\n",
       "    </tr>\n",
       "    <tr>\n",
       "      <th>2021-10-07 21:59:00.503999</th>\n",
       "      <td>39.824225</td>\n",
       "    </tr>\n",
       "    <tr>\n",
       "      <th>2021-10-07 21:59:00.587000</th>\n",
       "      <td>39.828363</td>\n",
       "    </tr>\n",
       "    <tr>\n",
       "      <th>...</th>\n",
       "      <td>...</td>\n",
       "    </tr>\n",
       "    <tr>\n",
       "      <th>2021-10-10 21:58:59.724999</th>\n",
       "      <td>45.807989</td>\n",
       "    </tr>\n",
       "    <tr>\n",
       "      <th>2021-10-10 21:58:59.805999</th>\n",
       "      <td>45.796391</td>\n",
       "    </tr>\n",
       "    <tr>\n",
       "      <th>2021-10-10 21:58:59.890000</th>\n",
       "      <td>45.854244</td>\n",
       "    </tr>\n",
       "    <tr>\n",
       "      <th>2021-10-10 21:58:59.977999</th>\n",
       "      <td>45.835761</td>\n",
       "    </tr>\n",
       "    <tr>\n",
       "      <th>2021-10-10 21:59:00.043999</th>\n",
       "      <td>45.820775</td>\n",
       "    </tr>\n",
       "  </tbody>\n",
       "</table>\n",
       "<p>3101138 rows × 1 columns</p>\n",
       "</div>"
      ],
      "text/plain": [
       "                                   kw\n",
       "t                                    \n",
       "2021-10-07 21:59:00.252999  39.842811\n",
       "2021-10-07 21:59:00.337000  39.828557\n",
       "2021-10-07 21:59:00.420000  39.798591\n",
       "2021-10-07 21:59:00.503999  39.824225\n",
       "2021-10-07 21:59:00.587000  39.828363\n",
       "...                               ...\n",
       "2021-10-10 21:58:59.724999  45.807989\n",
       "2021-10-10 21:58:59.805999  45.796391\n",
       "2021-10-10 21:58:59.890000  45.854244\n",
       "2021-10-10 21:58:59.977999  45.835761\n",
       "2021-10-10 21:59:00.043999  45.820775\n",
       "\n",
       "[3101138 rows x 1 columns]"
      ]
     },
     "execution_count": 4,
     "metadata": {},
     "output_type": "execute_result"
    }
   ],
   "source": [
    "kw"
   ]
  },
  {
   "cell_type": "code",
   "execution_count": 5,
   "metadata": {},
   "outputs": [
    {
     "data": {
      "text/plain": [
       "Timedelta('2 days 23:59:59.791000')"
      ]
     },
     "execution_count": 5,
     "metadata": {},
     "output_type": "execute_result"
    }
   ],
   "source": [
    "kw.index.max() - kw.index.min()"
   ]
  },
  {
   "cell_type": "code",
   "execution_count": 6,
   "metadata": {},
   "outputs": [
    {
     "data": {
      "text/plain": [
       "[<matplotlib.lines.Line2D at 0x7f7d41df0f10>]"
      ]
     },
     "execution_count": 6,
     "metadata": {},
     "output_type": "execute_result"
    },
    {
     "data": {
      "image/png": "[encoded data removed]",
      "text/plain": [
       "<Figure size 1440x576 with 1 Axes>"
      ]
     },
     "metadata": {
      "needs_background": "light"
     },
     "output_type": "display_data"
    }
   ],
   "source": [
    "plt.figure(figsize=(20, 8))\n",
    "plt.plot(kw.index, kw.kw)"
   ]
  },
  {
   "cell_type": "code",
   "execution_count": 7,
   "metadata": {},
   "outputs": [
    {
     "data": {
      "image/png": "[encoded data removed]",
      "text/plain": [
       "<Figure size 864x432 with 1 Axes>"
      ]
     },
     "metadata": {
      "needs_background": "light"
     },
     "output_type": "display_data"
    }
   ],
   "source": [
    "plt.figure(figsize=(12, 6))\n",
    "plt.hist(x=kw.kw, bins=30)\n",
    "plt.show()"
   ]
  }
 ],
 "metadata": {
  "interpreter": {
   "hash": "55f578ea790fce859303417df5f33993e9db329ffe5a387d7c54812db965934b"
  },
  "kernelspec": {
   "display_name": "Python 3.8.12 64-bit ('thesis': conda)",
   "language": "python",
   "name": "python3"
  },
  "language_info": {
   "codemirror_mode": {
    "name": "ipython",
    "version": 3
   },
   "file_extension": ".py",
   "mimetype": "text/x-python",
   "name": "python",
   "nbconvert_exporter": "python",
   "pygments_lexer": "ipython3",
   "version": "3.8.12"
  },
  "orig_nbformat": 4
 },
 "nbformat": 4,
 "nbformat_minor": 2
}
