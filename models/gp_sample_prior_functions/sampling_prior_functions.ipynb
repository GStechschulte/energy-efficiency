{
 "cells": [
  {
   "cell_type": "code",
   "execution_count": null,
   "metadata": {},
   "outputs": [],
   "source": [
    "import torch\n",
    "import gpytorch\n",
    "import matplotlib.pyplot as plt\n",
    "import seaborn as sns\n",
    "from matplotlib import cm\n",
    "import numpy as np\n",
    "plt.style.use('ggplot')"
   ]
  },
  {
   "cell_type": "markdown",
   "metadata": {},
   "source": [
    "## Individual Kernels"
   ]
  },
  {
   "cell_type": "markdown",
   "metadata": {},
   "source": [
    "### Radial Basis Kernel"
   ]
  },
  {
   "cell_type": "code",
   "execution_count": null,
   "metadata": {},
   "outputs": [],
   "source": [
    "x = torch.linspace(-4, 4, 150).reshape(-1, 1)"
   ]
  },
  {
   "cell_type": "code",
   "execution_count": null,
   "metadata": {},
   "outputs": [],
   "source": [
    "# 1\n",
    "lengthscale_constraint_1 = gpytorch.constraints.Interval(0.99, 1)\n",
    "outputscale_constraint_1 = gpytorch.constraints.Interval(0.99, 1)\n",
    "\n",
    "# 2\n",
    "lengthscale_constraint_2 = gpytorch.constraints.Interval(0.3, 0.31)\n",
    "outputscale_constraint_2 = gpytorch.constraints.Interval(0.99, 1)\n",
    "\n",
    "# 3\n",
    "lengthscale_constraint_3 = gpytorch.constraints.Interval(2, 2.1)\n",
    "outputscale_constraint_3 = gpytorch.constraints.Interval(0.99, 1)"
   ]
  },
  {
   "cell_type": "code",
   "execution_count": null,
   "metadata": {},
   "outputs": [],
   "source": [
    "rbf_kernel = gpytorch.kernels.ScaleKernel(\n",
    "    gpytorch.kernels.RBFKernel(\n",
    "        lengthscale_constraint=lengthscale_constraint_1\n",
    "    ),\n",
    "    outputscale_constraint=outputscale_constraint_1\n",
    "    )\n",
    "\n",
    "kernel_func = rbf_kernel(x)\n",
    "\n",
    "mvd = gpytorch.distributions.MultivariateNormal(\n",
    "    mean=torch.zeros(150),\n",
    "    covariance_matrix=kernel_func\n",
    ")\n",
    "\n",
    "mvd_samples_1 = mvd.sample(torch.Size([1]))"
   ]
  },
  {
   "cell_type": "code",
   "execution_count": null,
   "metadata": {},
   "outputs": [],
   "source": [
    "rbf_kernel = gpytorch.kernels.ScaleKernel(\n",
    "    gpytorch.kernels.RBFKernel(\n",
    "        lengthscale_constraint=lengthscale_constraint_2\n",
    "    ),\n",
    "    outputscale_constraint=outputscale_constraint_2\n",
    "    )\n",
    "\n",
    "kernel_func = rbf_kernel(x)\n",
    "\n",
    "mvd = gpytorch.distributions.MultivariateNormal(\n",
    "    mean=torch.zeros(150),\n",
    "    covariance_matrix=kernel_func\n",
    ")\n",
    "\n",
    "mvd_samples_2 = mvd.sample(torch.Size([1]))"
   ]
  },
  {
   "cell_type": "code",
   "execution_count": null,
   "metadata": {},
   "outputs": [],
   "source": [
    "rbf_kernel = gpytorch.kernels.ScaleKernel(\n",
    "    gpytorch.kernels.RBFKernel(\n",
    "        lengthscale_constraint=lengthscale_constraint_3\n",
    "    ),\n",
    "    outputscale_constraint=outputscale_constraint_3\n",
    "    )\n",
    "\n",
    "kernel_func = rbf_kernel(x)\n",
    "\n",
    "mvd = gpytorch.distributions.MultivariateNormal(\n",
    "    mean=torch.zeros(150),\n",
    "    covariance_matrix=kernel_func\n",
    ")\n",
    "\n",
    "mvd_samples_3 = mvd.sample(torch.Size([1]))"
   ]
  },
  {
   "cell_type": "code",
   "execution_count": null,
   "metadata": {},
   "outputs": [],
   "source": [
    "samples = torch.concat((mvd_samples_1, mvd_samples_2, mvd_samples_3))\n",
    "\n",
    "plt.figure(figsize=(16, 6))\n",
    "[plt.plot(x, sample) for sample in samples]\n",
    "plt.ylabel('Y', size=14)\n",
    "plt.xticks(fontsize=14)\n",
    "plt.xlabel('X', size=14)\n",
    "plt.xticks(fontsize=14)\n",
    "plt.title('Samples from Prior RBF Kernel')\n",
    "plt.legend([\n",
    "    '$\\ell = 1$, $\\sigma = 1$',\n",
    "    '$\\ell = 0.3$, $\\sigma = 1$',\n",
    "    '$\\ell = 2$, $\\sigma = 1$'],\n",
    "    fontsize=14)\n",
    "plt.show()"
   ]
  },
  {
   "cell_type": "code",
   "execution_count": null,
   "metadata": {},
   "outputs": [],
   "source": [
    "plt.figure(figsize=(8, 6))\n",
    "plt.imshow(kernel_func.evaluate(), cmap=cm.YlGnBu, origin='lower')\n",
    "plt.xlabel('X', fontsize=13)\n",
    "plt.ylabel('X', fontsize=13)\n",
    "cbar = plt.colorbar()\n",
    "cbar.ax.set_ylabel('$K(X, X)$', fontsize=13)\n",
    "plt.show()"
   ]
  },
  {
   "cell_type": "markdown",
   "metadata": {},
   "source": [
    "### Periodic Kernel"
   ]
  },
  {
   "cell_type": "code",
   "execution_count": null,
   "metadata": {},
   "outputs": [],
   "source": [
    "x = torch.linspace(-4, 4, 150).reshape(-1, 1)"
   ]
  },
  {
   "cell_type": "code",
   "execution_count": null,
   "metadata": {},
   "outputs": [],
   "source": [
    "periodic_prior_1 = gpytorch.constraints.Interval(1, 1.01)\n",
    "periodic_lengthscale_prior_1 = gpytorch.priors.GammaPrior(1, 1)\n",
    "#periodic_outputscale_prior_1 = gpytorch.constraints.Interval(5, 6)\n",
    "\n",
    "periodic_prior_2 = gpytorch.constraints.Interval(0.5, 0.51)\n",
    "periodic_lengthscale_prior_2 = gpytorch.priors.GammaPrior(1, 1)\n",
    "#periodic_outputscale_prior_2 = gpytorch.constraints.Interval(5, 6)\n",
    "\n",
    "periodic_prior_3 = gpytorch.constraints.Interval(1, 1.1)\n",
    "periodic_lengthscale_prior_3 = gpytorch.priors.GammaPrior(2, 1)\n",
    "#periodic_outputscale_prior_3 = gpytorch.constraints.Interval(5, 6)\n",
    "\n",
    "outputscale = gpytorch.constraints.Interval(1, 1.01)"
   ]
  },
  {
   "cell_type": "code",
   "execution_count": null,
   "metadata": {},
   "outputs": [],
   "source": [
    "periodic_kernel = gpytorch.kernels.ScaleKernel(\n",
    "    gpytorch.kernels.PeriodicKernel(\n",
    "    period_length_constraint=periodic_prior_1\n",
    "    ),\n",
    "    outputscale_constraint=outputscale\n",
    ")\n",
    "\n",
    "periodic_kernel.base_kernel.lengthscale = periodic_lengthscale_prior_1.mean\n",
    "\n",
    "periodic_kernel_func = periodic_kernel(x)\n",
    "\n",
    "mvd = gpytorch.distributions.MultivariateNormal(\n",
    "    mean=torch.zeros(150),\n",
    "    covariance_matrix=periodic_kernel_func\n",
    ")\n",
    "\n",
    "mvd_samples_1 = mvd.sample(torch.Size([1]))"
   ]
  },
  {
   "cell_type": "code",
   "execution_count": null,
   "metadata": {},
   "outputs": [],
   "source": [
    "periodic_kernel = gpytorch.kernels.ScaleKernel(\n",
    "    gpytorch.kernels.PeriodicKernel(\n",
    "    period_length_constraint=periodic_prior_2\n",
    "    ),\n",
    "    outputscale_constraint=outputscale\n",
    ")\n",
    "\n",
    "periodic_kernel.base_kernel.lengthscale = periodic_lengthscale_prior_2.mean\n",
    "\n",
    "periodic_kernel_func = periodic_kernel(x)\n",
    "\n",
    "mvd = gpytorch.distributions.MultivariateNormal(\n",
    "    mean=torch.zeros(150),\n",
    "    covariance_matrix=periodic_kernel_func\n",
    ")\n",
    "\n",
    "mvd_samples_2 = mvd.sample(torch.Size([1]))"
   ]
  },
  {
   "cell_type": "code",
   "execution_count": null,
   "metadata": {},
   "outputs": [],
   "source": [
    "periodic_kernel = gpytorch.kernels.ScaleKernel(\n",
    "    gpytorch.kernels.PeriodicKernel(\n",
    "    period_length_constraint=periodic_prior_3\n",
    "    ),\n",
    "    outputscale_constraint=outputscale\n",
    ")\n",
    "\n",
    "periodic_kernel.base_kernel.lengthscale = periodic_lengthscale_prior_3.mean\n",
    "\n",
    "periodic_kernel_func = periodic_kernel(x)\n",
    "\n",
    "mvd = gpytorch.distributions.MultivariateNormal(\n",
    "    mean=torch.zeros(150),\n",
    "    covariance_matrix=periodic_kernel_func\n",
    ")\n",
    "\n",
    "mvd_samples_3 = mvd.sample(torch.Size([1]))"
   ]
  },
  {
   "cell_type": "code",
   "execution_count": null,
   "metadata": {},
   "outputs": [],
   "source": [
    "samples = torch.concat((mvd_samples_1, mvd_samples_2, mvd_samples_3))\n",
    "\n",
    "plt.figure(figsize=(16, 6))\n",
    "[plt.plot(x, sample) for sample in samples]\n",
    "plt.ylabel('Y', size=14)\n",
    "plt.xticks(fontsize=14)\n",
    "plt.xlabel('X', size=14)\n",
    "plt.xticks(fontsize=14)\n",
    "plt.title('Samples from Prior Periodic Kernel')\n",
    "plt.legend([\n",
    "    '$\\ell = 1$, $p = 1$, $\\sigma = 1$',\n",
    "    '$\\ell = 1$, $p = 0.5$, $\\sigma = 1$',\n",
    "    '$\\ell = 2$, $p = 1$, $\\sigma = 1$'],\n",
    "    fontsize=14)\n",
    "plt.show()"
   ]
  },
  {
   "cell_type": "markdown",
   "metadata": {},
   "source": [
    "### Rational Quadratic Kernel"
   ]
  },
  {
   "cell_type": "code",
   "execution_count": 2,
   "metadata": {},
   "outputs": [],
   "source": [
    "x = torch.linspace(-4, 4, 150).reshape(-1, 1)"
   ]
  },
  {
   "cell_type": "code",
   "execution_count": 29,
   "metadata": {},
   "outputs": [],
   "source": [
    "#alpha_1 = gpytorch.priors.GammaPrior(2, 0.5)\n",
    "alpha_const_1 = gpytorch.constraints.Interval(1, 1.01)\n",
    "length_const_1 = gpytorch.constraints.Interval(1, 1.01)\n",
    "\n",
    "#alpha_2 = gpytorch.priors.GammaPrior(2, 0.5)\n",
    "alpha_const_2 = gpytorch.constraints.Interval(1, 1.01)\n",
    "length_const_2 = gpytorch.constraints.Interval(0.2, 0.201)\n",
    "\n",
    "#alpha_3 = gpytorch.priors.GammaPrior(2, 0.5)\n",
    "alpha_const_3 = gpytorch.constraints.Interval(1000, 1001)\n",
    "length_const_3 = gpytorch.constraints.Interval(1, 1.01)\n",
    "\n",
    "outputscale = gpytorch.constraints.Interval(1, 1.01)"
   ]
  },
  {
   "cell_type": "code",
   "execution_count": 34,
   "metadata": {},
   "outputs": [
    {
     "name": "stderr",
     "output_type": "stream",
     "text": [
      "/Users/wastechs/opt/anaconda3/envs/thesis/lib/python3.8/site-packages/gpytorch/utils/cholesky.py:38: NumericalWarning: A not p.d., added jitter of 1.0e-06 to the diagonal\n",
      "  warnings.warn(\n",
      "/Users/wastechs/opt/anaconda3/envs/thesis/lib/python3.8/site-packages/gpytorch/utils/cholesky.py:38: NumericalWarning: A not p.d., added jitter of 1.0e-05 to the diagonal\n",
      "  warnings.warn(\n"
     ]
    }
   ],
   "source": [
    "rational_quadratic = gpytorch.kernels.ScaleKernel(\n",
    "    gpytorch.kernels.RQKernel(\n",
    "        alpha_constraint=alpha_const_1,\n",
    "        lengthscale_constraint=length_const_1\n",
    "    ),\n",
    "    outputscale_constraint=outputscale\n",
    ")\n",
    "\n",
    "rational_quadratic_func = rational_quadratic(x)\n",
    "\n",
    "mvd = gpytorch.distributions.MultivariateNormal(\n",
    "    mean=torch.zeros(150),\n",
    "    covariance_matrix=rational_quadratic_func\n",
    ")\n",
    "\n",
    "mvd_samples_1 = mvd.sample(torch.Size([1]))"
   ]
  },
  {
   "cell_type": "code",
   "execution_count": 35,
   "metadata": {},
   "outputs": [],
   "source": [
    "rational_quadratic = gpytorch.kernels.ScaleKernel(\n",
    "    gpytorch.kernels.RQKernel(\n",
    "        alpha_constraint=alpha_const_2,\n",
    "        lengthscale_constraint=length_const_2\n",
    "    ),\n",
    "    outputscale_constraint=outputscale\n",
    ")\n",
    "\n",
    "rational_quadratic_func = rational_quadratic(x)\n",
    "\n",
    "mvd = gpytorch.distributions.MultivariateNormal(\n",
    "    mean=torch.zeros(150),\n",
    "    covariance_matrix=rational_quadratic_func\n",
    ")\n",
    "\n",
    "mvd_samples_2 = mvd.sample(torch.Size([1]))"
   ]
  },
  {
   "cell_type": "code",
   "execution_count": 36,
   "metadata": {},
   "outputs": [
    {
     "name": "stderr",
     "output_type": "stream",
     "text": [
      "/Users/wastechs/opt/anaconda3/envs/thesis/lib/python3.8/site-packages/gpytorch/utils/cholesky.py:38: NumericalWarning: A not p.d., added jitter of 1.0e-04 to the diagonal\n",
      "  warnings.warn(\n",
      "/Users/wastechs/opt/anaconda3/envs/thesis/lib/python3.8/site-packages/gpytorch/lazy/lazy_tensor.py:1687: NumericalWarning: Runtime Error when computing Cholesky decomposition: Matrix not positive definite after repeatedly adding jitter up to 1.0e-04.. Using symeig method.\n",
      "  warnings.warn(\n"
     ]
    }
   ],
   "source": [
    "rational_quadratic = gpytorch.kernels.ScaleKernel(\n",
    "    gpytorch.kernels.RQKernel(\n",
    "        alpha_constraint=alpha_const_3,\n",
    "        lengthscale_constraint=length_const_3\n",
    "    ),\n",
    "    outputscale_constraint=outputscale\n",
    ")\n",
    "\n",
    "rational_quadratic_func = rational_quadratic(x)\n",
    "\n",
    "mvd = gpytorch.distributions.MultivariateNormal(\n",
    "    mean=torch.zeros(150),\n",
    "    covariance_matrix=rational_quadratic_func\n",
    ")\n",
    "\n",
    "mvd_samples_3 = mvd.sample(torch.Size([1]))"
   ]
  },
  {
   "cell_type": "code",
   "execution_count": 37,
   "metadata": {},
   "outputs": [
    {
     "data": {
      "image/png": "[encoded data removed]",
      "text/plain": [
       "<Figure size 1152x432 with 1 Axes>"
      ]
     },
     "metadata": {},
     "output_type": "display_data"
    }
   ],
   "source": [
    "samples = torch.concat((mvd_samples_1, mvd_samples_2, mvd_samples_3))\n",
    "\n",
    "plt.figure(figsize=(16, 6))\n",
    "[plt.plot(x, sample) for sample in samples]\n",
    "plt.ylabel('Y', size=14)\n",
    "plt.xticks(fontsize=14)\n",
    "plt.xlabel('X', size=14)\n",
    "plt.xticks(fontsize=14)\n",
    "plt.title('Samples from Prior Rational Quadratic Kernel')\n",
    "plt.legend([\n",
    "    '$\\ell = 1$, $\\\\alpha = 1$, $\\sigma = 1$',\n",
    "    '$\\ell = 0.2$, $\\\\alpha = 1$, $\\sigma = 1$',\n",
    "    '$\\ell = 1$, $\\\\alpha = 1000$, $\\sigma = 1$'],\n",
    "    fontsize=14)\n",
    "plt.show()"
   ]
  },
  {
   "cell_type": "code",
   "execution_count": null,
   "metadata": {},
   "outputs": [],
   "source": [
    "x = torch.linspace(-2, 2, 150).reshape(-1, 1)"
   ]
  },
  {
   "cell_type": "code",
   "execution_count": null,
   "metadata": {},
   "outputs": [],
   "source": [
    "#periodic_prior = gpytorch.priors.GammaPrior(2, 1)\n",
    "#periodic_lengthscale_prior = gpytorch.priors.GammaPrior(2, 1)\n",
    "nu = 3/2\n",
    "mat_lengthscale = gpytorch.constraints.Interval(0.2, 0.201)\n",
    "\n",
    "matern = gpytorch.kernels.ScaleKernel(\n",
    "    gpytorch.kernels.MaternKernel(\n",
    "        nu=nu,\n",
    "        lengthscale_constraint=mat_lengthscale)\n",
    ")\n",
    "\n",
    "#periodic_kernel.lengthscale = periodic_lengthscale_prior.mean\n",
    "\n",
    "matern_func = matern(x)\n",
    "\n",
    "mvd = gpytorch.distributions.MultivariateNormal(\n",
    "    mean=torch.zeros(150),\n",
    "    covariance_matrix=matern_func\n",
    ")\n",
    "\n",
    "mvd_samples = mvd.sample(torch.Size([5]))\n",
    "\n",
    "plt.figure(figsize=(16, 6))\n",
    "[plt.plot(x, sample) for sample in mvd_samples]\n",
    "plt.title('Samples from Prior Matern Kernel')\n",
    "plt.show()"
   ]
  },
  {
   "cell_type": "markdown",
   "metadata": {},
   "source": [
    "## Kernel Compositions"
   ]
  },
  {
   "cell_type": "markdown",
   "metadata": {},
   "source": [
    "### Quasi-Periodic\n",
    "\n",
    "Product of stationary kernel with a non-stationary kernel. Product means probabilistic \"AND\""
   ]
  },
  {
   "cell_type": "code",
   "execution_count": null,
   "metadata": {},
   "outputs": [],
   "source": [
    "local_kernel_func = gpytorch.kernels.ProductKernel(periodic_kernel, rational_quadratic)\n",
    "local_kernel = local_kernel_func(x)\n",
    "\n",
    "mvd = gpytorch.distributions.MultivariateNormal(\n",
    "    mean=torch.zeros(150),\n",
    "    covariance_matrix=local_kernel\n",
    ")\n",
    "\n",
    "mvd_samples = mvd.sample(torch.Size([5]))"
   ]
  },
  {
   "cell_type": "code",
   "execution_count": null,
   "metadata": {},
   "outputs": [],
   "source": [
    "plt.figure(figsize=(16, 6))\n",
    "[plt.plot(x, sample) for sample in mvd_samples]\n",
    "plt.title('Samples from Prior Locally Periodic Kernel')\n",
    "plt.show()"
   ]
  },
  {
   "cell_type": "markdown",
   "metadata": {},
   "source": [
    "### Addition\n",
    "\n",
    "Adding kernels is an elementwise addition of their corresponding covariance matrices. This means the covariances of the matrices of the two added kernels will only have a low value if both of their covariances have a low value\n",
    " - The addition can be interpreted as the probablistic \"OR\""
   ]
  },
  {
   "cell_type": "code",
   "execution_count": null,
   "metadata": {},
   "outputs": [],
   "source": [
    "kernel_func = gpytorch.kernels.AdditiveKernel(rbf_kernel, periodic_kernel)\n",
    "kernel = kernel_func(x)\n",
    "\n",
    "mvd = gpytorch.distributions.MultivariateNormal(\n",
    "    mean=torch.zeros(150),\n",
    "    covariance_matrix=kernel\n",
    ")\n",
    "\n",
    "mvd_samples = mvd.sample(torch.Size([5]))"
   ]
  },
  {
   "cell_type": "code",
   "execution_count": null,
   "metadata": {},
   "outputs": [],
   "source": [
    "plt.figure(figsize=(16, 6))\n",
    "[plt.plot(x, sample) for sample in mvd_samples]\n",
    "plt.title('Samples from Prior Additive Kernel')\n",
    "plt.show()"
   ]
  },
  {
   "cell_type": "code",
   "execution_count": null,
   "metadata": {},
   "outputs": [],
   "source": []
  }
 ],
 "metadata": {
  "interpreter": {
   "hash": "55f578ea790fce859303417df5f33993e9db329ffe5a387d7c54812db965934b"
  },
  "kernelspec": {
   "display_name": "Python 3.8.12 ('thesis')",
   "language": "python",
   "name": "python3"
  },
  "language_info": {
   "codemirror_mode": {
    "name": "ipython",
    "version": 3
   },
   "file_extension": ".py",
   "mimetype": "text/x-python",
   "name": "python",
   "nbconvert_exporter": "python",
   "pygments_lexer": "ipython3",
   "version": "3.8.12"
  },
  "orig_nbformat": 4
 },
 "nbformat": 4,
 "nbformat_minor": 2
}
