{
 "cells": [
  {
   "cell_type": "code",
   "execution_count": 30,
   "metadata": {},
   "outputs": [],
   "source": [
    "import pandas as pd\n",
    "import numpy as np\n",
    "import os\n",
    "import matplotlib.pyplot as plt\n",
    "import scipy.stats as stats\n",
    "import sys\n",
    "sys.path.append('/Users/wastechs/Documents/git-repos/energy-efficiency')\n",
    "from lib.util.helper import query_table, weekday_time_series\n",
    "import seaborn as sns\n",
    "import plotly.express as px\n",
    "from prophet import Prophet\n",
    "from prophet.diagnostics import cross_validation\n",
    "from sklearn.preprocessing import StandardScaler\n",
    "from sklearn.metrics import mean_absolute_percentage_error, mean_squared_error\n",
    "import plotly\n",
    "import torch\n",
    "import gpytorch"
   ]
  },
  {
   "cell_type": "code",
   "execution_count": 31,
   "metadata": {},
   "outputs": [],
   "source": [
    "hauptluftung = weekday_time_series(sensor_id='hauptluftung_30T')"
   ]
  },
  {
   "cell_type": "code",
   "execution_count": 32,
   "metadata": {},
   "outputs": [],
   "source": [
    "hauptluftung['kw'] = round(hauptluftung['kw'], 2)"
   ]
  },
  {
   "cell_type": "code",
   "execution_count": 33,
   "metadata": {},
   "outputs": [
    {
     "data": {
      "application/vnd.plotly.v1+json": {
       "config": {
        "plotlyServerURL": "https://plot.ly"
       },
       "data": [
        {
         "hovertemplate": "Time=%{x}<br>kW=%{y}<extra></extra>",
         "legendgroup": "",
         "line": {
          "color": "#636efa",
          "dash": "solid"
         },
         "marker": {
          "symbol": "circle"
         },
         "mode": "lines",
         "name": "",
         "orientation": "v",
         "showlegend": false,
         "type": "scatter",
         "x": [
          "2021-10-11T00:00:00",
          "2021-10-11T00:30:00",
          "2021-10-11T01:00:00",
          "2021-10-11T01:30:00",
          "2021-10-11T02:00:00",
          "2021-10-11T02:30:00",
          "2021-10-11T03:00:00",
          "2021-10-11T03:30:00",
          "2021-10-11T04:00:00",
          "2021-10-11T04:30:00",
          "2021-10-11T05:00:00",
          "2021-10-11T05:30:00",
          "2021-10-11T06:00:00",
          "2021-10-11T06:30:00",
          "2021-10-11T07:00:00",
          "2021-10-11T07:30:00",
          "2021-10-11T08:00:00",
          "2021-10-11T08:30:00",
          "2021-10-11T09:00:00",
          "2021-10-11T09:30:00",
          "2021-10-11T10:00:00",
          "2021-10-11T10:30:00",
          "2021-10-11T11:00:00",
          "2021-10-11T11:30:00",
          "2021-10-11T12:00:00",
          "2021-10-11T12:30:00",
          "2021-10-11T13:00:00",
          "2021-10-11T13:30:00",
          "2021-10-11T14:00:00",
          "2021-10-11T14:30:00",
          "2021-10-11T15:00:00",
          "2021-10-11T15:30:00",
          "2021-10-11T16:00:00",
          "2021-10-11T16:30:00",
          "2021-10-11T17:00:00",
          "2021-10-11T17:30:00",
          "2021-10-11T18:00:00",
          "2021-10-11T18:30:00",
          "2021-10-11T19:00:00",
          "2021-10-11T19:30:00",
          "2021-10-11T20:00:00",
          "2021-10-11T20:30:00",
          "2021-10-11T21:00:00",
          "2021-10-11T21:30:00",
          "2021-10-11T22:00:00",
          "2021-10-11T22:30:00",
          "2021-10-11T23:00:00",
          "2021-10-11T23:30:00",
          "2021-10-12T00:00:00",
          "2021-10-12T00:30:00",
          "2021-10-12T01:00:00",
          "2021-10-12T01:30:00",
          "2021-10-12T02:00:00",
          "2021-10-12T02:30:00",
          "2021-10-12T03:00:00",
          "2021-10-12T03:30:00",
          "2021-10-12T04:00:00",
          "2021-10-12T04:30:00",
          "2021-10-12T05:00:00",
          "2021-10-12T05:30:00",
          "2021-10-12T06:00:00",
          "2021-10-12T06:30:00",
          "2021-10-12T07:00:00",
          "2021-10-12T07:30:00",
          "2021-10-12T08:00:00",
          "2021-10-12T08:30:00",
          "2021-10-12T09:00:00",
          "2021-10-12T09:30:00",
          "2021-10-12T10:00:00",
          "2021-10-12T10:30:00",
          "2021-10-12T11:00:00",
          "2021-10-12T11:30:00",
          "2021-10-12T12:00:00",
          "2021-10-12T12:30:00",
          "2021-10-12T13:00:00",
          "2021-10-12T13:30:00",
          "2021-10-12T14:00:00",
          "2021-10-12T14:30:00",
          "2021-10-12T15:00:00",
          "2021-10-12T15:30:00",
          "2021-10-12T16:00:00",
          "2021-10-12T16:30:00",
          "2021-10-12T17:00:00",
          "2021-10-12T17:30:00",
          "2021-10-12T18:00:00",
          "2021-10-12T18:30:00",
          "2021-10-12T19:00:00",
          "2021-10-12T19:30:00",
          "2021-10-12T20:00:00",
          "2021-10-12T20:30:00",
          "2021-10-12T21:00:00",
          "2021-10-12T21:30:00",
          "2021-10-12T22:00:00",
          "2021-10-12T22:30:00",
          "2021-10-12T23:00:00",
          "2021-10-12T23:30:00",
          "2021-10-13T00:00:00",
          "2021-10-13T00:30:00",
          "2021-10-13T01:00:00",
          "2021-10-13T01:30:00",
          "2021-10-13T02:00:00",
          "2021-10-13T02:30:00",
          "2021-10-13T03:00:00",
          "2021-10-13T03:30:00",
          "2021-10-13T04:00:00",
          "2021-10-13T04:30:00",
          "2021-10-13T05:00:00",
          "2021-10-13T05:30:00",
          "2021-10-13T06:00:00",
          "2021-10-13T06:30:00",
          "2021-10-13T07:00:00",
          "2021-10-13T07:30:00",
          "2021-10-13T08:00:00",
          "2021-10-13T08:30:00",
          "2021-10-13T09:00:00",
          "2021-10-13T09:30:00",
          "2021-10-13T10:00:00",
          "2021-10-13T10:30:00",
          "2021-10-13T11:00:00",
          "2021-10-13T11:30:00",
          "2021-10-13T12:00:00",
          "2021-10-13T12:30:00",
          "2021-10-13T13:00:00",
          "2021-10-13T13:30:00",
          "2021-10-13T14:00:00",
          "2021-10-13T14:30:00",
          "2021-10-13T15:00:00",
          "2021-10-13T15:30:00",
          "2021-10-13T16:00:00",
          "2021-10-13T16:30:00",
          "2021-10-13T17:00:00",
          "2021-10-13T17:30:00",
          "2021-10-13T18:00:00",
          "2021-10-13T18:30:00",
          "2021-10-13T19:00:00",
          "2021-10-13T19:30:00",
          "2021-10-13T20:00:00",
          "2021-10-13T20:30:00",
          "2021-10-13T21:00:00",
          "2021-10-13T21:30:00",
          "2021-10-13T22:00:00",
          "2021-10-13T22:30:00",
          "2021-10-13T23:00:00",
          "2021-10-13T23:30:00",
          "2021-10-14T00:00:00",
          "2021-10-14T00:30:00",
          "2021-10-14T01:00:00",
          "2021-10-14T01:30:00",
          "2021-10-14T02:00:00",
          "2021-10-14T02:30:00",
          "2021-10-14T03:00:00",
          "2021-10-14T03:30:00",
          "2021-10-14T04:00:00",
          "2021-10-14T04:30:00",
          "2021-10-14T05:00:00",
          "2021-10-14T05:30:00",
          "2021-10-14T06:00:00",
          "2021-10-14T06:30:00",
          "2021-10-14T07:00:00",
          "2021-10-14T07:30:00",
          "2021-10-14T08:00:00",
          "2021-10-14T08:30:00",
          "2021-10-14T09:00:00",
          "2021-10-14T09:30:00",
          "2021-10-14T10:00:00",
          "2021-10-14T10:30:00",
          "2021-10-14T11:00:00",
          "2021-10-14T11:30:00",
          "2021-10-14T12:00:00",
          "2021-10-14T12:30:00",
          "2021-10-14T13:00:00",
          "2021-10-14T13:30:00",
          "2021-10-14T14:00:00",
          "2021-10-14T14:30:00",
          "2021-10-14T15:00:00",
          "2021-10-14T15:30:00",
          "2021-10-14T16:00:00",
          "2021-10-14T16:30:00",
          "2021-10-14T17:00:00",
          "2021-10-14T17:30:00",
          "2021-10-14T18:00:00",
          "2021-10-14T18:30:00",
          "2021-10-14T19:00:00",
          "2021-10-14T19:30:00",
          "2021-10-14T20:00:00",
          "2021-10-14T20:30:00",
          "2021-10-14T21:00:00",
          "2021-10-14T21:30:00",
          "2021-10-14T22:00:00",
          "2021-10-14T22:30:00",
          "2021-10-14T23:00:00",
          "2021-10-14T23:30:00",
          "2021-10-15T00:00:00",
          "2021-10-15T00:30:00",
          "2021-10-15T01:00:00",
          "2021-10-15T01:30:00",
          "2021-10-15T02:00:00",
          "2021-10-15T02:30:00",
          "2021-10-15T03:00:00",
          "2021-10-15T03:30:00",
          "2021-10-15T04:00:00",
          "2021-10-15T04:30:00",
          "2021-10-15T05:00:00",
          "2021-10-15T05:30:00",
          "2021-10-15T06:00:00",
          "2021-10-15T06:30:00",
          "2021-10-15T07:00:00",
          "2021-10-15T07:30:00",
          "2021-10-15T08:00:00",
          "2021-10-15T08:30:00",
          "2021-10-15T09:00:00",
          "2021-10-15T09:30:00",
          "2021-10-15T10:00:00",
          "2021-10-15T10:30:00",
          "2021-10-15T11:00:00",
          "2021-10-15T11:30:00",
          "2021-10-15T12:00:00",
          "2021-10-15T12:30:00",
          "2021-10-15T13:00:00",
          "2021-10-15T13:30:00",
          "2021-10-15T14:00:00",
          "2021-10-15T14:30:00",
          "2021-10-15T15:00:00",
          "2021-10-15T15:30:00",
          "2021-10-15T16:00:00",
          "2021-10-15T16:30:00",
          "2021-10-15T17:00:00",
          "2021-10-15T17:30:00",
          "2021-10-15T18:00:00",
          "2021-10-15T18:30:00",
          "2021-10-15T19:00:00",
          "2021-10-15T19:30:00",
          "2021-10-15T20:00:00",
          "2021-10-15T20:30:00",
          "2021-10-15T21:00:00",
          "2021-10-15T21:30:00",
          "2021-10-15T22:00:00",
          "2021-10-15T22:30:00",
          "2021-10-15T23:00:00",
          "2021-10-15T23:30:00"
         ],
         "xaxis": "x",
         "y": [
          0.98,
          0.96,
          0.99,
          1,
          0.99,
          1.01,
          1.02,
          0.99,
          0.97,
          0.99,
          3.55,
          3.82,
          3.99,
          2.82,
          3.39,
          4.02,
          4.2,
          7.82,
          7.4,
          6.57,
          7.07,
          5.29,
          4.41,
          3.58,
          4.62,
          3.23,
          3.66,
          2.96,
          2.63,
          2.46,
          2.13,
          1.16,
          1.09,
          1.31,
          1.02,
          1.01,
          1.03,
          1.03,
          1.07,
          1.01,
          1,
          1.07,
          1.1,
          1.03,
          1.06,
          1.03,
          1.05,
          1.03,
          1.07,
          1.02,
          1.04,
          1.02,
          1.1,
          1.05,
          1.04,
          1.01,
          1.06,
          1.06,
          1.17,
          5.76,
          4.22,
          3.51,
          4.24,
          4.01,
          6.07,
          6.02,
          8.51,
          5.92,
          4.9,
          4.57,
          3.67,
          2.38,
          3.78,
          3.23,
          2.82,
          2.43,
          2.37,
          2.31,
          1.16,
          0.84,
          0.84,
          1.45,
          1.16,
          0.87,
          0.85,
          0.86,
          0.9,
          0.9,
          0.84,
          0.9,
          0.93,
          0.93,
          0.85,
          0.9,
          0.87,
          0.85,
          0.91,
          0.87,
          0.89,
          0.86,
          0.91,
          0.93,
          0.9,
          0.87,
          0.87,
          0.94,
          1.94,
          4.52,
          3.7,
          4.72,
          4.98,
          4.56,
          3.78,
          7.92,
          8.3,
          6,
          7.68,
          5.51,
          3.14,
          3.06,
          4.59,
          4.16,
          3.01,
          3.87,
          3.27,
          1.75,
          0.86,
          0.71,
          0.63,
          0.81,
          0.63,
          0.63,
          0.62,
          0.63,
          0.65,
          0.66,
          0.65,
          0.66,
          0.68,
          0.66,
          0.69,
          0.62,
          0.62,
          0.7,
          0.66,
          0.64,
          0.64,
          0.66,
          0.7,
          0.66,
          0.65,
          0.69,
          0.66,
          0.7,
          2,
          5.18,
          4.26,
          5.46,
          4.54,
          3.73,
          4.59,
          6.88,
          7.55,
          6.76,
          6.12,
          5.36,
          4.44,
          2.58,
          4.39,
          4.41,
          2.83,
          2.11,
          1.03,
          1,
          0.79,
          0.77,
          0.76,
          0.84,
          0.77,
          0.76,
          0.83,
          0.79,
          0.82,
          0.77,
          0.81,
          0.88,
          0.81,
          0.82,
          0.81,
          0.8,
          0.86,
          0.81,
          0.81,
          0.81,
          0.82,
          0.82,
          0.87,
          0.81,
          0.86,
          0.84,
          0.82,
          0.87,
          1.56,
          4.91,
          4.04,
          3.74,
          4.04,
          4.09,
          6.14,
          8.42,
          6.89,
          5.69,
          7.01,
          5.71,
          3.65,
          3.37,
          3.37,
          3.09,
          2.59,
          1.89,
          1.91,
          1.23,
          0.9,
          0.78,
          0.8,
          0.85,
          0.82,
          0.83,
          0.78,
          0.81,
          0.85,
          0.8,
          0.83,
          0.89,
          0.83,
          0.83,
          0.83,
          0.81,
          0.84,
          0.85
         ],
         "yaxis": "y"
        }
       ],
       "layout": {
        "legend": {
         "tracegroupgap": 0
        },
        "template": {
         "data": {
          "bar": [
           {
            "error_x": {
             "color": "#2a3f5f"
            },
            "error_y": {
             "color": "#2a3f5f"
            },
            "marker": {
             "line": {
              "color": "#E5ECF6",
              "width": 0.5
             },
             "pattern": {
              "fillmode": "overlay",
              "size": 10,
              "solidity": 0.2
             }
            },
            "type": "bar"
           }
          ],
          "barpolar": [
           {
            "marker": {
             "line": {
              "color": "#E5ECF6",
              "width": 0.5
             },
             "pattern": {
              "fillmode": "overlay",
              "size": 10,
              "solidity": 0.2
             }
            },
            "type": "barpolar"
           }
          ],
          "carpet": [
           {
            "aaxis": {
             "endlinecolor": "#2a3f5f",
             "gridcolor": "white",
             "linecolor": "white",
             "minorgridcolor": "white",
             "startlinecolor": "#2a3f5f"
            },
            "baxis": {
             "endlinecolor": "#2a3f5f",
             "gridcolor": "white",
             "linecolor": "white",
             "minorgridcolor": "white",
             "startlinecolor": "#2a3f5f"
            },
            "type": "carpet"
           }
          ],
          "choropleth": [
           {
            "colorbar": {
             "outlinewidth": 0,
             "ticks": ""
            },
            "type": "choropleth"
           }
          ],
          "contour": [
           {
            "colorbar": {
             "outlinewidth": 0,
             "ticks": ""
            },
            "colorscale": [
             [
              0,
              "#0d0887"
             ],
             [
              0.1111111111111111,
              "#46039f"
             ],
             [
              0.2222222222222222,
              "#7201a8"
             ],
             [
              0.3333333333333333,
              "#9c179e"
             ],
             [
              0.4444444444444444,
              "#bd3786"
             ],
             [
              0.5555555555555556,
              "#d8576b"
             ],
             [
              0.6666666666666666,
              "#ed7953"
             ],
             [
              0.7777777777777778,
              "#fb9f3a"
             ],
             [
              0.8888888888888888,
              "#fdca26"
             ],
             [
              1,
              "#f0f921"
             ]
            ],
            "type": "contour"
           }
          ],
          "contourcarpet": [
           {
            "colorbar": {
             "outlinewidth": 0,
             "ticks": ""
            },
            "type": "contourcarpet"
           }
          ],
          "heatmap": [
           {
            "colorbar": {
             "outlinewidth": 0,
             "ticks": ""
            },
            "colorscale": [
             [
              0,
              "#0d0887"
             ],
             [
              0.1111111111111111,
              "#46039f"
             ],
             [
              0.2222222222222222,
              "#7201a8"
             ],
             [
              0.3333333333333333,
              "#9c179e"
             ],
             [
              0.4444444444444444,
              "#bd3786"
             ],
             [
              0.5555555555555556,
              "#d8576b"
             ],
             [
              0.6666666666666666,
              "#ed7953"
             ],
             [
              0.7777777777777778,
              "#fb9f3a"
             ],
             [
              0.8888888888888888,
              "#fdca26"
             ],
             [
              1,
              "#f0f921"
             ]
            ],
            "type": "heatmap"
           }
          ],
          "heatmapgl": [
           {
            "colorbar": {
             "outlinewidth": 0,
             "ticks": ""
            },
            "colorscale": [
             [
              0,
              "#0d0887"
             ],
             [
              0.1111111111111111,
              "#46039f"
             ],
             [
              0.2222222222222222,
              "#7201a8"
             ],
             [
              0.3333333333333333,
              "#9c179e"
             ],
             [
              0.4444444444444444,
              "#bd3786"
             ],
             [
              0.5555555555555556,
              "#d8576b"
             ],
             [
              0.6666666666666666,
              "#ed7953"
             ],
             [
              0.7777777777777778,
              "#fb9f3a"
             ],
             [
              0.8888888888888888,
              "#fdca26"
             ],
             [
              1,
              "#f0f921"
             ]
            ],
            "type": "heatmapgl"
           }
          ],
          "histogram": [
           {
            "marker": {
             "pattern": {
              "fillmode": "overlay",
              "size": 10,
              "solidity": 0.2
             }
            },
            "type": "histogram"
           }
          ],
          "histogram2d": [
           {
            "colorbar": {
             "outlinewidth": 0,
             "ticks": ""
            },
            "colorscale": [
             [
              0,
              "#0d0887"
             ],
             [
              0.1111111111111111,
              "#46039f"
             ],
             [
              0.2222222222222222,
              "#7201a8"
             ],
             [
              0.3333333333333333,
              "#9c179e"
             ],
             [
              0.4444444444444444,
              "#bd3786"
             ],
             [
              0.5555555555555556,
              "#d8576b"
             ],
             [
              0.6666666666666666,
              "#ed7953"
             ],
             [
              0.7777777777777778,
              "#fb9f3a"
             ],
             [
              0.8888888888888888,
              "#fdca26"
             ],
             [
              1,
              "#f0f921"
             ]
            ],
            "type": "histogram2d"
           }
          ],
          "histogram2dcontour": [
           {
            "colorbar": {
             "outlinewidth": 0,
             "ticks": ""
            },
            "colorscale": [
             [
              0,
              "#0d0887"
             ],
             [
              0.1111111111111111,
              "#46039f"
             ],
             [
              0.2222222222222222,
              "#7201a8"
             ],
             [
              0.3333333333333333,
              "#9c179e"
             ],
             [
              0.4444444444444444,
              "#bd3786"
             ],
             [
              0.5555555555555556,
              "#d8576b"
             ],
             [
              0.6666666666666666,
              "#ed7953"
             ],
             [
              0.7777777777777778,
              "#fb9f3a"
             ],
             [
              0.8888888888888888,
              "#fdca26"
             ],
             [
              1,
              "#f0f921"
             ]
            ],
            "type": "histogram2dcontour"
           }
          ],
          "mesh3d": [
           {
            "colorbar": {
             "outlinewidth": 0,
             "ticks": ""
            },
            "type": "mesh3d"
           }
          ],
          "parcoords": [
           {
            "line": {
             "colorbar": {
              "outlinewidth": 0,
              "ticks": ""
             }
            },
            "type": "parcoords"
           }
          ],
          "pie": [
           {
            "automargin": true,
            "type": "pie"
           }
          ],
          "scatter": [
           {
            "marker": {
             "colorbar": {
              "outlinewidth": 0,
              "ticks": ""
             }
            },
            "type": "scatter"
           }
          ],
          "scatter3d": [
           {
            "line": {
             "colorbar": {
              "outlinewidth": 0,
              "ticks": ""
             }
            },
            "marker": {
             "colorbar": {
              "outlinewidth": 0,
              "ticks": ""
             }
            },
            "type": "scatter3d"
           }
          ],
          "scattercarpet": [
           {
            "marker": {
             "colorbar": {
              "outlinewidth": 0,
              "ticks": ""
             }
            },
            "type": "scattercarpet"
           }
          ],
          "scattergeo": [
           {
            "marker": {
             "colorbar": {
              "outlinewidth": 0,
              "ticks": ""
             }
            },
            "type": "scattergeo"
           }
          ],
          "scattergl": [
           {
            "marker": {
             "colorbar": {
              "outlinewidth": 0,
              "ticks": ""
             }
            },
            "type": "scattergl"
           }
          ],
          "scattermapbox": [
           {
            "marker": {
             "colorbar": {
              "outlinewidth": 0,
              "ticks": ""
             }
            },
            "type": "scattermapbox"
           }
          ],
          "scatterpolar": [
           {
            "marker": {
             "colorbar": {
              "outlinewidth": 0,
              "ticks": ""
             }
            },
            "type": "scatterpolar"
           }
          ],
          "scatterpolargl": [
           {
            "marker": {
             "colorbar": {
              "outlinewidth": 0,
              "ticks": ""
             }
            },
            "type": "scatterpolargl"
           }
          ],
          "scatterternary": [
           {
            "marker": {
             "colorbar": {
              "outlinewidth": 0,
              "ticks": ""
             }
            },
            "type": "scatterternary"
           }
          ],
          "surface": [
           {
            "colorbar": {
             "outlinewidth": 0,
             "ticks": ""
            },
            "colorscale": [
             [
              0,
              "#0d0887"
             ],
             [
              0.1111111111111111,
              "#46039f"
             ],
             [
              0.2222222222222222,
              "#7201a8"
             ],
             [
              0.3333333333333333,
              "#9c179e"
             ],
             [
              0.4444444444444444,
              "#bd3786"
             ],
             [
              0.5555555555555556,
              "#d8576b"
             ],
             [
              0.6666666666666666,
              "#ed7953"
             ],
             [
              0.7777777777777778,
              "#fb9f3a"
             ],
             [
              0.8888888888888888,
              "#fdca26"
             ],
             [
              1,
              "#f0f921"
             ]
            ],
            "type": "surface"
           }
          ],
          "table": [
           {
            "cells": {
             "fill": {
              "color": "#EBF0F8"
             },
             "line": {
              "color": "white"
             }
            },
            "header": {
             "fill": {
              "color": "#C8D4E3"
             },
             "line": {
              "color": "white"
             }
            },
            "type": "table"
           }
          ]
         },
         "layout": {
          "annotationdefaults": {
           "arrowcolor": "#2a3f5f",
           "arrowhead": 0,
           "arrowwidth": 1
          },
          "autotypenumbers": "strict",
          "coloraxis": {
           "colorbar": {
            "outlinewidth": 0,
            "ticks": ""
           }
          },
          "colorscale": {
           "diverging": [
            [
             0,
             "#8e0152"
            ],
            [
             0.1,
             "#c51b7d"
            ],
            [
             0.2,
             "#de77ae"
            ],
            [
             0.3,
             "#f1b6da"
            ],
            [
             0.4,
             "#fde0ef"
            ],
            [
             0.5,
             "#f7f7f7"
            ],
            [
             0.6,
             "#e6f5d0"
            ],
            [
             0.7,
             "#b8e186"
            ],
            [
             0.8,
             "#7fbc41"
            ],
            [
             0.9,
             "#4d9221"
            ],
            [
             1,
             "#276419"
            ]
           ],
           "sequential": [
            [
             0,
             "#0d0887"
            ],
            [
             0.1111111111111111,
             "#46039f"
            ],
            [
             0.2222222222222222,
             "#7201a8"
            ],
            [
             0.3333333333333333,
             "#9c179e"
            ],
            [
             0.4444444444444444,
             "#bd3786"
            ],
            [
             0.5555555555555556,
             "#d8576b"
            ],
            [
             0.6666666666666666,
             "#ed7953"
            ],
            [
             0.7777777777777778,
             "#fb9f3a"
            ],
            [
             0.8888888888888888,
             "#fdca26"
            ],
            [
             1,
             "#f0f921"
            ]
           ],
           "sequentialminus": [
            [
             0,
             "#0d0887"
            ],
            [
             0.1111111111111111,
             "#46039f"
            ],
            [
             0.2222222222222222,
             "#7201a8"
            ],
            [
             0.3333333333333333,
             "#9c179e"
            ],
            [
             0.4444444444444444,
             "#bd3786"
            ],
            [
             0.5555555555555556,
             "#d8576b"
            ],
            [
             0.6666666666666666,
             "#ed7953"
            ],
            [
             0.7777777777777778,
             "#fb9f3a"
            ],
            [
             0.8888888888888888,
             "#fdca26"
            ],
            [
             1,
             "#f0f921"
            ]
           ]
          },
          "colorway": [
           "#636efa",
           "#EF553B",
           "#00cc96",
           "#ab63fa",
           "#FFA15A",
           "#19d3f3",
           "#FF6692",
           "#B6E880",
           "#FF97FF",
           "#FECB52"
          ],
          "font": {
           "color": "#2a3f5f"
          },
          "geo": {
           "bgcolor": "white",
           "lakecolor": "white",
           "landcolor": "#E5ECF6",
           "showlakes": true,
           "showland": true,
           "subunitcolor": "white"
          },
          "hoverlabel": {
           "align": "left"
          },
          "hovermode": "closest",
          "mapbox": {
           "style": "light"
          },
          "paper_bgcolor": "white",
          "plot_bgcolor": "#E5ECF6",
          "polar": {
           "angularaxis": {
            "gridcolor": "white",
            "linecolor": "white",
            "ticks": ""
           },
           "bgcolor": "#E5ECF6",
           "radialaxis": {
            "gridcolor": "white",
            "linecolor": "white",
            "ticks": ""
           }
          },
          "scene": {
           "xaxis": {
            "backgroundcolor": "#E5ECF6",
            "gridcolor": "white",
            "gridwidth": 2,
            "linecolor": "white",
            "showbackground": true,
            "ticks": "",
            "zerolinecolor": "white"
           },
           "yaxis": {
            "backgroundcolor": "#E5ECF6",
            "gridcolor": "white",
            "gridwidth": 2,
            "linecolor": "white",
            "showbackground": true,
            "ticks": "",
            "zerolinecolor": "white"
           },
           "zaxis": {
            "backgroundcolor": "#E5ECF6",
            "gridcolor": "white",
            "gridwidth": 2,
            "linecolor": "white",
            "showbackground": true,
            "ticks": "",
            "zerolinecolor": "white"
           }
          },
          "shapedefaults": {
           "line": {
            "color": "#2a3f5f"
           }
          },
          "ternary": {
           "aaxis": {
            "gridcolor": "white",
            "linecolor": "white",
            "ticks": ""
           },
           "baxis": {
            "gridcolor": "white",
            "linecolor": "white",
            "ticks": ""
           },
           "bgcolor": "#E5ECF6",
           "caxis": {
            "gridcolor": "white",
            "linecolor": "white",
            "ticks": ""
           }
          },
          "title": {
           "x": 0.05
          },
          "xaxis": {
           "automargin": true,
           "gridcolor": "white",
           "linecolor": "white",
           "ticks": "",
           "title": {
            "standoff": 15
           },
           "zerolinecolor": "white",
           "zerolinewidth": 2
          },
          "yaxis": {
           "automargin": true,
           "gridcolor": "white",
           "linecolor": "white",
           "ticks": "",
           "title": {
            "standoff": 15
           },
           "zerolinecolor": "white",
           "zerolinewidth": 2
          }
         }
        },
        "title": {
         "text": "hauptluftung"
        },
        "xaxis": {
         "anchor": "y",
         "domain": [
          0,
          1
         ],
         "title": {
          "text": "Time"
         }
        },
        "yaxis": {
         "anchor": "x",
         "domain": [
          0,
          1
         ],
         "title": {
          "text": "kW"
         }
        }
       }
      }
     },
     "metadata": {},
     "output_type": "display_data"
    }
   ],
   "source": [
    "px.line(\n",
    "    x=hauptluftung.index, y=hauptluftung.kw, \n",
    "    title='hauptluftung',\n",
    "    labels={\n",
    "        'x': 'Time',\n",
    "        'y': 'kW'\n",
    "    },\n",
    "    markers=False)"
   ]
  },
  {
   "cell_type": "code",
   "execution_count": 4,
   "metadata": {},
   "outputs": [
    {
     "data": {
      "text/plain": [
       "'2021-10-15'"
      ]
     },
     "execution_count": 4,
     "metadata": {},
     "output_type": "execute_result"
    }
   ],
   "source": [
    "str(hauptluftung.index.date.max())"
   ]
  },
  {
   "cell_type": "code",
   "execution_count": 18,
   "metadata": {},
   "outputs": [
    {
     "data": {
      "text/plain": [
       "Timedelta('4 days 23:30:00')"
      ]
     },
     "execution_count": 18,
     "metadata": {},
     "output_type": "execute_result"
    }
   ],
   "source": [
    "day_range = hauptluftung.index.max() - hauptluftung.index.min()\n",
    "day_range"
   ]
  },
  {
   "cell_type": "code",
   "execution_count": 62,
   "metadata": {},
   "outputs": [
    {
     "data": {
      "text/plain": [
       "(240, 9)"
      ]
     },
     "execution_count": 62,
     "metadata": {},
     "output_type": "execute_result"
    }
   ],
   "source": [
    "hauptluftung.shape"
   ]
  },
  {
   "cell_type": "code",
   "execution_count": 92,
   "metadata": {},
   "outputs": [],
   "source": [
    "time_int_range_30 = np.arange(0, 240*30, 30)\n",
    "hauptluftung['t'] = time_int_range_30\n",
    "hauptluftung['t'] = (hauptluftung['t'] - hauptluftung['t'].min()) / (hauptluftung['t'].max() - hauptluftung['t'].min())\n",
    "\n",
    "#hauptluftung_final = pd.DataFrame(data=hauptluftung['kw'], index=hauptluftung['t'])\n",
    "#hauptluftung_final.reset_index(inplace=True)\n",
    "\n",
    "X = hauptluftung['t'].values\n",
    "y = hauptluftung['kw'].values\n",
    "n = len(X)\n",
    "prop_train = 0.8\n",
    "n_train = round(prop_train * n)\n",
    "\n",
    "# Training\n",
    "X_train = torch.from_numpy(X[:n_train]).to(torch.float64)\n",
    "y_train = torch.from_numpy(y[:n_train]).to(torch.float64)\n",
    "\n",
    "# Testing\n",
    "#X_test = torch.from_numpy(y[n_train:]).to(torch.float64)\n",
    "X_test = torch.from_numpy(X).to(torch.float64)\n",
    "y_test = torch.from_numpy(y[n_train:]).to(torch.float64)\n",
    "\n",
    "# Standardizing helps with hyperparameter initialization\n",
    "y_train_mean = torch.mean(y_train)\n",
    "y_train_std = torch.std(y_train)\n",
    "\n",
    "y_train = (y_train - y_train_mean) / (y_train_std)\n",
    "y_test = (y_test - y_train_mean) / (y_train_std)\n",
    "\n",
    "#plt.figure(figsize=(16, 6))\n",
    "#plt.plot(X_train.numpy(), y_train.numpy())\n",
    "#plt.plot(X_test.numpy(), y_test.numpy())"
   ]
  },
  {
   "cell_type": "code",
   "execution_count": 85,
   "metadata": {},
   "outputs": [],
   "source": [
    "time_int_range_5 = np.arange(0, 240*5, 5)\n",
    "hauptluftung['t'] = time_int_range_5\n",
    "\n",
    "#hauptluftung_final = pd.DataFrame(data=hauptluftung['kw'], index=hauptluftung['t'])\n",
    "#hauptluftung_final.reset_index(inplace=True)\n",
    "\n",
    "X = hauptluftung['t'].values\n",
    "y = hauptluftung['kw'].values\n",
    "n = len(X)\n",
    "prop_train = 0.8\n",
    "n_train = round(prop_train * n)\n",
    "\n",
    "# Training\n",
    "X_train = torch.from_numpy(X[:n_train]).to(torch.float64)\n",
    "y_train = torch.from_numpy(y[:n_train]).to(torch.float64)\n",
    "\n",
    "# Testing\n",
    "#X_test = torch.from_numpy(y[n_train:]).to(torch.float64)\n",
    "X_test = torch.from_numpy(X).to(torch.float64)\n",
    "y_test = torch.from_numpy(y[n_train:]).to(torch.float64)\n",
    "\n",
    "# Standardizing helps with hyperparameter initialization\n",
    "y_train_mean = torch.mean(y_train)\n",
    "y_train_std = torch.std(y_train)\n",
    "\n",
    "y_train = (y_train - y_train_mean) / (y_train_std)\n",
    "y_test = (y_test - y_train_mean) / (y_train_std)\n",
    "\n",
    "#plt.figure(figsize=(16, 6))\n",
    "#plt.plot(X_train.numpy(), y_train.numpy())\n",
    "#plt.plot(X_test.numpy(), y_test.numpy())"
   ]
  },
  {
   "cell_type": "code",
   "execution_count": 60,
   "metadata": {},
   "outputs": [],
   "source": [
    "time_int_range_1 = np.arange(0, 240*1, 1)"
   ]
  },
  {
   "cell_type": "code",
   "execution_count": 61,
   "metadata": {},
   "outputs": [
    {
     "data": {
      "text/plain": [
       "((240,), (240,), (240,))"
      ]
     },
     "execution_count": 61,
     "metadata": {},
     "output_type": "execute_result"
    }
   ],
   "source": [
    "time_int_range_1.shape, time_int_range_5.shape, time_int_range_30.shape"
   ]
  },
  {
   "cell_type": "code",
   "execution_count": 101,
   "metadata": {},
   "outputs": [],
   "source": [
    "## new time scale ##\n",
    "\n",
    "class ExactGPModel(gpytorch.models.ExactGP):\n",
    "    def __init__(self, train_x, train_y, likelihood):\n",
    "        super(ExactGPModel, self).__init__(train_x, train_y, likelihood)\n",
    "\n",
    "        ## Locally Periodic Kernel ##\n",
    "        period_constraint_short = gpytorch.constraints.Interval(15, 25) ## short term\n",
    "\n",
    "        seasonal_periodic_short = gpytorch.kernels.PeriodicKernel(\n",
    "            #period_length_constraint=period_constraint_short\n",
    "        )\n",
    "\n",
    "        period_constraint_long = gpytorch.constraints.Interval(45, 55) ## long term\n",
    "\n",
    "        seasonal_periodic_long = gpytorch.kernels.PeriodicKernel(\n",
    "            #period_length_constraint=period_constraint_long\n",
    "        )\n",
    "\n",
    "        ## Local Variations ##\n",
    "        local_variation_alpha = gpytorch.priors.GammaPrior(2, 0.5)\n",
    "\n",
    "        local_variation = gpytorch.kernels.RQKernel()\n",
    "        local_variation.alpha = 1\n",
    "\n",
    "\n",
    "        self.covar_module = seasonal_periodic_short + seasonal_periodic_long + local_variation\n",
    "        self.mean_module = gpytorch.means.ZeroMean()\n",
    "\n",
    "    def forward(self, x):\n",
    "        mean_x = self.mean_module(x)\n",
    "        covar_x = self.covar_module(x)\n",
    "        return gpytorch.distributions.MultivariateNormal(mean_x, covar_x)\n",
    "\n",
    "# initialize likelihood and model\n",
    "likelihood = gpytorch.likelihoods.GaussianLikelihood()\n",
    "model = ExactGPModel(X_train, y_train, likelihood)"
   ]
  },
  {
   "cell_type": "code",
   "execution_count": 82,
   "metadata": {},
   "outputs": [],
   "source": [
    "## best performing ##\n",
    "\n",
    "class ExactGPModel(gpytorch.models.ExactGP):\n",
    "    def __init__(self, train_x, train_y, likelihood):\n",
    "        super(ExactGPModel, self).__init__(train_x, train_y, likelihood)\n",
    "\n",
    "        ## Locally Periodic Kernel ##\n",
    "        period_constraint_short = gpytorch.constraints.Interval(110, 130) ## short term\n",
    "\n",
    "        seasonal_periodic_short = gpytorch.kernels.PeriodicKernel(\n",
    "            period_length_constraint=period_constraint_short\n",
    "        )\n",
    "\n",
    "        period_constraint_long = gpytorch.constraints.Interval(225, 245) ## long term\n",
    "\n",
    "        seasonal_periodic_long = gpytorch.kernels.PeriodicKernel(\n",
    "            period_length_constraint=period_constraint_long\n",
    "        )\n",
    "\n",
    "        ## Local Variations ##\n",
    "        local_variation_alpha = gpytorch.priors.GammaPrior(1, 0.5)\n",
    "\n",
    "        local_variation = gpytorch.kernels.RQKernel()\n",
    "        local_variation.alpha = 1\n",
    "\n",
    "\n",
    "        self.covar_module = seasonal_periodic_short + seasonal_periodic_long + local_variation\n",
    "        self.mean_module = gpytorch.means.ZeroMean()\n",
    "\n",
    "    def forward(self, x):\n",
    "        mean_x = self.mean_module(x)\n",
    "        covar_x = self.covar_module(x)\n",
    "        return gpytorch.distributions.MultivariateNormal(mean_x, covar_x)\n",
    "\n",
    "# initialize likelihood and model\n",
    "likelihood = gpytorch.likelihoods.GaussianLikelihood()\n",
    "model = ExactGPModel(X_train, y_train, likelihood)"
   ]
  },
  {
   "cell_type": "code",
   "execution_count": 41,
   "metadata": {},
   "outputs": [],
   "source": [
    "## v2 - adding scaling parameters ##\n",
    "\n",
    "class ExactGPModel(gpytorch.models.ExactGP):\n",
    "    def __init__(self, train_x, train_y, likelihood):\n",
    "        super(ExactGPModel, self).__init__(train_x, train_y, likelihood)\n",
    "\n",
    "        ## Locally Periodic Kernel ##\n",
    "        period_constraint_short = gpytorch.constraints.Interval(30, 55) ## short term\n",
    "\n",
    "        seasonal_periodic_short = gpytorch.kernels.ScaleKernel(\n",
    "            gpytorch.kernels.PeriodicKernel(\n",
    "                period_length_constraint=period_constraint_short\n",
    "                )\n",
    "            )\n",
    "\n",
    "        seasonal_rq_short = gpytorch.kernels.ScaleKernel(\n",
    "            gpytorch.kernels.RQKernel()\n",
    "        )\n",
    "\n",
    "        locally_short_periodic = seasonal_periodic_short + seasonal_rq_short\n",
    "\n",
    "        period_constraint_long = gpytorch.constraints.Interval(90, 100) ## long term\n",
    "\n",
    "        seasonal_periodic_long = gpytorch.kernels.ScaleKernel(\n",
    "            gpytorch.kernels.PeriodicKernel(\n",
    "                period_length_constraint=period_constraint_long\n",
    "                )\n",
    "            )\n",
    "\n",
    "        seasonal_rq_long = gpytorch.kernels.ScaleKernel(\n",
    "            gpytorch.kernels.RQKernel()\n",
    "        )\n",
    "\n",
    "        locally_long_periodic = seasonal_periodic_long + seasonal_rq_long\n",
    "\n",
    "        ## Local Variations ##\n",
    "        local_variation_alpha = gpytorch.priors.GammaPrior(1, 0.5)\n",
    "\n",
    "        local_variation = gpytorch.kernels.ScaleKernel(\n",
    "            gpytorch.kernels.RQKernel()\n",
    "            )\n",
    "            \n",
    "        local_variation.alpha = local_variation_alpha\n",
    "\n",
    "\n",
    "        self.covar_module = locally_short_periodic + locally_long_periodic + local_variation\n",
    "        self.mean_module = gpytorch.means.ZeroMean()\n",
    "\n",
    "    def forward(self, x):\n",
    "        mean_x = self.mean_module(x)\n",
    "        covar_x = self.covar_module(x)\n",
    "        return gpytorch.distributions.MultivariateNormal(mean_x, covar_x)\n",
    "\n",
    "# initialize likelihood and model\n",
    "likelihood = gpytorch.likelihoods.GaussianLikelihood()\n",
    "model = ExactGPModel(X_train, y_train, likelihood)"
   ]
  },
  {
   "cell_type": "code",
   "execution_count": 102,
   "metadata": {},
   "outputs": [
    {
     "name": "stdout",
     "output_type": "stream",
     "text": [
      "Iter 1 , Loss = 1.2722857457044165 , Noise = 0.6932471990585327\n",
      "Iter 2 , Loss = 1.2039563475130162 , Noise = 0.6444966793060303\n",
      "Iter 3 , Loss = 1.159888739097984 , Noise = 0.5992814898490906\n",
      "Iter 4 , Loss = 1.1388059970953348 , Noise = 0.5559828281402588\n",
      "Iter 5 , Loss = 1.1076565197538926 , Noise = 0.514794111251831\n",
      "Iter 6 , Loss = 1.072965976797058 , Noise = 0.47590869665145874\n",
      "Iter 7 , Loss = 1.0462852005746133 , Noise = 0.43939879536628723\n",
      "Iter 8 , Loss = 1.0315753787389224 , Noise = 0.4053550362586975\n",
      "Iter 9 , Loss = 1.009332173320855 , Noise = 0.3739645183086395\n",
      "Iter 10 , Loss = 0.9898421451637575 , Noise = 0.34527677297592163\n",
      "Iter 11 , Loss = 0.9780737146948697 , Noise = 0.3194420337677002\n",
      "Iter 12 , Loss = 0.9631155886394055 , Noise = 0.29665064811706543\n",
      "Iter 13 , Loss = 0.9391088884612778 , Noise = 0.2767319977283478\n",
      "Iter 14 , Loss = 0.9132065183720209 , Noise = 0.2590325176715851\n",
      "Iter 15 , Loss = 0.8970080152404591 , Noise = 0.24281708896160126\n",
      "Iter 16 , Loss = 0.8625399800528788 , Noise = 0.22789041697978973\n",
      "Iter 17 , Loss = 0.8331389716464885 , Noise = 0.21405966579914093\n",
      "Iter 18 , Loss = 0.8055592394431322 , Noise = 0.2010980248451233\n",
      "Iter 19 , Loss = 0.777814711171183 , Noise = 0.18881967663764954\n",
      "Iter 20 , Loss = 0.7532731359711177 , Noise = 0.1772010773420334\n",
      "Iter 21 , Loss = 0.7339242103909908 , Noise = 0.16636329889297485\n",
      "Iter 22 , Loss = 0.7197295878991472 , Noise = 0.15649253129959106\n",
      "Iter 23 , Loss = 0.7097794449771389 , Noise = 0.14776846766471863\n",
      "Iter 24 , Loss = 0.7037042571970705 , Noise = 0.1403270959854126\n",
      "Iter 25 , Loss = 0.7014607406735864 , Noise = 0.13426797091960907\n",
      "Iter 26 , Loss = 0.7006990326213963 , Noise = 0.12967252731323242\n",
      "Iter 27 , Loss = 0.7009107824121684 , Noise = 0.1265639066696167\n",
      "Iter 28 , Loss = 0.7024322898960955 , Noise = 0.12489714473485947\n",
      "Iter 29 , Loss = 0.7040002589587587 , Noise = 0.12457720190286636\n",
      "Iter 30 , Loss = 0.705048318553038 , Noise = 0.12546296417713165\n",
      "Iter 31 , Loss = 0.7055940417172925 , Noise = 0.12738005816936493\n",
      "Iter 32 , Loss = 0.7058739005076634 , Noise = 0.13013091683387756\n",
      "Iter 33 , Loss = 0.7061951980110269 , Noise = 0.1334999054670334\n",
      "Iter 34 , Loss = 0.7067214333250414 , Noise = 0.13725699484348297\n",
      "Iter 35 , Loss = 0.7072833559243547 , Noise = 0.14116258919239044\n",
      "Iter 36 , Loss = 0.7077675413627947 , Noise = 0.14497336745262146\n",
      "Iter 37 , Loss = 0.7082946157383213 , Noise = 0.14845477044582367\n",
      "Iter 38 , Loss = 0.7088170061857128 , Noise = 0.15140190720558167\n",
      "Iter 39 , Loss = 0.7091471808531641 , Noise = 0.15365757048130035\n",
      "Iter 40 , Loss = 0.7091400187975957 , Noise = 0.15512308478355408\n",
      "Iter 41 , Loss = 0.7087387197711138 , Noise = 0.15576252341270447\n",
      "Iter 42 , Loss = 0.7079699087737023 , Noise = 0.15560108423233032\n",
      "Iter 43 , Loss = 0.7069286409296508 , Noise = 0.1547178328037262\n",
      "Iter 44 , Loss = 0.7057232567564671 , Noise = 0.15323515236377716\n",
      "Iter 45 , Loss = 0.7043907651455523 , Noise = 0.15130575001239777\n",
      "Iter 46 , Loss = 0.7029503623027624 , Noise = 0.14909788966178894\n",
      "Iter 47 , Loss = 0.701528424533147 , Noise = 0.14678147435188293\n",
      "Iter 48 , Loss = 0.700236377504163 , Noise = 0.1445179134607315\n",
      "Iter 49 , Loss = 0.6990648027324572 , Noise = 0.14245173335075378\n",
      "Iter 50 , Loss = 0.6979595209926822 , Noise = 0.14070262014865875\n",
      "Iter 51 , Loss = 0.6969028996836023 , Noise = 0.13935941457748413\n",
      "Iter 52 , Loss = 0.6959297590964457 , Noise = 0.13847720623016357\n",
      "Iter 53 , Loss = 0.6950468096700112 , Noise = 0.13807746767997742\n",
      "Iter 54 , Loss = 0.694183672160881 , Noise = 0.1381494700908661\n",
      "Iter 55 , Loss = 0.693373356794957 , Noise = 0.13865205645561218\n",
      "Iter 56 , Loss = 0.6927098189829163 , Noise = 0.13951866328716278\n",
      "Iter 57 , Loss = 0.6921769291587091 , Noise = 0.14066393673419952\n",
      "Iter 58 , Loss = 0.691761103582504 , Noise = 0.14198967814445496\n",
      "Iter 59 , Loss = 0.691519995607515 , Noise = 0.14339105784893036\n",
      "Iter 60 , Loss = 0.6914388998994895 , Noise = 0.14476482570171356\n",
      "Iter 61 , Loss = 0.6914333029265274 , Noise = 0.14601702988147736\n",
      "Iter 62 , Loss = 0.6915200131292266 , Noise = 0.14706909656524658\n",
      "Iter 63 , Loss = 0.6916586550846492 , Noise = 0.14786404371261597\n",
      "Iter 64 , Loss = 0.6917747858901678 , Noise = 0.14836888015270233\n",
      "Iter 65 , Loss = 0.6918802542420478 , Noise = 0.14857430756092072\n",
      "Iter 66 , Loss = 0.6919583304633984 , Noise = 0.14849448204040527\n",
      "Iter 67 , Loss = 0.6919701493053054 , Noise = 0.14816467463970184\n",
      "Iter 68 , Loss = 0.6919555293436451 , Noise = 0.147636279463768\n",
      "Iter 69 , Loss = 0.6919045083615897 , Noise = 0.14697131514549255\n",
      "Iter 70 , Loss = 0.6918126791071608 , Noise = 0.14623521268367767\n",
      "Iter 71 , Loss = 0.6917162053540583 , Noise = 0.14549118280410767\n",
      "Iter 72 , Loss = 0.6916000256585798 , Noise = 0.14479652047157288\n",
      "Iter 73 , Loss = 0.6914728468337382 , Noise = 0.14419910311698914\n",
      "Iter 74 , Loss = 0.6913529020444579 , Noise = 0.14373427629470825\n",
      "Iter 75 , Loss = 0.6912242401835894 , Noise = 0.14342306554317474\n",
      "Iter 76 , Loss = 0.6911044929192437 , Noise = 0.1432713270187378\n",
      "Iter 77 , Loss = 0.6909979901308496 , Noise = 0.14327125251293182\n",
      "Iter 78 , Loss = 0.6908983729710215 , Noise = 0.14340351521968842\n",
      "Iter 79 , Loss = 0.6908232916277252 , Noise = 0.14363957941532135\n",
      "Iter 80 , Loss = 0.6907659245833361 , Noise = 0.1439448595046997\n",
      "Iter 81 , Loss = 0.6907262724428332 , Noise = 0.14428184926509857\n",
      "Iter 82 , Loss = 0.6907094163541817 , Noise = 0.1446138471364975\n",
      "Iter 83 , Loss = 0.6907026754005813 , Noise = 0.14490805566310883\n",
      "Iter 84 , Loss = 0.6907066195498747 , Noise = 0.14513814449310303\n",
      "Iter 85 , Loss = 0.6907171059804745 , Noise = 0.14528602361679077\n",
      "Iter 86 , Loss = 0.6907250941013974 , Noise = 0.1453431099653244\n",
      "Iter 87 , Loss = 0.6907332338113212 , Noise = 0.1453102082014084\n",
      "Iter 88 , Loss = 0.6907371786874151 , Noise = 0.1451968401670456\n",
      "Iter 89 , Loss = 0.6907353272966162 , Noise = 0.14501933753490448\n",
      "Iter 90 , Loss = 0.6907316443290487 , Noise = 0.1447988748550415\n",
      "Iter 91 , Loss = 0.6907230478791114 , Noise = 0.14455904066562653\n",
      "Iter 92 , Loss = 0.6907119211158147 , Noise = 0.14432372152805328\n",
      "Iter 93 , Loss = 0.6906997032418604 , Noise = 0.1441146284341812\n",
      "Iter 94 , Loss = 0.6906842565370415 , Noise = 0.14394938945770264\n",
      "Iter 95 , Loss = 0.6906686190329911 , Noise = 0.14384020864963531\n",
      "Iter 96 , Loss = 0.6906518493618455 , Noise = 0.14379309117794037\n",
      "Iter 97 , Loss = 0.6906343525827044 , Noise = 0.1438080072402954\n",
      "Iter 98 , Loss = 0.6906184405766296 , Noise = 0.1438792645931244\n",
      "Iter 99 , Loss = 0.6906030639892317 , Noise = 0.14399634301662445\n",
      "Iter 100 , Loss = 0.6905902996313253 , Noise = 0.144145205616951\n"
     ]
    },
    {
     "data": {
      "text/plain": [
       "GaussianLikelihood(\n",
       "  (noise_covar): HomoskedasticNoise(\n",
       "    (raw_noise_constraint): GreaterThan(1.000E-04)\n",
       "  )\n",
       ")"
      ]
     },
     "execution_count": 102,
     "metadata": {},
     "output_type": "execute_result"
    }
   ],
   "source": [
    "smoke_test = ('CI' in os.environ)\n",
    "training_iter = 2 if smoke_test else 100\n",
    "\n",
    "model.train()\n",
    "likelihood.train()\n",
    "\n",
    "optimizer = torch.optim.Adam(model.parameters(), lr=0.1)\n",
    "mll = gpytorch.mlls.ExactMarginalLogLikelihood(likelihood=likelihood, model=model)\n",
    "\n",
    "for i in range(training_iter):\n",
    "    optimizer.zero_grad()\n",
    "    output = model(X_train)\n",
    "    loss = -mll(output, y_train)\n",
    "    loss.backward()\n",
    "\n",
    "    print('Iter {} , Loss = {} , Noise = {}'.format(\n",
    "        i+1, loss, model.likelihood.noise.item() \n",
    "    ))\n",
    "\n",
    "    optimizer.step()\n",
    "\n",
    "model.eval()\n",
    "likelihood.eval()"
   ]
  },
  {
   "cell_type": "code",
   "execution_count": 103,
   "metadata": {},
   "outputs": [
    {
     "data": {
      "image/png": "[encoded data removed]",
      "text/plain": [
       "<Figure size 1152x504 with 1 Axes>"
      ]
     },
     "metadata": {
      "needs_background": "light"
     },
     "output_type": "display_data"
    }
   ],
   "source": [
    "model.eval()\n",
    "likelihood.eval()\n",
    "\n",
    "with torch.no_grad(), gpytorch.settings.fast_pred_var():\n",
    "    observed_preds = likelihood(model(X_test))\n",
    "\n",
    "    test_preds = observed_preds.mean[n_train:]\n",
    "    mse = mean_squared_error(y_test.numpy(), test_preds.numpy())\n",
    "    mape = mean_absolute_percentage_error(y_test.numpy(), test_preds.numpy())\n",
    "\n",
    "    f, ax = plt.subplots(figsize=(16, 7))\n",
    "    lower, upper = observed_preds.confidence_region()\n",
    "    ax.plot(X_train.numpy(), y_train.numpy())\n",
    "    ax.plot(X_test.numpy(), observed_preds.mean.numpy())\n",
    "    ax.fill_between(X_test.numpy(), lower.numpy(), upper.numpy(), alpha=0.5, color='#2ecc71')\n",
    "    #plt.axvline(x=955, linestyle='--', color='black', lw=1)\n",
    "    ax.legend(['Observed Data', 'Predictions', 'Test', 'Uncertainty'])\n",
    "    plt.xlabel('Time Step - 30 minute sampling')\n",
    "    plt.ylabel('Standardized kW')\n",
    "    plt.title('Gaussian Process Regression: Interpolation and Extrapolation of \"hauptluftung\" \\n  MSE = {} \\n MAPE = {}'.\n",
    "    format(round(mse, 2), round(mape, 2)))\n",
    "    plt.show()"
   ]
  },
  {
   "cell_type": "code",
   "execution_count": 33,
   "metadata": {},
   "outputs": [],
   "source": [
    "test_preds = observed_preds.mean[n_train:]"
   ]
  },
  {
   "cell_type": "code",
   "execution_count": 34,
   "metadata": {},
   "outputs": [
    {
     "data": {
      "text/plain": [
       "(0.030756068177624565, 0.18832710048173326)"
      ]
     },
     "execution_count": 34,
     "metadata": {},
     "output_type": "execute_result"
    }
   ],
   "source": [
    "mean_squared_error(y_test.numpy(), test_preds.numpy()), mean_absolute_percentage_error(y_test.numpy(), test_preds.numpy())"
   ]
  },
  {
   "cell_type": "code",
   "execution_count": 20,
   "metadata": {},
   "outputs": [
    {
     "data": {
      "text/plain": [
       "(0.06396455043750866, 0.34132282048023904)"
      ]
     },
     "execution_count": 20,
     "metadata": {},
     "output_type": "execute_result"
    }
   ],
   "source": [
    "mean_squared_error(y_test.numpy(), test_preds.numpy()), mean_absolute_percentage_error(y_test.numpy(), test_preds.numpy())"
   ]
  },
  {
   "cell_type": "code",
   "execution_count": 84,
   "metadata": {},
   "outputs": [
    {
     "data": {
      "text/plain": [
       "tensor([-1.0525, -1.0758, -1.0828, -1.0557, -1.0317, -1.1038, -1.1305, -1.1661,\n",
       "        -1.1166, -1.1212, -0.7163, -0.0602,  0.9758,  1.4115,  1.4398,  1.4821,\n",
       "         1.6107,  1.5701,  1.4718,  1.4287,  1.3509,  1.4321,  1.4662,  1.5265,\n",
       "         1.5958,  1.2661,  1.0008,  1.2851,  1.2263,  0.9552,  0.8568,  0.6660,\n",
       "         0.5393,  0.3818, -0.0958, -0.5560, -0.6051, -0.5859, -0.5531, -0.5682,\n",
       "        -0.5076, -0.6005, -0.5787, -0.6115, -0.5706, -0.6293, -0.6196, -0.5889,\n",
       "        -0.6061, -0.5790, -0.6193, -0.6603, -0.6402, -0.6744, -0.6911, -0.7004,\n",
       "        -0.7186, -0.6523, -0.1864,  0.3718,  0.8078,  1.2076,  1.3568,  1.6062,\n",
       "         1.6398,  1.7889,  1.5025,  1.5290,  1.8210,  1.6469,  1.6172,  1.4301,\n",
       "         1.3801,  1.3412,  1.1885,  1.4556,  1.3983,  0.8367,  0.3360,  0.0023,\n",
       "        -0.0848, -0.0934, -0.4312, -0.9077, -0.9453, -0.9875, -0.9310, -0.9767,\n",
       "        -0.9348, -0.9574, -0.9827, -0.9920, -0.9835, -0.9976, -0.9856, -0.9855,\n",
       "        -1.0038, -1.0435, -1.1175, -1.1101, -1.0668, -1.0721, -1.0370, -1.0525,\n",
       "        -1.0407, -1.0209, -0.5992,  0.1337,  0.6704,  1.0777,  1.1273,  1.0834,\n",
       "         1.1684,  1.1664,  0.9747,  0.8180,  0.9443,  1.1358,  1.5781,  1.5407,\n",
       "         1.4068,  1.3049,  1.0353,  1.0756,  0.8861,  0.4655,  0.2298, -0.1985,\n",
       "        -0.1765, -0.1544, -0.3615, -0.8155, -0.9510, -0.9342, -1.0038, -0.9760,\n",
       "        -0.9696, -0.9873, -1.0165, -1.0237, -1.0342, -1.0192, -1.0361, -0.9694,\n",
       "        -0.9601, -0.9585, -0.9844, -1.0336, -1.0846, -1.0870, -1.0712, -1.1054,\n",
       "        -1.1039, -0.9976, -0.5622, -0.1910,  0.4702,  0.8869,  1.1045,  1.1151,\n",
       "         1.0708,  1.1828,  1.2447,  1.1175,  0.8988,  0.7806,  0.7633,  0.8520,\n",
       "         0.7523,  0.6086,  0.4744,  0.6563,  0.6667,  0.2965,  0.0323, -0.1281,\n",
       "        -0.1750, -0.3968, -0.5115, -0.6934, -0.8197, -0.8675, -0.8666, -0.8891,\n",
       "        -0.8849, -0.9038, -0.9510, -0.9953, -0.9873, -0.9266, -0.8725, -0.9120,\n",
       "        -0.9419, -0.9717, -0.9994, -1.0214, -1.0333, -1.0349, -1.0426, -1.0758,\n",
       "        -1.0941, -0.9677, -0.5760,  0.0363,  0.6466,  1.0432,  1.2043,  1.2562,\n",
       "         1.2919,  1.2966,  1.2399,  1.1610,  1.1357,  1.1919,  1.2723,  1.2752,\n",
       "         1.1600,  1.0169,  0.9693,  0.9896,  0.9016,  0.6155,  0.2686,  0.0520,\n",
       "        -0.0370, -0.1697, -0.4374, -0.7317, -0.8978, -0.9164, -0.8836, -0.8733,\n",
       "        -0.8884, -0.9096, -0.9301, -0.9463, -0.9508, -0.9428, -0.9325, -0.9324],\n",
       "       dtype=torch.float64)"
      ]
     },
     "execution_count": 84,
     "metadata": {},
     "output_type": "execute_result"
    }
   ],
   "source": [
    "observed_preds.mean"
   ]
  },
  {
   "cell_type": "markdown",
   "metadata": {},
   "source": [
    "### Inspection of Learned Hyperparameters\n",
    "\n",
    "Namely:\n",
    " - Lengthscale (wiggliness of the function)\n",
    " - Outputscale (if initialized) aka the variance"
   ]
  },
  {
   "cell_type": "code",
   "execution_count": 48,
   "metadata": {},
   "outputs": [],
   "source": [
    "model.covar_module.lengthscale"
   ]
  },
  {
   "cell_type": "code",
   "execution_count": null,
   "metadata": {},
   "outputs": [],
   "source": []
  }
 ],
 "metadata": {
  "interpreter": {
   "hash": "55f578ea790fce859303417df5f33993e9db329ffe5a387d7c54812db965934b"
  },
  "kernelspec": {
   "display_name": "Python 3.8.12 64-bit ('thesis': conda)",
   "language": "python",
   "name": "python3"
  },
  "language_info": {
   "codemirror_mode": {
    "name": "ipython",
    "version": 3
   },
   "file_extension": ".py",
   "mimetype": "text/x-python",
   "name": "python",
   "nbconvert_exporter": "python",
   "pygments_lexer": "ipython3",
   "version": "3.8.12"
  },
  "orig_nbformat": 4
 },
 "nbformat": 4,
 "nbformat_minor": 2
}
