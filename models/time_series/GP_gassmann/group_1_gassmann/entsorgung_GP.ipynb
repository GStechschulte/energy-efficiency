{
 "cells": [
  {
   "cell_type": "code",
   "execution_count": 1,
   "metadata": {},
   "outputs": [],
   "source": [
    "import pandas as pd\n",
    "import numpy as np\n",
    "import os\n",
    "import matplotlib.pyplot as plt\n",
    "import scipy.stats as stats\n",
    "import sys\n",
    "sys.path.append('/Users/wastechs/Documents/git-repos/energy-efficiency')\n",
    "from lib.util.helper import query_table, weekday_time_series\n",
    "import seaborn as sns\n",
    "import plotly.express as px\n",
    "from prophet import Prophet\n",
    "from prophet.diagnostics import cross_validation\n",
    "from sklearn.preprocessing import StandardScaler\n",
    "from sklearn.metrics import mean_absolute_percentage_error, mean_squared_error\n",
    "import plotly\n",
    "import torch\n",
    "import gpytorch"
   ]
  },
  {
   "cell_type": "code",
   "execution_count": 2,
   "metadata": {},
   "outputs": [],
   "source": [
    "entsorgung = weekday_time_series(sensor_id='entsorgung_30T')"
   ]
  },
  {
   "cell_type": "code",
   "execution_count": 3,
   "metadata": {},
   "outputs": [],
   "source": [
    "entsorgung['kw'] = round(entsorgung['kw'], 2)"
   ]
  },
  {
   "cell_type": "code",
   "execution_count": 4,
   "metadata": {},
   "outputs": [
    {
     "data": {
      "application/vnd.plotly.v1+json": {
       "config": {
        "plotlyServerURL": "https://plot.ly"
       },
       "data": [
        {
         "hovertemplate": "Time=%{x}<br>kW=%{y}<extra></extra>",
         "legendgroup": "",
         "line": {
          "color": "#636efa",
          "dash": "solid"
         },
         "marker": {
          "symbol": "circle"
         },
         "mode": "lines",
         "name": "",
         "orientation": "v",
         "showlegend": false,
         "type": "scatter",
         "x": [
          "2021-10-11T00:00:00",
          "2021-10-11T00:30:00",
          "2021-10-11T01:00:00",
          "2021-10-11T01:30:00",
          "2021-10-11T02:00:00",
          "2021-10-11T02:30:00",
          "2021-10-11T03:00:00",
          "2021-10-11T03:30:00",
          "2021-10-11T04:00:00",
          "2021-10-11T04:30:00",
          "2021-10-11T05:00:00",
          "2021-10-11T05:30:00",
          "2021-10-11T06:00:00",
          "2021-10-11T06:30:00",
          "2021-10-11T07:00:00",
          "2021-10-11T07:30:00",
          "2021-10-11T08:00:00",
          "2021-10-11T08:30:00",
          "2021-10-11T09:00:00",
          "2021-10-11T09:30:00",
          "2021-10-11T10:00:00",
          "2021-10-11T10:30:00",
          "2021-10-11T11:00:00",
          "2021-10-11T11:30:00",
          "2021-10-11T12:00:00",
          "2021-10-11T12:30:00",
          "2021-10-11T13:00:00",
          "2021-10-11T13:30:00",
          "2021-10-11T14:00:00",
          "2021-10-11T14:30:00",
          "2021-10-11T15:00:00",
          "2021-10-11T15:30:00",
          "2021-10-11T16:00:00",
          "2021-10-11T16:30:00",
          "2021-10-11T17:00:00",
          "2021-10-11T17:30:00",
          "2021-10-11T18:00:00",
          "2021-10-11T18:30:00",
          "2021-10-11T19:00:00",
          "2021-10-11T19:30:00",
          "2021-10-11T20:00:00",
          "2021-10-11T20:30:00",
          "2021-10-11T21:00:00",
          "2021-10-11T21:30:00",
          "2021-10-11T22:00:00",
          "2021-10-11T22:30:00",
          "2021-10-11T23:00:00",
          "2021-10-11T23:30:00",
          "2021-10-12T00:00:00",
          "2021-10-12T00:30:00",
          "2021-10-12T01:00:00",
          "2021-10-12T01:30:00",
          "2021-10-12T02:00:00",
          "2021-10-12T02:30:00",
          "2021-10-12T03:00:00",
          "2021-10-12T03:30:00",
          "2021-10-12T04:00:00",
          "2021-10-12T04:30:00",
          "2021-10-12T05:00:00",
          "2021-10-12T05:30:00",
          "2021-10-12T06:00:00",
          "2021-10-12T06:30:00",
          "2021-10-12T07:00:00",
          "2021-10-12T07:30:00",
          "2021-10-12T08:00:00",
          "2021-10-12T08:30:00",
          "2021-10-12T09:00:00",
          "2021-10-12T09:30:00",
          "2021-10-12T10:00:00",
          "2021-10-12T10:30:00",
          "2021-10-12T11:00:00",
          "2021-10-12T11:30:00",
          "2021-10-12T12:00:00",
          "2021-10-12T12:30:00",
          "2021-10-12T13:00:00",
          "2021-10-12T13:30:00",
          "2021-10-12T14:00:00",
          "2021-10-12T14:30:00",
          "2021-10-12T15:00:00",
          "2021-10-12T15:30:00",
          "2021-10-12T16:00:00",
          "2021-10-12T16:30:00",
          "2021-10-12T17:00:00",
          "2021-10-12T17:30:00",
          "2021-10-12T18:00:00",
          "2021-10-12T18:30:00",
          "2021-10-12T19:00:00",
          "2021-10-12T19:30:00",
          "2021-10-12T20:00:00",
          "2021-10-12T20:30:00",
          "2021-10-12T21:00:00",
          "2021-10-12T21:30:00",
          "2021-10-12T22:00:00",
          "2021-10-12T22:30:00",
          "2021-10-12T23:00:00",
          "2021-10-12T23:30:00",
          "2021-10-13T00:00:00",
          "2021-10-13T00:30:00",
          "2021-10-13T01:00:00",
          "2021-10-13T01:30:00",
          "2021-10-13T02:00:00",
          "2021-10-13T02:30:00",
          "2021-10-13T03:00:00",
          "2021-10-13T03:30:00",
          "2021-10-13T04:00:00",
          "2021-10-13T04:30:00",
          "2021-10-13T05:00:00",
          "2021-10-13T05:30:00",
          "2021-10-13T06:00:00",
          "2021-10-13T06:30:00",
          "2021-10-13T07:00:00",
          "2021-10-13T07:30:00",
          "2021-10-13T08:00:00",
          "2021-10-13T08:30:00",
          "2021-10-13T09:00:00",
          "2021-10-13T09:30:00",
          "2021-10-13T10:00:00",
          "2021-10-13T10:30:00",
          "2021-10-13T11:00:00",
          "2021-10-13T11:30:00",
          "2021-10-13T12:00:00",
          "2021-10-13T12:30:00",
          "2021-10-13T13:00:00",
          "2021-10-13T13:30:00",
          "2021-10-13T14:00:00",
          "2021-10-13T14:30:00",
          "2021-10-13T15:00:00",
          "2021-10-13T15:30:00",
          "2021-10-13T16:00:00",
          "2021-10-13T16:30:00",
          "2021-10-13T17:00:00",
          "2021-10-13T17:30:00",
          "2021-10-13T18:00:00",
          "2021-10-13T18:30:00",
          "2021-10-13T19:00:00",
          "2021-10-13T19:30:00",
          "2021-10-13T20:00:00",
          "2021-10-13T20:30:00",
          "2021-10-13T21:00:00",
          "2021-10-13T21:30:00",
          "2021-10-13T22:00:00",
          "2021-10-13T22:30:00",
          "2021-10-13T23:00:00",
          "2021-10-13T23:30:00",
          "2021-10-14T00:00:00",
          "2021-10-14T00:30:00",
          "2021-10-14T01:00:00",
          "2021-10-14T01:30:00",
          "2021-10-14T02:00:00",
          "2021-10-14T02:30:00",
          "2021-10-14T03:00:00",
          "2021-10-14T03:30:00",
          "2021-10-14T04:00:00",
          "2021-10-14T04:30:00",
          "2021-10-14T05:00:00",
          "2021-10-14T05:30:00",
          "2021-10-14T06:00:00",
          "2021-10-14T06:30:00",
          "2021-10-14T07:00:00",
          "2021-10-14T07:30:00",
          "2021-10-14T08:00:00",
          "2021-10-14T08:30:00",
          "2021-10-14T09:00:00",
          "2021-10-14T09:30:00",
          "2021-10-14T10:00:00",
          "2021-10-14T10:30:00",
          "2021-10-14T11:00:00",
          "2021-10-14T11:30:00",
          "2021-10-14T12:00:00",
          "2021-10-14T12:30:00",
          "2021-10-14T13:00:00",
          "2021-10-14T13:30:00",
          "2021-10-14T14:00:00",
          "2021-10-14T14:30:00",
          "2021-10-14T15:00:00",
          "2021-10-14T15:30:00",
          "2021-10-14T16:00:00",
          "2021-10-14T16:30:00",
          "2021-10-14T17:00:00",
          "2021-10-14T17:30:00",
          "2021-10-14T18:00:00",
          "2021-10-14T18:30:00",
          "2021-10-14T19:00:00",
          "2021-10-14T19:30:00",
          "2021-10-14T20:00:00",
          "2021-10-14T20:30:00",
          "2021-10-14T21:00:00",
          "2021-10-14T21:30:00",
          "2021-10-14T22:00:00",
          "2021-10-14T22:30:00",
          "2021-10-14T23:00:00",
          "2021-10-14T23:30:00",
          "2021-10-15T00:00:00",
          "2021-10-15T00:30:00",
          "2021-10-15T01:00:00",
          "2021-10-15T01:30:00",
          "2021-10-15T02:00:00",
          "2021-10-15T02:30:00",
          "2021-10-15T03:00:00",
          "2021-10-15T03:30:00",
          "2021-10-15T04:00:00",
          "2021-10-15T04:30:00",
          "2021-10-15T05:00:00",
          "2021-10-15T05:30:00",
          "2021-10-15T06:00:00",
          "2021-10-15T06:30:00",
          "2021-10-15T07:00:00",
          "2021-10-15T07:30:00",
          "2021-10-15T08:00:00",
          "2021-10-15T08:30:00",
          "2021-10-15T09:00:00",
          "2021-10-15T09:30:00",
          "2021-10-15T10:00:00",
          "2021-10-15T10:30:00",
          "2021-10-15T11:00:00",
          "2021-10-15T11:30:00",
          "2021-10-15T12:00:00",
          "2021-10-15T12:30:00",
          "2021-10-15T13:00:00",
          "2021-10-15T13:30:00",
          "2021-10-15T14:00:00",
          "2021-10-15T14:30:00",
          "2021-10-15T15:00:00",
          "2021-10-15T15:30:00",
          "2021-10-15T16:00:00",
          "2021-10-15T16:30:00",
          "2021-10-15T17:00:00",
          "2021-10-15T17:30:00",
          "2021-10-15T18:00:00",
          "2021-10-15T18:30:00",
          "2021-10-15T19:00:00",
          "2021-10-15T19:30:00",
          "2021-10-15T20:00:00",
          "2021-10-15T20:30:00",
          "2021-10-15T21:00:00",
          "2021-10-15T21:30:00",
          "2021-10-15T22:00:00",
          "2021-10-15T22:30:00",
          "2021-10-15T23:00:00",
          "2021-10-15T23:30:00"
         ],
         "xaxis": "x",
         "y": [
          0.75,
          0.73,
          0.72,
          0.76,
          0.81,
          0.69,
          0.67,
          0.61,
          0.73,
          0.64,
          1.14,
          1.8,
          3.16,
          3.6,
          3.57,
          3.62,
          3.82,
          3.74,
          3.61,
          3.6,
          3.47,
          3.6,
          3.6,
          3.66,
          3.85,
          3.4,
          2.98,
          3.47,
          3.35,
          2.99,
          2.99,
          2.74,
          2.58,
          2.44,
          1.84,
          1.26,
          1.29,
          1.3,
          1.34,
          1.29,
          1.42,
          1.25,
          1.32,
          1.25,
          1.34,
          1.23,
          1.25,
          1.3,
          1.26,
          1.32,
          1.26,
          1.2,
          1.25,
          1.19,
          1.17,
          1.17,
          1.16,
          1.19,
          1.78,
          2.41,
          2.83,
          3.33,
          3.44,
          3.83,
          3.78,
          4.08,
          3.59,
          3.65,
          4.16,
          3.8,
          3.82,
          3.52,
          3.51,
          3.53,
          3.23,
          3.67,
          3.62,
          2.88,
          2.33,
          1.93,
          1.83,
          1.89,
          1.49,
          0.85,
          0.92,
          0.82,
          0.92,
          0.82,
          0.91,
          0.87,
          0.84,
          0.83,
          0.85,
          0.82,
          0.84,
          0.84,
          0.82,
          0.78,
          0.67,
          0.69,
          0.76,
          0.73,
          0.79,
          0.76,
          0.81,
          0.77,
          1.26,
          2.16,
          2.7,
          3.21,
          3.23,
          3.15,
          3.29,
          3.3,
          3.04,
          2.82,
          3.03,
          3.19,
          3.85,
          3.71,
          3.55,
          3.51,
          3.08,
          3.21,
          2.97,
          2.42,
          2.29,
          1.65,
          1.75,
          1.8,
          1.6,
          0.99,
          0.88,
          0.93,
          0.79,
          0.85,
          0.86,
          0.84,
          0.8,
          0.8,
          0.78,
          0.81,
          0.76,
          0.87,
          0.87,
          0.88,
          0.85,
          0.79,
          0.72,
          0.72,
          0.75,
          0.7,
          0.72,
          0.81,
          1.39,
          1.67,
          2.5,
          2.95,
          3.23,
          3.23,
          3.13,
          3.3,
          3.41,
          3.26,
          2.97,
          2.82,
          2.77,
          2.93,
          2.8,
          2.66,
          2.43,
          2.71,
          2.75,
          2.25,
          2,
          1.81,
          1.79,
          1.45,
          1.39,
          1.19,
          1.05,
          0.98,
          0.98,
          0.94,
          0.96,
          0.94,
          0.88,
          0.82,
          0.83,
          0.91,
          0.99,
          0.92,
          0.83,
          0.89,
          0.91,
          0.91,
          0.76,
          0.82,
          0.79,
          0.76,
          0.71,
          0.85,
          1.49,
          2.02,
          2.41,
          3.04,
          3.21,
          3.24,
          3.25,
          3.04,
          3.24,
          3.07,
          2.66,
          2.59,
          2.93,
          3.48,
          3.21,
          2.96,
          3.33,
          3.19,
          2.94,
          2.73,
          2.18,
          2.03,
          1.85,
          1.69,
          1.53,
          1.38,
          0.94,
          1.01,
          0.82,
          0.88,
          0.74,
          0.76,
          0.74,
          0.87,
          0.73,
          0.88,
          0.75,
          0.83
         ],
         "yaxis": "y"
        }
       ],
       "layout": {
        "legend": {
         "tracegroupgap": 0
        },
        "template": {
         "data": {
          "bar": [
           {
            "error_x": {
             "color": "#2a3f5f"
            },
            "error_y": {
             "color": "#2a3f5f"
            },
            "marker": {
             "line": {
              "color": "#E5ECF6",
              "width": 0.5
             },
             "pattern": {
              "fillmode": "overlay",
              "size": 10,
              "solidity": 0.2
             }
            },
            "type": "bar"
           }
          ],
          "barpolar": [
           {
            "marker": {
             "line": {
              "color": "#E5ECF6",
              "width": 0.5
             },
             "pattern": {
              "fillmode": "overlay",
              "size": 10,
              "solidity": 0.2
             }
            },
            "type": "barpolar"
           }
          ],
          "carpet": [
           {
            "aaxis": {
             "endlinecolor": "#2a3f5f",
             "gridcolor": "white",
             "linecolor": "white",
             "minorgridcolor": "white",
             "startlinecolor": "#2a3f5f"
            },
            "baxis": {
             "endlinecolor": "#2a3f5f",
             "gridcolor": "white",
             "linecolor": "white",
             "minorgridcolor": "white",
             "startlinecolor": "#2a3f5f"
            },
            "type": "carpet"
           }
          ],
          "choropleth": [
           {
            "colorbar": {
             "outlinewidth": 0,
             "ticks": ""
            },
            "type": "choropleth"
           }
          ],
          "contour": [
           {
            "colorbar": {
             "outlinewidth": 0,
             "ticks": ""
            },
            "colorscale": [
             [
              0,
              "#0d0887"
             ],
             [
              0.1111111111111111,
              "#46039f"
             ],
             [
              0.2222222222222222,
              "#7201a8"
             ],
             [
              0.3333333333333333,
              "#9c179e"
             ],
             [
              0.4444444444444444,
              "#bd3786"
             ],
             [
              0.5555555555555556,
              "#d8576b"
             ],
             [
              0.6666666666666666,
              "#ed7953"
             ],
             [
              0.7777777777777778,
              "#fb9f3a"
             ],
             [
              0.8888888888888888,
              "#fdca26"
             ],
             [
              1,
              "#f0f921"
             ]
            ],
            "type": "contour"
           }
          ],
          "contourcarpet": [
           {
            "colorbar": {
             "outlinewidth": 0,
             "ticks": ""
            },
            "type": "contourcarpet"
           }
          ],
          "heatmap": [
           {
            "colorbar": {
             "outlinewidth": 0,
             "ticks": ""
            },
            "colorscale": [
             [
              0,
              "#0d0887"
             ],
             [
              0.1111111111111111,
              "#46039f"
             ],
             [
              0.2222222222222222,
              "#7201a8"
             ],
             [
              0.3333333333333333,
              "#9c179e"
             ],
             [
              0.4444444444444444,
              "#bd3786"
             ],
             [
              0.5555555555555556,
              "#d8576b"
             ],
             [
              0.6666666666666666,
              "#ed7953"
             ],
             [
              0.7777777777777778,
              "#fb9f3a"
             ],
             [
              0.8888888888888888,
              "#fdca26"
             ],
             [
              1,
              "#f0f921"
             ]
            ],
            "type": "heatmap"
           }
          ],
          "heatmapgl": [
           {
            "colorbar": {
             "outlinewidth": 0,
             "ticks": ""
            },
            "colorscale": [
             [
              0,
              "#0d0887"
             ],
             [
              0.1111111111111111,
              "#46039f"
             ],
             [
              0.2222222222222222,
              "#7201a8"
             ],
             [
              0.3333333333333333,
              "#9c179e"
             ],
             [
              0.4444444444444444,
              "#bd3786"
             ],
             [
              0.5555555555555556,
              "#d8576b"
             ],
             [
              0.6666666666666666,
              "#ed7953"
             ],
             [
              0.7777777777777778,
              "#fb9f3a"
             ],
             [
              0.8888888888888888,
              "#fdca26"
             ],
             [
              1,
              "#f0f921"
             ]
            ],
            "type": "heatmapgl"
           }
          ],
          "histogram": [
           {
            "marker": {
             "pattern": {
              "fillmode": "overlay",
              "size": 10,
              "solidity": 0.2
             }
            },
            "type": "histogram"
           }
          ],
          "histogram2d": [
           {
            "colorbar": {
             "outlinewidth": 0,
             "ticks": ""
            },
            "colorscale": [
             [
              0,
              "#0d0887"
             ],
             [
              0.1111111111111111,
              "#46039f"
             ],
             [
              0.2222222222222222,
              "#7201a8"
             ],
             [
              0.3333333333333333,
              "#9c179e"
             ],
             [
              0.4444444444444444,
              "#bd3786"
             ],
             [
              0.5555555555555556,
              "#d8576b"
             ],
             [
              0.6666666666666666,
              "#ed7953"
             ],
             [
              0.7777777777777778,
              "#fb9f3a"
             ],
             [
              0.8888888888888888,
              "#fdca26"
             ],
             [
              1,
              "#f0f921"
             ]
            ],
            "type": "histogram2d"
           }
          ],
          "histogram2dcontour": [
           {
            "colorbar": {
             "outlinewidth": 0,
             "ticks": ""
            },
            "colorscale": [
             [
              0,
              "#0d0887"
             ],
             [
              0.1111111111111111,
              "#46039f"
             ],
             [
              0.2222222222222222,
              "#7201a8"
             ],
             [
              0.3333333333333333,
              "#9c179e"
             ],
             [
              0.4444444444444444,
              "#bd3786"
             ],
             [
              0.5555555555555556,
              "#d8576b"
             ],
             [
              0.6666666666666666,
              "#ed7953"
             ],
             [
              0.7777777777777778,
              "#fb9f3a"
             ],
             [
              0.8888888888888888,
              "#fdca26"
             ],
             [
              1,
              "#f0f921"
             ]
            ],
            "type": "histogram2dcontour"
           }
          ],
          "mesh3d": [
           {
            "colorbar": {
             "outlinewidth": 0,
             "ticks": ""
            },
            "type": "mesh3d"
           }
          ],
          "parcoords": [
           {
            "line": {
             "colorbar": {
              "outlinewidth": 0,
              "ticks": ""
             }
            },
            "type": "parcoords"
           }
          ],
          "pie": [
           {
            "automargin": true,
            "type": "pie"
           }
          ],
          "scatter": [
           {
            "marker": {
             "colorbar": {
              "outlinewidth": 0,
              "ticks": ""
             }
            },
            "type": "scatter"
           }
          ],
          "scatter3d": [
           {
            "line": {
             "colorbar": {
              "outlinewidth": 0,
              "ticks": ""
             }
            },
            "marker": {
             "colorbar": {
              "outlinewidth": 0,
              "ticks": ""
             }
            },
            "type": "scatter3d"
           }
          ],
          "scattercarpet": [
           {
            "marker": {
             "colorbar": {
              "outlinewidth": 0,
              "ticks": ""
             }
            },
            "type": "scattercarpet"
           }
          ],
          "scattergeo": [
           {
            "marker": {
             "colorbar": {
              "outlinewidth": 0,
              "ticks": ""
             }
            },
            "type": "scattergeo"
           }
          ],
          "scattergl": [
           {
            "marker": {
             "colorbar": {
              "outlinewidth": 0,
              "ticks": ""
             }
            },
            "type": "scattergl"
           }
          ],
          "scattermapbox": [
           {
            "marker": {
             "colorbar": {
              "outlinewidth": 0,
              "ticks": ""
             }
            },
            "type": "scattermapbox"
           }
          ],
          "scatterpolar": [
           {
            "marker": {
             "colorbar": {
              "outlinewidth": 0,
              "ticks": ""
             }
            },
            "type": "scatterpolar"
           }
          ],
          "scatterpolargl": [
           {
            "marker": {
             "colorbar": {
              "outlinewidth": 0,
              "ticks": ""
             }
            },
            "type": "scatterpolargl"
           }
          ],
          "scatterternary": [
           {
            "marker": {
             "colorbar": {
              "outlinewidth": 0,
              "ticks": ""
             }
            },
            "type": "scatterternary"
           }
          ],
          "surface": [
           {
            "colorbar": {
             "outlinewidth": 0,
             "ticks": ""
            },
            "colorscale": [
             [
              0,
              "#0d0887"
             ],
             [
              0.1111111111111111,
              "#46039f"
             ],
             [
              0.2222222222222222,
              "#7201a8"
             ],
             [
              0.3333333333333333,
              "#9c179e"
             ],
             [
              0.4444444444444444,
              "#bd3786"
             ],
             [
              0.5555555555555556,
              "#d8576b"
             ],
             [
              0.6666666666666666,
              "#ed7953"
             ],
             [
              0.7777777777777778,
              "#fb9f3a"
             ],
             [
              0.8888888888888888,
              "#fdca26"
             ],
             [
              1,
              "#f0f921"
             ]
            ],
            "type": "surface"
           }
          ],
          "table": [
           {
            "cells": {
             "fill": {
              "color": "#EBF0F8"
             },
             "line": {
              "color": "white"
             }
            },
            "header": {
             "fill": {
              "color": "#C8D4E3"
             },
             "line": {
              "color": "white"
             }
            },
            "type": "table"
           }
          ]
         },
         "layout": {
          "annotationdefaults": {
           "arrowcolor": "#2a3f5f",
           "arrowhead": 0,
           "arrowwidth": 1
          },
          "autotypenumbers": "strict",
          "coloraxis": {
           "colorbar": {
            "outlinewidth": 0,
            "ticks": ""
           }
          },
          "colorscale": {
           "diverging": [
            [
             0,
             "#8e0152"
            ],
            [
             0.1,
             "#c51b7d"
            ],
            [
             0.2,
             "#de77ae"
            ],
            [
             0.3,
             "#f1b6da"
            ],
            [
             0.4,
             "#fde0ef"
            ],
            [
             0.5,
             "#f7f7f7"
            ],
            [
             0.6,
             "#e6f5d0"
            ],
            [
             0.7,
             "#b8e186"
            ],
            [
             0.8,
             "#7fbc41"
            ],
            [
             0.9,
             "#4d9221"
            ],
            [
             1,
             "#276419"
            ]
           ],
           "sequential": [
            [
             0,
             "#0d0887"
            ],
            [
             0.1111111111111111,
             "#46039f"
            ],
            [
             0.2222222222222222,
             "#7201a8"
            ],
            [
             0.3333333333333333,
             "#9c179e"
            ],
            [
             0.4444444444444444,
             "#bd3786"
            ],
            [
             0.5555555555555556,
             "#d8576b"
            ],
            [
             0.6666666666666666,
             "#ed7953"
            ],
            [
             0.7777777777777778,
             "#fb9f3a"
            ],
            [
             0.8888888888888888,
             "#fdca26"
            ],
            [
             1,
             "#f0f921"
            ]
           ],
           "sequentialminus": [
            [
             0,
             "#0d0887"
            ],
            [
             0.1111111111111111,
             "#46039f"
            ],
            [
             0.2222222222222222,
             "#7201a8"
            ],
            [
             0.3333333333333333,
             "#9c179e"
            ],
            [
             0.4444444444444444,
             "#bd3786"
            ],
            [
             0.5555555555555556,
             "#d8576b"
            ],
            [
             0.6666666666666666,
             "#ed7953"
            ],
            [
             0.7777777777777778,
             "#fb9f3a"
            ],
            [
             0.8888888888888888,
             "#fdca26"
            ],
            [
             1,
             "#f0f921"
            ]
           ]
          },
          "colorway": [
           "#636efa",
           "#EF553B",
           "#00cc96",
           "#ab63fa",
           "#FFA15A",
           "#19d3f3",
           "#FF6692",
           "#B6E880",
           "#FF97FF",
           "#FECB52"
          ],
          "font": {
           "color": "#2a3f5f"
          },
          "geo": {
           "bgcolor": "white",
           "lakecolor": "white",
           "landcolor": "#E5ECF6",
           "showlakes": true,
           "showland": true,
           "subunitcolor": "white"
          },
          "hoverlabel": {
           "align": "left"
          },
          "hovermode": "closest",
          "mapbox": {
           "style": "light"
          },
          "paper_bgcolor": "white",
          "plot_bgcolor": "#E5ECF6",
          "polar": {
           "angularaxis": {
            "gridcolor": "white",
            "linecolor": "white",
            "ticks": ""
           },
           "bgcolor": "#E5ECF6",
           "radialaxis": {
            "gridcolor": "white",
            "linecolor": "white",
            "ticks": ""
           }
          },
          "scene": {
           "xaxis": {
            "backgroundcolor": "#E5ECF6",
            "gridcolor": "white",
            "gridwidth": 2,
            "linecolor": "white",
            "showbackground": true,
            "ticks": "",
            "zerolinecolor": "white"
           },
           "yaxis": {
            "backgroundcolor": "#E5ECF6",
            "gridcolor": "white",
            "gridwidth": 2,
            "linecolor": "white",
            "showbackground": true,
            "ticks": "",
            "zerolinecolor": "white"
           },
           "zaxis": {
            "backgroundcolor": "#E5ECF6",
            "gridcolor": "white",
            "gridwidth": 2,
            "linecolor": "white",
            "showbackground": true,
            "ticks": "",
            "zerolinecolor": "white"
           }
          },
          "shapedefaults": {
           "line": {
            "color": "#2a3f5f"
           }
          },
          "ternary": {
           "aaxis": {
            "gridcolor": "white",
            "linecolor": "white",
            "ticks": ""
           },
           "baxis": {
            "gridcolor": "white",
            "linecolor": "white",
            "ticks": ""
           },
           "bgcolor": "#E5ECF6",
           "caxis": {
            "gridcolor": "white",
            "linecolor": "white",
            "ticks": ""
           }
          },
          "title": {
           "x": 0.05
          },
          "xaxis": {
           "automargin": true,
           "gridcolor": "white",
           "linecolor": "white",
           "ticks": "",
           "title": {
            "standoff": 15
           },
           "zerolinecolor": "white",
           "zerolinewidth": 2
          },
          "yaxis": {
           "automargin": true,
           "gridcolor": "white",
           "linecolor": "white",
           "ticks": "",
           "title": {
            "standoff": 15
           },
           "zerolinecolor": "white",
           "zerolinewidth": 2
          }
         }
        },
        "title": {
         "text": "entsorgung_30T"
        },
        "xaxis": {
         "anchor": "y",
         "domain": [
          0,
          1
         ],
         "title": {
          "text": "Time"
         }
        },
        "yaxis": {
         "anchor": "x",
         "domain": [
          0,
          1
         ],
         "title": {
          "text": "kW"
         }
        }
       }
      }
     },
     "metadata": {},
     "output_type": "display_data"
    }
   ],
   "source": [
    "px.line(\n",
    "    x=entsorgung.index, y=entsorgung.kw, \n",
    "    title='entsorgung_30T',\n",
    "    labels={\n",
    "        'x': 'Time',\n",
    "        'y': 'kW'\n",
    "    },\n",
    "    markers=False)"
   ]
  },
  {
   "cell_type": "code",
   "execution_count": 4,
   "metadata": {},
   "outputs": [
    {
     "data": {
      "text/plain": [
       "(240,)"
      ]
     },
     "execution_count": 4,
     "metadata": {},
     "output_type": "execute_result"
    }
   ],
   "source": [
    "time_vals = list(entsorgung.index)\n",
    "np.shape(time_vals)"
   ]
  },
  {
   "cell_type": "code",
   "execution_count": 6,
   "metadata": {},
   "outputs": [
    {
     "data": {
      "text/plain": [
       "Timedelta('4 days 23:30:00')"
      ]
     },
     "execution_count": 6,
     "metadata": {},
     "output_type": "execute_result"
    }
   ],
   "source": [
    "day_range = entsorgung.index.max() - entsorgung.index.min()\n",
    "day_range"
   ]
  },
  {
   "cell_type": "code",
   "execution_count": 7,
   "metadata": {},
   "outputs": [
    {
     "data": {
      "text/plain": [
       "(240, 8)"
      ]
     },
     "execution_count": 7,
     "metadata": {},
     "output_type": "execute_result"
    }
   ],
   "source": [
    "entsorgung.shape"
   ]
  },
  {
   "cell_type": "code",
   "execution_count": 20,
   "metadata": {},
   "outputs": [],
   "source": [
    "time_int_range = np.arange(0, 240*30, 30)\n",
    "entsorgung['t'] = time_int_range\n",
    "entsorgung['t'] = (entsorgung['t'] - entsorgung['t'].min()) / (entsorgung['t'].max() - entsorgung['t'].min())\n",
    "\n",
    "X = entsorgung['t'].values\n",
    "y = entsorgung['kw'].values\n",
    "n = len(X)\n",
    "prop_train = 0.8\n",
    "n_train = round(prop_train * n)\n",
    "\n",
    "# Training\n",
    "X_train = torch.from_numpy(X[:n_train]).to(torch.float64)\n",
    "y_train = torch.from_numpy(y[:n_train]).to(torch.float64)\n",
    "\n",
    "# Testing\n",
    "X_test = torch.from_numpy(X).to(torch.float64)\n",
    "y_test = torch.from_numpy(y[n_train:]).to(torch.float64)\n",
    "\n",
    "# Standardizing helps with hyperparameter initialization\n",
    "y_train_mean = torch.mean(y_train)\n",
    "y_train_std = torch.std(y_train)\n",
    "\n",
    "y_train = (y_train - y_train_mean) / (y_train_std)\n",
    "y_test = (y_test - y_train_mean) / (y_train_std)\n",
    "\n",
    "#plt.figure(figsize=(16, 6))\n",
    "#plt.plot(X_train.numpy(), y_train.numpy())\n",
    "#plt.plot(X_test.numpy(), y_test.numpy())"
   ]
  },
  {
   "cell_type": "code",
   "execution_count": 15,
   "metadata": {},
   "outputs": [],
   "source": [
    "time_int_range = np.arange(0, 240*5, 5)\n",
    "entsorgung['t'] = time_int_range\n",
    "\n",
    "#entsorgung_final = pd.DataFrame(data=entsorgung['kw'], index=entsorgung['t'])\n",
    "#entsorgung_final.reset_index(inplace=True)\n",
    "\n",
    "X = entsorgung['t'].values\n",
    "y = entsorgung['kw'].values\n",
    "n = len(X)\n",
    "prop_train = 0.8\n",
    "n_train = round(prop_train * n)\n",
    "\n",
    "# Training\n",
    "X_train = torch.from_numpy(X[:n_train]).to(torch.float64)\n",
    "y_train = torch.from_numpy(y[:n_train]).to(torch.float64)\n",
    "time_vals_train = time_vals[:n_train]\n",
    "\n",
    "# Testing\n",
    "#X_test = torch.from_numpy(y[n_train:]).to(torch.float64)\n",
    "X_test = torch.from_numpy(X).to(torch.float64)\n",
    "y_test = torch.from_numpy(y[n_train:]).to(torch.float64)\n",
    "time_vals_test = time_vals[n_train:]\n",
    "\n",
    "# Standardizing helps with hyperparameter initialization\n",
    "y_train_mean = torch.mean(y_train)\n",
    "y_train_std = torch.std(y_train)\n",
    "\n",
    "y_train = (y_train - y_train_mean) / (y_train_std)\n",
    "y_test = (y_test - y_train_mean) / (y_train_std)\n",
    "\n",
    "#plt.figure(figsize=(16, 6))\n",
    "#plt.plot(X_train.numpy(), y_train.numpy())\n",
    "#plt.plot(X_test.numpy(), y_test.numpy())"
   ]
  },
  {
   "cell_type": "code",
   "execution_count": 10,
   "metadata": {},
   "outputs": [],
   "source": [
    "## new time scale ##\n",
    "\n",
    "class ExactGPModel(gpytorch.models.ExactGP):\n",
    "    def __init__(self, train_x, train_y, likelihood):\n",
    "        super(ExactGPModel, self).__init__(train_x, train_y, likelihood)\n",
    "\n",
    "        ## Locally Periodic Kernel ##\n",
    "        period_constraint_short = gpytorch.constraints.Interval(22, 26) ## short term\n",
    "\n",
    "        seasonal_periodic_short = gpytorch.kernels.PeriodicKernel(\n",
    "            #period_length_constraint=period_constraint_short\n",
    "        )\n",
    "\n",
    "        period_constraint_long = gpytorch.constraints.Interval(46, 50) ## long term\n",
    "\n",
    "        seasonal_periodic_long = gpytorch.kernels.PeriodicKernel(\n",
    "            #period_length_constraint=period_constraint_long\n",
    "        )\n",
    "\n",
    "        ## Local Variations ##\n",
    "        local_variation_alpha = gpytorch.priors.GammaPrior(1, 0.5)\n",
    "\n",
    "        local_variation = gpytorch.kernels.RQKernel()\n",
    "        local_variation.alpha = 1\n",
    "\n",
    "\n",
    "        self.covar_module = seasonal_periodic_short + seasonal_periodic_long + local_variation\n",
    "        self.mean_module = gpytorch.means.ZeroMean()\n",
    "\n",
    "    def forward(self, x):\n",
    "        mean_x = self.mean_module(x)\n",
    "        covar_x = self.covar_module(x)\n",
    "        return gpytorch.distributions.MultivariateNormal(mean_x, covar_x)\n",
    "\n",
    "# initialize likelihood and model\n",
    "likelihood = gpytorch.likelihoods.GaussianLikelihood()\n",
    "model = ExactGPModel(X_train, y_train, likelihood)"
   ]
  },
  {
   "cell_type": "code",
   "execution_count": 16,
   "metadata": {},
   "outputs": [],
   "source": [
    "## best performing ##\n",
    "\n",
    "class ExactGPModel(gpytorch.models.ExactGP):\n",
    "    def __init__(self, train_x, train_y, likelihood):\n",
    "        super(ExactGPModel, self).__init__(train_x, train_y, likelihood)\n",
    "\n",
    "        ## Locally Periodic Kernel ##\n",
    "        period_constraint_short = gpytorch.constraints.Interval(110, 130) ## short term\n",
    "\n",
    "        seasonal_periodic_short = gpytorch.kernels.PeriodicKernel(\n",
    "            period_length_constraint=period_constraint_short\n",
    "        )\n",
    "\n",
    "        period_constraint_long = gpytorch.constraints.Interval(225, 245) ## long term\n",
    "\n",
    "        seasonal_periodic_long = gpytorch.kernels.PeriodicKernel(\n",
    "            period_length_constraint=period_constraint_long\n",
    "        )\n",
    "\n",
    "        ## Local Variations ##\n",
    "        local_variation_alpha = gpytorch.priors.GammaPrior(1, 0.5)\n",
    "\n",
    "        local_variation = gpytorch.kernels.RQKernel()\n",
    "        local_variation.alpha = 1\n",
    "\n",
    "\n",
    "        self.covar_module = seasonal_periodic_short + seasonal_periodic_long + local_variation\n",
    "        self.mean_module = gpytorch.means.ZeroMean()\n",
    "\n",
    "    def forward(self, x):\n",
    "        mean_x = self.mean_module(x)\n",
    "        covar_x = self.covar_module(x)\n",
    "        return gpytorch.distributions.MultivariateNormal(mean_x, covar_x)\n",
    "\n",
    "# initialize likelihood and model\n",
    "likelihood = gpytorch.likelihoods.GaussianLikelihood()\n",
    "model = ExactGPModel(X_train, y_train, likelihood)"
   ]
  },
  {
   "cell_type": "code",
   "execution_count": 15,
   "metadata": {},
   "outputs": [],
   "source": [
    "## v2 - adding scaling parameters ##\n",
    "\n",
    "class ExactGPModel(gpytorch.models.ExactGP):\n",
    "    def __init__(self, train_x, train_y, likelihood):\n",
    "        super(ExactGPModel, self).__init__(train_x, train_y, likelihood)\n",
    "\n",
    "        ## Locally Periodic Kernel ##\n",
    "        period_constraint_short = gpytorch.constraints.Interval(110, 130) ## short term\n",
    "\n",
    "        seasonal_periodic_short = gpytorch.kernels.ScaleKernel(\n",
    "            gpytorch.kernels.PeriodicKernel(\n",
    "                period_length_constraint=period_constraint_short\n",
    "                )\n",
    "            )\n",
    "\n",
    "        seasonal_rbf_short = gpytorch.kernels.ScaleKernel(\n",
    "            gpytorch.kernels.RBFKernel()\n",
    "        )\n",
    "\n",
    "        locally_short_periodic = seasonal_periodic_short * seasonal_rbf_short\n",
    "\n",
    "        period_constraint_long = gpytorch.constraints.Interval(225, 245) ## long term\n",
    "\n",
    "        seasonal_periodic_long = gpytorch.kernels.ScaleKernel(\n",
    "            gpytorch.kernels.PeriodicKernel(\n",
    "                period_length_constraint=period_constraint_long\n",
    "                )\n",
    "            )\n",
    "\n",
    "        seasonal_rbf_long = gpytorch.kernels.ScaleKernel(\n",
    "            gpytorch.kernels.RBFKernel()\n",
    "        )\n",
    "\n",
    "        locally_long_periodic = seasonal_periodic_long * seasonal_rbf_long\n",
    "\n",
    "        ## Local Variations ##\n",
    "        local_variation_alpha = gpytorch.priors.GammaPrior(1, 0.5)\n",
    "\n",
    "        local_variation = gpytorch.kernels.ScaleKernel(\n",
    "            gpytorch.kernels.RQKernel()\n",
    "            )\n",
    "            \n",
    "        local_variation.alpha = local_variation_alpha\n",
    "\n",
    "\n",
    "        self.covar_module = locally_short_periodic + locally_long_periodic + local_variation\n",
    "        self.mean_module = gpytorch.means.ZeroMean()\n",
    "\n",
    "    def forward(self, x):\n",
    "        mean_x = self.mean_module(x)\n",
    "        covar_x = self.covar_module(x)\n",
    "        return gpytorch.distributions.MultivariateNormal(mean_x, covar_x)\n",
    "\n",
    "# initialize likelihood and model\n",
    "likelihood = gpytorch.likelihoods.GaussianLikelihood()\n",
    "model = ExactGPModel(X_train, y_train, likelihood)"
   ]
  },
  {
   "cell_type": "code",
   "execution_count": 17,
   "metadata": {},
   "outputs": [
    {
     "name": "stdout",
     "output_type": "stream",
     "text": [
      "Iter 1 , Loss = 1.291578803778102 , Noise = 0.6932471990585327\n",
      "Iter 2 , Loss = 1.2742553230047922 , Noise = 0.6444966793060303\n",
      "Iter 3 , Loss = 1.2575832198736254 , Noise = 0.5982580780982971\n",
      "Iter 4 , Loss = 1.2415275397166958 , Noise = 0.5545271635055542\n",
      "Iter 5 , Loss = 1.225703914814458 , Noise = 0.5132874846458435\n",
      "Iter 6 , Loss = 1.2097241878157474 , Noise = 0.4745086133480072\n",
      "Iter 7 , Loss = 1.1934187663227227 , Noise = 0.43814533948898315\n",
      "Iter 8 , Loss = 1.1766987652690692 , Noise = 0.40413838624954224\n",
      "Iter 9 , Loss = 1.1594787847002552 , Noise = 0.3724161386489868\n",
      "Iter 10 , Loss = 1.141660006239326 , Noise = 0.3428959846496582\n",
      "Iter 11 , Loss = 1.1231260295268857 , Noise = 0.3154861629009247\n",
      "Iter 12 , Loss = 1.103742197649778 , Noise = 0.29008743166923523\n",
      "Iter 13 , Loss = 1.0833608837452497 , Noise = 0.2665949761867523\n",
      "Iter 14 , Loss = 1.0618347186532109 , Noise = 0.24490055441856384\n",
      "Iter 15 , Loss = 1.0390336065079582 , Noise = 0.22489391267299652\n",
      "Iter 16 , Loss = 1.0148584227080428 , Noise = 0.2064650058746338\n",
      "Iter 17 , Loss = 0.9892464744123896 , Noise = 0.1895052045583725\n",
      "Iter 18 , Loss = 0.9621709222884766 , Noise = 0.17390890419483185\n",
      "Iter 19 , Loss = 0.9336366062922834 , Noise = 0.1595745086669922\n",
      "Iter 20 , Loss = 0.9036753522370913 , Noise = 0.14640524983406067\n",
      "Iter 21 , Loss = 0.8723408846570466 , Noise = 0.13430970907211304\n",
      "Iter 22 , Loss = 0.8397037411567688 , Noise = 0.12320221960544586\n",
      "Iter 23 , Loss = 0.8058459082973645 , Noise = 0.11300291866064072\n",
      "Iter 24 , Loss = 0.7708560101855482 , Noise = 0.10363774746656418\n",
      "Iter 25 , Loss = 0.7348256792283457 , Noise = 0.09503835439682007\n",
      "Iter 26 , Loss = 0.6978486535788416 , Noise = 0.08714181184768677\n",
      "Iter 27 , Loss = 0.6600228282536972 , Noise = 0.07989034801721573\n",
      "Iter 28 , Loss = 0.6214546473229065 , Noise = 0.0732310488820076\n",
      "Iter 29 , Loss = 0.58226298294419 , Noise = 0.06711550056934357\n",
      "Iter 30 , Loss = 0.5425806154690578 , Noise = 0.061499420553445816\n",
      "Iter 31 , Loss = 0.502549399256443 , Noise = 0.056342389434576035\n",
      "Iter 32 , Loss = 0.4623095731220915 , Noise = 0.051607463508844376\n",
      "Iter 33 , Loss = 0.42198818411473454 , Noise = 0.04726088419556618\n",
      "Iter 34 , Loss = 0.3816982197349727 , Noise = 0.043271783739328384\n",
      "Iter 35 , Loss = 0.3415569511375202 , Noise = 0.03961189463734627\n",
      "Iter 36 , Loss = 0.30170802634957444 , Noise = 0.03625532239675522\n",
      "Iter 37 , Loss = 0.2623197119276963 , Noise = 0.03317829594016075\n",
      "Iter 38 , Loss = 0.22354659960001536 , Noise = 0.03035898320376873\n",
      "Iter 39 , Loss = 0.18549145199539221 , Noise = 0.027777329087257385\n",
      "Iter 40 , Loss = 0.14824696167612927 , Noise = 0.02541484124958515\n",
      "Iter 41 , Loss = 0.11197192612501376 , Noise = 0.023254461586475372\n",
      "Iter 42 , Loss = 0.07685361041860246 , Noise = 0.021280428394675255\n",
      "Iter 43 , Loss = 0.04300541772816965 , Noise = 0.019478173926472664\n",
      "Iter 44 , Loss = 0.01056178380188951 , Noise = 0.01783420518040657\n",
      "Iter 45 , Loss = -0.020174188259744746 , Noise = 0.016336046159267426\n",
      "Iter 46 , Loss = -0.048965256248401534 , Noise = 0.014972180128097534\n",
      "Iter 47 , Loss = -0.07568554895357431 , Noise = 0.013731997460126877\n",
      "Iter 48 , Loss = -0.1001051016092435 , Noise = 0.012605723924934864\n",
      "Iter 49 , Loss = -0.12220958735301742 , Noise = 0.011584344319999218\n",
      "Iter 50 , Loss = -0.14186860819253821 , Noise = 0.01065954938530922\n",
      "Iter 51 , Loss = -0.15890483365530642 , Noise = 0.009823683649301529\n",
      "Iter 52 , Loss = -0.17336542394684296 , Noise = 0.009069682098925114\n",
      "Iter 53 , Loss = -0.18518125406304087 , Noise = 0.008391006849706173\n",
      "Iter 54 , Loss = -0.19455087757744907 , Noise = 0.007781519554555416\n",
      "Iter 55 , Loss = -0.20162620658416897 , Noise = 0.007235394325107336\n",
      "Iter 56 , Loss = -0.20675020163114688 , Noise = 0.0067471289075911045\n",
      "Iter 57 , Loss = -0.2103394379550232 , Noise = 0.006311492994427681\n",
      "Iter 58 , Loss = -0.21337536840445948 , Noise = 0.005923364777117968\n",
      "Iter 59 , Loss = -0.2173006206595717 , Noise = 0.005577524658292532\n",
      "Iter 60 , Loss = -0.22219425456931333 , Noise = 0.005268695764243603\n",
      "Iter 61 , Loss = -0.22676436958223847 , Noise = 0.0049919323064386845\n",
      "Iter 62 , Loss = -0.22896594152629776 , Noise = 0.004743023309856653\n",
      "Iter 63 , Loss = -0.2274984535374466 , Noise = 0.0045186555944383144\n",
      "Iter 64 , Loss = -0.22429597344074978 , Noise = 0.004316186532378197\n",
      "Iter 65 , Loss = -0.22224258756887658 , Noise = 0.0041334605775773525\n",
      "Iter 66 , Loss = -0.22213244506787255 , Noise = 0.0039686779491603374\n",
      "Iter 67 , Loss = -0.223416013612888 , Noise = 0.003820208366960287\n",
      "Iter 68 , Loss = -0.22524967884086008 , Noise = 0.003686541225761175\n",
      "Iter 69 , Loss = -0.22688238495241433 , Noise = 0.0035662888549268246\n",
      "Iter 70 , Loss = -0.22793471642459684 , Noise = 0.003458121558651328\n",
      "Iter 71 , Loss = -0.22861892786925653 , Noise = 0.003360783914104104\n",
      "Iter 72 , Loss = -0.22950214835307423 , Noise = 0.0032730717211961746\n",
      "Iter 73 , Loss = -0.23107689579359217 , Noise = 0.0031937474850565195\n",
      "Iter 74 , Loss = -0.23336136857539 , Noise = 0.0031215427443385124\n",
      "Iter 75 , Loss = -0.23598602661537008 , Noise = 0.003055228153243661\n"
     ]
    },
    {
     "data": {
      "text/plain": [
       "GaussianLikelihood(\n",
       "  (noise_covar): HomoskedasticNoise(\n",
       "    (raw_noise_constraint): GreaterThan(1.000E-04)\n",
       "  )\n",
       ")"
      ]
     },
     "execution_count": 17,
     "metadata": {},
     "output_type": "execute_result"
    }
   ],
   "source": [
    "smoke_test = ('CI' in os.environ)\n",
    "training_iter = 2 if smoke_test else 75\n",
    "\n",
    "model.train()\n",
    "likelihood.train()\n",
    "\n",
    "optimizer = torch.optim.Adam(model.parameters(), lr=0.1)\n",
    "mll = gpytorch.mlls.ExactMarginalLogLikelihood(likelihood=likelihood, model=model)\n",
    "\n",
    "for i in range(training_iter):\n",
    "    optimizer.zero_grad()\n",
    "    output = model(X_train)\n",
    "    loss = -mll(output, y_train)\n",
    "    loss.backward()\n",
    "\n",
    "    print('Iter {} , Loss = {} , Noise = {}'.format(\n",
    "        i+1, loss, model.likelihood.noise.item() \n",
    "    ))\n",
    "\n",
    "    optimizer.step()\n",
    "\n",
    "model.eval()\n",
    "likelihood.eval()"
   ]
  },
  {
   "cell_type": "code",
   "execution_count": 18,
   "metadata": {},
   "outputs": [
    {
     "data": {
      "image/png": "[encoded data removed]",
      "text/plain": [
       "<Figure size 1152x504 with 1 Axes>"
      ]
     },
     "metadata": {
      "needs_background": "light"
     },
     "output_type": "display_data"
    }
   ],
   "source": [
    "model.eval()\n",
    "likelihood.eval()\n",
    "\n",
    "with torch.no_grad(), gpytorch.settings.fast_pred_var():\n",
    "    observed_preds = likelihood(model(X_test))\n",
    "\n",
    "    ## Obtain lower, upper and scale back ##\n",
    "    lower, upper = observed_preds.confidence_region()\n",
    "    lower *= y_train_std\n",
    "    upper *= y_train_std\n",
    "    lower += y_train_mean\n",
    "    upper += y_train_mean\n",
    "\n",
    "    ## Scale back observed preds.mean ##\n",
    "    observed_preds = observed_preds.mean * y_train_std\n",
    "    observed_preds += y_train_mean\n",
    "\n",
    "    ## Scale back y_test ##\n",
    "    #test_preds = observed_preds.mean[n_train:]\n",
    "    test_preds = observed_preds[n_train:]\n",
    "    #test_preds *= y_train_std\n",
    "    #test_preds += y_train_mean\n",
    "\n",
    "    y_test *= y_train_std\n",
    "    y_test += y_train_mean\n",
    "    \n",
    "    mse = mean_squared_error(y_test.numpy(), test_preds.numpy())\n",
    "    mape = mean_absolute_percentage_error(y_test.numpy(), test_preds.numpy())\n",
    "\n",
    "    ## Scale back original data ##\n",
    "    y_train *= y_train_std\n",
    "    y_train += y_train_mean\n",
    "\n",
    "    f, ax = plt.subplots(figsize=(16, 7))\n",
    "    #lower, upper = observed_preds.confidence_region()\n",
    "    ax.plot(time_vals_train, y_train.numpy())\n",
    "    ax.plot(time_vals, observed_preds.numpy())\n",
    "    ax.fill_between(time_vals, lower.numpy(), upper.numpy(), alpha=0.5, color='#2ecc71')\n",
    "    #plt.axvline(x=955, linestyle='--', color='black', lw=1)\n",
    "    ax.legend(['Observed Data', 'Predictions', 'Test', 'Uncertainty'])\n",
    "    plt.xlabel('Time Step')\n",
    "    plt.ylabel('kW')\n",
    "    plt.title('Gaussian Process Regression: Interpolation and Extrapolation of \"Entsorgung\" \\n  MSE = {} \\n MAPE = {}'.\n",
    "    format(round(mse, 2), round(mape, 2)))\n",
    "    plt.show()"
   ]
  },
  {
   "cell_type": "code",
   "execution_count": 12,
   "metadata": {},
   "outputs": [],
   "source": [
    "## Scale back y_test ##\n",
    "#test_preds = observed_preds.mean[n_train:]\n",
    "test_preds = observed_preds[n_train:]\n",
    "\n",
    "y_test *= y_train_std\n",
    "y_test += y_train_mean\n",
    "\n",
    "mse = mean_squared_error(y_test.numpy(), test_preds.numpy())\n",
    "mape = mean_absolute_percentage_error(y_test.numpy(), test_preds.numpy())"
   ]
  },
  {
   "cell_type": "code",
   "execution_count": 13,
   "metadata": {},
   "outputs": [
    {
     "data": {
      "text/plain": [
       "(0.051236881546870484, 0.03639926049163681)"
      ]
     },
     "execution_count": 13,
     "metadata": {},
     "output_type": "execute_result"
    }
   ],
   "source": [
    "mse, mape"
   ]
  },
  {
   "cell_type": "code",
   "execution_count": 15,
   "metadata": {},
   "outputs": [],
   "source": [
    "test_preds = observed_preds.mean[n_train:]"
   ]
  },
  {
   "cell_type": "code",
   "execution_count": 30,
   "metadata": {},
   "outputs": [],
   "source": [
    "lower, upper = observed_preds.confidence_region()"
   ]
  },
  {
   "cell_type": "code",
   "execution_count": 56,
   "metadata": {},
   "outputs": [],
   "source": [
    "observed_preds_scaled = observed_preds.mean * y_train_std\n",
    "observed_preds_scaled += y_train_mean"
   ]
  },
  {
   "cell_type": "code",
   "execution_count": null,
   "metadata": {},
   "outputs": [],
   "source": [
    "observed_preds_scaled"
   ]
  },
  {
   "cell_type": "code",
   "execution_count": null,
   "metadata": {},
   "outputs": [],
   "source": [
    "observed_preds.mean"
   ]
  },
  {
   "cell_type": "code",
   "execution_count": 43,
   "metadata": {},
   "outputs": [
    {
     "data": {
      "text/plain": [
       "torch.Size([192])"
      ]
     },
     "execution_count": 43,
     "metadata": {},
     "output_type": "execute_result"
    }
   ],
   "source": [
    "X_train.size()"
   ]
  },
  {
   "cell_type": "markdown",
   "metadata": {},
   "source": [
    "### Inspection of Learned Hyperparameters\n",
    "\n",
    "Namely:\n",
    " - Lengthscale (wiggliness of the function)\n",
    " - Outputscale (if initialized) aka the variance"
   ]
  },
  {
   "cell_type": "code",
   "execution_count": 19,
   "metadata": {},
   "outputs": [],
   "source": [
    "model.covar_module.lengthscale"
   ]
  },
  {
   "cell_type": "code",
   "execution_count": null,
   "metadata": {},
   "outputs": [],
   "source": []
  }
 ],
 "metadata": {
  "interpreter": {
   "hash": "55f578ea790fce859303417df5f33993e9db329ffe5a387d7c54812db965934b"
  },
  "kernelspec": {
   "display_name": "Python 3.8.12 64-bit ('thesis': conda)",
   "language": "python",
   "name": "python3"
  },
  "language_info": {
   "codemirror_mode": {
    "name": "ipython",
    "version": 3
   },
   "file_extension": ".py",
   "mimetype": "text/x-python",
   "name": "python",
   "nbconvert_exporter": "python",
   "pygments_lexer": "ipython3",
   "version": "3.8.12"
  },
  "orig_nbformat": 4
 },
 "nbformat": 4,
 "nbformat_minor": 2
}
