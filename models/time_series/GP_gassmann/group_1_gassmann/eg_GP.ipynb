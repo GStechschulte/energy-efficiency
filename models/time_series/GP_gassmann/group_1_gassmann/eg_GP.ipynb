{
 "cells": [
  {
   "cell_type": "code",
   "execution_count": 1,
   "metadata": {},
   "outputs": [],
   "source": [
    "import pandas as pd\n",
    "import numpy as np\n",
    "import os\n",
    "import matplotlib.pyplot as plt\n",
    "import scipy.stats as stats\n",
    "import sys\n",
    "sys.path.append('/Users/wastechs/Documents/git-repos/energy-efficiency')\n",
    "from lib.util.helper import query_table, weekday_time_series\n",
    "import seaborn as sns\n",
    "import plotly.express as px\n",
    "from prophet import Prophet\n",
    "from prophet.diagnostics import cross_validation\n",
    "from sklearn.preprocessing import StandardScaler\n",
    "from sklearn.metrics import mean_absolute_percentage_error, mean_squared_error\n",
    "import plotly\n",
    "import torch\n",
    "import gpytorch"
   ]
  },
  {
   "cell_type": "code",
   "execution_count": 2,
   "metadata": {},
   "outputs": [],
   "source": [
    "eg = weekday_time_series(sensor_id='eg_30T')"
   ]
  },
  {
   "cell_type": "code",
   "execution_count": 3,
   "metadata": {},
   "outputs": [],
   "source": [
    "eg['kw'] = round(eg['kw'], 2)"
   ]
  },
  {
   "cell_type": "code",
   "execution_count": 5,
   "metadata": {},
   "outputs": [
    {
     "data": {
      "application/vnd.plotly.v1+json": {
       "config": {
        "plotlyServerURL": "https://plot.ly"
       },
       "data": [
        {
         "hovertemplate": "Time=%{x}<br>kW=%{y}<extra></extra>",
         "legendgroup": "",
         "line": {
          "color": "#636efa",
          "dash": "solid"
         },
         "marker": {
          "symbol": "circle"
         },
         "mode": "lines",
         "name": "",
         "orientation": "v",
         "showlegend": false,
         "type": "scatter",
         "x": [
          "2021-10-11T00:00:00",
          "2021-10-11T00:30:00",
          "2021-10-11T01:00:00",
          "2021-10-11T01:30:00",
          "2021-10-11T02:00:00",
          "2021-10-11T02:30:00",
          "2021-10-11T03:00:00",
          "2021-10-11T03:30:00",
          "2021-10-11T04:00:00",
          "2021-10-11T04:30:00",
          "2021-10-11T05:00:00",
          "2021-10-11T05:30:00",
          "2021-10-11T06:00:00",
          "2021-10-11T06:30:00",
          "2021-10-11T07:00:00",
          "2021-10-11T07:30:00",
          "2021-10-11T08:00:00",
          "2021-10-11T08:30:00",
          "2021-10-11T09:00:00",
          "2021-10-11T09:30:00",
          "2021-10-11T10:00:00",
          "2021-10-11T10:30:00",
          "2021-10-11T11:00:00",
          "2021-10-11T11:30:00",
          "2021-10-11T12:00:00",
          "2021-10-11T12:30:00",
          "2021-10-11T13:00:00",
          "2021-10-11T13:30:00",
          "2021-10-11T14:00:00",
          "2021-10-11T14:30:00",
          "2021-10-11T15:00:00",
          "2021-10-11T15:30:00",
          "2021-10-11T16:00:00",
          "2021-10-11T16:30:00",
          "2021-10-11T17:00:00",
          "2021-10-11T17:30:00",
          "2021-10-11T18:00:00",
          "2021-10-11T18:30:00",
          "2021-10-11T19:00:00",
          "2021-10-11T19:30:00",
          "2021-10-11T20:00:00",
          "2021-10-11T20:30:00",
          "2021-10-11T21:00:00",
          "2021-10-11T21:30:00",
          "2021-10-11T22:00:00",
          "2021-10-11T22:30:00",
          "2021-10-11T23:00:00",
          "2021-10-11T23:30:00",
          "2021-10-12T00:00:00",
          "2021-10-12T00:30:00",
          "2021-10-12T01:00:00",
          "2021-10-12T01:30:00",
          "2021-10-12T02:00:00",
          "2021-10-12T02:30:00",
          "2021-10-12T03:00:00",
          "2021-10-12T03:30:00",
          "2021-10-12T04:00:00",
          "2021-10-12T04:30:00",
          "2021-10-12T05:00:00",
          "2021-10-12T05:30:00",
          "2021-10-12T06:00:00",
          "2021-10-12T06:30:00",
          "2021-10-12T07:00:00",
          "2021-10-12T07:30:00",
          "2021-10-12T08:00:00",
          "2021-10-12T08:30:00",
          "2021-10-12T09:00:00",
          "2021-10-12T09:30:00",
          "2021-10-12T10:00:00",
          "2021-10-12T10:30:00",
          "2021-10-12T11:00:00",
          "2021-10-12T11:30:00",
          "2021-10-12T12:00:00",
          "2021-10-12T12:30:00",
          "2021-10-12T13:00:00",
          "2021-10-12T13:30:00",
          "2021-10-12T14:00:00",
          "2021-10-12T14:30:00",
          "2021-10-12T15:00:00",
          "2021-10-12T15:30:00",
          "2021-10-12T16:00:00",
          "2021-10-12T16:30:00",
          "2021-10-12T17:00:00",
          "2021-10-12T17:30:00",
          "2021-10-12T18:00:00",
          "2021-10-12T18:30:00",
          "2021-10-12T19:00:00",
          "2021-10-12T19:30:00",
          "2021-10-12T20:00:00",
          "2021-10-12T20:30:00",
          "2021-10-12T21:00:00",
          "2021-10-12T21:30:00",
          "2021-10-12T22:00:00",
          "2021-10-12T22:30:00",
          "2021-10-12T23:00:00",
          "2021-10-12T23:30:00",
          "2021-10-13T00:00:00",
          "2021-10-13T00:30:00",
          "2021-10-13T01:00:00",
          "2021-10-13T01:30:00",
          "2021-10-13T02:00:00",
          "2021-10-13T02:30:00",
          "2021-10-13T03:00:00",
          "2021-10-13T03:30:00",
          "2021-10-13T04:00:00",
          "2021-10-13T04:30:00",
          "2021-10-13T05:00:00",
          "2021-10-13T05:30:00",
          "2021-10-13T06:00:00",
          "2021-10-13T06:30:00",
          "2021-10-13T07:00:00",
          "2021-10-13T07:30:00",
          "2021-10-13T08:00:00",
          "2021-10-13T08:30:00",
          "2021-10-13T09:00:00",
          "2021-10-13T09:30:00",
          "2021-10-13T10:00:00",
          "2021-10-13T10:30:00",
          "2021-10-13T11:00:00",
          "2021-10-13T11:30:00",
          "2021-10-13T12:00:00",
          "2021-10-13T12:30:00",
          "2021-10-13T13:00:00",
          "2021-10-13T13:30:00",
          "2021-10-13T14:00:00",
          "2021-10-13T14:30:00",
          "2021-10-13T15:00:00",
          "2021-10-13T15:30:00",
          "2021-10-13T16:00:00",
          "2021-10-13T16:30:00",
          "2021-10-13T17:00:00",
          "2021-10-13T17:30:00",
          "2021-10-13T18:00:00",
          "2021-10-13T18:30:00",
          "2021-10-13T19:00:00",
          "2021-10-13T19:30:00",
          "2021-10-13T20:00:00",
          "2021-10-13T20:30:00",
          "2021-10-13T21:00:00",
          "2021-10-13T21:30:00",
          "2021-10-13T22:00:00",
          "2021-10-13T22:30:00",
          "2021-10-13T23:00:00",
          "2021-10-13T23:30:00",
          "2021-10-14T00:00:00",
          "2021-10-14T00:30:00",
          "2021-10-14T01:00:00",
          "2021-10-14T01:30:00",
          "2021-10-14T02:00:00",
          "2021-10-14T02:30:00",
          "2021-10-14T03:00:00",
          "2021-10-14T03:30:00",
          "2021-10-14T04:00:00",
          "2021-10-14T04:30:00",
          "2021-10-14T05:00:00",
          "2021-10-14T05:30:00",
          "2021-10-14T06:00:00",
          "2021-10-14T06:30:00",
          "2021-10-14T07:00:00",
          "2021-10-14T07:30:00",
          "2021-10-14T08:00:00",
          "2021-10-14T08:30:00",
          "2021-10-14T09:00:00",
          "2021-10-14T09:30:00",
          "2021-10-14T10:00:00",
          "2021-10-14T10:30:00",
          "2021-10-14T11:00:00",
          "2021-10-14T11:30:00",
          "2021-10-14T12:00:00",
          "2021-10-14T12:30:00",
          "2021-10-14T13:00:00",
          "2021-10-14T13:30:00",
          "2021-10-14T14:00:00",
          "2021-10-14T14:30:00",
          "2021-10-14T15:00:00",
          "2021-10-14T15:30:00",
          "2021-10-14T16:00:00",
          "2021-10-14T16:30:00",
          "2021-10-14T17:00:00",
          "2021-10-14T17:30:00",
          "2021-10-14T18:00:00",
          "2021-10-14T18:30:00",
          "2021-10-14T19:00:00",
          "2021-10-14T19:30:00",
          "2021-10-14T20:00:00",
          "2021-10-14T20:30:00",
          "2021-10-14T21:00:00",
          "2021-10-14T21:30:00",
          "2021-10-14T22:00:00",
          "2021-10-14T22:30:00",
          "2021-10-14T23:00:00",
          "2021-10-14T23:30:00",
          "2021-10-15T00:00:00",
          "2021-10-15T00:30:00",
          "2021-10-15T01:00:00",
          "2021-10-15T01:30:00",
          "2021-10-15T02:00:00",
          "2021-10-15T02:30:00",
          "2021-10-15T03:00:00",
          "2021-10-15T03:30:00",
          "2021-10-15T04:00:00",
          "2021-10-15T04:30:00",
          "2021-10-15T05:00:00",
          "2021-10-15T05:30:00",
          "2021-10-15T06:00:00",
          "2021-10-15T06:30:00",
          "2021-10-15T07:00:00",
          "2021-10-15T07:30:00",
          "2021-10-15T08:00:00",
          "2021-10-15T08:30:00",
          "2021-10-15T09:00:00",
          "2021-10-15T09:30:00",
          "2021-10-15T10:00:00",
          "2021-10-15T10:30:00",
          "2021-10-15T11:00:00",
          "2021-10-15T11:30:00",
          "2021-10-15T12:00:00",
          "2021-10-15T12:30:00",
          "2021-10-15T13:00:00",
          "2021-10-15T13:30:00",
          "2021-10-15T14:00:00",
          "2021-10-15T14:30:00",
          "2021-10-15T15:00:00",
          "2021-10-15T15:30:00",
          "2021-10-15T16:00:00",
          "2021-10-15T16:30:00",
          "2021-10-15T17:00:00",
          "2021-10-15T17:30:00",
          "2021-10-15T18:00:00",
          "2021-10-15T18:30:00",
          "2021-10-15T19:00:00",
          "2021-10-15T19:30:00",
          "2021-10-15T20:00:00",
          "2021-10-15T20:30:00",
          "2021-10-15T21:00:00",
          "2021-10-15T21:30:00",
          "2021-10-15T22:00:00",
          "2021-10-15T22:30:00",
          "2021-10-15T23:00:00",
          "2021-10-15T23:30:00"
         ],
         "xaxis": "x",
         "y": [
          7.98,
          7.97,
          7.92,
          7.96,
          7.95,
          7.95,
          8.03,
          9.44,
          10.89,
          11.19,
          11.5,
          12.49,
          12.65,
          13.57,
          13.75,
          13.35,
          13.27,
          13.48,
          12.78,
          12.78,
          12.27,
          12.76,
          12.85,
          12.53,
          12.26,
          12.45,
          12.56,
          12.16,
          11.67,
          11.41,
          11.43,
          11.69,
          11.46,
          11.11,
          11.12,
          11.2,
          11.09,
          10.96,
          11.05,
          10.92,
          8.32,
          6.63,
          6.71,
          6.64,
          6.69,
          6.63,
          6.62,
          6.81,
          6.66,
          6.67,
          6.63,
          6.64,
          6.65,
          6.65,
          6.72,
          8.65,
          11.32,
          11.21,
          12.17,
          12.4,
          12.92,
          12.38,
          11.66,
          11.38,
          11.66,
          11.8,
          11.39,
          11.58,
          11.48,
          11.75,
          11.48,
          11.29,
          11.52,
          11.56,
          11.26,
          11.29,
          11.34,
          11.3,
          11.21,
          11.13,
          11.14,
          11.01,
          10.95,
          10.94,
          11.1,
          11.47,
          11.19,
          11.04,
          8.13,
          6.69,
          6.74,
          6.65,
          6.7,
          6.66,
          6.66,
          6.65,
          6.8,
          6.62,
          6.62,
          6.61,
          6.6,
          6.59,
          6.67,
          8.87,
          11.01,
          11.06,
          11.3,
          11.48,
          11.61,
          11.43,
          12.02,
          11.71,
          11.66,
          11.7,
          11.76,
          13.08,
          12.57,
          12.6,
          12.39,
          11.95,
          12.03,
          11.35,
          11.31,
          11.21,
          11.23,
          11.15,
          11.23,
          11.17,
          11.04,
          10.94,
          11.08,
          11.21,
          11.15,
          11.06,
          10.89,
          10.99,
          10.2,
          6.67,
          6.73,
          6.72,
          6.78,
          6.66,
          6.67,
          6.71,
          6.64,
          6.61,
          6.68,
          6.65,
          6.68,
          6.69,
          7.26,
          9.86,
          10.66,
          10.83,
          11.25,
          12.06,
          12.28,
          12.24,
          11.82,
          11.92,
          11.81,
          11.64,
          11.81,
          12.54,
          12.73,
          12.11,
          11.68,
          11.48,
          11.32,
          11.25,
          11.17,
          11.1,
          11.01,
          10.95,
          10.99,
          10.91,
          10.96,
          10.82,
          10.9,
          10.88,
          10.83,
          10.82,
          10.65,
          10.75,
          9.57,
          6.6,
          6.67,
          6.62,
          6.62,
          6.63,
          6.63,
          6.61,
          6.61,
          6.64,
          6.61,
          6.64,
          6.64,
          6.58,
          6.72,
          9.01,
          11.01,
          11.1,
          11.18,
          11.79,
          11.76,
          12.27,
          11.89,
          12.96,
          12.8,
          12.48,
          12.69,
          12.11,
          12.41,
          12.3,
          12.11,
          12.32,
          12.82,
          12.09,
          11.73,
          11.42,
          11.35,
          11.27,
          11.21,
          11,
          11.03,
          7.58,
          6.92,
          6.99,
          6.94,
          6.89,
          6.95,
          6.91,
          6.9,
          7,
          6.91,
          6.92,
          6.96,
          6.88,
          6.89,
          6.86
         ],
         "yaxis": "y"
        }
       ],
       "layout": {
        "legend": {
         "tracegroupgap": 0
        },
        "template": {
         "data": {
          "bar": [
           {
            "error_x": {
             "color": "#2a3f5f"
            },
            "error_y": {
             "color": "#2a3f5f"
            },
            "marker": {
             "line": {
              "color": "#E5ECF6",
              "width": 0.5
             },
             "pattern": {
              "fillmode": "overlay",
              "size": 10,
              "solidity": 0.2
             }
            },
            "type": "bar"
           }
          ],
          "barpolar": [
           {
            "marker": {
             "line": {
              "color": "#E5ECF6",
              "width": 0.5
             },
             "pattern": {
              "fillmode": "overlay",
              "size": 10,
              "solidity": 0.2
             }
            },
            "type": "barpolar"
           }
          ],
          "carpet": [
           {
            "aaxis": {
             "endlinecolor": "#2a3f5f",
             "gridcolor": "white",
             "linecolor": "white",
             "minorgridcolor": "white",
             "startlinecolor": "#2a3f5f"
            },
            "baxis": {
             "endlinecolor": "#2a3f5f",
             "gridcolor": "white",
             "linecolor": "white",
             "minorgridcolor": "white",
             "startlinecolor": "#2a3f5f"
            },
            "type": "carpet"
           }
          ],
          "choropleth": [
           {
            "colorbar": {
             "outlinewidth": 0,
             "ticks": ""
            },
            "type": "choropleth"
           }
          ],
          "contour": [
           {
            "colorbar": {
             "outlinewidth": 0,
             "ticks": ""
            },
            "colorscale": [
             [
              0,
              "#0d0887"
             ],
             [
              0.1111111111111111,
              "#46039f"
             ],
             [
              0.2222222222222222,
              "#7201a8"
             ],
             [
              0.3333333333333333,
              "#9c179e"
             ],
             [
              0.4444444444444444,
              "#bd3786"
             ],
             [
              0.5555555555555556,
              "#d8576b"
             ],
             [
              0.6666666666666666,
              "#ed7953"
             ],
             [
              0.7777777777777778,
              "#fb9f3a"
             ],
             [
              0.8888888888888888,
              "#fdca26"
             ],
             [
              1,
              "#f0f921"
             ]
            ],
            "type": "contour"
           }
          ],
          "contourcarpet": [
           {
            "colorbar": {
             "outlinewidth": 0,
             "ticks": ""
            },
            "type": "contourcarpet"
           }
          ],
          "heatmap": [
           {
            "colorbar": {
             "outlinewidth": 0,
             "ticks": ""
            },
            "colorscale": [
             [
              0,
              "#0d0887"
             ],
             [
              0.1111111111111111,
              "#46039f"
             ],
             [
              0.2222222222222222,
              "#7201a8"
             ],
             [
              0.3333333333333333,
              "#9c179e"
             ],
             [
              0.4444444444444444,
              "#bd3786"
             ],
             [
              0.5555555555555556,
              "#d8576b"
             ],
             [
              0.6666666666666666,
              "#ed7953"
             ],
             [
              0.7777777777777778,
              "#fb9f3a"
             ],
             [
              0.8888888888888888,
              "#fdca26"
             ],
             [
              1,
              "#f0f921"
             ]
            ],
            "type": "heatmap"
           }
          ],
          "heatmapgl": [
           {
            "colorbar": {
             "outlinewidth": 0,
             "ticks": ""
            },
            "colorscale": [
             [
              0,
              "#0d0887"
             ],
             [
              0.1111111111111111,
              "#46039f"
             ],
             [
              0.2222222222222222,
              "#7201a8"
             ],
             [
              0.3333333333333333,
              "#9c179e"
             ],
             [
              0.4444444444444444,
              "#bd3786"
             ],
             [
              0.5555555555555556,
              "#d8576b"
             ],
             [
              0.6666666666666666,
              "#ed7953"
             ],
             [
              0.7777777777777778,
              "#fb9f3a"
             ],
             [
              0.8888888888888888,
              "#fdca26"
             ],
             [
              1,
              "#f0f921"
             ]
            ],
            "type": "heatmapgl"
           }
          ],
          "histogram": [
           {
            "marker": {
             "pattern": {
              "fillmode": "overlay",
              "size": 10,
              "solidity": 0.2
             }
            },
            "type": "histogram"
           }
          ],
          "histogram2d": [
           {
            "colorbar": {
             "outlinewidth": 0,
             "ticks": ""
            },
            "colorscale": [
             [
              0,
              "#0d0887"
             ],
             [
              0.1111111111111111,
              "#46039f"
             ],
             [
              0.2222222222222222,
              "#7201a8"
             ],
             [
              0.3333333333333333,
              "#9c179e"
             ],
             [
              0.4444444444444444,
              "#bd3786"
             ],
             [
              0.5555555555555556,
              "#d8576b"
             ],
             [
              0.6666666666666666,
              "#ed7953"
             ],
             [
              0.7777777777777778,
              "#fb9f3a"
             ],
             [
              0.8888888888888888,
              "#fdca26"
             ],
             [
              1,
              "#f0f921"
             ]
            ],
            "type": "histogram2d"
           }
          ],
          "histogram2dcontour": [
           {
            "colorbar": {
             "outlinewidth": 0,
             "ticks": ""
            },
            "colorscale": [
             [
              0,
              "#0d0887"
             ],
             [
              0.1111111111111111,
              "#46039f"
             ],
             [
              0.2222222222222222,
              "#7201a8"
             ],
             [
              0.3333333333333333,
              "#9c179e"
             ],
             [
              0.4444444444444444,
              "#bd3786"
             ],
             [
              0.5555555555555556,
              "#d8576b"
             ],
             [
              0.6666666666666666,
              "#ed7953"
             ],
             [
              0.7777777777777778,
              "#fb9f3a"
             ],
             [
              0.8888888888888888,
              "#fdca26"
             ],
             [
              1,
              "#f0f921"
             ]
            ],
            "type": "histogram2dcontour"
           }
          ],
          "mesh3d": [
           {
            "colorbar": {
             "outlinewidth": 0,
             "ticks": ""
            },
            "type": "mesh3d"
           }
          ],
          "parcoords": [
           {
            "line": {
             "colorbar": {
              "outlinewidth": 0,
              "ticks": ""
             }
            },
            "type": "parcoords"
           }
          ],
          "pie": [
           {
            "automargin": true,
            "type": "pie"
           }
          ],
          "scatter": [
           {
            "marker": {
             "colorbar": {
              "outlinewidth": 0,
              "ticks": ""
             }
            },
            "type": "scatter"
           }
          ],
          "scatter3d": [
           {
            "line": {
             "colorbar": {
              "outlinewidth": 0,
              "ticks": ""
             }
            },
            "marker": {
             "colorbar": {
              "outlinewidth": 0,
              "ticks": ""
             }
            },
            "type": "scatter3d"
           }
          ],
          "scattercarpet": [
           {
            "marker": {
             "colorbar": {
              "outlinewidth": 0,
              "ticks": ""
             }
            },
            "type": "scattercarpet"
           }
          ],
          "scattergeo": [
           {
            "marker": {
             "colorbar": {
              "outlinewidth": 0,
              "ticks": ""
             }
            },
            "type": "scattergeo"
           }
          ],
          "scattergl": [
           {
            "marker": {
             "colorbar": {
              "outlinewidth": 0,
              "ticks": ""
             }
            },
            "type": "scattergl"
           }
          ],
          "scattermapbox": [
           {
            "marker": {
             "colorbar": {
              "outlinewidth": 0,
              "ticks": ""
             }
            },
            "type": "scattermapbox"
           }
          ],
          "scatterpolar": [
           {
            "marker": {
             "colorbar": {
              "outlinewidth": 0,
              "ticks": ""
             }
            },
            "type": "scatterpolar"
           }
          ],
          "scatterpolargl": [
           {
            "marker": {
             "colorbar": {
              "outlinewidth": 0,
              "ticks": ""
             }
            },
            "type": "scatterpolargl"
           }
          ],
          "scatterternary": [
           {
            "marker": {
             "colorbar": {
              "outlinewidth": 0,
              "ticks": ""
             }
            },
            "type": "scatterternary"
           }
          ],
          "surface": [
           {
            "colorbar": {
             "outlinewidth": 0,
             "ticks": ""
            },
            "colorscale": [
             [
              0,
              "#0d0887"
             ],
             [
              0.1111111111111111,
              "#46039f"
             ],
             [
              0.2222222222222222,
              "#7201a8"
             ],
             [
              0.3333333333333333,
              "#9c179e"
             ],
             [
              0.4444444444444444,
              "#bd3786"
             ],
             [
              0.5555555555555556,
              "#d8576b"
             ],
             [
              0.6666666666666666,
              "#ed7953"
             ],
             [
              0.7777777777777778,
              "#fb9f3a"
             ],
             [
              0.8888888888888888,
              "#fdca26"
             ],
             [
              1,
              "#f0f921"
             ]
            ],
            "type": "surface"
           }
          ],
          "table": [
           {
            "cells": {
             "fill": {
              "color": "#EBF0F8"
             },
             "line": {
              "color": "white"
             }
            },
            "header": {
             "fill": {
              "color": "#C8D4E3"
             },
             "line": {
              "color": "white"
             }
            },
            "type": "table"
           }
          ]
         },
         "layout": {
          "annotationdefaults": {
           "arrowcolor": "#2a3f5f",
           "arrowhead": 0,
           "arrowwidth": 1
          },
          "autotypenumbers": "strict",
          "coloraxis": {
           "colorbar": {
            "outlinewidth": 0,
            "ticks": ""
           }
          },
          "colorscale": {
           "diverging": [
            [
             0,
             "#8e0152"
            ],
            [
             0.1,
             "#c51b7d"
            ],
            [
             0.2,
             "#de77ae"
            ],
            [
             0.3,
             "#f1b6da"
            ],
            [
             0.4,
             "#fde0ef"
            ],
            [
             0.5,
             "#f7f7f7"
            ],
            [
             0.6,
             "#e6f5d0"
            ],
            [
             0.7,
             "#b8e186"
            ],
            [
             0.8,
             "#7fbc41"
            ],
            [
             0.9,
             "#4d9221"
            ],
            [
             1,
             "#276419"
            ]
           ],
           "sequential": [
            [
             0,
             "#0d0887"
            ],
            [
             0.1111111111111111,
             "#46039f"
            ],
            [
             0.2222222222222222,
             "#7201a8"
            ],
            [
             0.3333333333333333,
             "#9c179e"
            ],
            [
             0.4444444444444444,
             "#bd3786"
            ],
            [
             0.5555555555555556,
             "#d8576b"
            ],
            [
             0.6666666666666666,
             "#ed7953"
            ],
            [
             0.7777777777777778,
             "#fb9f3a"
            ],
            [
             0.8888888888888888,
             "#fdca26"
            ],
            [
             1,
             "#f0f921"
            ]
           ],
           "sequentialminus": [
            [
             0,
             "#0d0887"
            ],
            [
             0.1111111111111111,
             "#46039f"
            ],
            [
             0.2222222222222222,
             "#7201a8"
            ],
            [
             0.3333333333333333,
             "#9c179e"
            ],
            [
             0.4444444444444444,
             "#bd3786"
            ],
            [
             0.5555555555555556,
             "#d8576b"
            ],
            [
             0.6666666666666666,
             "#ed7953"
            ],
            [
             0.7777777777777778,
             "#fb9f3a"
            ],
            [
             0.8888888888888888,
             "#fdca26"
            ],
            [
             1,
             "#f0f921"
            ]
           ]
          },
          "colorway": [
           "#636efa",
           "#EF553B",
           "#00cc96",
           "#ab63fa",
           "#FFA15A",
           "#19d3f3",
           "#FF6692",
           "#B6E880",
           "#FF97FF",
           "#FECB52"
          ],
          "font": {
           "color": "#2a3f5f"
          },
          "geo": {
           "bgcolor": "white",
           "lakecolor": "white",
           "landcolor": "#E5ECF6",
           "showlakes": true,
           "showland": true,
           "subunitcolor": "white"
          },
          "hoverlabel": {
           "align": "left"
          },
          "hovermode": "closest",
          "mapbox": {
           "style": "light"
          },
          "paper_bgcolor": "white",
          "plot_bgcolor": "#E5ECF6",
          "polar": {
           "angularaxis": {
            "gridcolor": "white",
            "linecolor": "white",
            "ticks": ""
           },
           "bgcolor": "#E5ECF6",
           "radialaxis": {
            "gridcolor": "white",
            "linecolor": "white",
            "ticks": ""
           }
          },
          "scene": {
           "xaxis": {
            "backgroundcolor": "#E5ECF6",
            "gridcolor": "white",
            "gridwidth": 2,
            "linecolor": "white",
            "showbackground": true,
            "ticks": "",
            "zerolinecolor": "white"
           },
           "yaxis": {
            "backgroundcolor": "#E5ECF6",
            "gridcolor": "white",
            "gridwidth": 2,
            "linecolor": "white",
            "showbackground": true,
            "ticks": "",
            "zerolinecolor": "white"
           },
           "zaxis": {
            "backgroundcolor": "#E5ECF6",
            "gridcolor": "white",
            "gridwidth": 2,
            "linecolor": "white",
            "showbackground": true,
            "ticks": "",
            "zerolinecolor": "white"
           }
          },
          "shapedefaults": {
           "line": {
            "color": "#2a3f5f"
           }
          },
          "ternary": {
           "aaxis": {
            "gridcolor": "white",
            "linecolor": "white",
            "ticks": ""
           },
           "baxis": {
            "gridcolor": "white",
            "linecolor": "white",
            "ticks": ""
           },
           "bgcolor": "#E5ECF6",
           "caxis": {
            "gridcolor": "white",
            "linecolor": "white",
            "ticks": ""
           }
          },
          "title": {
           "x": 0.05
          },
          "xaxis": {
           "automargin": true,
           "gridcolor": "white",
           "linecolor": "white",
           "ticks": "",
           "title": {
            "standoff": 15
           },
           "zerolinecolor": "white",
           "zerolinewidth": 2
          },
          "yaxis": {
           "automargin": true,
           "gridcolor": "white",
           "linecolor": "white",
           "ticks": "",
           "title": {
            "standoff": 15
           },
           "zerolinecolor": "white",
           "zerolinewidth": 2
          }
         }
        },
        "title": {
         "text": "entsorgung_5T"
        },
        "xaxis": {
         "anchor": "y",
         "domain": [
          0,
          1
         ],
         "title": {
          "text": "Time"
         }
        },
        "yaxis": {
         "anchor": "x",
         "domain": [
          0,
          1
         ],
         "title": {
          "text": "kW"
         }
        }
       }
      }
     },
     "metadata": {},
     "output_type": "display_data"
    }
   ],
   "source": [
    "px.line(\n",
    "    x=eg.index, y=eg.kw, \n",
    "    title='entsorgung_5T',\n",
    "    labels={\n",
    "        'x': 'Time',\n",
    "        'y': 'kW'\n",
    "    },\n",
    "    markers=False)"
   ]
  },
  {
   "cell_type": "code",
   "execution_count": 6,
   "metadata": {},
   "outputs": [
    {
     "data": {
      "text/plain": [
       "(240,)"
      ]
     },
     "execution_count": 6,
     "metadata": {},
     "output_type": "execute_result"
    }
   ],
   "source": [
    "eg.index.shape"
   ]
  },
  {
   "cell_type": "code",
   "execution_count": 7,
   "metadata": {},
   "outputs": [
    {
     "data": {
      "text/plain": [
       "<Figure size 1152x432 with 0 Axes>"
      ]
     },
     "execution_count": 7,
     "metadata": {},
     "output_type": "execute_result"
    },
    {
     "data": {
      "text/plain": [
       "<Figure size 1152x432 with 0 Axes>"
      ]
     },
     "metadata": {},
     "output_type": "display_data"
    }
   ],
   "source": [
    "time_int_range = np.arange(0, 240*5, 5)\n",
    "eg['t'] = time_int_range\n",
    "\n",
    "#entsorgung_final = pd.DataFrame(data=entsorgung['kw'], index=entsorgung['t'])\n",
    "#entsorgung_final.reset_index(inplace=True)\n",
    "\n",
    "X = eg['t'].values\n",
    "y = eg['kw'].values\n",
    "n = len(X)\n",
    "prop_train = 0.8\n",
    "n_train = round(prop_train * n)\n",
    "\n",
    "# Training\n",
    "X_train = torch.from_numpy(X[:n_train]).to(torch.float64)\n",
    "y_train = torch.from_numpy(y[:n_train]).to(torch.float64)\n",
    "\n",
    "# Testing\n",
    "#X_test = torch.from_numpy(y[n_train:]).to(torch.float64)\n",
    "X_test = torch.from_numpy(X).to(torch.float64)\n",
    "y_test = torch.from_numpy(y[n_train:]).to(torch.float64)\n",
    "\n",
    "# Standardizing helps with hyperparameter initialization\n",
    "y_train_mean = torch.mean(y_train)\n",
    "y_train_std = torch.std(y_train)\n",
    "\n",
    "y_train = (y_train - y_train_mean) / (y_train_std)\n",
    "y_test = (y_test - y_train_mean) / (y_train_std)\n",
    "\n",
    "plt.figure(figsize=(16, 6))\n",
    "#plt.plot(X_train.numpy(), y_train.numpy())\n",
    "#plt.plot(X_test.numpy(), y_test.numpy())"
   ]
  },
  {
   "cell_type": "code",
   "execution_count": 8,
   "metadata": {},
   "outputs": [],
   "source": [
    "class ExactGPModel(gpytorch.models.ExactGP):\n",
    "    def __init__(self, train_x, train_y, likelihood):\n",
    "        super(ExactGPModel, self).__init__(train_x, train_y, likelihood)\n",
    "\n",
    "        ## Locally Periodic Kernel ##\n",
    "        period_constraint_short = gpytorch.constraints.Interval(110, 130) ## short term\n",
    "\n",
    "        seasonal_periodic_short = gpytorch.kernels.PeriodicKernel(\n",
    "            period_length_constraint=period_constraint_short\n",
    "        )\n",
    "\n",
    "        period_constraint_long = gpytorch.constraints.Interval(225, 245) ## long term\n",
    "\n",
    "        seasonal_periodic_long = gpytorch.kernels.PeriodicKernel(\n",
    "            period_length_constraint=period_constraint_long\n",
    "        )\n",
    "\n",
    "        ## Local Variations ##\n",
    "        local_variation_alpha = gpytorch.priors.GammaPrior(1, 0.5)\n",
    "\n",
    "        local_variation = gpytorch.kernels.RQKernel()\n",
    "        local_variation.alpha = 1\n",
    "\n",
    "\n",
    "        self.covar_module = seasonal_periodic_short + seasonal_periodic_long + local_variation\n",
    "        self.mean_module = gpytorch.means.ZeroMean()\n",
    "\n",
    "    def forward(self, x):\n",
    "        mean_x = self.mean_module(x)\n",
    "        covar_x = self.covar_module(x)\n",
    "        return gpytorch.distributions.MultivariateNormal(mean_x, covar_x)\n",
    "\n",
    "# initialize likelihood and model\n",
    "likelihood = gpytorch.likelihoods.GaussianLikelihood()\n",
    "model = ExactGPModel(X_train, y_train, likelihood)"
   ]
  },
  {
   "cell_type": "code",
   "execution_count": 11,
   "metadata": {},
   "outputs": [],
   "source": [
    "## v2 - adding scaling parameters ##\n",
    "\n",
    "class ExactGPModel(gpytorch.models.ExactGP):\n",
    "    def __init__(self, train_x, train_y, likelihood):\n",
    "        super(ExactGPModel, self).__init__(train_x, train_y, likelihood)\n",
    "\n",
    "        ## Locally Periodic Kernel ##\n",
    "        period_constraint_short = gpytorch.constraints.Interval(110, 130) ## short term\n",
    "\n",
    "        seasonal_periodic_short = gpytorch.kernels.ScaleKernel(\n",
    "            gpytorch.kernels.PeriodicKernel(\n",
    "                period_length_constraint=period_constraint_short\n",
    "                )\n",
    "            )\n",
    "\n",
    "        period_constraint_long = gpytorch.constraints.Interval(225, 245) ## long term\n",
    "\n",
    "        seasonal_periodic_long = gpytorch.kernels.ScaleKernel(\n",
    "            gpytorch.kernels.PeriodicKernel(\n",
    "                period_length_constraint=period_constraint_long\n",
    "                )\n",
    "            )\n",
    "\n",
    "        ## Local Variations ##\n",
    "        local_variation_alpha = gpytorch.priors.GammaPrior(1, 0.5)\n",
    "\n",
    "        local_variation = gpytorch.kernels.ScaleKernel(\n",
    "            gpytorch.kernels.RQKernel()\n",
    "            )\n",
    "            \n",
    "        local_variation.alpha = 1\n",
    "\n",
    "\n",
    "        self.covar_module = seasonal_periodic_short + seasonal_periodic_long + local_variation\n",
    "        self.mean_module = gpytorch.means.ZeroMean()\n",
    "\n",
    "    def forward(self, x):\n",
    "        mean_x = self.mean_module(x)\n",
    "        covar_x = self.covar_module(x)\n",
    "        return gpytorch.distributions.MultivariateNormal(mean_x, covar_x)\n",
    "\n",
    "# initialize likelihood and model\n",
    "likelihood = gpytorch.likelihoods.GaussianLikelihood()\n",
    "model = ExactGPModel(X_train, y_train, likelihood)"
   ]
  },
  {
   "cell_type": "code",
   "execution_count": 9,
   "metadata": {},
   "outputs": [
    {
     "name": "stdout",
     "output_type": "stream",
     "text": [
      "Iter 1 , Loss = 1.2951647275207614 , Noise = 0.6932471990585327\n",
      "Iter 2 , Loss = 1.2777899536484916 , Noise = 0.6444966793060303\n",
      "Iter 3 , Loss = 1.2612018506730875 , Noise = 0.5982586741447449\n",
      "Iter 4 , Loss = 1.2448674148793877 , Noise = 0.5545298457145691\n",
      "Iter 5 , Loss = 1.2284073216947242 , Noise = 0.5132927894592285\n",
      "Iter 6 , Loss = 1.211865816917432 , Noise = 0.47451502084732056\n",
      "Iter 7 , Loss = 1.1952805147089631 , Noise = 0.4381507635116577\n",
      "Iter 8 , Loss = 1.1785949919267529 , Noise = 0.40414151549339294\n",
      "Iter 9 , Loss = 1.1616526647779686 , Noise = 0.3724172115325928\n",
      "Iter 10 , Loss = 1.144232733024005 , Noise = 0.3428966701030731\n",
      "Iter 11 , Loss = 1.1261186129912257 , Noise = 0.3154890239238739\n",
      "Iter 12 , Loss = 1.1071380904408086 , Noise = 0.2900952100753784\n",
      "Iter 13 , Loss = 1.087159825199027 , Noise = 0.26661038398742676\n",
      "Iter 14 , Loss = 1.0660775842710593 , Noise = 0.24492575228214264\n",
      "Iter 15 , Loss = 1.043800659859248 , Noise = 0.22493082284927368\n",
      "Iter 16 , Loss = 1.020251277164954 , Noise = 0.20651525259017944\n",
      "Iter 17 , Loss = 0.995367574480505 , Noise = 0.189570352435112\n",
      "Iter 18 , Loss = 0.9691108393587795 , Noise = 0.17399047315120697\n",
      "Iter 19 , Loss = 0.9414731588857023 , Noise = 0.15967398881912231\n",
      "Iter 20 , Loss = 0.9124814038096579 , Noise = 0.1465240865945816\n",
      "Iter 21 , Loss = 0.8821953188144432 , Noise = 0.134449303150177\n",
      "Iter 22 , Loss = 0.8507010001376925 , Noise = 0.12336386740207672\n",
      "Iter 23 , Loss = 0.8181023761403686 , Noise = 0.11318785697221756\n",
      "Iter 24 , Loss = 0.7845126273387336 , Noise = 0.10384714603424072\n",
      "Iter 25 , Loss = 0.7500489050760262 , Noise = 0.09527333080768585\n",
      "Iter 26 , Loss = 0.7148333440286349 , Noise = 0.08740344643592834\n",
      "Iter 27 , Loss = 0.6789992671940738 , Noise = 0.08017970621585846\n",
      "Iter 28 , Loss = 0.6426978951544966 , Noise = 0.07354918867349625\n",
      "Iter 29 , Loss = 0.6060977013568195 , Noise = 0.06746348738670349\n",
      "Iter 30 , Loss = 0.5693741705422584 , Noise = 0.06187838688492775\n",
      "Iter 31 , Loss = 0.5326963237095828 , Noise = 0.056753505021333694\n",
      "Iter 32 , Loss = 0.4962264043664371 , Noise = 0.05205199867486954\n",
      "Iter 33 , Loss = 0.4601393889489256 , Noise = 0.04774021729826927\n",
      "Iter 34 , Loss = 0.424640864710407 , Noise = 0.04378742352128029\n",
      "Iter 35 , Loss = 0.38995172123797595 , Noise = 0.04016551375389099\n",
      "Iter 36 , Loss = 0.3562728993522388 , Noise = 0.036848779767751694\n",
      "Iter 37 , Loss = 0.32379669188451915 , Noise = 0.033813681453466415\n",
      "Iter 38 , Loss = 0.2927608703623941 , Noise = 0.031038599088788033\n",
      "Iter 39 , Loss = 0.2634219407007981 , Noise = 0.028503719717264175\n",
      "Iter 40 , Loss = 0.23598261743548057 , Noise = 0.026190834119915962\n",
      "Iter 41 , Loss = 0.21066304126166813 , Noise = 0.024083232507109642\n",
      "Iter 42 , Loss = 0.18772400340046783 , Noise = 0.022165557369589806\n",
      "Iter 43 , Loss = 0.16732878168026444 , Noise = 0.020423676818609238\n",
      "Iter 44 , Loss = 0.14966225656986895 , Noise = 0.018844548612833023\n",
      "Iter 45 , Loss = 0.1348722506268539 , Noise = 0.017416128888726234\n",
      "Iter 46 , Loss = 0.12298942704126814 , Noise = 0.016127318143844604\n",
      "Iter 47 , Loss = 0.11405396225791871 , Noise = 0.014967838302254677\n",
      "Iter 48 , Loss = 0.10790892120949236 , Noise = 0.013928147964179516\n",
      "Iter 49 , Loss = 0.10438360252134855 , Noise = 0.012999292463064194\n",
      "Iter 50 , Loss = 0.10310319909919781 , Noise = 0.012172848917543888\n",
      "Iter 51 , Loss = 0.10362413214974604 , Noise = 0.011440851725637913\n",
      "Iter 52 , Loss = 0.10541950131397575 , Noise = 0.010795618407428265\n",
      "Iter 53 , Loss = 0.107851067625978 , Noise = 0.010229709558188915\n",
      "Iter 54 , Loss = 0.11034535264234686 , Noise = 0.009735881350934505\n",
      "Iter 55 , Loss = 0.11239472846286362 , Noise = 0.009306996129453182\n",
      "Iter 56 , Loss = 0.1135720820037962 , Noise = 0.008936038240790367\n",
      "Iter 57 , Loss = 0.11360355549426855 , Noise = 0.00861616525799036\n",
      "Iter 58 , Loss = 0.11238252905247477 , Noise = 0.008340689353644848\n",
      "Iter 59 , Loss = 0.10993539648770811 , Noise = 0.008103194646537304\n",
      "Iter 60 , Loss = 0.10635842432592613 , Noise = 0.00789756141602993\n",
      "Iter 61 , Loss = 0.10178073611915843 , Noise = 0.007718062959611416\n",
      "Iter 62 , Loss = 0.09634762342201508 , Noise = 0.007559377700090408\n",
      "Iter 63 , Loss = 0.0901602166339841 , Noise = 0.00741666229441762\n",
      "Iter 64 , Loss = 0.08323529114189994 , Noise = 0.007285555824637413\n",
      "Iter 65 , Loss = 0.0754860427089783 , Noise = 0.007162201218307018\n",
      "Iter 66 , Loss = 0.06674457433755594 , Noise = 0.007043262477964163\n",
      "Iter 67 , Loss = 0.056795197058293834 , Noise = 0.0069258855655789375\n",
      "Iter 68 , Loss = 0.045432942454214885 , Noise = 0.006807753816246986\n",
      "Iter 69 , Loss = 0.03257433754554281 , Noise = 0.006687043700367212\n",
      "Iter 70 , Loss = 0.018459622189135622 , Noise = 0.006562478374689817\n",
      "Iter 71 , Loss = 0.0038308887363582103 , Noise = 0.006433345843106508\n",
      "Iter 72 , Loss = -0.010111436464909898 , Noise = 0.006299496162682772\n",
      "Iter 73 , Loss = -0.022149391000824508 , Noise = 0.006161321885883808\n",
      "Iter 74 , Loss = -0.03171390033108216 , Noise = 0.006019556429237127\n",
      "Iter 75 , Loss = -0.03944783344843635 , Noise = 0.005875153932720423\n"
     ]
    },
    {
     "data": {
      "text/plain": [
       "GaussianLikelihood(\n",
       "  (noise_covar): HomoskedasticNoise(\n",
       "    (raw_noise_constraint): GreaterThan(1.000E-04)\n",
       "  )\n",
       ")"
      ]
     },
     "execution_count": 9,
     "metadata": {},
     "output_type": "execute_result"
    }
   ],
   "source": [
    "smoke_test = ('CI' in os.environ)\n",
    "training_iter = 2 if smoke_test else 75\n",
    "\n",
    "model.train()\n",
    "likelihood.train()\n",
    "\n",
    "optimizer = torch.optim.Adam(model.parameters(), lr=0.1)\n",
    "mll = gpytorch.mlls.ExactMarginalLogLikelihood(likelihood=likelihood, model=model)\n",
    "\n",
    "for i in range(training_iter):\n",
    "    optimizer.zero_grad()\n",
    "    output = model(X_train)\n",
    "    loss = -mll(output, y_train)\n",
    "    loss.backward()\n",
    "\n",
    "    print('Iter {} , Loss = {} , Noise = {}'.format(\n",
    "        i+1, loss, model.likelihood.noise.item() \n",
    "    ))\n",
    "\n",
    "    optimizer.step()\n",
    "\n",
    "model.eval()\n",
    "likelihood.eval()"
   ]
  },
  {
   "cell_type": "code",
   "execution_count": 12,
   "metadata": {},
   "outputs": [
    {
     "data": {
      "image/png": "[encoded data removed]",
      "text/plain": [
       "<Figure size 1152x504 with 1 Axes>"
      ]
     },
     "metadata": {
      "needs_background": "light"
     },
     "output_type": "display_data"
    }
   ],
   "source": [
    "model.eval()\n",
    "likelihood.eval()\n",
    "\n",
    "with torch.no_grad(), gpytorch.settings.fast_pred_var():\n",
    "    observed_preds = likelihood(model(X_test))\n",
    "\n",
    "    test_preds = observed_preds.mean[n_train:]\n",
    "    mse = mean_squared_error(y_test.numpy(), test_preds.numpy())\n",
    "    mape = mean_absolute_percentage_error(y_test.numpy(), test_preds.numpy())\n",
    "\n",
    "    f, ax = plt.subplots(figsize=(16, 7))\n",
    "    lower, upper = observed_preds.confidence_region()\n",
    "    ax.plot(X_train.numpy(), y_train.numpy())\n",
    "    ax.plot(X_test.numpy(), observed_preds.mean.numpy())\n",
    "    ax.fill_between(X_test.numpy(), lower.numpy(), upper.numpy(), alpha=0.5, color='#2ecc71')\n",
    "    plt.axvline(x=955, linestyle='--', color='black', lw=1)\n",
    "    ax.legend(['Observed Data', 'Predictions', 'Test', 'Uncertainty'])\n",
    "    plt.xlabel('Time Step - 30 minute increments')\n",
    "    plt.ylabel('Standardized kW')\n",
    "    plt.title('Gaussian Process Regression: Interpolation and Extrapolation of \"EG\" \\n  MSE = {} \\n MAPE = {}'.\n",
    "    format(round(mse, 2), round(mape, 2)))\n",
    "    plt.show()"
   ]
  },
  {
   "cell_type": "code",
   "execution_count": 11,
   "metadata": {},
   "outputs": [
    {
     "data": {
      "text/plain": [
       "tensor([-9.5705e-01, -9.5623e-01, -9.7547e-01, -9.6716e-01, -9.7946e-01,\n",
       "        -9.7635e-01, -8.9920e-01, -2.9528e-01,  3.2746e-01,  4.9999e-01,\n",
       "         6.5129e-01,  1.0414e+00,  1.1373e+00,  1.5018e+00,  1.5881e+00,\n",
       "         1.4407e+00,  1.3943e+00,  1.4473e+00,  1.1836e+00,  1.1788e+00,\n",
       "         9.9901e-01,  1.1720e+00,  1.1950e+00,  1.0632e+00,  9.5644e-01,\n",
       "         1.0262e+00,  1.0654e+00,  9.0483e-01,  6.9761e-01,  5.7766e-01,\n",
       "         5.7980e-01,  6.8067e-01,  5.9557e-01,  4.5269e-01,  4.4239e-01,\n",
       "         4.7022e-01,  4.3720e-01,  3.9698e-01,  4.1952e-01,  3.0097e-01,\n",
       "        -7.6600e-01, -1.4995e+00, -1.5274e+00, -1.5536e+00, -1.5250e+00,\n",
       "        -1.5411e+00, -1.5428e+00, -1.4729e+00, -1.5256e+00, -1.5236e+00,\n",
       "        -1.5403e+00, -1.5430e+00, -1.5472e+00, -1.5402e+00, -1.4527e+00,\n",
       "        -6.2918e-01,  4.6307e-01,  5.1014e-01,  8.9392e-01,  1.0055e+00,\n",
       "         1.1996e+00,  9.9447e-01,  7.1350e-01,  5.9571e-01,  6.8304e-01,\n",
       "         7.2089e-01,  5.7378e-01,  6.5412e-01,  6.3089e-01,  7.2248e-01,\n",
       "         6.0974e-01,  5.2948e-01,  6.1187e-01,  6.2847e-01,  5.2020e-01,\n",
       "         5.2751e-01,  5.3709e-01,  5.1097e-01,  4.7478e-01,  4.5182e-01,\n",
       "         4.5650e-01,  3.9919e-01,  3.6598e-01,  3.6527e-01,  4.4181e-01,\n",
       "         5.9122e-01,  4.8144e-01,  3.4650e-01, -8.3551e-01, -1.4789e+00,\n",
       "        -1.5146e+00, -1.5485e+00, -1.5209e+00, -1.5304e+00, -1.5309e+00,\n",
       "        -1.5324e+00, -1.4769e+00, -1.5423e+00, -1.5468e+00, -1.5576e+00,\n",
       "        -1.5704e+00, -1.5673e+00, -1.4732e+00, -5.5615e-01,  3.3760e-01,\n",
       "         4.2428e-01,  5.3326e-01,  6.1012e-01,  6.6325e-01,  6.1071e-01,\n",
       "         8.3340e-01,  7.2201e-01,  6.8887e-01,  6.9780e-01,  7.4868e-01,\n",
       "         1.2624e+00,  1.0995e+00,  1.0960e+00,  9.9595e-01,  8.1487e-01,\n",
       "         8.2289e-01,  5.6386e-01,  5.3834e-01,  4.9638e-01,  4.9184e-01,\n",
       "         4.5317e-01,  4.8237e-01,  4.6832e-01,  4.2092e-01,  3.7528e-01,\n",
       "         4.1914e-01,  4.7015e-01,  4.5915e-01,  4.3453e-01,  3.6811e-01,\n",
       "         3.5858e-01, -4.4998e-02, -1.4484e+00, -1.5069e+00, -1.5152e+00,\n",
       "        -1.4863e+00, -1.5273e+00, -1.5254e+00, -1.5110e+00, -1.5358e+00,\n",
       "        -1.5461e+00, -1.5217e+00, -1.5376e+00, -1.5331e+00, -1.5128e+00,\n",
       "        -1.2276e+00, -1.7125e-01,  2.2200e-01,  3.3834e-01,  5.2575e-01,\n",
       "         8.4737e-01,  9.4571e-01,  9.3371e-01,  7.7908e-01,  8.0393e-01,\n",
       "         7.4674e-01,  6.7543e-01,  7.5712e-01,  1.0567e+00,  1.1389e+00,\n",
       "         8.9310e-01,  7.0274e-01,  6.0524e-01,  5.3434e-01,  5.0355e-01,\n",
       "         4.7243e-01,  4.4103e-01,  3.9599e-01,  3.6402e-01,  3.7985e-01,\n",
       "         3.6104e-01,  3.8025e-01,  3.1964e-01,  3.3711e-01,  3.2977e-01,\n",
       "         3.2104e-01,  3.2668e-01,  2.6108e-01,  2.4700e-01, -2.9552e-01,\n",
       "        -1.4906e+00, -1.5366e+00, -1.5591e+00, -1.5519e+00, -1.5450e+00,\n",
       "        -1.5453e+00, -1.5505e+00, -1.5121e+00, -1.5004e+00, -1.5208e+00,\n",
       "        -1.5769e+00, -1.6162e+00, -1.5058e+00, -1.1352e+00, -5.6469e-01,\n",
       "         3.8532e-04,  4.0212e-01,  6.3356e-01,  7.6311e-01,  8.4568e-01,\n",
       "         9.0491e-01,  9.2187e-01,  8.5224e-01,  7.2065e-01,  6.5659e-01,\n",
       "         7.5372e-01,  9.3295e-01,  1.0272e+00,  9.6941e-01,  8.2954e-01,\n",
       "         7.0299e-01,  6.3049e-01,  6.0654e-01,  5.9884e-01,  5.6043e-01,\n",
       "         4.8078e-01,  4.2627e-01,  4.6598e-01,  5.5518e-01,  5.7193e-01,\n",
       "         4.8069e-01,  3.7845e-01,  3.6709e-01,  4.4620e-01,  5.1794e-01,\n",
       "         4.3192e-01,  6.9707e-02, -5.1999e-01, -1.0993e+00, -1.4408e+00,\n",
       "        -1.5287e+00, -1.5079e+00, -1.4912e+00, -1.4878e+00, -1.4758e+00],\n",
       "       dtype=torch.float64)"
      ]
     },
     "execution_count": 11,
     "metadata": {},
     "output_type": "execute_result"
    }
   ],
   "source": [
    "observed_preds.mean"
   ]
  },
  {
   "cell_type": "code",
   "execution_count": null,
   "metadata": {},
   "outputs": [],
   "source": []
  }
 ],
 "metadata": {
  "interpreter": {
   "hash": "55f578ea790fce859303417df5f33993e9db329ffe5a387d7c54812db965934b"
  },
  "kernelspec": {
   "display_name": "Python 3.8.12 64-bit ('thesis': conda)",
   "language": "python",
   "name": "python3"
  },
  "language_info": {
   "codemirror_mode": {
    "name": "ipython",
    "version": 3
   },
   "file_extension": ".py",
   "mimetype": "text/x-python",
   "name": "python",
   "nbconvert_exporter": "python",
   "pygments_lexer": "ipython3",
   "version": "3.8.12"
  },
  "orig_nbformat": 4
 },
 "nbformat": 4,
 "nbformat_minor": 2
}
