{
 "cells": [
  {
   "cell_type": "code",
   "execution_count": 1,
   "metadata": {},
   "outputs": [],
   "source": [
    "import pandas as pd\n",
    "import numpy as np\n",
    "import os\n",
    "import matplotlib.pyplot as plt\n",
    "import scipy.stats as stats\n",
    "import sys\n",
    "sys.path.append('/Users/wastechs/Documents/git-repos/energy-efficiency')\n",
    "from lib.util.helper import query_table, weekday_time_series\n",
    "import seaborn as sns\n",
    "import plotly.express as px\n",
    "from prophet import Prophet\n",
    "from prophet.diagnostics import cross_validation\n",
    "from sklearn.preprocessing import StandardScaler\n",
    "from sklearn.metrics import mean_absolute_percentage_error, mean_squared_error\n",
    "import plotly\n",
    "import torch\n",
    "import gpytorch"
   ]
  },
  {
   "cell_type": "code",
   "execution_count": 2,
   "metadata": {},
   "outputs": [],
   "source": [
    "entsorgung = weekday_time_series(sensor_id='entsorgung_30T')"
   ]
  },
  {
   "cell_type": "code",
   "execution_count": 3,
   "metadata": {},
   "outputs": [],
   "source": [
    "entsorgung['kw'] = round(entsorgung['kw'], 2)"
   ]
  },
  {
   "cell_type": "code",
   "execution_count": 4,
   "metadata": {},
   "outputs": [
    {
     "data": {
      "application/vnd.plotly.v1+json": {
       "config": {
        "plotlyServerURL": "https://plot.ly"
       },
       "data": [
        {
         "hovertemplate": "Time=%{x}<br>kW=%{y}<extra></extra>",
         "legendgroup": "",
         "line": {
          "color": "#636efa",
          "dash": "solid"
         },
         "marker": {
          "symbol": "circle"
         },
         "mode": "lines",
         "name": "",
         "orientation": "v",
         "showlegend": false,
         "type": "scatter",
         "x": [
          "2021-10-11T00:00:00",
          "2021-10-11T00:30:00",
          "2021-10-11T01:00:00",
          "2021-10-11T01:30:00",
          "2021-10-11T02:00:00",
          "2021-10-11T02:30:00",
          "2021-10-11T03:00:00",
          "2021-10-11T03:30:00",
          "2021-10-11T04:00:00",
          "2021-10-11T04:30:00",
          "2021-10-11T05:00:00",
          "2021-10-11T05:30:00",
          "2021-10-11T06:00:00",
          "2021-10-11T06:30:00",
          "2021-10-11T07:00:00",
          "2021-10-11T07:30:00",
          "2021-10-11T08:00:00",
          "2021-10-11T08:30:00",
          "2021-10-11T09:00:00",
          "2021-10-11T09:30:00",
          "2021-10-11T10:00:00",
          "2021-10-11T10:30:00",
          "2021-10-11T11:00:00",
          "2021-10-11T11:30:00",
          "2021-10-11T12:00:00",
          "2021-10-11T12:30:00",
          "2021-10-11T13:00:00",
          "2021-10-11T13:30:00",
          "2021-10-11T14:00:00",
          "2021-10-11T14:30:00",
          "2021-10-11T15:00:00",
          "2021-10-11T15:30:00",
          "2021-10-11T16:00:00",
          "2021-10-11T16:30:00",
          "2021-10-11T17:00:00",
          "2021-10-11T17:30:00",
          "2021-10-11T18:00:00",
          "2021-10-11T18:30:00",
          "2021-10-11T19:00:00",
          "2021-10-11T19:30:00",
          "2021-10-11T20:00:00",
          "2021-10-11T20:30:00",
          "2021-10-11T21:00:00",
          "2021-10-11T21:30:00",
          "2021-10-11T22:00:00",
          "2021-10-11T22:30:00",
          "2021-10-11T23:00:00",
          "2021-10-11T23:30:00",
          "2021-10-12T00:00:00",
          "2021-10-12T00:30:00",
          "2021-10-12T01:00:00",
          "2021-10-12T01:30:00",
          "2021-10-12T02:00:00",
          "2021-10-12T02:30:00",
          "2021-10-12T03:00:00",
          "2021-10-12T03:30:00",
          "2021-10-12T04:00:00",
          "2021-10-12T04:30:00",
          "2021-10-12T05:00:00",
          "2021-10-12T05:30:00",
          "2021-10-12T06:00:00",
          "2021-10-12T06:30:00",
          "2021-10-12T07:00:00",
          "2021-10-12T07:30:00",
          "2021-10-12T08:00:00",
          "2021-10-12T08:30:00",
          "2021-10-12T09:00:00",
          "2021-10-12T09:30:00",
          "2021-10-12T10:00:00",
          "2021-10-12T10:30:00",
          "2021-10-12T11:00:00",
          "2021-10-12T11:30:00",
          "2021-10-12T12:00:00",
          "2021-10-12T12:30:00",
          "2021-10-12T13:00:00",
          "2021-10-12T13:30:00",
          "2021-10-12T14:00:00",
          "2021-10-12T14:30:00",
          "2021-10-12T15:00:00",
          "2021-10-12T15:30:00",
          "2021-10-12T16:00:00",
          "2021-10-12T16:30:00",
          "2021-10-12T17:00:00",
          "2021-10-12T17:30:00",
          "2021-10-12T18:00:00",
          "2021-10-12T18:30:00",
          "2021-10-12T19:00:00",
          "2021-10-12T19:30:00",
          "2021-10-12T20:00:00",
          "2021-10-12T20:30:00",
          "2021-10-12T21:00:00",
          "2021-10-12T21:30:00",
          "2021-10-12T22:00:00",
          "2021-10-12T22:30:00",
          "2021-10-12T23:00:00",
          "2021-10-12T23:30:00",
          "2021-10-13T00:00:00",
          "2021-10-13T00:30:00",
          "2021-10-13T01:00:00",
          "2021-10-13T01:30:00",
          "2021-10-13T02:00:00",
          "2021-10-13T02:30:00",
          "2021-10-13T03:00:00",
          "2021-10-13T03:30:00",
          "2021-10-13T04:00:00",
          "2021-10-13T04:30:00",
          "2021-10-13T05:00:00",
          "2021-10-13T05:30:00",
          "2021-10-13T06:00:00",
          "2021-10-13T06:30:00",
          "2021-10-13T07:00:00",
          "2021-10-13T07:30:00",
          "2021-10-13T08:00:00",
          "2021-10-13T08:30:00",
          "2021-10-13T09:00:00",
          "2021-10-13T09:30:00",
          "2021-10-13T10:00:00",
          "2021-10-13T10:30:00",
          "2021-10-13T11:00:00",
          "2021-10-13T11:30:00",
          "2021-10-13T12:00:00",
          "2021-10-13T12:30:00",
          "2021-10-13T13:00:00",
          "2021-10-13T13:30:00",
          "2021-10-13T14:00:00",
          "2021-10-13T14:30:00",
          "2021-10-13T15:00:00",
          "2021-10-13T15:30:00",
          "2021-10-13T16:00:00",
          "2021-10-13T16:30:00",
          "2021-10-13T17:00:00",
          "2021-10-13T17:30:00",
          "2021-10-13T18:00:00",
          "2021-10-13T18:30:00",
          "2021-10-13T19:00:00",
          "2021-10-13T19:30:00",
          "2021-10-13T20:00:00",
          "2021-10-13T20:30:00",
          "2021-10-13T21:00:00",
          "2021-10-13T21:30:00",
          "2021-10-13T22:00:00",
          "2021-10-13T22:30:00",
          "2021-10-13T23:00:00",
          "2021-10-13T23:30:00",
          "2021-10-14T00:00:00",
          "2021-10-14T00:30:00",
          "2021-10-14T01:00:00",
          "2021-10-14T01:30:00",
          "2021-10-14T02:00:00",
          "2021-10-14T02:30:00",
          "2021-10-14T03:00:00",
          "2021-10-14T03:30:00",
          "2021-10-14T04:00:00",
          "2021-10-14T04:30:00",
          "2021-10-14T05:00:00",
          "2021-10-14T05:30:00",
          "2021-10-14T06:00:00",
          "2021-10-14T06:30:00",
          "2021-10-14T07:00:00",
          "2021-10-14T07:30:00",
          "2021-10-14T08:00:00",
          "2021-10-14T08:30:00",
          "2021-10-14T09:00:00",
          "2021-10-14T09:30:00",
          "2021-10-14T10:00:00",
          "2021-10-14T10:30:00",
          "2021-10-14T11:00:00",
          "2021-10-14T11:30:00",
          "2021-10-14T12:00:00",
          "2021-10-14T12:30:00",
          "2021-10-14T13:00:00",
          "2021-10-14T13:30:00",
          "2021-10-14T14:00:00",
          "2021-10-14T14:30:00",
          "2021-10-14T15:00:00",
          "2021-10-14T15:30:00",
          "2021-10-14T16:00:00",
          "2021-10-14T16:30:00",
          "2021-10-14T17:00:00",
          "2021-10-14T17:30:00",
          "2021-10-14T18:00:00",
          "2021-10-14T18:30:00",
          "2021-10-14T19:00:00",
          "2021-10-14T19:30:00",
          "2021-10-14T20:00:00",
          "2021-10-14T20:30:00",
          "2021-10-14T21:00:00",
          "2021-10-14T21:30:00",
          "2021-10-14T22:00:00",
          "2021-10-14T22:30:00",
          "2021-10-14T23:00:00",
          "2021-10-14T23:30:00",
          "2021-10-15T00:00:00",
          "2021-10-15T00:30:00",
          "2021-10-15T01:00:00",
          "2021-10-15T01:30:00",
          "2021-10-15T02:00:00",
          "2021-10-15T02:30:00",
          "2021-10-15T03:00:00",
          "2021-10-15T03:30:00",
          "2021-10-15T04:00:00",
          "2021-10-15T04:30:00",
          "2021-10-15T05:00:00",
          "2021-10-15T05:30:00",
          "2021-10-15T06:00:00",
          "2021-10-15T06:30:00",
          "2021-10-15T07:00:00",
          "2021-10-15T07:30:00",
          "2021-10-15T08:00:00",
          "2021-10-15T08:30:00",
          "2021-10-15T09:00:00",
          "2021-10-15T09:30:00",
          "2021-10-15T10:00:00",
          "2021-10-15T10:30:00",
          "2021-10-15T11:00:00",
          "2021-10-15T11:30:00",
          "2021-10-15T12:00:00",
          "2021-10-15T12:30:00",
          "2021-10-15T13:00:00",
          "2021-10-15T13:30:00",
          "2021-10-15T14:00:00",
          "2021-10-15T14:30:00",
          "2021-10-15T15:00:00",
          "2021-10-15T15:30:00",
          "2021-10-15T16:00:00",
          "2021-10-15T16:30:00",
          "2021-10-15T17:00:00",
          "2021-10-15T17:30:00",
          "2021-10-15T18:00:00",
          "2021-10-15T18:30:00",
          "2021-10-15T19:00:00",
          "2021-10-15T19:30:00",
          "2021-10-15T20:00:00",
          "2021-10-15T20:30:00",
          "2021-10-15T21:00:00",
          "2021-10-15T21:30:00",
          "2021-10-15T22:00:00",
          "2021-10-15T22:30:00",
          "2021-10-15T23:00:00",
          "2021-10-15T23:30:00"
         ],
         "xaxis": "x",
         "y": [
          0.75,
          0.73,
          0.72,
          0.76,
          0.81,
          0.69,
          0.67,
          0.61,
          0.73,
          0.64,
          1.14,
          1.8,
          3.16,
          3.6,
          3.57,
          3.62,
          3.82,
          3.74,
          3.61,
          3.6,
          3.47,
          3.6,
          3.6,
          3.66,
          3.85,
          3.4,
          2.98,
          3.47,
          3.35,
          2.99,
          2.99,
          2.74,
          2.58,
          2.44,
          1.84,
          1.26,
          1.29,
          1.3,
          1.34,
          1.29,
          1.42,
          1.25,
          1.32,
          1.25,
          1.34,
          1.23,
          1.25,
          1.3,
          1.26,
          1.32,
          1.26,
          1.2,
          1.25,
          1.19,
          1.17,
          1.17,
          1.16,
          1.19,
          1.78,
          2.41,
          2.83,
          3.33,
          3.44,
          3.83,
          3.78,
          4.08,
          3.59,
          3.65,
          4.16,
          3.8,
          3.82,
          3.52,
          3.51,
          3.53,
          3.23,
          3.67,
          3.62,
          2.88,
          2.33,
          1.93,
          1.83,
          1.89,
          1.49,
          0.85,
          0.92,
          0.82,
          0.92,
          0.82,
          0.91,
          0.87,
          0.84,
          0.83,
          0.85,
          0.82,
          0.84,
          0.84,
          0.82,
          0.78,
          0.67,
          0.69,
          0.76,
          0.73,
          0.79,
          0.76,
          0.81,
          0.77,
          1.26,
          2.16,
          2.7,
          3.21,
          3.23,
          3.15,
          3.29,
          3.3,
          3.04,
          2.82,
          3.03,
          3.19,
          3.85,
          3.71,
          3.55,
          3.51,
          3.08,
          3.21,
          2.97,
          2.42,
          2.29,
          1.65,
          1.75,
          1.8,
          1.6,
          0.99,
          0.88,
          0.93,
          0.79,
          0.85,
          0.86,
          0.84,
          0.8,
          0.8,
          0.78,
          0.81,
          0.76,
          0.87,
          0.87,
          0.88,
          0.85,
          0.79,
          0.72,
          0.72,
          0.75,
          0.7,
          0.72,
          0.81,
          1.39,
          1.67,
          2.5,
          2.95,
          3.23,
          3.23,
          3.13,
          3.3,
          3.41,
          3.26,
          2.97,
          2.82,
          2.77,
          2.93,
          2.8,
          2.66,
          2.43,
          2.71,
          2.75,
          2.25,
          2,
          1.81,
          1.79,
          1.45,
          1.39,
          1.19,
          1.05,
          0.98,
          0.98,
          0.94,
          0.96,
          0.94,
          0.88,
          0.82,
          0.83,
          0.91,
          0.99,
          0.92,
          0.83,
          0.89,
          0.91,
          0.91,
          0.76,
          0.82,
          0.79,
          0.76,
          0.71,
          0.85,
          1.49,
          2.02,
          2.41,
          3.04,
          3.21,
          3.24,
          3.25,
          3.04,
          3.24,
          3.07,
          2.66,
          2.59,
          2.93,
          3.48,
          3.21,
          2.96,
          3.33,
          3.19,
          2.94,
          2.73,
          2.18,
          2.03,
          1.85,
          1.69,
          1.53,
          1.38,
          0.94,
          1.01,
          0.82,
          0.88,
          0.74,
          0.76,
          0.74,
          0.87,
          0.73,
          0.88,
          0.75,
          0.83
         ],
         "yaxis": "y"
        }
       ],
       "layout": {
        "legend": {
         "tracegroupgap": 0
        },
        "template": {
         "data": {
          "bar": [
           {
            "error_x": {
             "color": "#2a3f5f"
            },
            "error_y": {
             "color": "#2a3f5f"
            },
            "marker": {
             "line": {
              "color": "#E5ECF6",
              "width": 0.5
             },
             "pattern": {
              "fillmode": "overlay",
              "size": 10,
              "solidity": 0.2
             }
            },
            "type": "bar"
           }
          ],
          "barpolar": [
           {
            "marker": {
             "line": {
              "color": "#E5ECF6",
              "width": 0.5
             },
             "pattern": {
              "fillmode": "overlay",
              "size": 10,
              "solidity": 0.2
             }
            },
            "type": "barpolar"
           }
          ],
          "carpet": [
           {
            "aaxis": {
             "endlinecolor": "#2a3f5f",
             "gridcolor": "white",
             "linecolor": "white",
             "minorgridcolor": "white",
             "startlinecolor": "#2a3f5f"
            },
            "baxis": {
             "endlinecolor": "#2a3f5f",
             "gridcolor": "white",
             "linecolor": "white",
             "minorgridcolor": "white",
             "startlinecolor": "#2a3f5f"
            },
            "type": "carpet"
           }
          ],
          "choropleth": [
           {
            "colorbar": {
             "outlinewidth": 0,
             "ticks": ""
            },
            "type": "choropleth"
           }
          ],
          "contour": [
           {
            "colorbar": {
             "outlinewidth": 0,
             "ticks": ""
            },
            "colorscale": [
             [
              0,
              "#0d0887"
             ],
             [
              0.1111111111111111,
              "#46039f"
             ],
             [
              0.2222222222222222,
              "#7201a8"
             ],
             [
              0.3333333333333333,
              "#9c179e"
             ],
             [
              0.4444444444444444,
              "#bd3786"
             ],
             [
              0.5555555555555556,
              "#d8576b"
             ],
             [
              0.6666666666666666,
              "#ed7953"
             ],
             [
              0.7777777777777778,
              "#fb9f3a"
             ],
             [
              0.8888888888888888,
              "#fdca26"
             ],
             [
              1,
              "#f0f921"
             ]
            ],
            "type": "contour"
           }
          ],
          "contourcarpet": [
           {
            "colorbar": {
             "outlinewidth": 0,
             "ticks": ""
            },
            "type": "contourcarpet"
           }
          ],
          "heatmap": [
           {
            "colorbar": {
             "outlinewidth": 0,
             "ticks": ""
            },
            "colorscale": [
             [
              0,
              "#0d0887"
             ],
             [
              0.1111111111111111,
              "#46039f"
             ],
             [
              0.2222222222222222,
              "#7201a8"
             ],
             [
              0.3333333333333333,
              "#9c179e"
             ],
             [
              0.4444444444444444,
              "#bd3786"
             ],
             [
              0.5555555555555556,
              "#d8576b"
             ],
             [
              0.6666666666666666,
              "#ed7953"
             ],
             [
              0.7777777777777778,
              "#fb9f3a"
             ],
             [
              0.8888888888888888,
              "#fdca26"
             ],
             [
              1,
              "#f0f921"
             ]
            ],
            "type": "heatmap"
           }
          ],
          "heatmapgl": [
           {
            "colorbar": {
             "outlinewidth": 0,
             "ticks": ""
            },
            "colorscale": [
             [
              0,
              "#0d0887"
             ],
             [
              0.1111111111111111,
              "#46039f"
             ],
             [
              0.2222222222222222,
              "#7201a8"
             ],
             [
              0.3333333333333333,
              "#9c179e"
             ],
             [
              0.4444444444444444,
              "#bd3786"
             ],
             [
              0.5555555555555556,
              "#d8576b"
             ],
             [
              0.6666666666666666,
              "#ed7953"
             ],
             [
              0.7777777777777778,
              "#fb9f3a"
             ],
             [
              0.8888888888888888,
              "#fdca26"
             ],
             [
              1,
              "#f0f921"
             ]
            ],
            "type": "heatmapgl"
           }
          ],
          "histogram": [
           {
            "marker": {
             "pattern": {
              "fillmode": "overlay",
              "size": 10,
              "solidity": 0.2
             }
            },
            "type": "histogram"
           }
          ],
          "histogram2d": [
           {
            "colorbar": {
             "outlinewidth": 0,
             "ticks": ""
            },
            "colorscale": [
             [
              0,
              "#0d0887"
             ],
             [
              0.1111111111111111,
              "#46039f"
             ],
             [
              0.2222222222222222,
              "#7201a8"
             ],
             [
              0.3333333333333333,
              "#9c179e"
             ],
             [
              0.4444444444444444,
              "#bd3786"
             ],
             [
              0.5555555555555556,
              "#d8576b"
             ],
             [
              0.6666666666666666,
              "#ed7953"
             ],
             [
              0.7777777777777778,
              "#fb9f3a"
             ],
             [
              0.8888888888888888,
              "#fdca26"
             ],
             [
              1,
              "#f0f921"
             ]
            ],
            "type": "histogram2d"
           }
          ],
          "histogram2dcontour": [
           {
            "colorbar": {
             "outlinewidth": 0,
             "ticks": ""
            },
            "colorscale": [
             [
              0,
              "#0d0887"
             ],
             [
              0.1111111111111111,
              "#46039f"
             ],
             [
              0.2222222222222222,
              "#7201a8"
             ],
             [
              0.3333333333333333,
              "#9c179e"
             ],
             [
              0.4444444444444444,
              "#bd3786"
             ],
             [
              0.5555555555555556,
              "#d8576b"
             ],
             [
              0.6666666666666666,
              "#ed7953"
             ],
             [
              0.7777777777777778,
              "#fb9f3a"
             ],
             [
              0.8888888888888888,
              "#fdca26"
             ],
             [
              1,
              "#f0f921"
             ]
            ],
            "type": "histogram2dcontour"
           }
          ],
          "mesh3d": [
           {
            "colorbar": {
             "outlinewidth": 0,
             "ticks": ""
            },
            "type": "mesh3d"
           }
          ],
          "parcoords": [
           {
            "line": {
             "colorbar": {
              "outlinewidth": 0,
              "ticks": ""
             }
            },
            "type": "parcoords"
           }
          ],
          "pie": [
           {
            "automargin": true,
            "type": "pie"
           }
          ],
          "scatter": [
           {
            "marker": {
             "colorbar": {
              "outlinewidth": 0,
              "ticks": ""
             }
            },
            "type": "scatter"
           }
          ],
          "scatter3d": [
           {
            "line": {
             "colorbar": {
              "outlinewidth": 0,
              "ticks": ""
             }
            },
            "marker": {
             "colorbar": {
              "outlinewidth": 0,
              "ticks": ""
             }
            },
            "type": "scatter3d"
           }
          ],
          "scattercarpet": [
           {
            "marker": {
             "colorbar": {
              "outlinewidth": 0,
              "ticks": ""
             }
            },
            "type": "scattercarpet"
           }
          ],
          "scattergeo": [
           {
            "marker": {
             "colorbar": {
              "outlinewidth": 0,
              "ticks": ""
             }
            },
            "type": "scattergeo"
           }
          ],
          "scattergl": [
           {
            "marker": {
             "colorbar": {
              "outlinewidth": 0,
              "ticks": ""
             }
            },
            "type": "scattergl"
           }
          ],
          "scattermapbox": [
           {
            "marker": {
             "colorbar": {
              "outlinewidth": 0,
              "ticks": ""
             }
            },
            "type": "scattermapbox"
           }
          ],
          "scatterpolar": [
           {
            "marker": {
             "colorbar": {
              "outlinewidth": 0,
              "ticks": ""
             }
            },
            "type": "scatterpolar"
           }
          ],
          "scatterpolargl": [
           {
            "marker": {
             "colorbar": {
              "outlinewidth": 0,
              "ticks": ""
             }
            },
            "type": "scatterpolargl"
           }
          ],
          "scatterternary": [
           {
            "marker": {
             "colorbar": {
              "outlinewidth": 0,
              "ticks": ""
             }
            },
            "type": "scatterternary"
           }
          ],
          "surface": [
           {
            "colorbar": {
             "outlinewidth": 0,
             "ticks": ""
            },
            "colorscale": [
             [
              0,
              "#0d0887"
             ],
             [
              0.1111111111111111,
              "#46039f"
             ],
             [
              0.2222222222222222,
              "#7201a8"
             ],
             [
              0.3333333333333333,
              "#9c179e"
             ],
             [
              0.4444444444444444,
              "#bd3786"
             ],
             [
              0.5555555555555556,
              "#d8576b"
             ],
             [
              0.6666666666666666,
              "#ed7953"
             ],
             [
              0.7777777777777778,
              "#fb9f3a"
             ],
             [
              0.8888888888888888,
              "#fdca26"
             ],
             [
              1,
              "#f0f921"
             ]
            ],
            "type": "surface"
           }
          ],
          "table": [
           {
            "cells": {
             "fill": {
              "color": "#EBF0F8"
             },
             "line": {
              "color": "white"
             }
            },
            "header": {
             "fill": {
              "color": "#C8D4E3"
             },
             "line": {
              "color": "white"
             }
            },
            "type": "table"
           }
          ]
         },
         "layout": {
          "annotationdefaults": {
           "arrowcolor": "#2a3f5f",
           "arrowhead": 0,
           "arrowwidth": 1
          },
          "autotypenumbers": "strict",
          "coloraxis": {
           "colorbar": {
            "outlinewidth": 0,
            "ticks": ""
           }
          },
          "colorscale": {
           "diverging": [
            [
             0,
             "#8e0152"
            ],
            [
             0.1,
             "#c51b7d"
            ],
            [
             0.2,
             "#de77ae"
            ],
            [
             0.3,
             "#f1b6da"
            ],
            [
             0.4,
             "#fde0ef"
            ],
            [
             0.5,
             "#f7f7f7"
            ],
            [
             0.6,
             "#e6f5d0"
            ],
            [
             0.7,
             "#b8e186"
            ],
            [
             0.8,
             "#7fbc41"
            ],
            [
             0.9,
             "#4d9221"
            ],
            [
             1,
             "#276419"
            ]
           ],
           "sequential": [
            [
             0,
             "#0d0887"
            ],
            [
             0.1111111111111111,
             "#46039f"
            ],
            [
             0.2222222222222222,
             "#7201a8"
            ],
            [
             0.3333333333333333,
             "#9c179e"
            ],
            [
             0.4444444444444444,
             "#bd3786"
            ],
            [
             0.5555555555555556,
             "#d8576b"
            ],
            [
             0.6666666666666666,
             "#ed7953"
            ],
            [
             0.7777777777777778,
             "#fb9f3a"
            ],
            [
             0.8888888888888888,
             "#fdca26"
            ],
            [
             1,
             "#f0f921"
            ]
           ],
           "sequentialminus": [
            [
             0,
             "#0d0887"
            ],
            [
             0.1111111111111111,
             "#46039f"
            ],
            [
             0.2222222222222222,
             "#7201a8"
            ],
            [
             0.3333333333333333,
             "#9c179e"
            ],
            [
             0.4444444444444444,
             "#bd3786"
            ],
            [
             0.5555555555555556,
             "#d8576b"
            ],
            [
             0.6666666666666666,
             "#ed7953"
            ],
            [
             0.7777777777777778,
             "#fb9f3a"
            ],
            [
             0.8888888888888888,
             "#fdca26"
            ],
            [
             1,
             "#f0f921"
            ]
           ]
          },
          "colorway": [
           "#636efa",
           "#EF553B",
           "#00cc96",
           "#ab63fa",
           "#FFA15A",
           "#19d3f3",
           "#FF6692",
           "#B6E880",
           "#FF97FF",
           "#FECB52"
          ],
          "font": {
           "color": "#2a3f5f"
          },
          "geo": {
           "bgcolor": "white",
           "lakecolor": "white",
           "landcolor": "#E5ECF6",
           "showlakes": true,
           "showland": true,
           "subunitcolor": "white"
          },
          "hoverlabel": {
           "align": "left"
          },
          "hovermode": "closest",
          "mapbox": {
           "style": "light"
          },
          "paper_bgcolor": "white",
          "plot_bgcolor": "#E5ECF6",
          "polar": {
           "angularaxis": {
            "gridcolor": "white",
            "linecolor": "white",
            "ticks": ""
           },
           "bgcolor": "#E5ECF6",
           "radialaxis": {
            "gridcolor": "white",
            "linecolor": "white",
            "ticks": ""
           }
          },
          "scene": {
           "xaxis": {
            "backgroundcolor": "#E5ECF6",
            "gridcolor": "white",
            "gridwidth": 2,
            "linecolor": "white",
            "showbackground": true,
            "ticks": "",
            "zerolinecolor": "white"
           },
           "yaxis": {
            "backgroundcolor": "#E5ECF6",
            "gridcolor": "white",
            "gridwidth": 2,
            "linecolor": "white",
            "showbackground": true,
            "ticks": "",
            "zerolinecolor": "white"
           },
           "zaxis": {
            "backgroundcolor": "#E5ECF6",
            "gridcolor": "white",
            "gridwidth": 2,
            "linecolor": "white",
            "showbackground": true,
            "ticks": "",
            "zerolinecolor": "white"
           }
          },
          "shapedefaults": {
           "line": {
            "color": "#2a3f5f"
           }
          },
          "ternary": {
           "aaxis": {
            "gridcolor": "white",
            "linecolor": "white",
            "ticks": ""
           },
           "baxis": {
            "gridcolor": "white",
            "linecolor": "white",
            "ticks": ""
           },
           "bgcolor": "#E5ECF6",
           "caxis": {
            "gridcolor": "white",
            "linecolor": "white",
            "ticks": ""
           }
          },
          "title": {
           "x": 0.05
          },
          "xaxis": {
           "automargin": true,
           "gridcolor": "white",
           "linecolor": "white",
           "ticks": "",
           "title": {
            "standoff": 15
           },
           "zerolinecolor": "white",
           "zerolinewidth": 2
          },
          "yaxis": {
           "automargin": true,
           "gridcolor": "white",
           "linecolor": "white",
           "ticks": "",
           "title": {
            "standoff": 15
           },
           "zerolinecolor": "white",
           "zerolinewidth": 2
          }
         }
        },
        "title": {
         "text": "entsorgung_30T"
        },
        "xaxis": {
         "anchor": "y",
         "domain": [
          0,
          1
         ],
         "title": {
          "text": "Time"
         }
        },
        "yaxis": {
         "anchor": "x",
         "domain": [
          0,
          1
         ],
         "title": {
          "text": "kW"
         }
        }
       }
      }
     },
     "metadata": {},
     "output_type": "display_data"
    }
   ],
   "source": [
    "px.line(\n",
    "    x=entsorgung.index, y=entsorgung.kw, \n",
    "    title='entsorgung_30T',\n",
    "    labels={\n",
    "        'x': 'Time',\n",
    "        'y': 'kW'\n",
    "    },\n",
    "    markers=False)"
   ]
  },
  {
   "cell_type": "code",
   "execution_count": 4,
   "metadata": {},
   "outputs": [
    {
     "data": {
      "text/plain": [
       "'2021-10-15'"
      ]
     },
     "execution_count": 4,
     "metadata": {},
     "output_type": "execute_result"
    }
   ],
   "source": [
    "str(entsorgung.index.date.max())"
   ]
  },
  {
   "cell_type": "code",
   "execution_count": 18,
   "metadata": {},
   "outputs": [
    {
     "data": {
      "text/plain": [
       "Timedelta('4 days 23:30:00')"
      ]
     },
     "execution_count": 18,
     "metadata": {},
     "output_type": "execute_result"
    }
   ],
   "source": [
    "day_range = entsorgung.index.max() - entsorgung.index.min()\n",
    "day_range"
   ]
  },
  {
   "cell_type": "code",
   "execution_count": 5,
   "metadata": {},
   "outputs": [
    {
     "data": {
      "text/plain": [
       "(240, 8)"
      ]
     },
     "execution_count": 5,
     "metadata": {},
     "output_type": "execute_result"
    }
   ],
   "source": [
    "entsorgung.shape"
   ]
  },
  {
   "cell_type": "code",
   "execution_count": 15,
   "metadata": {},
   "outputs": [],
   "source": [
    "time_int_range = np.arange(0, 240*30, 30)\n",
    "entsorgung['t'] = time_int_range\n",
    "entsorgung['t'] = (entsorgung['t'] - entsorgung['t'].min()) / (entsorgung['t'].max() - entsorgung['t'].min())\n",
    "\n",
    "#entsorgung_final = pd.DataFrame(data=entsorgung['kw'], index=entsorgung['t'])\n",
    "#entsorgung_final.reset_index(inplace=True)\n",
    "\n",
    "X = entsorgung['t'].values\n",
    "y = entsorgung['kw'].values\n",
    "n = len(X)\n",
    "prop_train = 0.8\n",
    "n_train = round(prop_train * n)\n",
    "\n",
    "# Training\n",
    "X_train = torch.from_numpy(X[:n_train]).to(torch.float64)\n",
    "y_train = torch.from_numpy(y[:n_train]).to(torch.float64)\n",
    "\n",
    "# Testing\n",
    "#X_test = torch.from_numpy(y[n_train:]).to(torch.float64)\n",
    "X_test = torch.from_numpy(X).to(torch.float64)\n",
    "y_test = torch.from_numpy(y[n_train:]).to(torch.float64)\n",
    "\n",
    "# Standardizing helps with hyperparameter initialization\n",
    "y_train_mean = torch.mean(y_train)\n",
    "y_train_std = torch.std(y_train)\n",
    "\n",
    "y_train = (y_train - y_train_mean) / (y_train_std)\n",
    "y_test = (y_test - y_train_mean) / (y_train_std)\n",
    "\n",
    "#plt.figure(figsize=(16, 6))\n",
    "#plt.plot(X_train.numpy(), y_train.numpy())\n",
    "#plt.plot(X_test.numpy(), y_test.numpy())"
   ]
  },
  {
   "cell_type": "code",
   "execution_count": 27,
   "metadata": {},
   "outputs": [],
   "source": [
    "time_int_range = np.arange(0, 240*5, 5)\n",
    "entsorgung['t'] = time_int_range\n",
    "\n",
    "#entsorgung_final = pd.DataFrame(data=entsorgung['kw'], index=entsorgung['t'])\n",
    "#entsorgung_final.reset_index(inplace=True)\n",
    "\n",
    "X = entsorgung['t'].values\n",
    "y = entsorgung['kw'].values\n",
    "n = len(X)\n",
    "prop_train = 0.8\n",
    "n_train = round(prop_train * n)\n",
    "\n",
    "# Training\n",
    "X_train = torch.from_numpy(X[:n_train]).to(torch.float64)\n",
    "y_train = torch.from_numpy(y[:n_train]).to(torch.float64)\n",
    "\n",
    "# Testing\n",
    "#X_test = torch.from_numpy(y[n_train:]).to(torch.float64)\n",
    "X_test = torch.from_numpy(X).to(torch.float64)\n",
    "y_test = torch.from_numpy(y[n_train:]).to(torch.float64)\n",
    "\n",
    "# Standardizing helps with hyperparameter initialization\n",
    "y_train_mean = torch.mean(y_train)\n",
    "y_train_std = torch.std(y_train)\n",
    "\n",
    "y_train = (y_train - y_train_mean) / (y_train_std)\n",
    "y_test = (y_test - y_train_mean) / (y_train_std)\n",
    "\n",
    "#plt.figure(figsize=(16, 6))\n",
    "#plt.plot(X_train.numpy(), y_train.numpy())\n",
    "#plt.plot(X_test.numpy(), y_test.numpy())"
   ]
  },
  {
   "cell_type": "code",
   "execution_count": 29,
   "metadata": {},
   "outputs": [],
   "source": [
    "## new time scale ##\n",
    "\n",
    "class ExactGPModel(gpytorch.models.ExactGP):\n",
    "    def __init__(self, train_x, train_y, likelihood):\n",
    "        super(ExactGPModel, self).__init__(train_x, train_y, likelihood)\n",
    "\n",
    "        ## Locally Periodic Kernel ##\n",
    "        period_constraint_short = gpytorch.constraints.Interval(22, 26) ## short term\n",
    "\n",
    "        seasonal_periodic_short = gpytorch.kernels.PeriodicKernel(\n",
    "            #period_length_constraint=period_constraint_short\n",
    "        )\n",
    "\n",
    "        period_constraint_long = gpytorch.constraints.Interval(46, 50) ## long term\n",
    "\n",
    "        seasonal_periodic_long = gpytorch.kernels.PeriodicKernel(\n",
    "            #period_length_constraint=period_constraint_long\n",
    "        )\n",
    "\n",
    "        ## Local Variations ##\n",
    "        local_variation_alpha = gpytorch.priors.GammaPrior(1, 0.5)\n",
    "\n",
    "        local_variation = gpytorch.kernels.RQKernel()\n",
    "        local_variation.alpha = 1\n",
    "\n",
    "\n",
    "        self.covar_module = seasonal_periodic_short + seasonal_periodic_long + local_variation\n",
    "        self.mean_module = gpytorch.means.ZeroMean()\n",
    "\n",
    "    def forward(self, x):\n",
    "        mean_x = self.mean_module(x)\n",
    "        covar_x = self.covar_module(x)\n",
    "        return gpytorch.distributions.MultivariateNormal(mean_x, covar_x)\n",
    "\n",
    "# initialize likelihood and model\n",
    "likelihood = gpytorch.likelihoods.GaussianLikelihood()\n",
    "model = ExactGPModel(X_train, y_train, likelihood)"
   ]
  },
  {
   "cell_type": "code",
   "execution_count": 28,
   "metadata": {},
   "outputs": [],
   "source": [
    "## best performing ##\n",
    "\n",
    "class ExactGPModel(gpytorch.models.ExactGP):\n",
    "    def __init__(self, train_x, train_y, likelihood):\n",
    "        super(ExactGPModel, self).__init__(train_x, train_y, likelihood)\n",
    "\n",
    "        ## Locally Periodic Kernel ##\n",
    "        period_constraint_short = gpytorch.constraints.Interval(110, 130) ## short term\n",
    "\n",
    "        seasonal_periodic_short = gpytorch.kernels.PeriodicKernel(\n",
    "            period_length_constraint=period_constraint_short\n",
    "        )\n",
    "\n",
    "        period_constraint_long = gpytorch.constraints.Interval(225, 245) ## long term\n",
    "\n",
    "        seasonal_periodic_long = gpytorch.kernels.PeriodicKernel(\n",
    "            period_length_constraint=period_constraint_long\n",
    "        )\n",
    "\n",
    "        ## Local Variations ##\n",
    "        local_variation_alpha = gpytorch.priors.GammaPrior(1, 0.5)\n",
    "\n",
    "        local_variation = gpytorch.kernels.RQKernel()\n",
    "        local_variation.alpha = 1\n",
    "\n",
    "\n",
    "        self.covar_module = seasonal_periodic_short + seasonal_periodic_long + local_variation\n",
    "        self.mean_module = gpytorch.means.ZeroMean()\n",
    "\n",
    "    def forward(self, x):\n",
    "        mean_x = self.mean_module(x)\n",
    "        covar_x = self.covar_module(x)\n",
    "        return gpytorch.distributions.MultivariateNormal(mean_x, covar_x)\n",
    "\n",
    "# initialize likelihood and model\n",
    "likelihood = gpytorch.likelihoods.GaussianLikelihood()\n",
    "model = ExactGPModel(X_train, y_train, likelihood)"
   ]
  },
  {
   "cell_type": "code",
   "execution_count": 30,
   "metadata": {},
   "outputs": [],
   "source": [
    "## v2 - adding scaling parameters ##\n",
    "\n",
    "class ExactGPModel(gpytorch.models.ExactGP):\n",
    "    def __init__(self, train_x, train_y, likelihood):\n",
    "        super(ExactGPModel, self).__init__(train_x, train_y, likelihood)\n",
    "\n",
    "        ## Locally Periodic Kernel ##\n",
    "        period_constraint_short = gpytorch.constraints.Interval(110, 130) ## short term\n",
    "\n",
    "        seasonal_periodic_short = gpytorch.kernels.ScaleKernel(\n",
    "            gpytorch.kernels.PeriodicKernel(\n",
    "                period_length_constraint=period_constraint_short\n",
    "                )\n",
    "            )\n",
    "\n",
    "        period_constraint_long = gpytorch.constraints.Interval(225, 245) ## long term\n",
    "\n",
    "        seasonal_periodic_long = gpytorch.kernels.ScaleKernel(\n",
    "            gpytorch.kernels.PeriodicKernel(\n",
    "                period_length_constraint=period_constraint_long\n",
    "                )\n",
    "            )\n",
    "\n",
    "        ## Local Variations ##\n",
    "        local_variation_alpha = gpytorch.priors.GammaPrior(1, 0.5)\n",
    "\n",
    "        local_variation = gpytorch.kernels.ScaleKernel(\n",
    "            gpytorch.kernels.RQKernel()\n",
    "            )\n",
    "            \n",
    "        local_variation.alpha = 1\n",
    "\n",
    "\n",
    "        self.covar_module = seasonal_periodic_short + seasonal_periodic_long + local_variation\n",
    "        self.mean_module = gpytorch.means.ZeroMean()\n",
    "\n",
    "    def forward(self, x):\n",
    "        mean_x = self.mean_module(x)\n",
    "        covar_x = self.covar_module(x)\n",
    "        return gpytorch.distributions.MultivariateNormal(mean_x, covar_x)\n",
    "\n",
    "# initialize likelihood and model\n",
    "likelihood = gpytorch.likelihoods.GaussianLikelihood()\n",
    "model = ExactGPModel(X_train, y_train, likelihood)"
   ]
  },
  {
   "cell_type": "code",
   "execution_count": 31,
   "metadata": {},
   "outputs": [
    {
     "name": "stdout",
     "output_type": "stream",
     "text": [
      "Iter 1 , Loss = 1.1939353624773383 , Noise = 0.6932471990585327\n",
      "Iter 2 , Loss = 1.1556075980682048 , Noise = 0.6444966793060303\n",
      "Iter 3 , Loss = 1.1167431673325037 , Noise = 0.5982100367546082\n",
      "Iter 4 , Loss = 1.0772998066514894 , Noise = 0.5543560981750488\n",
      "Iter 5 , Loss = 1.0369304271317716 , Noise = 0.5128961205482483\n",
      "Iter 6 , Loss = 0.9954455598509949 , Noise = 0.4737832844257355\n",
      "Iter 7 , Loss = 0.9528799001796672 , Noise = 0.4369630813598633\n",
      "Iter 8 , Loss = 0.9093269501860629 , Noise = 0.4023742079734802\n",
      "Iter 9 , Loss = 0.8648934773980806 , Noise = 0.36994966864585876\n",
      "Iter 10 , Loss = 0.8196783719196242 , Noise = 0.33961760997772217\n",
      "Iter 11 , Loss = 0.773745344327657 , Noise = 0.31130218505859375\n",
      "Iter 12 , Loss = 0.7271196744899617 , Noise = 0.284924179315567\n",
      "Iter 13 , Loss = 0.6798427237866388 , Noise = 0.26040181517601013\n",
      "Iter 14 , Loss = 0.6320256448303492 , Noise = 0.23765113949775696\n",
      "Iter 15 , Loss = 0.5838483725389255 , Noise = 0.21658706665039062\n",
      "Iter 16 , Loss = 0.5355308479394216 , Noise = 0.19712409377098083\n",
      "Iter 17 , Loss = 0.4873032345088757 , Noise = 0.17917704582214355\n",
      "Iter 18 , Loss = 0.4393797211589132 , Noise = 0.16266165673732758\n",
      "Iter 19 , Loss = 0.39195065422312875 , Noise = 0.14749497175216675\n",
      "Iter 20 , Loss = 0.3452160128546355 , Noise = 0.13359566032886505\n",
      "Iter 21 , Loss = 0.2994352278386709 , Noise = 0.12088428437709808\n",
      "Iter 22 , Loss = 0.2549371186916936 , Noise = 0.10928359627723694\n",
      "Iter 23 , Loss = 0.2120680435678164 , Noise = 0.0987187847495079\n",
      "Iter 24 , Loss = 0.17109337191243013 , Noise = 0.08911773562431335\n",
      "Iter 25 , Loss = 0.13211727745996393 , Noise = 0.08041110634803772\n",
      "Iter 26 , Loss = 0.09514160005517243 , Noise = 0.07253235578536987\n",
      "Iter 27 , Loss = 0.060292504413426595 , Noise = 0.06541775912046432\n",
      "Iter 28 , Loss = 0.027972112916573828 , Noise = 0.05900663509964943\n",
      "Iter 29 , Loss = -0.0012719093894591655 , Noise = 0.05324173718690872\n",
      "Iter 30 , Loss = -0.027014249550090092 , Noise = 0.04806952923536301\n",
      "Iter 31 , Loss = -0.049169059793947735 , Noise = 0.04344010353088379\n",
      "Iter 32 , Loss = -0.06800237878353672 , Noise = 0.03930695354938507\n",
      "Iter 33 , Loss = -0.08381294751148734 , Noise = 0.03562650457024574\n",
      "Iter 34 , Loss = -0.09678074395656155 , Noise = 0.03235793858766556\n",
      "Iter 35 , Loss = -0.10711135045808555 , Noise = 0.029463060200214386\n",
      "Iter 36 , Loss = -0.1153715848988474 , Noise = 0.026906168088316917\n",
      "Iter 37 , Loss = -0.12230002220378274 , Noise = 0.024653537198901176\n",
      "Iter 38 , Loss = -0.12856399728903214 , Noise = 0.02267291769385338\n",
      "Iter 39 , Loss = -0.1350155544081666 , Noise = 0.020933350548148155\n",
      "Iter 40 , Loss = -0.14265923861550256 , Noise = 0.019404934719204903\n",
      "Iter 41 , Loss = -0.15216593811895093 , Noise = 0.01805870048701763\n",
      "Iter 42 , Loss = -0.16334041966576787 , Noise = 0.01686709374189377\n",
      "Iter 43 , Loss = -0.17511906136153765 , Noise = 0.015805160626769066\n",
      "Iter 44 , Loss = -0.18564325715130417 , Noise = 0.014851497486233711\n",
      "Iter 45 , Loss = -0.19376020949172798 , Noise = 0.013988668099045753\n",
      "Iter 46 , Loss = -0.2011073237189449 , Noise = 0.013203149661421776\n",
      "Iter 47 , Loss = -0.20930326613553266 , Noise = 0.012484559789299965\n",
      "Iter 48 , Loss = -0.2178900530344928 , Noise = 0.011824678629636765\n",
      "Iter 49 , Loss = -0.2259163671261164 , Noise = 0.011216830462217331\n",
      "Iter 50 , Loss = -0.23272641964178428 , Noise = 0.010655499063432217\n",
      "Iter 51 , Loss = -0.237933781091622 , Noise = 0.010136058554053307\n",
      "Iter 52 , Loss = -0.24171003629578877 , Noise = 0.009654638357460499\n",
      "Iter 53 , Loss = -0.2447055135639702 , Noise = 0.00920791458338499\n",
      "Iter 54 , Loss = -0.24745629995643728 , Noise = 0.008792932145297527\n",
      "Iter 55 , Loss = -0.2501446823201894 , Noise = 0.00840697530657053\n",
      "Iter 56 , Loss = -0.2527962576753617 , Noise = 0.008047543466091156\n",
      "Iter 57 , Loss = -0.2554463932206808 , Noise = 0.007712347432971001\n",
      "Iter 58 , Loss = -0.2581103380399144 , Noise = 0.007399329915642738\n",
      "Iter 59 , Loss = -0.26074392378721667 , Noise = 0.007106679026037455\n",
      "Iter 60 , Loss = -0.26331853848130554 , Noise = 0.006832827813923359\n",
      "Iter 61 , Loss = -0.2658825827234555 , Noise = 0.0065764510072767735\n",
      "Iter 62 , Loss = -0.2684932465868048 , Noise = 0.006336449179798365\n",
      "Iter 63 , Loss = -0.27111670792582077 , Noise = 0.006111904047429562\n",
      "Iter 64 , Loss = -0.27364383873343234 , Noise = 0.0059020486660301685\n",
      "Iter 65 , Loss = -0.2759748809993264 , Noise = 0.005706230644136667\n",
      "Iter 66 , Loss = -0.2780350861066401 , Noise = 0.005523862317204475\n",
      "Iter 67 , Loss = -0.2797573965507916 , Noise = 0.005354396067559719\n",
      "Iter 68 , Loss = -0.2811396126449431 , Noise = 0.0051972828805446625\n",
      "Iter 69 , Loss = -0.2822803629968707 , Noise = 0.005051957443356514\n",
      "Iter 70 , Loss = -0.28329551830156136 , Noise = 0.00491781672462821\n",
      "Iter 71 , Loss = -0.2842409165561193 , Noise = 0.0047942050732672215\n",
      "Iter 72 , Loss = -0.2851405067176988 , Noise = 0.004680421203374863\n",
      "Iter 73 , Loss = -0.28601494660767396 , Noise = 0.004575721919536591\n",
      "Iter 74 , Loss = -0.28686027251842505 , Noise = 0.004479344934225082\n",
      "Iter 75 , Loss = -0.28766966760524415 , Noise = 0.004390533082187176\n"
     ]
    },
    {
     "data": {
      "text/plain": [
       "GaussianLikelihood(\n",
       "  (noise_covar): HomoskedasticNoise(\n",
       "    (raw_noise_constraint): GreaterThan(1.000E-04)\n",
       "  )\n",
       ")"
      ]
     },
     "execution_count": 31,
     "metadata": {},
     "output_type": "execute_result"
    }
   ],
   "source": [
    "smoke_test = ('CI' in os.environ)\n",
    "training_iter = 2 if smoke_test else 75\n",
    "\n",
    "model.train()\n",
    "likelihood.train()\n",
    "\n",
    "optimizer = torch.optim.Adam(model.parameters(), lr=0.1)\n",
    "mll = gpytorch.mlls.ExactMarginalLogLikelihood(likelihood=likelihood, model=model)\n",
    "\n",
    "for i in range(training_iter):\n",
    "    optimizer.zero_grad()\n",
    "    output = model(X_train)\n",
    "    loss = -mll(output, y_train)\n",
    "    loss.backward()\n",
    "\n",
    "    print('Iter {} , Loss = {} , Noise = {}'.format(\n",
    "        i+1, loss, model.likelihood.noise.item() \n",
    "    ))\n",
    "\n",
    "    optimizer.step()\n",
    "\n",
    "model.eval()\n",
    "likelihood.eval()"
   ]
  },
  {
   "cell_type": "code",
   "execution_count": 39,
   "metadata": {},
   "outputs": [
    {
     "data": {
      "image/png": "[encoded data removed]",
      "text/plain": [
       "<Figure size 1152x504 with 1 Axes>"
      ]
     },
     "metadata": {
      "needs_background": "light"
     },
     "output_type": "display_data"
    }
   ],
   "source": [
    "model.eval()\n",
    "likelihood.eval()\n",
    "\n",
    "with torch.no_grad(), gpytorch.settings.fast_pred_var():\n",
    "    observed_preds = likelihood(model(X_test))\n",
    "\n",
    "    test_preds = observed_preds.mean[n_train:]\n",
    "    mse = mean_squared_error(y_test.numpy(), test_preds.numpy())\n",
    "    mape = mean_absolute_percentage_error(y_test.numpy(), test_preds.numpy())\n",
    "\n",
    "    f, ax = plt.subplots(figsize=(16, 7))\n",
    "    lower, upper = observed_preds.confidence_region()\n",
    "    ax.plot(X_train.numpy(), y_train.numpy())\n",
    "    ax.plot(X_test.numpy(), observed_preds.mean.numpy())\n",
    "    ax.fill_between(X_test.numpy(), lower.numpy(), upper.numpy(), alpha=0.5, color='#2ecc71')\n",
    "    plt.axvline(x=955, linestyle='--', color='black', lw=1)\n",
    "    ax.legend(['Observed Data', 'Predictions', 'Test', 'Uncertainty'])\n",
    "    plt.xlabel('Time Step - 30 minute sampling')\n",
    "    plt.ylabel('Standardized kW')\n",
    "    plt.title('Gaussian Process Regression: Interpolation and Extrapolation of \"Entsorgung\" \\n  MSE = {} \\n MAPE = {}'.\n",
    "    format(round(mse, 2), round(mape, 2)))\n",
    "    plt.show()"
   ]
  },
  {
   "cell_type": "code",
   "execution_count": 33,
   "metadata": {},
   "outputs": [],
   "source": [
    "test_preds = observed_preds.mean[n_train:]"
   ]
  },
  {
   "cell_type": "code",
   "execution_count": 34,
   "metadata": {},
   "outputs": [
    {
     "data": {
      "text/plain": [
       "(0.030756068177624565, 0.18832710048173326)"
      ]
     },
     "execution_count": 34,
     "metadata": {},
     "output_type": "execute_result"
    }
   ],
   "source": [
    "mean_squared_error(y_test.numpy(), test_preds.numpy()), mean_absolute_percentage_error(y_test.numpy(), test_preds.numpy())"
   ]
  },
  {
   "cell_type": "code",
   "execution_count": 20,
   "metadata": {},
   "outputs": [
    {
     "data": {
      "text/plain": [
       "(0.06396455043750866, 0.34132282048023904)"
      ]
     },
     "execution_count": 20,
     "metadata": {},
     "output_type": "execute_result"
    }
   ],
   "source": [
    "mean_squared_error(y_test.numpy(), test_preds.numpy()), mean_absolute_percentage_error(y_test.numpy(), test_preds.numpy())"
   ]
  },
  {
   "cell_type": "code",
   "execution_count": 84,
   "metadata": {},
   "outputs": [
    {
     "data": {
      "text/plain": [
       "tensor([-1.0525, -1.0758, -1.0828, -1.0557, -1.0317, -1.1038, -1.1305, -1.1661,\n",
       "        -1.1166, -1.1212, -0.7163, -0.0602,  0.9758,  1.4115,  1.4398,  1.4821,\n",
       "         1.6107,  1.5701,  1.4718,  1.4287,  1.3509,  1.4321,  1.4662,  1.5265,\n",
       "         1.5958,  1.2661,  1.0008,  1.2851,  1.2263,  0.9552,  0.8568,  0.6660,\n",
       "         0.5393,  0.3818, -0.0958, -0.5560, -0.6051, -0.5859, -0.5531, -0.5682,\n",
       "        -0.5076, -0.6005, -0.5787, -0.6115, -0.5706, -0.6293, -0.6196, -0.5889,\n",
       "        -0.6061, -0.5790, -0.6193, -0.6603, -0.6402, -0.6744, -0.6911, -0.7004,\n",
       "        -0.7186, -0.6523, -0.1864,  0.3718,  0.8078,  1.2076,  1.3568,  1.6062,\n",
       "         1.6398,  1.7889,  1.5025,  1.5290,  1.8210,  1.6469,  1.6172,  1.4301,\n",
       "         1.3801,  1.3412,  1.1885,  1.4556,  1.3983,  0.8367,  0.3360,  0.0023,\n",
       "        -0.0848, -0.0934, -0.4312, -0.9077, -0.9453, -0.9875, -0.9310, -0.9767,\n",
       "        -0.9348, -0.9574, -0.9827, -0.9920, -0.9835, -0.9976, -0.9856, -0.9855,\n",
       "        -1.0038, -1.0435, -1.1175, -1.1101, -1.0668, -1.0721, -1.0370, -1.0525,\n",
       "        -1.0407, -1.0209, -0.5992,  0.1337,  0.6704,  1.0777,  1.1273,  1.0834,\n",
       "         1.1684,  1.1664,  0.9747,  0.8180,  0.9443,  1.1358,  1.5781,  1.5407,\n",
       "         1.4068,  1.3049,  1.0353,  1.0756,  0.8861,  0.4655,  0.2298, -0.1985,\n",
       "        -0.1765, -0.1544, -0.3615, -0.8155, -0.9510, -0.9342, -1.0038, -0.9760,\n",
       "        -0.9696, -0.9873, -1.0165, -1.0237, -1.0342, -1.0192, -1.0361, -0.9694,\n",
       "        -0.9601, -0.9585, -0.9844, -1.0336, -1.0846, -1.0870, -1.0712, -1.1054,\n",
       "        -1.1039, -0.9976, -0.5622, -0.1910,  0.4702,  0.8869,  1.1045,  1.1151,\n",
       "         1.0708,  1.1828,  1.2447,  1.1175,  0.8988,  0.7806,  0.7633,  0.8520,\n",
       "         0.7523,  0.6086,  0.4744,  0.6563,  0.6667,  0.2965,  0.0323, -0.1281,\n",
       "        -0.1750, -0.3968, -0.5115, -0.6934, -0.8197, -0.8675, -0.8666, -0.8891,\n",
       "        -0.8849, -0.9038, -0.9510, -0.9953, -0.9873, -0.9266, -0.8725, -0.9120,\n",
       "        -0.9419, -0.9717, -0.9994, -1.0214, -1.0333, -1.0349, -1.0426, -1.0758,\n",
       "        -1.0941, -0.9677, -0.5760,  0.0363,  0.6466,  1.0432,  1.2043,  1.2562,\n",
       "         1.2919,  1.2966,  1.2399,  1.1610,  1.1357,  1.1919,  1.2723,  1.2752,\n",
       "         1.1600,  1.0169,  0.9693,  0.9896,  0.9016,  0.6155,  0.2686,  0.0520,\n",
       "        -0.0370, -0.1697, -0.4374, -0.7317, -0.8978, -0.9164, -0.8836, -0.8733,\n",
       "        -0.8884, -0.9096, -0.9301, -0.9463, -0.9508, -0.9428, -0.9325, -0.9324],\n",
       "       dtype=torch.float64)"
      ]
     },
     "execution_count": 84,
     "metadata": {},
     "output_type": "execute_result"
    }
   ],
   "source": [
    "observed_preds.mean"
   ]
  },
  {
   "cell_type": "markdown",
   "metadata": {},
   "source": [
    "### Inspection of Learned Hyperparameters\n",
    "\n",
    "Namely:\n",
    " - Lengthscale (wiggliness of the function)\n",
    " - Outputscale (if initialized) aka the variance"
   ]
  },
  {
   "cell_type": "code",
   "execution_count": 48,
   "metadata": {},
   "outputs": [],
   "source": [
    "model.covar_module.lengthscale"
   ]
  },
  {
   "cell_type": "code",
   "execution_count": null,
   "metadata": {},
   "outputs": [],
   "source": []
  }
 ],
 "metadata": {
  "interpreter": {
   "hash": "55f578ea790fce859303417df5f33993e9db329ffe5a387d7c54812db965934b"
  },
  "kernelspec": {
   "display_name": "Python 3.8.12 64-bit ('thesis': conda)",
   "language": "python",
   "name": "python3"
  },
  "language_info": {
   "codemirror_mode": {
    "name": "ipython",
    "version": 3
   },
   "file_extension": ".py",
   "mimetype": "text/x-python",
   "name": "python",
   "nbconvert_exporter": "python",
   "pygments_lexer": "ipython3",
   "version": "3.8.12"
  },
  "orig_nbformat": 4
 },
 "nbformat": 4,
 "nbformat_minor": 2
}
