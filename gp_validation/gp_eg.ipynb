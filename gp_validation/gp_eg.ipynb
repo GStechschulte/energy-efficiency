{
 "cells": [
  {
   "cell_type": "code",
   "execution_count": null,
   "metadata": {},
   "outputs": [],
   "source": [
    "import json\n",
    "import sys\n",
    "sys.path.append('/Users/wastechs/Documents/git-repos/energy-efficiency')\n",
    "from validation.gp.create_train_inference import create_train_inference_gp\n",
    "from lib.util import helper, data_preprocessing\n",
    "import torch\n",
    "import gpytorch"
   ]
  },
  {
   "cell_type": "markdown",
   "metadata": {},
   "source": [
    "### Preprocess Data"
   ]
  },
  {
   "cell_type": "code",
   "execution_count": null,
   "metadata": {},
   "outputs": [],
   "source": [
    "X_train, y_train, X_test, y_test, n_train = data_preprocessing.gp_preprocess(\n",
    "    machine='eg_30T', \n",
    "    freq=30,\n",
    "    normalize_time=True\n",
    "    )"
   ]
  },
  {
   "cell_type": "markdown",
   "metadata": {},
   "source": [
    "### 30 minutes agg."
   ]
  },
  {
   "cell_type": "code",
   "execution_count": null,
   "metadata": {},
   "outputs": [],
   "source": [
    "## Locally Periodic Kernel ##\n",
    "period_constraint_short = gpytorch.constraints.Interval(0.07, 0.11) ## short term\n",
    "\n",
    "seasonal_periodic_short = gpytorch.kernels.ScaleKernel(\n",
    "    gpytorch.kernels.PeriodicKernel(\n",
    "        period_length_constraint=period_constraint_short\n",
    "        )\n",
    "    )\n",
    "\n",
    "seasonal_rbf_short = gpytorch.kernels.ScaleKernel(\n",
    "    gpytorch.kernels.RBFKernel()\n",
    ")\n",
    "\n",
    "locally_short_periodic = seasonal_periodic_short * seasonal_rbf_short\n",
    "\n",
    "period_constraint_long = gpytorch.constraints.Interval(0.18, 0.21) ## long term\n",
    "\n",
    "seasonal_periodic_long = gpytorch.kernels.ScaleKernel(\n",
    "    gpytorch.kernels.PeriodicKernel(\n",
    "        period_length_constraint=period_constraint_long\n",
    "        )\n",
    "    )\n",
    "\n",
    "seasonal_rbf_long = gpytorch.kernels.ScaleKernel(\n",
    "    gpytorch.kernels.RBFKernel()\n",
    ")\n",
    "\n",
    "locally_long_periodic = seasonal_periodic_long * seasonal_rbf_long\n",
    "\n",
    "## Local Variations ##\n",
    "local_variation_alpha = gpytorch.priors.GammaPrior(1, 0.5)\n",
    "\n",
    "local_variation = gpytorch.kernels.ScaleKernel(\n",
    "    gpytorch.kernels.RQKernel()\n",
    "    )\n",
    "    \n",
    "local_variation.alpha = local_variation_alpha\n",
    "\n",
    "\n",
    "#covar_module = locally_short_periodic + locally_long_periodic + local_variation ## best\n",
    "\n",
    "covar_module1 = locally_short_periodic + locally_long_periodic + local_variation \n",
    "covar_module2 = locally_short_periodic\n",
    "covar_module3 = locally_short_periodic + local_variation \n",
    "covar_module4 = locally_short_periodic + locally_long_periodic\n",
    "\n",
    "covar_module5 = locally_long_periodic\n",
    "covar_module6 = locally_long_periodic + local_variation \n",
    "\n",
    "covar_module7 = local_variation\n",
    "\n",
    "covar_combinations = [\n",
    "    covar_module1, covar_module2, covar_module3, \n",
    "    covar_module4, covar_module5, covar_module6, \n",
    "    covar_module7]"
   ]
  },
  {
   "cell_type": "markdown",
   "metadata": {},
   "source": [
    "### Create, Train, and Perform Inference"
   ]
  },
  {
   "cell_type": "code",
   "execution_count": null,
   "metadata": {},
   "outputs": [],
   "source": [
    "for kernel in covar_combinations:\n",
    "\n",
    "    X_train, y_train, X_test, y_test, n_train = data_preprocessing.gp_preprocess(\n",
    "    machine='eg_30T', \n",
    "    freq=30,\n",
    "    normalize_time=True)\n",
    "\n",
    "    \n",
    "    func_preds_mean_inv, func_preds_var_inv, observed_preds, mse, mape = create_train_inference_gp(\n",
    "    kernel_gen=kernel,\n",
    "    train_x=X_train,\n",
    "    train_y=y_train,\n",
    "    test_x=X_test,\n",
    "    test_y=y_test,\n",
    "    n_train=n_train,\n",
    "    training_iter=100,\n",
    "    lr=0.1, \n",
    "    time_agg='30T',\n",
    "    machine='eg',\n",
    "    update_score=True\n",
    ")"
   ]
  },
  {
   "cell_type": "code",
   "execution_count": null,
   "metadata": {},
   "outputs": [],
   "source": [
    "func_preds_mean_inv, func_preds_var_inv, observed_preds, mse, mape = create_train_inference_gp(\n",
    "    kernel_gen=covar_module1,\n",
    "    train_x=X_train,\n",
    "    train_y=y_train,\n",
    "    test_x=X_test,\n",
    "    test_y=y_test,\n",
    "    n_train=n_train,\n",
    "    time_agg='30T',\n",
    "    lr=0.1, \n",
    "    machine='eg',\n",
    "    update_score=False\n",
    ")"
   ]
  },
  {
   "cell_type": "code",
   "execution_count": null,
   "metadata": {},
   "outputs": [],
   "source": [
    "mse, mape"
   ]
  },
  {
   "cell_type": "markdown",
   "metadata": {},
   "source": [
    "### 10 minutes agg.."
   ]
  },
  {
   "cell_type": "code",
   "execution_count": null,
   "metadata": {},
   "outputs": [],
   "source": [
    "X_train, y_train, X_test, y_test, n_train = data_preprocessing.gp_preprocess(\n",
    "    machine='eg_10T', \n",
    "    freq=10,\n",
    "    normalize_time=True\n",
    "    )"
   ]
  },
  {
   "cell_type": "code",
   "execution_count": null,
   "metadata": {},
   "outputs": [],
   "source": [
    "## Locally Periodic Kernel ##\n",
    "period_constraint_short = gpytorch.constraints.Interval(0.06, 0.09) ## short term\n",
    "\n",
    "seasonal_periodic_short = gpytorch.kernels.ScaleKernel(\n",
    "    gpytorch.kernels.PeriodicKernel(\n",
    "        period_length_constraint=period_constraint_short\n",
    "        )\n",
    "    )\n",
    "\n",
    "seasonal_rbf_short = gpytorch.kernels.ScaleKernel(\n",
    "    gpytorch.kernels.RBFKernel()\n",
    ")\n",
    "\n",
    "locally_short_periodic = seasonal_periodic_short * seasonal_rbf_short\n",
    "\n",
    "period_constraint_long = gpytorch.constraints.Interval(0.18, 0.21) ## long term\n",
    "\n",
    "seasonal_periodic_long = gpytorch.kernels.ScaleKernel(\n",
    "    gpytorch.kernels.PeriodicKernel(\n",
    "        period_length_constraint=period_constraint_long\n",
    "        )\n",
    "    )\n",
    "\n",
    "seasonal_rbf_long = gpytorch.kernels.ScaleKernel(\n",
    "    gpytorch.kernels.RBFKernel()\n",
    ")\n",
    "\n",
    "locally_long_periodic = seasonal_periodic_long * seasonal_rbf_long\n",
    "\n",
    "## Local Variations ##\n",
    "local_variation_alpha = gpytorch.priors.GammaPrior(1, 0.5)\n",
    "\n",
    "local_variation = gpytorch.kernels.ScaleKernel(\n",
    "    gpytorch.kernels.RQKernel()\n",
    "    )\n",
    "    \n",
    "local_variation.alpha = local_variation_alpha\n",
    "\n",
    "\n",
    "#covar_module = locally_short_periodic + locally_long_periodic + local_variation ## best\n",
    "\n",
    "#covar_module = locally_short_periodic\n",
    "#covar_module = locally_short_periodic + local_variation  \n",
    "#covar_module = locally_short_periodic + locally_long_periodic\n",
    "\n",
    "#covar_module = locally_long_periodic\n",
    "covar_module = locally_long_periodic + local_variation\n",
    "\n",
    "#covar_module = local_variation"
   ]
  },
  {
   "cell_type": "code",
   "execution_count": null,
   "metadata": {},
   "outputs": [],
   "source": [
    "func_preds_mean_inv, func_preds_var_inv, observed_preds, mse, mape = create_train_inference_gp(\n",
    "    kernel_gen=covar_module,\n",
    "    train_x=X_train,\n",
    "    train_y=y_train,\n",
    "    test_x=X_test,\n",
    "    test_y=y_test,\n",
    "    n_train=n_train,\n",
    "    time_agg='10T',\n",
    "    lr=0.1, \n",
    "    machine='eg',\n",
    "    update_score=False\n",
    ")"
   ]
  },
  {
   "cell_type": "code",
   "execution_count": null,
   "metadata": {},
   "outputs": [],
   "source": [
    "mse, mape"
   ]
  },
  {
   "cell_type": "code",
   "execution_count": null,
   "metadata": {},
   "outputs": [],
   "source": []
  }
 ],
 "metadata": {
  "interpreter": {
   "hash": "55f578ea790fce859303417df5f33993e9db329ffe5a387d7c54812db965934b"
  },
  "kernelspec": {
   "display_name": "Python 3.8.12 ('thesis')",
   "language": "python",
   "name": "python3"
  },
  "language_info": {
   "codemirror_mode": {
    "name": "ipython",
    "version": 3
   },
   "file_extension": ".py",
   "mimetype": "text/x-python",
   "name": "python",
   "nbconvert_exporter": "python",
   "pygments_lexer": "ipython3",
   "version": "3.8.12"
  },
  "orig_nbformat": 4
 },
 "nbformat": 4,
 "nbformat_minor": 2
}
