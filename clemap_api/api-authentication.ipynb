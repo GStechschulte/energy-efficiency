{
 "cells": [
  {
   "cell_type": "code",
   "execution_count": null,
   "source": [
    "import requests\n",
    "from requests.structures import CaseInsensitiveDict\n",
    "from api_authenticate import clemap_api\n",
    "import json"
   ],
   "outputs": [],
   "metadata": {}
  },
  {
   "cell_type": "code",
   "execution_count": null,
   "source": [
    "# Authenticate Session\n",
    "request_url = 'https://docs.cloud.clemap.com/authentication'\n",
    "\n",
    "headers = CaseInsensitiveDict()\n",
    "headers[\"Accept\"] = \"application/json\"\n",
    "headers[\"Content-Type\"] = \"application/json\"\n",
    "\n",
    "data = '{\"strategy\": \"local\", \"email\": \". . .\", \"password\": \". . .\"}'\n",
    "\n",
    "resp = requests.post(request_url, headers=headers, data=data)\n",
    "token = resp.content\n",
    "token"
   ],
   "outputs": [],
   "metadata": {}
  },
  {
   "cell_type": "code",
   "execution_count": null,
   "source": [
    "# Authenticate User (only if you do not have a user account already verified)\n",
    "request_url = 'https://docs.cloud.clemap.com/users'\n",
    "headers = CaseInsensitiveDict()\n",
    "headers[\"Accept\"] = \"application/json\"\n",
    "headers[\"Content-Type\"] = \"application/json\"\n",
    "\n",
    "data = '{\"email\": \". . .\", \"password\": \". . .\"}'\n",
    "\n",
    "resp = requests.post(request_url, headers=headers, data=data)\n",
    "resp.content"
   ],
   "outputs": [],
   "metadata": {}
  },
  {
   "cell_type": "code",
   "execution_count": null,
   "source": [
    "# Officially activate new user account\n",
    "request_url = 'https://docs.cloud.clemap.com/authManagement'\n",
    "headers = CaseInsensitiveDict()\n",
    "headers[\"Accept\"] = \"application/json\"\n",
    "headers[\"Content-Type\"] = \"application/json\"\n",
    "\n",
    "data = '{\"action\": \"verifySignupLong\", \"value\": \". . .\"}'\n",
    "\n",
    "resp = requests.post(request_url, headers=headers, data=data)\n",
    "resp.content"
   ],
   "outputs": [],
   "metadata": {}
  },
  {
   "cell_type": "code",
   "execution_count": null,
   "source": [
    "# Example - Fetching sensor data\n",
    "request_url = 'https://docs.cloud.clemap.com/pdata?sensor_id=5FE3412C923D596335E69D4C&granularity=h&start=20210808H050000Z&end=20210808H230000Z'\n",
    "headers = CaseInsensitiveDict()\n",
    "headers[\"Accept\"] = \"application/json\"\n",
    "headers['Authorization'] = 'access_token' ## put a variable here\n",
    "\n",
    "resp = requests.get(request_url, headers=headers)\n",
    "resp.content"
   ],
   "outputs": [],
   "metadata": {}
  },
  {
   "cell_type": "code",
   "execution_count": null,
   "source": [
    "# Kaeltemaschine sensor ID\n",
    "machine_id = '5fe3412c923d596335e69d4c'\n",
    "\n",
    "# API Documentation sensor ID\n",
    "api_id = '5CE6B260D09CB9737EA4F186'"
   ],
   "outputs": [],
   "metadata": {}
  }
 ],
 "metadata": {
  "orig_nbformat": 4,
  "language_info": {
   "name": "python",
   "version": "3.7.10",
   "mimetype": "text/x-python",
   "codemirror_mode": {
    "name": "ipython",
    "version": 3
   },
   "pygments_lexer": "ipython3",
   "nbconvert_exporter": "python",
   "file_extension": ".py"
  },
  "kernelspec": {
   "name": "python3",
   "display_name": "Python 3.7.10 64-bit ('energy': conda)"
  },
  "interpreter": {
   "hash": "477339f4ad61d6d07c760695862622abec8e77fa0b426a41289fa76b11786938"
  }
 },
 "nbformat": 4,
 "nbformat_minor": 2
}